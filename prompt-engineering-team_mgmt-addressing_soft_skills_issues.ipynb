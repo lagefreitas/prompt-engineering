{
 "cells": [
  {
   "cell_type": "markdown",
   "metadata": {},
   "source": [
    "# <center>Prompt Engineering with ChatGPT 4</center>\n",
    "# <center>Team Leading & Management: Addressing Soft Skills Issues</center>\n",
    "\n",
    "<div style=\"text-align: right\">Versão 2023-05-08</div>\n",
    "\n",
    "## **André Lage Freitas** \n",
    "- **Associate Professor** at Universidade Federal de Alagoas (UFAL)\n",
    "- **PhD in Computer Science** from the [_Institut National des Sciences Appliquées de Rennes_ (France)](https://www.insa-rennes.fr/)\n",
    "- [This Tutorial at Youtube](TODO)\n",
    "  - [Follow on LinkedIn](www.linkedin.com/comm/mynetwork/discovery-see-all?usecase=PEOPLE_FOLLOWS&followMember=lage), [Follow on YouTube](https://www.youtube.com/channel/UCLPXTzvZ8IFrU6hBTeo1C-Q)\n",
    "\n",
    "\n",
    "## Ethical Disclaimer\n",
    "\n",
    "Please note that psychological and medical diagnoses require professional care and should not be solely based on chat logs or informal observations. Additionally, the analysis provided by ChatGPT may not always be accurate or complete. Chat logs may provide a limited glimpse into a team's interactions, but they do not capture the overall progress or well-being of team members. For a comprehensive understanding of an individual's mental health or a team's dynamics, it is crucial to conduct thorough assessments and follow-ups with the appropriate professionals. This analysis is not intended to replace or substitute professional help or guidance.\n"
   ]
  },
  {
   "cell_type": "code",
   "execution_count": 195,
   "metadata": {},
   "outputs": [],
   "source": [
    "# openai API setup\n",
    "import os\n",
    "import openai\n",
    "openai.api_key = os.getenv(\"OPENAI_API_KEY\")\n",
    "\n",
    "# função para simplicar a chamada da API\n",
    "def get_completion(prompt, model=\"gpt-4\", temperature=0): \n",
    "# def get_completion(prompt, model=\"gpt-3.5-turbo\"): \n",
    "    messages = [{\"role\": \"user\", \"content\": prompt}]\n",
    "    response = openai.ChatCompletion.create(\n",
    "        model=model,\n",
    "        messages=messages,\n",
    "        temperature=temperature, \n",
    "#         max_tokens=7500,\n",
    "    )\n",
    "    return response.choices[0].message[\"content\"]\n",
    "\n",
    "# to print in Markdown style\n",
    "from IPython.display import display, Markdown\n",
    "\n",
    "def print_prompt_answer(prompt, output_format=\"markdown\", display_prompt=False, temperature=0):\n",
    "    if display_prompt:\n",
    "        display(Markdown(\"### Prompt\"))\n",
    "        print(prompt)\n",
    "#         display(Markdown(prompt)) \n",
    "\n",
    "    response = get_completion(prompt, temperature=temperature)\n",
    "    \n",
    "    if output_format == \"markdown\":\n",
    "        display(Markdown(response))\n",
    "    else:    \n",
    "        print(response)\n",
    "    return response\n",
    "    "
   ]
  },
  {
   "cell_type": "markdown",
   "metadata": {},
   "source": [
    "## 1. Analyzing Chat Messages\n",
    "\n",
    "\n",
    "### Creating a hypotetical chat log \n",
    "\n",
    "- First, we create a hypotetical chat log from a team, e.g., Slack, WhatsApp, etc.\n",
    "- We set the team's characteristics based on the [Big Five poersonality traits](https://en.wikipedia.org/wiki/Big_Five_personality_traits)\n",
    "- Let's add conflicts to the context\n",
    "- Let's se `temperature=1.5`"
   ]
  },
  {
   "cell_type": "code",
   "execution_count": 165,
   "metadata": {
    "scrolled": false
   },
   "outputs": [
    {
     "data": {
      "text/markdown": [
       "[\n",
       "  {\"team_member\": \"3\", \"message\": \"Hey everyone! The day has finally arrived we can put our awesome new feature to the test :D\"},\n",
       "  {\"team_member\": \"4\", \"message\": \"I agree, this is such a major development for our product. I know lot of users would find this quite helpful\"},\n",
       "  {\"team_member\": \"5\", \"message\": \"Do we have all development and feature details laid out thoroughly? Nothing ever goes perfectly.\"},\n",
       "  {\"team_member\": \"1\", \"message\": \"Sure! our design flows and broader scenarios have been designed well. Happy to run through those together.\"},\n",
       "  {\"team_member\": \"2\", \"message\": \"And from an engineering perspective, we have made sure we maintain balance with networks, silo awareness and API understandixy 130 stats ratio.\"},\n",
       "  {\"team_member\": \"5\", \"message\": \"Fine, just proceed then\"},\n",
       "  {\"team_member\": \"2\", \"message\": \"Before dwelling right in, From a Sec_262 call engineering3 cluster tree resolution... any faulty 55 drives sight\"},\n",
       "  {\"team_member\": \"3\", \"message\": \"AAAA my heard!\"},  \n",
       "  {\"team_member\": \"3\", \"message\": \"Nothing kills the cool vibes for this awesome release faster than a mass_cloud_showpass_core_check  %@\", \"-//mirrorYun_faultswater\"}],\n",
       "\n"
      ],
      "text/plain": [
       "<IPython.core.display.Markdown object>"
      ]
     },
     "metadata": {},
     "output_type": "display_data"
    }
   ],
   "source": [
    "nof_messages = 100\n",
    "prompt = f\"\"\"\n",
    "Create a series of chat messages from team members of a proptech startup. \\\n",
    "\n",
    "They are discussing about the release of the next A/B test to assess \\\n",
    "a new product feature. This feature uses AI to suggest the most suitable \\\n",
    "property typology based on the location of the land. \\\n",
    "\n",
    "There are {nof_messages} messages. \\\n",
    "\n",
    "There are 5 team members whose characteristics are described by using \\\n",
    "the Big Five personality traits:\n",
    "\n",
    "1 = A UX designer: openness to experience. \\\n",
    "2 = A DevOps engineer: conscientiousness. \\\n",
    "3 = A extraversion data scientist: extraversion. \\\n",
    "4 = A fullstack developer: agreeableness. \\\n",
    "5 = A Tech Lead: neuroticism. \\\n",
    "\n",
    "Use the previous numbers to identify them and let their personality traits influence \\\n",
    "how they interact with each other. \\\n",
    "\n",
    "Add some conflicts to the chat, for example, a conflict in the chat because a team member \\\n",
    "told a joke that is well accepted in her/his country, but another team member didn't understand\\\n",
    "and thought that it was an insult. Another example of conflict is one team member starts \\\n",
    "another conflict regarding a political discussion that will divide the group according to \\\n",
    "their political orientation. \n",
    "\n",
    "Use JSON to format the output like this: \\\n",
    "  \"team_member\": \"1\", \"message\": \"hello\",\n",
    "  \"team_member\": \"2\", \"message\": \"world\",\n",
    "  ...\n",
    "\n",
    "\"\"\"\n",
    "\n",
    "response = print_prompt_answer(prompt, temperature=1.5) "
   ]
  },
  {
   "cell_type": "markdown",
   "metadata": {},
   "source": [
    "### Analyzing the Output\n",
    "- Bad\n",
    "  - Temperature too high: lower probabilities\n",
    "  - Didn't create 100 messages\n",
    "- Let's fix it trying `temperature=1`\n"
   ]
  },
  {
   "cell_type": "code",
   "execution_count": 193,
   "metadata": {},
   "outputs": [
    {
     "data": {
      "text/markdown": [
       "[\n",
       "  {\"team_member\": \"1\", \"message\": \"Hey, guys! Are we all set for the next A/B test release?\"},\n",
       "  {\"team_member\": \"2\", \"message\": \"Yes, I've prepared the necessary infrastructure for it. Just need a go signal from everyone.\"},\n",
       "  {\"team_member\": \"3\", \"message\": \"Super excited to see the results from this test!\"},\n",
       "  {\"team_member\": \"4\", \"message\": \"Same here, it'll be interesting to see how users react to the AI suggestions.\"},\n",
       "  {\"team_member\": \"5\", \"message\": \"Let's not get too excited. We need to stay focused on the potential issues that may arise.\"},\n",
       "  {\"team_member\": \"1\", \"message\": \"Agreed, but I think it's nice to acknowledge our hard work too.\"},\n",
       "  {\"team_member\": \"3\", \"message\": \"Speaking of hard work, did you guys hear about the builder who accidentally built a house upside down?\"},\n",
       "  {\"team_member\": \"1\", \"message\": \"Haha, how did that even happen?\"},\n",
       "  {\"team_member\": \"2\", \"message\": \"I don't think that's funny. That could lead to serious problems.\"},\n",
       "  {\"team_member\": \"4\", \"message\": \"It's just a joke, don't take it too seriously.\"},\n",
       "  {\"team_member\": \"5\", \"message\": \"Let's stay focused on the task at hand, please.\"},\n",
       "  {\"team_member\": \"3\", \"message\": \"You're right. So, are we all ready to proceed with the A/B test?\"},\n",
       "  {\"team_member\": \"2\", \"message\": \"I need a final confirmation from the fullstack developer.\"},\n",
       "  {\"team_member\": \"4\", \"message\": \"I'm good to go. All systems are implemented and working as expected.\"},\n",
       "  {\"team_member\": \"5\", \"message\": \"Good, let's start the A/B test and keep an eye out for potential issues.\"},\n",
       "  {\"team_member\": \"1\", \"message\": \"Got it. I'll monitor the user experience closely.\"},\n",
       "  {\"team_member\": \"3\", \"message\": \"I'll keep track of the data as we get more users interacting with the feature.\"},\n",
       "  {\"team_member\": \"2\", \"message\": \"I'll check the server performance and attend to any issues.\"},\n",
       "  {\"team_member\": \"4\", \"message\": \"I'll be on standby for any bug fixes or quick feature modifications if needed.\"},\n",
       "  {\"team_member\": \"5\", \"message\": \"Great. Everyone knows their role. Let's get to work.\"},\n",
       "  {\"team_member\": \"1\", \"message\": \"Have a productive day, everyone!\"},\n",
       "  {\"team_member\": \"3\", \"message\": \"You too!\"},\n",
       "  {\"team_member\": \"2\", \"message\": \"Let's get started.\"},\n",
       "  {\"team_member\": \"4\", \"message\": \"Have a great day, everyone.\"},\n",
       "  {\"team_member\": \"5\", \"message\": \"Remember, stay focused.\"},\n",
       "\n",
       "  {\"team_member\": \"2\", \"message\": \"Quick question - is the new feature taking the current political situation of the location into consideration?\"},\n",
       "  {\"team_member\": \"1\", \"message\": \"No, we didn't include that in our initial design.\"},\n",
       "  {\"team_member\": \"3\", \"message\": \"Hmm, that's an interesting idea. It could potentially affect the suitability of the property typology.\"},\n",
       "  {\"team_member\": \"4\", \"message\": \"I see the point, but should our proptech startup really be diving into political discussions?\"},\n",
       "  {\"team_member\": \"5\", \"message\": \"This is problematic. It could lead to even more controversies and potential dissatisfaction from users.\"},\n",
       "  {\"team_member\": \"1\", \"message\": \"Maybe we could consider this for a future iteration of the feature. For now, let's focus on the current design.\"},\n",
       "  {\"team_member\": \"2\", \"message\": \"Agreed.\"},\n",
       "  {\"team_member\": \"3\", \"message\": \"Sounds like a reasonable approach.\"},\n",
       "  {\"team_member\": \"4\", \"message\": \"I agree.\"},\n",
       "  {\"team_member\": \"5\", \"message\": \"Fine, let's move on.\"},\n",
       "\n",
       "  {\"team_member\": \"1\", \"message\": \"Just watched a video about AI in proptech in Japan. They're making some fascinating progress there.\"},\n",
       "  {\"team_member\": \"3\", \"message\": \"Ooh, can you share the link? I'd love to check it out.\"},\n",
       "  {\"team_member\": \"1\", \"message\": \"Sure, here you go: (link)\"},\n",
       "  {\"team_member\": \"2\", \"message\": \"I'll watch it later. Thanks for sharing.\"},\n",
       "  {\"team_member\": \"4\", \"message\": \"Can't wait to see it.\"},\n",
       "  {\"team_member\": \"5\", \"message\": \"We have our own work to focus on. What if our competition is already implementing something similar?\"},\n",
       "  {\"team_member\": \"1\", \"message\": \"That's a good point. We should keep an eye on the market.\"},\n",
       "  {\"team_member\": \"3\", \"message\": \"Agreed, but it's also important to stay updated with the latest trends.\"},\n",
       "  {\"team_member\": \"2\", \"message\": \"I have an alert system monitoring competitors' news.\"},\n",
       "  {\"team_member\": \"4\", \"message\": \"Thanks for doing that. It's nice to stay informed.\"},\n",
       "\n",
       "   ...\n",
       "]"
      ],
      "text/plain": [
       "<IPython.core.display.Markdown object>"
      ]
     },
     "metadata": {},
     "output_type": "display_data"
    }
   ],
   "source": [
    "prompt = f\"\"\"\n",
    "Create a series of chat messages from team members of a proptech startup. \\\n",
    "\n",
    "They are discussing about the release of the next A/B test to assess \\\n",
    "a new product feature. This feature uses AI to suggest the most suitable \\\n",
    "property typology based on the location of the land. \\\n",
    "\n",
    "There are {nof_messages} messages. \\\n",
    "\n",
    "There are 5 team members whose characteristics are described by using \\\n",
    "the Big Five personality traits:\n",
    "\n",
    "1 = A UX designer: openness to experience. \\\n",
    "2 = A DevOps engineer: conscientiousness. \\\n",
    "3 = A extraversion data scientist: extraversion. \\\n",
    "4 = A fullstack developer: agreeableness. \\\n",
    "5 = A Tech Lead: neuroticism. \\\n",
    "\n",
    "Use the previous numbers to identify them and let their personality traits influence \\\n",
    "how they interact with each other. \\\n",
    "\n",
    "Add some conflicts to the chat, for example, a conflict in the chat because a team member \\\n",
    "told a joke that is well accepted in her/his country, but another team member didn't understand\\\n",
    "and thought that it was an insult. Another example of conflict is one team member starts \\\n",
    "another conflict regarding a political discussion that will divide the group according to \\\n",
    "their political orientation. \n",
    "\n",
    "Use JSON to format the output like this: \\\n",
    "  \"team_member\": \"1\", \"message\": \"hello\",\n",
    "  \"team_member\": \"2\", \"message\": \"world\",\n",
    "  ...\n",
    "\n",
    "\"\"\"\n",
    "chat_messages = print_prompt_answer(prompt, temperature=1) \n"
   ]
  },
  {
   "cell_type": "markdown",
   "metadata": {},
   "source": [
    "### Analyzing the Output\n",
    "- Bad: didn't create 100 messages\n",
    "- Good: very good and accurate chat\n",
    "\n",
    "\n",
    "### Following-up the team based on a chat log \n",
    "\n",
    "- Now, here goes the story:\n",
    "  - As a Manager,\n",
    "  - I want to follow-up the the team working and know if everything is OK with the team.\n",
    "  - So I can motivate my team, help them in a specific issue/conflict, and know the team progress so I can mentor their career\n",
    " \n",
    "- Let's first **extract an overall feeling about the conversation**\n",
    "\n"
   ]
  },
  {
   "cell_type": "code",
   "execution_count": 196,
   "metadata": {},
   "outputs": [
    {
     "data": {
      "text/markdown": [
       "There doesn't seem to be any major trouble with the team. However, there are a few instances where team members are reminded to stay focused on the task at hand and not get distracted by jokes or unrelated topics. Additionally, there was a discussion about whether the new feature should take the current political situation into consideration, but the team agreed to focus on the current design and consider this idea for a future iteration. Overall, the team appears to be working well together and staying on track."
      ],
      "text/plain": [
       "<IPython.core.display.Markdown object>"
      ]
     },
     "metadata": {},
     "output_type": "display_data"
    },
    {
     "data": {
      "text/plain": [
       "\"There doesn't seem to be any major trouble with the team. However, there are a few instances where team members are reminded to stay focused on the task at hand and not get distracted by jokes or unrelated topics. Additionally, there was a discussion about whether the new feature should take the current political situation into consideration, but the team agreed to focus on the current design and consider this idea for a future iteration. Overall, the team appears to be working well together and staying on track.\""
      ]
     },
     "execution_count": 196,
     "metadata": {},
     "output_type": "execute_result"
    }
   ],
   "source": [
    "prompt = f\"\"\"\n",
    "I am a startup manager that manages a team. \\\n",
    "We have a slack group where we discuss about the product development. \\\n",
    "Read our chat messages and tell me wheter there is any trouble with the team. \\\n",
    "If there is, please tell me what happened. The chat messages is delimited by \"```\". \\\n",
    "\n",
    "```{chat_messages}```\n",
    "\n",
    "\"\"\"\n",
    "\n",
    "print_prompt_answer(prompt)"
   ]
  },
  {
   "cell_type": "markdown",
   "metadata": {},
   "source": [
    "### Analyzing the Output\n",
    "\n",
    "- Good summary.\n",
    "- Let's try to extract specific topics\n",
    "- So I can motivate my team, help them in a specific issue/conflict, and know the team progress so I can mentor their career"
   ]
  },
  {
   "cell_type": "code",
   "execution_count": 197,
   "metadata": {},
   "outputs": [
    {
     "data": {
      "text/markdown": [
       "1. The team seems to be motivated overall, with members expressing excitement about the A/B test release and sharing relevant information. However, team member 5 appears to be more focused on potential issues and could benefit from some positive reinforcement.\n",
       "\n",
       "2. There is no major conflict or issue that requires your assistance. The team had a brief discussion about considering the political situation in the product design, but they agreed to focus on the current design for now.\n",
       "\n",
       "3. The team is making progress on the A/B test release. They have prepared the necessary infrastructure, implemented systems, and assigned roles for monitoring user experience, data, server performance, and bug fixes.\n",
       "\n",
       "4. The team morale is generally positive, with members sharing jokes and expressing excitement about the project. However, team member 5 seems to be more cautious and focused on potential issues, which could affect the overall morale if not balanced with positive reinforcement."
      ],
      "text/plain": [
       "<IPython.core.display.Markdown object>"
      ]
     },
     "metadata": {},
     "output_type": "display_data"
    },
    {
     "data": {
      "text/plain": [
       "'1. The team seems to be motivated overall, with members expressing excitement about the A/B test release and sharing relevant information. However, team member 5 appears to be more focused on potential issues and could benefit from some positive reinforcement.\\n\\n2. There is no major conflict or issue that requires your assistance. The team had a brief discussion about considering the political situation in the product design, but they agreed to focus on the current design for now.\\n\\n3. The team is making progress on the A/B test release. They have prepared the necessary infrastructure, implemented systems, and assigned roles for monitoring user experience, data, server performance, and bug fixes.\\n\\n4. The team morale is generally positive, with members sharing jokes and expressing excitement about the project. However, team member 5 seems to be more cautious and focused on potential issues, which could affect the overall morale if not balanced with positive reinforcement.'"
      ]
     },
     "execution_count": 197,
     "metadata": {},
     "output_type": "execute_result"
    }
   ],
   "source": [
    "prompt = f\"\"\"\n",
    "I am a startup manager that manages a team. \\\n",
    "We have a slack group where we discuss about the product development. \\\n",
    "\n",
    "Read our chat messages and: \\\n",
    "\n",
    "1. analyze whether the team needs motivation. \\\n",
    "2. analyze whether the team need my assistance in any conflict or issue. \\\n",
    "3. summarize the team progress. \\\n",
    "4. extract the team morale. \\\n",
    "\n",
    "\n",
    "The chat messages is delimited by \"```\". \\\n",
    "\n",
    "```{chat_messages}```\n",
    "\n",
    "\"\"\"\n",
    "\n",
    "print_prompt_answer(prompt)"
   ]
  },
  {
   "cell_type": "markdown",
   "metadata": {},
   "source": [
    "### Analyzing the Output\n",
    "\n",
    "- Very good and detailed result\n",
    "- Let's then extract more detailed soft skill feelings"
   ]
  },
  {
   "cell_type": "code",
   "execution_count": 198,
   "metadata": {},
   "outputs": [
    {
     "data": {
      "text/markdown": [
       "1. Analyzing the chat messages, it is difficult to determine if someone is depressed or experiencing burnout. However, team member 5 seems to be more serious and focused on the tasks, which could potentially indicate stress or burnout.\n",
       "\n",
       "2. Genuine leaders in this conversation are team members 1 and 2. Team member 1 initiates the conversation, keeps the team engaged, and monitors user experience. Team member 2 is responsible for the infrastructure and server performance, and also brings up important questions for the team to consider.\n",
       "\n",
       "3. There is no clear indication of anyone acting as a saboteur in this conversation. All team members seem to be working towards the same goal.\n",
       "\n",
       "4. Based on the chat messages, team members 1, 3, and 4 seem to be closer to each other as they engage in more casual conversations and share similar interests. Team members 2 and 5 appear to be more distant from the rest, as they are more focused on the tasks and less engaged in casual conversations."
      ],
      "text/plain": [
       "<IPython.core.display.Markdown object>"
      ]
     },
     "metadata": {},
     "output_type": "display_data"
    },
    {
     "data": {
      "text/plain": [
       "'1. Analyzing the chat messages, it is difficult to determine if someone is depressed or experiencing burnout. However, team member 5 seems to be more serious and focused on the tasks, which could potentially indicate stress or burnout.\\n\\n2. Genuine leaders in this conversation are team members 1 and 2. Team member 1 initiates the conversation, keeps the team engaged, and monitors user experience. Team member 2 is responsible for the infrastructure and server performance, and also brings up important questions for the team to consider.\\n\\n3. There is no clear indication of anyone acting as a saboteur in this conversation. All team members seem to be working towards the same goal.\\n\\n4. Based on the chat messages, team members 1, 3, and 4 seem to be closer to each other as they engage in more casual conversations and share similar interests. Team members 2 and 5 appear to be more distant from the rest, as they are more focused on the tasks and less engaged in casual conversations.'"
      ]
     },
     "execution_count": 198,
     "metadata": {},
     "output_type": "execute_result"
    }
   ],
   "source": [
    "prompt = f\"\"\"\n",
    "I am a startup manager that manages a team. \\\n",
    "We have a slack group where we discuss about the product development. \\\n",
    "\n",
    "Read our chat messages and: \\\n",
    "\n",
    "1. Analyze whether there is someone who might be depressed or experiencing burnout. \\\n",
    "2. Identify who acted as genuine leaders. \\\n",
    "3. Determine if there is anyone who acted as a saboteur. \\\n",
    "4. Identify which team members are closer or more distant from each other. \\\n",
    "\n",
    "The chat messages is delimited by \"```\". \\\n",
    "\n",
    "```{chat_messages}```\n",
    "\n",
    "\"\"\"\n",
    "\n",
    "print_prompt_answer(prompt)"
   ]
  },
  {
   "cell_type": "markdown",
   "metadata": {},
   "source": [
    "### Analyzing the Output\n",
    "\n",
    "- Let's remember their personality traits:\n",
    "\n",
    "```\n",
    "1 = A UX designer: openness to experience. \\\n",
    "2 = A DevOps engineer: conscientiousness. \\\n",
    "3 = A extraversion data scientist: extraversion. \\\n",
    "4 = A fullstack developer: agreeableness. \\\n",
    "5 = A Tech Lead: neuroticism. \\\n",
    "```\n",
    "\n",
    "- The results makes sense\n",
    "- Now we focus on a specific issue and write to the team"
   ]
  },
  {
   "cell_type": "code",
   "execution_count": 199,
   "metadata": {},
   "outputs": [
    {
     "data": {
      "text/markdown": [
       "1. Direct message to team_member 5:\n",
       "\"Hey [team_member 5], I noticed that you've been quite focused on potential issues and staying on task. While that's important, it's also essential to maintain a healthy work-life balance and enjoy the process. If you're feeling overwhelmed or stressed, please don't hesitate to reach out to me or any team member. We're here to support each other.\"\n",
       "\n",
       "2. Message to the group:\n",
       "\"Hey team, I just wanted to take a moment to acknowledge the genuine leadership displayed by [team_member 1] and [team_member 3]. They've been keeping the team engaged, sharing valuable insights, and maintaining a positive atmosphere. Keep up the great work, and let's continue to support each other as we move forward!\"\n",
       "\n",
       "3. There doesn't seem to be a saboteur in the group.\n",
       "\n",
       "4. Direct message to team_member 2:\n",
       "\"Hi [team_member 2], I noticed that you've been a bit distant in the group chat. I understand that everyone has their own communication style, but it's important for us to stay connected and engaged as a team. If you have any concerns or suggestions on how we can improve our communication, please feel free to share them with me. We're all in this together!\""
      ],
      "text/plain": [
       "<IPython.core.display.Markdown object>"
      ]
     },
     "metadata": {},
     "output_type": "display_data"
    },
    {
     "data": {
      "text/plain": [
       "'1. Direct message to team_member 5:\\n\"Hey [team_member 5], I noticed that you\\'ve been quite focused on potential issues and staying on task. While that\\'s important, it\\'s also essential to maintain a healthy work-life balance and enjoy the process. If you\\'re feeling overwhelmed or stressed, please don\\'t hesitate to reach out to me or any team member. We\\'re here to support each other.\"\\n\\n2. Message to the group:\\n\"Hey team, I just wanted to take a moment to acknowledge the genuine leadership displayed by [team_member 1] and [team_member 3]. They\\'ve been keeping the team engaged, sharing valuable insights, and maintaining a positive atmosphere. Keep up the great work, and let\\'s continue to support each other as we move forward!\"\\n\\n3. There doesn\\'t seem to be a saboteur in the group.\\n\\n4. Direct message to team_member 2:\\n\"Hi [team_member 2], I noticed that you\\'ve been a bit distant in the group chat. I understand that everyone has their own communication style, but it\\'s important for us to stay connected and engaged as a team. If you have any concerns or suggestions on how we can improve our communication, please feel free to share them with me. We\\'re all in this together!\"'"
      ]
     },
     "execution_count": 199,
     "metadata": {},
     "output_type": "execute_result"
    }
   ],
   "source": [
    "prompt = f\"\"\"\n",
    "I am a startup manager that manages a team. \\\n",
    "We have a slack group where we discuss about the product development. \\\n",
    "\n",
    "Read our chat messages and: \\\n",
    "\n",
    "1. Analyze whether there is someone who might be depressed or experiencing burnout. \\\n",
    "If there is anyone, please write a direct message to her/him that helps in addresssing this issue. \\\n",
    "\n",
    "2. Identify who acted as genuine leaders. \\\n",
    "If there is anyone, please write a message to the group congratulating and motivating her/him.  \\\n",
    "\n",
    "3. Determine if there is anyone who acted as a saboteur. \\\n",
    "If there is anyone, please write a message to the group motivating the team and kindly explaning \n",
    "her/him that the team will thrive because of team working efforts and that I will help them.  \\\n",
    "\n",
    "4. Identify which team members are closer or more distant from each other. \\\n",
    "If there is anyone distant, please write a direct message to her/him that helps in addresssing this issue. \\\n",
    "\n",
    "The chat messages is delimited by \"```\". \\\n",
    "\n",
    "```{chat_messages}```\n",
    "\n",
    "\"\"\"\n",
    "\n",
    "print_prompt_answer(prompt)"
   ]
  },
  {
   "cell_type": "markdown",
   "metadata": {},
   "source": [
    "### Analyzing the Output\n",
    "- Good!\n"
   ]
  },
  {
   "cell_type": "markdown",
   "metadata": {},
   "source": [
    "## 2. Understanding and Dealing with Cultural Distinctions\n",
    "\n",
    "- Problem: a French teammate seems to be uncomfortable with an Italian and a Brazilian that speak loudly in the office\n",
    "- Let's describe it and just ask for some advice \n"
   ]
  },
  {
   "cell_type": "code",
   "execution_count": 186,
   "metadata": {},
   "outputs": [
    {
     "data": {
      "text/markdown": [
       "To address this situation, you can follow these steps:\n",
       "\n",
       "1. Observe the situation: Before taking any action, observe the interactions between the team members to understand the extent of the issue and whether it is affecting the overall work environment.\n",
       "\n",
       "2. Talk to the fullstack developer: Have a private conversation with the French fullstack developer to understand their concerns and feelings about the situation. Ask them how it is affecting their work and if they have any suggestions for resolving the issue.\n",
       "\n",
       "3. Talk to the Italian and Brazilian team members: Have a private conversation with the Italian DevOps engineer and the Brazilian UX designer to discuss the issue. Explain that their loud conversations may be affecting the concentration and comfort of other team members. Ask them to be more mindful of their volume when speaking in the office.\n",
       "\n",
       "4. Encourage open communication: Organize a team meeting where everyone can openly discuss their concerns and preferences regarding the work environment. Encourage everyone to be respectful and understanding of each other's needs and preferences.\n",
       "\n",
       "5. Set ground rules: Establish some ground rules for the office environment, such as designated quiet areas, using headphones for music, or setting specific times for casual conversations. Make sure everyone agrees on these rules and understands the importance of following them.\n",
       "\n",
       "6. Monitor the situation: Keep an eye on the situation to ensure that the issue has been resolved and that everyone is comfortable in the office environment. If necessary, make adjustments to the ground rules or have follow-up conversations with team members.\n",
       "\n",
       "7. Consider alternative solutions: If the issue persists, consider alternative solutions such as rearranging the office layout to create more separation between workspaces or allowing team members to work remotely when they need a quieter environment."
      ],
      "text/plain": [
       "<IPython.core.display.Markdown object>"
      ]
     },
     "metadata": {},
     "output_type": "display_data"
    },
    {
     "data": {
      "text/plain": [
       "\"To address this situation, you can follow these steps:\\n\\n1. Observe the situation: Before taking any action, observe the interactions between the team members to understand the extent of the issue and whether it is affecting the overall work environment.\\n\\n2. Talk to the fullstack developer: Have a private conversation with the French fullstack developer to understand their concerns and feelings about the situation. Ask them how it is affecting their work and if they have any suggestions for resolving the issue.\\n\\n3. Talk to the Italian and Brazilian team members: Have a private conversation with the Italian DevOps engineer and the Brazilian UX designer to discuss the issue. Explain that their loud conversations may be affecting the concentration and comfort of other team members. Ask them to be more mindful of their volume when speaking in the office.\\n\\n4. Encourage open communication: Organize a team meeting where everyone can openly discuss their concerns and preferences regarding the work environment. Encourage everyone to be respectful and understanding of each other's needs and preferences.\\n\\n5. Set ground rules: Establish some ground rules for the office environment, such as designated quiet areas, using headphones for music, or setting specific times for casual conversations. Make sure everyone agrees on these rules and understands the importance of following them.\\n\\n6. Monitor the situation: Keep an eye on the situation to ensure that the issue has been resolved and that everyone is comfortable in the office environment. If necessary, make adjustments to the ground rules or have follow-up conversations with team members.\\n\\n7. Consider alternative solutions: If the issue persists, consider alternative solutions such as rearranging the office layout to create more separation between workspaces or allowing team members to work remotely when they need a quieter environment.\""
      ]
     },
     "execution_count": 186,
     "metadata": {},
     "output_type": "execute_result"
    }
   ],
   "source": [
    "prompt = f\"\"\"\n",
    "I am a startup manager that manages the product development team. \\\n",
    "\n",
    "In the office, we are 4: a French fullstack developer, a Brazilian UX designer, \\\n",
    "an Italian DevOps engineer, and me. \\\n",
    "\n",
    "The fullstack developer seems to be uncomfortable with the Italian and the Brazilian \\\n",
    "because they speak loudly in the office. \\\n",
    "\n",
    "How could I address this situation?\n",
    "\n",
    "\"\"\"\n",
    "\n",
    "print_prompt_answer(prompt)"
   ]
  },
  {
   "cell_type": "markdown",
   "metadata": {},
   "source": [
    "### Analyzing the Output\n",
    "\n",
    "\n",
    "- Very good insights!\n",
    "- Let's be more specific reagarding the cultural background\n",
    "  - Understand and respect diverse backgrounds, perspectives, and values to create an inclusive work environment.\n",
    "  - Adjust your communication style accordingly to create an inclusive and welcoming environment"
   ]
  },
  {
   "cell_type": "code",
   "execution_count": 185,
   "metadata": {},
   "outputs": [
    {
     "data": {
      "text/markdown": [
       "1. Schedule a team meeting: Bring the team together for a meeting to discuss the importance of understanding and respecting diverse backgrounds, perspectives, and values. Emphasize that creating an inclusive work environment is a priority for the team's success.\n",
       "\n",
       "2. Share personal experiences: Encourage each team member to share their own experiences and cultural backgrounds, as well as any challenges they may have faced in the workplace. This will help the team understand and appreciate each other's unique perspectives.\n",
       "\n",
       "3. Address the specific issue: Without singling out the fullstack developer, mention that some team members may be sensitive to noise levels in the office. Explain that it's important to be mindful of how our actions may affect others and to make adjustments when necessary.\n",
       "\n",
       "4. Encourage open communication: Encourage team members to speak up if they ever feel uncomfortable or if they have suggestions for improving the work environment. Let them know that their opinions and feelings are valued and will be taken into consideration.\n",
       "\n",
       "5. Provide resources: Share resources on cultural diversity and inclusion, such as articles, videos, or workshops, to help the team better understand and appreciate different cultures and communication styles.\n",
       "\n",
       "6. Set expectations: Establish clear expectations for behavior and communication within the team. This may include guidelines for noise levels, respecting personal space, and using inclusive language.\n",
       "\n",
       "7. Lead by example: As the manager, demonstrate your commitment to creating an inclusive and welcoming environment by adjusting your own communication style and being mindful of your actions.\n",
       "\n",
       "8. Monitor progress: Regularly check in with the team to ensure that everyone is comfortable and feels included. Address any issues that arise promptly and fairly.\n",
       "\n",
       "9. Celebrate diversity: Organize team-building activities or events that celebrate the diverse backgrounds and cultures of your team members. This will help foster a sense of unity and appreciation for each other's unique contributions.\n",
       "\n",
       "10. Provide ongoing support: Continue to support and encourage your team in their efforts to create an inclusive work environment. Recognize and reward positive behavior and be prepared to address any challenges that may arise."
      ],
      "text/plain": [
       "<IPython.core.display.Markdown object>"
      ]
     },
     "metadata": {},
     "output_type": "display_data"
    },
    {
     "data": {
      "text/plain": [
       "\"1. Schedule a team meeting: Bring the team together for a meeting to discuss the importance of understanding and respecting diverse backgrounds, perspectives, and values. Emphasize that creating an inclusive work environment is a priority for the team's success.\\n\\n2. Share personal experiences: Encourage each team member to share their own experiences and cultural backgrounds, as well as any challenges they may have faced in the workplace. This will help the team understand and appreciate each other's unique perspectives.\\n\\n3. Address the specific issue: Without singling out the fullstack developer, mention that some team members may be sensitive to noise levels in the office. Explain that it's important to be mindful of how our actions may affect others and to make adjustments when necessary.\\n\\n4. Encourage open communication: Encourage team members to speak up if they ever feel uncomfortable or if they have suggestions for improving the work environment. Let them know that their opinions and feelings are valued and will be taken into consideration.\\n\\n5. Provide resources: Share resources on cultural diversity and inclusion, such as articles, videos, or workshops, to help the team better understand and appreciate different cultures and communication styles.\\n\\n6. Set expectations: Establish clear expectations for behavior and communication within the team. This may include guidelines for noise levels, respecting personal space, and using inclusive language.\\n\\n7. Lead by example: As the manager, demonstrate your commitment to creating an inclusive and welcoming environment by adjusting your own communication style and being mindful of your actions.\\n\\n8. Monitor progress: Regularly check in with the team to ensure that everyone is comfortable and feels included. Address any issues that arise promptly and fairly.\\n\\n9. Celebrate diversity: Organize team-building activities or events that celebrate the diverse backgrounds and cultures of your team members. This will help foster a sense of unity and appreciation for each other's unique contributions.\\n\\n10. Provide ongoing support: Continue to support and encourage your team in their efforts to create an inclusive work environment. Recognize and reward positive behavior and be prepared to address any challenges that may arise.\""
      ]
     },
     "execution_count": 185,
     "metadata": {},
     "output_type": "execute_result"
    }
   ],
   "source": [
    "prompt = f\"\"\"\n",
    "I am a startup manager that manages the product development team. \\\n",
    "\n",
    "In the office, we are 4: a French fullstack developer, a Brazilian UX designer, \\\n",
    "an Italian DevOps engineer, and me. \\\n",
    "\n",
    "The fullstack developer seems to be uncomfortable with the Italian and the Brazilian \\\n",
    "because they speak loudly in the office. \\\n",
    "\n",
    "How could I address this situation by knowing that I want the team to: \\\n",
    "\n",
    "1. Understand and respect diverse backgrounds, perspectives, and values to create \\\n",
    "an inclusive work environment. \\\n",
    "2. Adjust my communication style accordingly to create an inclusive and welcoming environment. \\\n",
    "\n",
    "\"\"\"\n",
    "\n",
    "print_prompt_answer(prompt)"
   ]
  },
  {
   "cell_type": "markdown",
   "metadata": {},
   "source": [
    "### Analyzing the Output\n",
    "- Great!\n",
    "  - \"Share personal experiences\"\n",
    "    - My experience in a multi-cultural environment in France (~53% of the PhD students were foreigners)\n",
    "    - French and other Europeans, muslim people from various countries, Latin Americans, other Brazilians, etc.\n",
    "  - \"guidelines for noise levels, respecting personal space, and using inclusive language\"\n",
    "  - \"Lead by example: As the manager, demonstrate your commitment to creating an inclusive and welcoming environment by adjusting your own communication style\"\n",
    "  - \"Celebrate diversity\", e.g. bring-your-country-food day!\n",
    "  \n",
    "  \n"
   ]
  },
  {
   "cell_type": "code",
   "execution_count": null,
   "metadata": {},
   "outputs": [],
   "source": []
  },
  {
   "cell_type": "code",
   "execution_count": null,
   "metadata": {},
   "outputs": [],
   "source": []
  },
  {
   "cell_type": "code",
   "execution_count": null,
   "metadata": {},
   "outputs": [],
   "source": []
  }
 ],
 "metadata": {
  "kernelspec": {
   "display_name": "Python 3 (ipykernel)",
   "language": "python",
   "name": "python3"
  },
  "language_info": {
   "codemirror_mode": {
    "name": "ipython",
    "version": 3
   },
   "file_extension": ".py",
   "mimetype": "text/x-python",
   "name": "python",
   "nbconvert_exporter": "python",
   "pygments_lexer": "ipython3",
   "version": "3.11.3"
  }
 },
 "nbformat": 4,
 "nbformat_minor": 2
}
