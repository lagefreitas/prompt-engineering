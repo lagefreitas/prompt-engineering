{
 "cells": [
  {
   "cell_type": "markdown",
   "metadata": {},
   "source": [
    "# <center>Leveraging ChatGPT in Crisis Communication - Public Relations (PR)</center>\n",
    "\n",
    "<div style=\"text-align: right\">Versão 2023-05-08</div>\n",
    "\n",
    "- **André Lage Freitas** \n",
    "  - **Associate Professor** at Universidade Federal de Alagoas (UFAL)\n",
    "  - **PhD in Computer Science** from the [_Institut National des Sciences Appliquées de Rennes_ (France)](https://www.insa-rennes.fr/)\n",
    "- [This Tutorial at Youtube](TODO)\n",
    "  - [Follow on LinkedIn](www.linkedin.com/comm/mynetwork/discovery-see-all?usecase=PEOPLE_FOLLOWS&followMember=lage), [Follow on YouTube](https://www.youtube.com/channel/UCLPXTzvZ8IFrU6hBTeo1C-Q)\n",
    "- Model used: GPT4\n",
    "\n",
    "## Ethical Disclaimer\n",
    "\n",
    "The proper use of a generative AI like ChatGPT involves leveraging its capabilities to assist in crafting timely, accurate, and clear messages that effectively address the crisis at hand. Users should utilize the AI to generate ideas, draft responses, or analyze public sentiment while maintaining a respectful and ethical approach. It is important to be mindful of the AI's limitations, as it may occasionally produce information that is not fully accurate or up-to-date. By using ChatGPT responsibly, PR professionals can enhance their crisis communication strategies and better manage challenging situations.\n",
    "\n",
    "Moreover, users should ensure that the AI-generated content aligns with their organization's voice and values while adhering to ethical standards. It is crucial to double-check the AI-generated information for accuracy and relevance, as it may occasionally produce content that is not fully up-to-date or contextually accurate. "
   ]
  },
  {
   "cell_type": "markdown",
   "metadata": {},
   "source": [
    "## Time to Act vs. Communication Quality\n",
    "\n",
    "1. Importance of balancing time and communication quality in crisis communication.\n",
    "2. Need for prompt response to maintain control of the narrative and demonstrate accountability.\n",
    "3. Ensuring accuracy, clarity, and empathy in crisis messaging.\n",
    "4. Leveraging ChatGPT for rapid, high-quality responses in PR management.\n",
    "5. Addressing stakeholder concerns, mitigating damage, and upholding organizational reputation.\n",
    "\n",
    "## Taking advantage of ChatGPT to deal with a crisis communication\n",
    "\n",
    "- Goal: use ChatGPT to quickly address a crisis communication\n",
    "- Case: [\"China’s struggles with lab safety carry danger of another pandemic\"](https://www.washingtonpost.com/investigations/interactive/2023/china-lab-safety-risk-pandemic/?itid=sf_investigations_article_list)\n",
    "  - Source: The Washington Post\n",
    "\n",
    "## Naive approach \n",
    "\n",
    "- Goal: to have an idea about how deep GPT understand about the matter\n"
   ]
  },
  {
   "cell_type": "code",
   "execution_count": 2,
   "metadata": {},
   "outputs": [],
   "source": [
    "# openai API setup\n",
    "import os\n",
    "import openai\n",
    "openai.api_key = os.getenv(\"OPENAI_API_KEY\")\n",
    "\n",
    "# função para simplicar a chamada da API\n",
    "def get_completion(prompt, model=\"gpt-4\"): \n",
    "# def get_completion(prompt, model=\"gpt-3.5-turbo\"): \n",
    "    messages = [{\"role\": \"user\", \"content\": prompt}]\n",
    "    response = openai.ChatCompletion.create(\n",
    "        model=model,\n",
    "        messages=messages,\n",
    "        temperature=0, \n",
    "    )\n",
    "    return response.choices[0].message[\"content\"]\n",
    "\n",
    "# to print in Markdown style\n",
    "from IPython.display import display, Markdown\n",
    "\n",
    "def print_prompt_answer(prompt, output_format=\"markdown\", display_prompt=False):\n",
    "    if display_prompt:\n",
    "        display(Markdown(\"### Prompt\"))\n",
    "        print(prompt)\n",
    "#         display(Markdown(prompt)) \n",
    "\n",
    "    response = get_completion(prompt)\n",
    "    \n",
    "    if output_format == \"markdown\":\n",
    "        display(Markdown(response))\n",
    "    print(response)\n",
    "    return response\n",
    "    "
   ]
  },
  {
   "cell_type": "code",
   "execution_count": 55,
   "metadata": {},
   "outputs": [],
   "source": [
    "# Source: https://www.washingtonpost.com/investigations/interactive/2023/china-lab-safety-risk-pandemic/?itid=sf_investigations_article_list\n",
    "press = \"\"\"\n",
    "China’s struggles with lab safety carry risk of another pandemic Joby Warrick, David Willman 25–32 minutos  In the summer of 2019, a mysterious accident occurred inside a government-run biomedical complex in north-central China, a facility that handles a pathogen notorious for its ability to pass easily from animals to humans.  There were no alarms or flashing lights to alert workers to the defect in a sanitation system that was supposed to kill germs in the vaccine plant’s waste. When the system failed in late July that year, millions of airborne microbes began seeping invisibly from exhaust vents and drifting into nearby neighborhoods. Nearly a month passed before the problem was discovered and fixed, and four months before the public was informed. By then, at least 10,000 people had been exposed, with hundreds developing symptomatic illnesses, scientific studies later concluded.  The events occurred not in Wuhan, the city where the coronavirus pandemic began, but in another Chinese city, Lanzhou, 800 miles to the northwest. The leaking pathogens were bacteria that cause brucellosis, a common livestock disease that can lead to chronic illness or even death in humans if not treated. As the pandemic enters its fourth year, new details about the little-known Lanzhou incident offer a revealing glimpse into a much larger — and largely hidden — struggle with biosafety across China in late 2019, at the precise moment when both the brucellosis incident and the coronavirus outbreak were coming to light.  Multiple probes into both events by U.S. and international scientists and lawmakers are spotlighting what experts describe as China’s vulnerability to serious lab accidents, exposing problems that allowed deadly pathogens to escape in the past and could well do so again, potentially triggering another pandemic.  Beijing has embarked on a major expansion of the country’s biotechnology sector, pouring billions of dollars into constructing dozens of laboratories and encouraging cutting-edge — and sometimes controversial — research in fields including genetic engineering, and experimental vaccines and therapeutics. The expansion is part of a government-mandated effort to rival or surpass the scientific capabilities of the United States and other Western powers. Yet, safety practices in China’s new labs have failed to keep pace, a Washington Post examination has found.  Lab accidents happen everywhere, including in the United States, where illnesses and deaths caused by accidental infections have occurred, especially before the adoption of modern safety standards in the 1970s. But Chinese government reports, bolstered by interviews and statements by Western and Chinese officials and scientists who visited the facilities as recently as 2020, describe ongoing equipment problems and inadequate safety training that in some cases resulted in lab animals being illegally sold after being used in experiments, and contaminated lab waste being flushed into sewers. The problems are exacerbated, experts say, by a secretive, top-down bureaucracy that sets demanding goals while reflexively covering up accidents and discouraging any public acknowledgment of shortcomings.  China adopted legislation to improve biosafety around the time of the covid-19 outbreak caused by the novel coronavirus. But the lack of transparency makes it difficult to assess how the new standards are being implemented. The country’s recent history, which includes multiple documented instances of pathogen “leaks” or lab-related infections as well as a rushed entry into high-risk research with lethal viruses, provides ample reasons for concern, Western officials and experts say. Biosecurity expert Robert Hawley, who for years oversaw safety programs at the U.S. Army’s maximum-containment lab at Fort Detrick, Md., expressed dismay over “imprudent” lab practices he observed in inspection reports obtained by a congressional oversight committee.  “It is very, very apparent that their biological safety training is minimal,” Hawley said.  Multiple emailed requests seeking comment from the Chinese Embassy in Washington and China’s National Health Commission did not receive a response. Beijing has accused U.S. officials of scapegoating China over the coronavirus pandemic, while also rejecting criticism of China’s record on transparency and lab safety as hypocritical. U.S. agencies and institutions sometimes restrict access to scientific data, especially for defense-related research. In a 2020 State Department email obtained by the nonprofit organization U.S. Right to Know, a senior Trump administration official appeared to acknowledge that some criticism of China “called out actions that we ourselves are doing.”  Whether lab safety was a factor in the coronavirus outbreak remains unclear. The World Health Organization and the U.S. intelligence community both continue to point to a possible lab accident as one of the two ways that the pandemic may have started. In an updated intelligence assessment revealed publicly in February, Energy Department analysts joined the FBI in concluding that a lab leak was the most likely cause, although some other U.S. agencies continued to side with scientists who think a natural spillover from infected animals — perhaps raccoon dogs, sold at a Wuhan market — is to blame. Advocates of both theories expressed only low or moderate confidence in their conclusions.  Chinese officials have rejected the lab-leak hypothesis while also stymying independent investigations into the pandemic’s origins. For three years, Beijing has blocked access to information about the testing of humans and animals in the early weeks of the outbreak, and it also has refused to release a full inventory of the virus strains that were being studied at its top civilian and military virology labs.  What is clearer now is that conditions existed — and perhaps still exist — that raised the odds of an accidental outbreak. An expert group headed by Philip Zelikow, who was the executive director of the 9/11 Commission, is expected to highlight China’s struggles with biosafety as part of a wide-ranging report probing the conditions that set the stage for the global pandemic. Zelikow said the problem of lagging standards and unsafe working conditions for Chinese scientists was exacerbated by “an environment of extraordinary political and economic pressure.”  “Biosafety culture and practices struggled to keep up with racing biotech skills and ambitions,” he wrote in an email. Shiny new labs  Twenty years ago, a different coronavirus ignited China’s ambition to become a biomedical superpower. The pathogen that causes the disease known as SARS, or severe acute respiratory syndrome, appeared out of nowhere in 2002, jumping from bats to a mongoose-like mammal known as the Asian palm civet and then to humans in China’s southeastern Guangdong province. Eventually, SARS infected more than 8,000 people worldwide, most of them in China and Hong Kong. About 800 died.  To China’s leaders, SARS exposed a vulnerability to zoonotic diseases — those that spread from animals to people. In the wake of SARS, Beijing vowed to rapidly modernize the country’s biomedical institutions, which were seen as lagging because of what official media termed a Western “stranglehold” on biotechnology.  Those promises were mostly kept, with technical and financial assistance from Western countries. The 15 years following the SARS eruption witnessed an unprecedented surge in Chinese partnerships with U.S. and European scientific institutions as Beijing sought to address the country’s serious health-care challenges while also narrowing the technology gap.  One of the most prominent collaborations was a U.S.-Chinese virology research project investigating coronaviruses, backed by millions of dollars in grants from the National Institutes of Health and involving China’s top scientist in the field, the Wuhan Institute of Virology’s Shi Zhengli, and counterparts from the New York-based nonprofit EcoHealth Alliance. Another collaboration was a Chinese-French agreement to construct China’s first ultra-secure laboratory — known as a Biosafety Level 4, or BSL-4 facility — built to handle the deadliest known pathogens. That lab, operated by the Wuhan Institute of Virology, became fully operational in 2018. Since then, Beijing has quickly built at least two more BSL-4 labs, in the cities of Harbin and Kunming, and announced plans to construct dozens of BSL-3s — labs that handle second-tier threats such as the anthrax bacteria — to ensure that each of China’s 34 provinces and autonomous regions has at least one — for a total of at least 120, according to a count by independent analysts.  Biological  safety cabinet  Autoclave  LABORATORY  Sink  HALLWAY  Personal  protective  equipment  may include  a lab coat or  gown, gloves,  goggles  or mask  Biosafety Level (BSL) 1 and 2 labs work with microbes that may pose minimal or moderate hazards. They feature standard research equipment and infrastructure such as ventilated biosafety cabinets, autoclaves and sinks.  BSL-3 labs are used to study infectious pathogens that may be transmitted through the air and could cause lethal infections if exposed. Additional requirements are sealed walls, two self-closing doors, and directional airflow and filtered ventilation. These labs also must have equipment that can decontaminate wastewater.  BSL-4 labs provide the highest level of safety and deal with the most dangerous and infectious pathogens. These labs require filters for both supply and exhaust air, and class III biosafety cabinets. A chemical and personal shower out are required to ensure full decontamination before leaving.  Yet, for at least some labs, speed and ambition occasionally meant cutting corners.  Chinese officials said little publicly about a serious incident involving the SARS virus that occurred in 2004, when two lab workers in Beijing separately contracted the disease on the job and spread the illness to at least seven outsiders, one of whom died, WHO officials said. Meanwhile, as new labs were being built, the kinds of safety programs and rigorous training that developed over years in the top Western labs were slow to take hold, and in some cases were simply ignored, according to inspection documents and reports by Chinese scientists who visited or worked in the facilities.  The Washington Post reviewed official statements and reports, collected and translated by congressional researchers, State Department officials and independent investigators, that point to systemic failures in implementing safety standards necessary to prevent a spillover of dangerous bacteria and viruses. The deficiencies were being documented at a time of intense activity and rapid change. Across China, a sweeping, years-long effort was underway to collect and analyze thousands of previously unknown viruses harvested from wild animals across Asia. At the same time, Chinese labs were plunging headlong into the emerging field of synthetic biology, embracing new and controversial bioengineering techniques in which scientists tweak the genetic structure of viruses in an attempt to anticipate future evolutionary changes that could make the pathogens more dangerous to humans.  Yet, as Western countries discovered painfully years ago, running a successful laboratory requires more than just an ability to conduct experiments.  “It’s not just about the guys in white coats. It’s also about the people who run the systems,” said Hawley, the former Army biosafety chief. “You can’t cut corners. And you can’t glean the knowledge that’s required in a two-week course and then expect that people will be able to fly solo. It doesn’t happen that way.” Flushed into sewers  In January 2020, as the first covid-19 cases were being investigated, Chinese news media reported a rare scandal involving one of the country’s laboratories. A 58-year-old professor at an agricultural university was arrested and charged with illegally selling animals used in the lab’s research program.  The Chinese authorities eventually sentenced the professor to 12 years in prison, a move apparently intended as a warning to others. The problem of off-the-books selling of lab animals was deemed to be of sufficient magnitude that China’s government was compelled to adopt a law that year expressly forbidding Chinese labs to sell “animals used in experimentation.”  Whether anyone became sick from exposure to laboratory animals is unknown. But the report amounted to an official acknowledgment of safety problems that are generally harder to spot and, in China’s case, only rarely mentioned in public.  Lab inspection reports and other documents obtained by congressional investigators and independent researchers show Chinese labs struggling to implement safety standards, including at some of the country’s newest and most prestigious institutions, such as the Wuhan BSL-4 lab. The essential conclusions also are echoed in confidential State Department cables drafted in 2018 after U.S. scientists visited the Wuhan facility and met with Chinese counterparts there. One cable noted a “serious shortage of appropriately trained technicians and investigators needed to safely operate this high-containment laboratory.”  Although the Wuhan BSL-4 lab was built according to French designs, Chinese officials gradually shut out their French partners and replaced some of the costlier safety features with locally made equivalents that had never been put to the test under BSL-4 conditions, according to documents reviewed by The Post. For example, less than 18 months after the facility’s official opening, lab managers issued short-notice bids and patent applications to fix apparent problems with doors seals, the air filtration system and monitoring devices that were supposed to alert scientists to possible leaks. The records were obtained as part of an ongoing oversight investigation by the Senate Committee on Health, Education, Labor and Pensions and independent analysts with DRASTIC, a loose confederation of data analysts and amateur sleuths who mine open-source Chinese documents for information about covid-19. There is no known evidence suggesting that the BSL-4 facility was involved in research on the virus that causes covid-19; that research was taking place elsewhere at the Wuhan Institute.  Other documents describe a common litany of shortcomings at multiple facilities, including shortages of trained workers, inadequate or missing equipment, bad waste-management practices and generally sloppy conditions.  “There is a lot of debris in the laboratory,” an unnamed Chinese inspector noted in October 2019 after a visit to a secure research facility at Wuhan University, which operates a BSL-3 lab a short distance from the Wuhan Institute of Virology’s main campus. According to the inspection report, obtained by DRASTIC, lab conditions were “crowded and chaotic,” with “experiment and living area ... not separated” and “chemical waste and household waste mixed.”  At the Wuhan Institute of Virology, social media postings in late 2019 confirm previously reported safety lapses among lab workers conducting field research on unknown coronaviruses. Chinese scientists collected 20,000 virus samples from bats and other animals by 2019 and conducted genetic tests for hundreds of them, documents show. Social media postings show scientists working in caves filled with thousands of disease-carrying bats and sometimes handling the creatures and their excrement without gloves or other protective gear needed to prevent accidental infection.  Back in the laboratory, unidentified viruses were grown in petri dishes and tested under BSL-2 conditions, rather than in more-restrictive BSL-3 conditions, as would be customary in the United States and Western Europe, according to U.S. scientists who collaborated with the institute’s researchers. In a description of the research prepared for the Senate Health Committee, congressional researchers said that studies on previously unknown coronaviruses continued under “inappropriately low biosafety levels” until after the start of the coronavirus outbreak, and that the work included creating genetically modified “chimeras” by splicing genetic material from one virus onto another for lab tests. Wuhan Institute officials did not respond to a request for comment.  The problems were sufficiently worrisome that a few senior Chinese officials and scientists felt compelled to speak out. In a rare public acknowledgment, Gao Hucheng, a senior member of the government’s National People’s Congress, warned in a 2019 report to fellow legislators that the “biosecurity situation in our country is grim.” He specifically cited the potentially grave consequences stemming from “laboratories that leak.”  Podcast episode The virus hunters  A journey into the wild world of high-risk virus hunting, and a year-long Post investigation about the U.S. role in pushing such research to the edge.  That same year, a second Chinese official acknowledged that his government had failed to adequately fund many of the high-containment labs it had built. Yuan Zhiming, a deputy director of the Wuhan Institute of Virology, said numerous high-level labs “have insufficient operational funds for routine, but vital, processes.”  “Currently, most laboratories lack specialized biosafety managers and engineers,” he wrote in 2019 in the Journal of Biosafety and Biosecurity. “This makes it difficult to identify and mitigate potential safety hazards in facility and equipment operation early enough.”  But the most widely cited deficiencies have involved flaws in handling hazardous laboratory wastes, a problem cited in inspection reports and other internal reviews of lab practices in different parts of China. In a 2018 report, obtained by Senate Health Committee investigators, an official in China’s southern Guangzhou region noted that “laboratory wastewater is being directly released” into sewage systems. The report described lab workers as careless in their handling of “highly dangerous” lab cultures, failing to properly clean up after experimenting with dangerous viruses and bacteria.  Similar problems were noted at Wuhan.  “Laboratories in China have paid insufficient attention to biological disposal,” said Yang Zhanqui, the director of the pathogen biology department at Wuhan University, in comments carried in 2020 by China’s Global Times, a publication closely aligned with the government. He cited a habit among researchers to “discharge laboratory materials into the sewer after experiments, without a specific biological disposal mechanism.”  Whether any live pathogens were released was unclear, inspection reports said, in part because of a failure by the labs to adequately monitor for leaks. Without adequate monitoring, leaks can continue unnoticed for long periods — which is precisely what happened in Lanzhou in the summer of 2019. An invisible cloud of bacteria  As Chinese investigators later determined, the Lanzhou crisis began with a problem so simple that it could be grasped by anyone who has ever shopped for groceries: a lapsed expiration date.  It happened inside the Lanzhou Biopharmaceutical Plant, a manufacturer of vaccines that occupies a warehouselike building in the center of Lanzhou, a provincial capital with nearly 4 million inhabitants about 960 miles southwest of Beijing. The plant, which is ringed by high-rise apartment complexes on the southern bank of the Yellow River, was set up for the production of vaccines to prevent brucellosis.  Vaccine production started with live bacteria in fermentation tanks, and by the end of the process, the pathogens were normally killed with the use of chemical disinfectants. But somehow, in July 2019, the plant began using a chemical that was well past its prime, according to Chinese media accounts and interviews with scientists who investigated the accident. The waste-treatment regimen was only partly working, allowing many of the bacteria cells to survive.  A scholarly account of the accident released nearly three years later, in June 2022, describes a large plume of bacteria seeping from the exhaust stacks and then drifting toward the apartment buildings and a nearby veterinary school.  “The waste gas contained the notoriously easy-to-aerosolize pathogen, which was then further carried by southeast winds,” wrote Georgios Pappas, a Greek infectious-disease specialist and author of the report published in the journal Clinical Infectious Diseases. The result, Pappas said, was “possibly the largest laboratory accident in the history of infectious diseases.”  With no warning about the accident, people living downwind never had a chance to protect themselves.  Over the following weeks, students in the nearby veterinary school began developing unexplained symptoms: achy joints, fever, unusual fatigue. Even lab mice in the school’s research wing started becoming sick, and the females delivered stillborn babies. Local officials initially suspected an exposure from infected animals inside the school itself. But then residents in the nearby apartment complex began to fall ill.  One of them, a 39-year-old man who lived less than a block from the biopharmaceutical plant, told of how his health inexplicably deteriorated in the fall of 2019. “I suffered from severe back pain, sweating, sleepiness, and swelling,” the man, who gave the name Li Xiao, told the state-run Chinese news site the Paper months after the government officially acknowledged the mishap. “I didn’t know the reason at the time.”  The first official hint of a larger problem came on Dec. 27, 2019 — four months after the leak was halted — in the form of a paper notice tacked to bulletin boards in local neighborhoods, advising residents to sign up for free testing for brucellosis, a disease almost unknown in urban centers such as Lanzhou.  In the following months, the testing zone had to be expanded multiple times as sufferers were found miles downwind from the plant. State-run media accounts eventually acknowledged the outbreak and pinned the blame on the vaccine facility — eight managers were subsequently fired, and the plant shut down — while initially claiming that only a handful of residents had actually gotten sick.  In reality, out of nearly 70,000 people tested, more than 10,000 were seropositive, meaning enough brucellosis-causing bacteria had entered their lungs to trigger their immune systems into producing antibodies, Pappas said, citing figures compiled by the provincial health authorities in Lanzhou’s Gansu province.  How many symptomatic cases developed is unknown, but experts believe the number is in the hundreds. Some, like Lanzhou resident Li Xiao, were briefly hospitalized and then treated for months with different antibiotics. Nearly a year later, when interviewed by the Paper, he was still suffering from the effects of the disease, in addition to stomach pain from the drugs he was taking. After months of treatment, he said, he had decided to check out a local support group formed by neighbors whose experiences with brucellosis were similar to his.  “There are more than 400 people in this group,” he said. “As far as I know, almost every household in our community has infected patients.”  Chinese documents show that more than 3,000 people living near the plant applied for compensation, an indication of at least a mild illness, Pappas said. Three years after the events, the fact that more than 10,000 people were affected by the leak is “nowhere to be found in official data,” he told The Post. “It is as if these patients never existed.”  “This was a major event, with significant overtones, that nobody talked about,” Pappas said, “while the officials responsible for releasing relevant information failed, and still fail, to do so.” Science hobbled by secrecy  Despite its scale, the Lanzhou accident barely made a blip in global media coverage. That’s partly because of official suppression, as initial Chinese accounts depicted only a minor mishap and very few illnesses. But those reports also coincide with panic over a different disease that erupted in Wuhan, one of China’s top biotechnology centers.  The first publicly recorded cases of covid-19 — then known only as a “pneumonia of unknown cause” in Chinese medical reports — occurred in December 2019, just before the brucellosis accident came to light. On Dec. 28, a day after Lanzhou residents were ordered to report for testing, medical investigators officially linked the Wuhan cases to a “novel coronavirus” that would be called SARS-CoV-2. Within a month, the virus had spread to cities throughout China, and then around the world. More on Pandemic Risk  The coronavirus pandemic has challenged conventional thinking about biosafety, leading a growing number of scientists to reconsider the danger of prospecting for unknown viruses as well as other research with pathogens.  Chinese officials initially refused even to acknowledge the problem at Wuhan and threatened punishment for any scientist or doctor who spoke out publicly. Epidemiologists believe the suppression campaign ultimately contributed to the rapid spread of the virus in the early weeks of the outbreak. It probably also hindered efforts to document precisely how and where the coronavirus emerged.  Chinese medical personnel who tried to sound the alarm in the early weeks of the pandemic were questioned by security officials and forced to confess publicly to “spreading rumors.” When World Health Organization representatives launched a formal investigation of the outbreak in 2020, Chinese officials barred the release of key information, including raw results from human and animal tests during the weeks when the first cases were emerging, or the genetic sequences for the strains of coronaviruses that scientists there had collected and studied. Later, some of the WHO contingent acknowledged being pressured by their Chinese hosts to issue public statements dismissing the possibility of a lab leak, even though they lacked the data to determine how the outbreak originated.  “The Chinese government doesn’t want to admit mistakes because it might challenge their image of being all-knowing and all-powerful,” said Alina Chan, a molecular biologist at the MIT-Harvard University Broad Institute and a co-author of “Viral,” a 2021 book that explores the events leading up to the pandemic. “And people on the ground are afraid of admitting mistakes because it could have very dire consequences for them.”  Pappas, the Greek physician who investigated the bacteria leak at Lanzhou, said China’s tendency toward concealment serves the country poorly. Not only does it impede efforts to fix real problems, he said, but it also fuels suspicions among outsiders of a coverup — even in cases where the suspicions are unwarranted.  “The paucity of information remains an issue for totalitarian regimes,” Pappas said. “The delay in notification of the initial SARS outbreak, the critical lost days on informing about specific characteristics of SARS-CoV-2, the absence of info on the Lanzhou leak — all belong to a common narrative: the absence of data, aiming to create a false sense of absence of events.”  Cate Brown, Cate Cadell and Alice Crites contributed to this report. clarification  An earlier version of the 3-D graphic showing a Biosafety Level 3 laboratory was interpreted by some readers as indicating that negative air pressure was used outside the containment room to restrict airflow. The graphic has been revised to make clear that the negative air pressure was inside the lab space and anteroom. \n",
    "\"\"\""
   ]
  },
  {
   "cell_type": "code",
   "execution_count": 64,
   "metadata": {
    "scrolled": false
   },
   "outputs": [
    {
     "name": "stdout",
     "output_type": "stream",
     "text": [
      "To address the crisis communication problem described in the text, the following steps should be taken:\n",
      "\n",
      "1. Acknowledge the issue: Publicly recognize the biosafety concerns and incidents that have occurred in Chinese laboratories, including the Lanzhou incident. This will demonstrate transparency and a commitment to addressing the problem.\n",
      "\n",
      "2. Establish a clear communication plan: Develop a strategy for communicating with the public, media, and international community about biosafety issues and incidents. This plan should include designated spokespeople, regular updates, and a commitment to providing accurate and timely information.\n",
      "\n",
      "3. Collaborate with international experts: Engage with biosafety experts from around the world to assess the current state of lab safety in China and identify areas for improvement. This collaboration can help build trust and demonstrate a commitment to addressing the problem.\n",
      "\n",
      "4. Implement new safety measures: Based on the findings of the international collaboration, implement new safety protocols and procedures in Chinese laboratories to prevent future incidents. This may include additional training for lab personnel, improved waste disposal practices, and stricter oversight of lab operations.\n",
      "\n",
      "5. Monitor and report progress: Regularly monitor the implementation of new safety measures and report on their effectiveness to the public and international community. This will demonstrate accountability and a commitment to continuous improvement.\n",
      "\n",
      "6. Foster a culture of transparency and accountability: Encourage open communication about biosafety concerns and incidents within the scientific community and promote a culture of learning from mistakes. This will help prevent future incidents and improve overall lab safety in China.\n"
     ]
    }
   ],
   "source": [
    "prompt = f\"\"\"\n",
    "What should I do to address the crisis communication problem described \\\n",
    "in the text delimited by \"```\"? \\\n",
    "\n",
    "```{press}```\n",
    "\"\"\"\n",
    "\n",
    "print_prompt_answer(prompt)"
   ]
  },
  {
   "cell_type": "markdown",
   "metadata": {},
   "source": [
    "### Analyzing the output\n",
    "\n",
    "- Good reasoning about the subject\n",
    "- Let's get his adivce on \"Acknowledge the issue\" and ask to write a press realease about it\n",
    "\n",
    "## Writing a press release\n",
    "\n",
    "- More specific: PR professional\n",
    "- Context: Chinese Ambassy"
   ]
  },
  {
   "cell_type": "code",
   "execution_count": 66,
   "metadata": {},
   "outputs": [
    {
     "data": {
      "text/markdown": [
       "### Answer"
      ],
      "text/plain": [
       "<IPython.core.display.Markdown object>"
      ]
     },
     "metadata": {},
     "output_type": "display_data"
    },
    {
     "name": "stdout",
     "output_type": "stream",
     "text": [
      "Press Release: Addressing Biosafety Concerns in China's Laboratories\n",
      "\n",
      "The Chinese Embassy acknowledges the concerns raised in a recent Washington Post article regarding biosafety in China's laboratories. We would like to assure the international community that the Chinese government is committed to maintaining the highest standards of safety and transparency in our research facilities.\n",
      "\n",
      "The article highlights a number of incidents, including the 2019 Lanzhou brucellosis outbreak, which have raised concerns about the safety of China's laboratories. We recognize that these incidents have caused concern and we are taking steps to address these issues and prevent future occurrences.\n",
      "\n",
      "China has been investing heavily in the development of its biotechnology sector, with the aim of rivaling or surpassing the scientific capabilities of the United States and other Western powers. As part of this effort, we have been working to improve biosafety standards in our laboratories. In response to the COVID-19 outbreak, China adopted legislation to further enhance biosafety measures and ensure that our laboratories meet international standards.\n",
      "\n",
      "We understand that transparency is crucial in addressing concerns about biosafety. The Chinese government is committed to sharing information about our research facilities and their safety measures with the international community. We are also open to collaboration with international partners to further improve biosafety standards in our laboratories.\n",
      "\n",
      "We would like to emphasize that lab accidents can happen anywhere, including in the United States and other Western countries. It is important for all nations to work together to address biosafety concerns and prevent future incidents that could have serious consequences for global health.\n",
      "\n",
      "In conclusion, the Chinese government is committed to addressing the concerns raised in the Washington Post article and ensuring the safety and transparency of our laboratories. We will continue to work with the international community to improve biosafety standards and prevent future incidents.\n"
     ]
    }
   ],
   "source": [
    "prompt = f\"\"\"\n",
    "Act as a Public Relations professional that works for the Chinese ambassy. \\\n",
    "\n",
    "Write a press release that acknowledges the crisis communication problem \\\n",
    "described in the text delimited by \"```\".\n",
    "\n",
    "```{press}```\n",
    "\"\"\"\n",
    "\n",
    "print_prompt_answer(prompt)"
   ]
  },
  {
   "cell_type": "markdown",
   "metadata": {},
   "source": [
    "### Analyzing the output\n",
    "\n",
    "- Good work, but let's be more diplomatic\n"
   ]
  },
  {
   "cell_type": "code",
   "execution_count": 67,
   "metadata": {},
   "outputs": [
    {
     "data": {
      "text/markdown": [
       "### Answer"
      ],
      "text/plain": [
       "<IPython.core.display.Markdown object>"
      ]
     },
     "metadata": {},
     "output_type": "display_data"
    },
    {
     "name": "stdout",
     "output_type": "stream",
     "text": [
      "Press Release: Addressing Biosafety Concerns in China\n",
      "\n",
      "The Chinese Embassy acknowledges the concerns raised in a recent article by The Washington Post regarding biosafety in China. We would like to assure the international community that the Chinese government is committed to maintaining the highest standards of safety in our laboratories and research facilities.\n",
      "\n",
      "In response to the incidents mentioned in the article, we have taken immediate action to address the issues and prevent any potential risks. We have implemented stricter safety protocols, increased training for laboratory personnel, and improved waste management practices. Additionally, we have adopted new legislation to enhance biosafety standards across the country.\n",
      "\n",
      "We understand that transparency is crucial in addressing these concerns, and we are working to improve communication with the international community. We are committed to learning from past incidents and ensuring that our laboratories and research facilities maintain the highest standards of safety and security.\n",
      "\n",
      "We would like to emphasize that China is dedicated to advancing scientific research and innovation while prioritizing the safety and well-being of our citizens and the global community. We will continue to work closely with international partners to address any concerns and ensure that our research facilities operate safely and responsibly.\n"
     ]
    }
   ],
   "source": [
    "prompt = f\"\"\"\n",
    "Act as a Public Relations professional that works for the Chinese ambassy. \\\n",
    "Write a press release that acknowledges the crisis communication problem \\\n",
    "described in the text delimited by \"```\". \\\n",
    "\n",
    "Please maintain a diplomatic approach, use a calm tone, and \\\n",
    "refrain from mentioning other countries.\n",
    "```{press}```\n",
    "\"\"\"\n",
    "\n",
    "print_prompt_answer(prompt)"
   ]
  },
  {
   "cell_type": "markdown",
   "metadata": {},
   "source": [
    "### Analyzing the output\n",
    "\n",
    "- Good job!\n",
    "\n",
    "## Adapt the press release to social medias\n"
   ]
  },
  {
   "cell_type": "code",
   "execution_count": 69,
   "metadata": {
    "scrolled": true
   },
   "outputs": [
    {
     "data": {
      "text/markdown": [
       "### Answer"
      ],
      "text/plain": [
       "<IPython.core.display.Markdown object>"
      ]
     },
     "metadata": {},
     "output_type": "display_data"
    },
    {
     "name": "stdout",
     "output_type": "stream",
     "text": [
      "1. Instagram: China's commitment to biosafety: addressing concerns, implementing stricter protocols, and prioritizing global well-being. 🇨🇳🔬🌏\n",
      "2. Twitter: Chinese Embassy addresses biosafety concerns, ensuring highest safety standards in labs & research facilities. New legislation & transparency in place. 🇨🇳🔬 #Biosafety #China\n",
      "3. TikTok: 🇨🇳 Chinese Embassy responds to biosafety concerns! Stricter protocols, increased training, and improved waste management. Let's prioritize safety together! 🔬🌍\n",
      "4. LinkedIn: The Chinese Embassy addresses biosafety concerns, emphasizing commitment to maintaining high safety standards in laboratories and research facilities. New legislation, increased training, and improved communication with the international community showcase China's dedication to safety and global well-being.\n"
     ]
    }
   ],
   "source": [
    "press_release = \"\"\"The Chinese Embassy acknowledges the concerns raised in a recent article by The Washington Post regarding biosafety in China. We would like to assure the international community that the Chinese government is committed to maintaining the highest standards of safety in our laboratories and research facilities. In response to the incidents mentioned in the article, we have taken immediate action to address the issues and prevent any potential risks. We have implemented stricter safety protocols, increased training for laboratory personnel, and improved waste management practices. Additionally, we have adopted new legislation to enhance biosafety standards across the country. We understand that transparency is crucial in addressing these concerns, and we are working to improve communication with the international community. We are committed to learning from past incidents and ensuring that our laboratories and research facilities maintain the highest standards of safety and security. We would like to emphasize that China is dedicated to advancing scientific research and innovation while prioritizing the safety and well-being of our citizens and the global community. We will continue to work closely with international partners to address any concerns and ensure that our research facilities operate safely and responsibly.\n",
    "\"\"\"\n",
    "\n",
    "prompt = f\"\"\"\n",
    "Summarize the text delimited by \"```\" so it can be used in the following social media platforms: \\\n",
    "\n",
    "1. Instagram. \\\n",
    "2. Twitter. \\ \n",
    "3 Tiktok. \\\n",
    "4. Linkedin. \\\n",
    "\n",
    "```{press_release}```\n",
    "\"\"\"\n",
    "\n",
    "print_prompt_answer(prompt)"
   ]
  },
  {
   "cell_type": "markdown",
   "metadata": {},
   "source": [
    "### Analyzing the output\n",
    "\n",
    "- Good job again!\n",
    "- Let's try an even better fit to each SM platform\n",
    "\n"
   ]
  },
  {
   "cell_type": "code",
   "execution_count": 70,
   "metadata": {},
   "outputs": [
    {
     "data": {
      "text/markdown": [
       "### Answer"
      ],
      "text/plain": [
       "<IPython.core.display.Markdown object>"
      ]
     },
     "metadata": {},
     "output_type": "display_data"
    },
    {
     "name": "stdout",
     "output_type": "stream",
     "text": [
      "1. Instagram: 🇨🇳 The Chinese Embassy addresses biosafety concerns, ensuring the highest safety standards in labs & research facilities. New protocols, training, and legislation in place! 🧪🔬🌏 #China #Biosafety #ResearchSafety\n",
      "\n",
      "2. Twitter: Chinese Embassy responds to biosafety concerns, implementing stricter protocols, training, and legislation to ensure safety in labs & research facilities. 🇨🇳🔬🧪 #China #Biosafety #Transparency\n",
      "\n",
      "3. TikTok: 🇨🇳🔬 China's taking action on biosafety! Stricter protocols, training, and new legislation for labs & research facilities. Let's keep science safe! 🧪🌏 #China #Biosafety #ScienceSafety\n",
      "\n",
      "4. LinkedIn: The Chinese Embassy addresses recent biosafety concerns, emphasizing their commitment to maintaining the highest safety standards in laboratories and research facilities. They have implemented stricter safety protocols, increased training, improved waste management practices, and adopted new legislation to enhance biosafety standards across the country. China is dedicated to advancing scientific research and innovation while prioritizing safety and transparency.\n"
     ]
    }
   ],
   "source": [
    "press_release = \"\"\"The Chinese Embassy acknowledges the concerns raised in a recent article by The Washington Post regarding biosafety in China. We would like to assure the international community that the Chinese government is committed to maintaining the highest standards of safety in our laboratories and research facilities. In response to the incidents mentioned in the article, we have taken immediate action to address the issues and prevent any potential risks. We have implemented stricter safety protocols, increased training for laboratory personnel, and improved waste management practices. Additionally, we have adopted new legislation to enhance biosafety standards across the country. We understand that transparency is crucial in addressing these concerns, and we are working to improve communication with the international community. We are committed to learning from past incidents and ensuring that our laboratories and research facilities maintain the highest standards of safety and security. We would like to emphasize that China is dedicated to advancing scientific research and innovation while prioritizing the safety and well-being of our citizens and the global community. We will continue to work closely with international partners to address any concerns and ensure that our research facilities operate safely and responsibly.\n",
    "\"\"\"\n",
    "\n",
    "prompt = f\"\"\"\n",
    "Summarize the text delimited by \"```\" so it can be used in the following social media platforms; \\\n",
    "\n",
    "please adapt your writing styles to align with the communication culture of each social media platform. \\\n",
    "\n",
    "1. Instagram. \\\n",
    "2. Twitter. \\ \n",
    "3 Tiktok. \\\n",
    "4. Linkedin. \\\n",
    "\n",
    "```{press_release}```\n",
    "\"\"\"\n",
    "\n",
    "print_prompt_answer(prompt)"
   ]
  },
  {
   "cell_type": "markdown",
   "metadata": {},
   "source": [
    "### Analyzing the output\n",
    "\n",
    "- Didn't change that much\n",
    "\n",
    "## Analyzing comments/feedback from Social Medias\n",
    "\n",
    "- Goal: get sentiment feedback from Emails, SM posts, comments, etc.\n",
    "\n",
    "1. Let's create the hypothetical data by using the Twitter post and ask GPT to create 15 posts about it with different opinions\n",
    "2. Then we ask GPT to classify them into negative, positive, or neutral"
   ]
  },
  {
   "cell_type": "code",
   "execution_count": 106,
   "metadata": {},
   "outputs": [
    {
     "data": {
      "text/markdown": [
       "### Answer"
      ],
      "text/plain": [
       "<IPython.core.display.Markdown object>"
      ]
     },
     "metadata": {},
     "output_type": "display_data"
    },
    {
     "name": "stdout",
     "output_type": "stream",
     "text": [
      "[\n",
      "\"Friendly comment 1: Great to see China taking steps to ensure safety in their labs and research facilities! 🇨🇳👏 #China #Biosafety\",\n",
      "\"Friendly comment 2: This is a positive move towards transparency and safety in research. Well done, China! 🇨🇳🔬🧪 #China #Biosafety #Transparency\",\n",
      "\"Friendly comment 3: It's reassuring to see China addressing biosafety concerns and working towards a safer research environment. 🇨🇳🔬🧪 #China #Biosafety #Transparency\",\n",
      "\"Friendly comment 4: Stricter protocols and training are essential for ensuring safety in labs. Good job, China! 🇨🇳🔬🧪 #China #Biosafety #Transparency\",\n",
      "\"Friendly comment 5: This is a step in the right direction for China's research facilities. Keep up the good work! 🇨🇳🔬🧪 #China #Biosafety #Transparency\",\n",
      "\n",
      "\"Doubtful comment 1: I hope this isn't just a PR move and that they actually follow through with these stricter protocols. #China #Biosafety #Transparency\",\n",
      "\"Doubtful comment 2: It's good to hear, but I'll believe it when I see it. Actions speak louder than words. #China #Biosafety #Transparency\",\n",
      "\"Doubtful comment 3: How can we be sure that these new protocols and legislation will be enforced? #China #Biosafety #Transparency\",\n",
      "\"Doubtful comment 4: I'm skeptical about how much of a difference this will actually make in practice. #China #Biosafety #Transparency\",\n",
      "\"Doubtful comment 5: It's a nice statement, but will it really lead to significant improvements in biosafety? #China #Biosafety #Transparency\",\n",
      "\n",
      "\"Curious comment 1: I wonder what specific protocols and legislation they are implementing to improve biosafety? 🇨🇳🔬🧪 #China #Biosafety #Transparency\",\n",
      "\"Curious comment 2: What kind of training will be provided to ensure safety in labs and research facilities? 🇨🇳🔬🧪 #China #Biosafety #Transparency\",\n",
      "\"Curious comment 3: Are there any international organizations involved in helping China implement these new protocols? 🇨🇳🔬🧪 #China #Biosafety #Transparency\",\n",
      "\"Curious comment 4: How will these new protocols and legislation be monitored and enforced? 🇨🇳🔬🧪 #China #Biosafety #Transparency\",\n",
      "\"Curious comment 5: What prompted this decision to implement stricter protocols and training? 🇨🇳🔬🧪 #China #Biosafety #Transparency\"\n",
      "]\n"
     ]
    },
    {
     "data": {
      "text/plain": [
       "'[\\n\"Friendly comment 1: Great to see China taking steps to ensure safety in their labs and research facilities! 🇨🇳👏 #China #Biosafety\",\\n\"Friendly comment 2: This is a positive move towards transparency and safety in research. Well done, China! 🇨🇳🔬🧪 #China #Biosafety #Transparency\",\\n\"Friendly comment 3: It\\'s reassuring to see China addressing biosafety concerns and working towards a safer research environment. 🇨🇳🔬🧪 #China #Biosafety #Transparency\",\\n\"Friendly comment 4: Stricter protocols and training are essential for ensuring safety in labs. Good job, China! 🇨🇳🔬🧪 #China #Biosafety #Transparency\",\\n\"Friendly comment 5: This is a step in the right direction for China\\'s research facilities. Keep up the good work! 🇨🇳🔬🧪 #China #Biosafety #Transparency\",\\n\\n\"Doubtful comment 1: I hope this isn\\'t just a PR move and that they actually follow through with these stricter protocols. #China #Biosafety #Transparency\",\\n\"Doubtful comment 2: It\\'s good to hear, but I\\'ll believe it when I see it. Actions speak louder than words. #China #Biosafety #Transparency\",\\n\"Doubtful comment 3: How can we be sure that these new protocols and legislation will be enforced? #China #Biosafety #Transparency\",\\n\"Doubtful comment 4: I\\'m skeptical about how much of a difference this will actually make in practice. #China #Biosafety #Transparency\",\\n\"Doubtful comment 5: It\\'s a nice statement, but will it really lead to significant improvements in biosafety? #China #Biosafety #Transparency\",\\n\\n\"Curious comment 1: I wonder what specific protocols and legislation they are implementing to improve biosafety? 🇨🇳🔬🧪 #China #Biosafety #Transparency\",\\n\"Curious comment 2: What kind of training will be provided to ensure safety in labs and research facilities? 🇨🇳🔬🧪 #China #Biosafety #Transparency\",\\n\"Curious comment 3: Are there any international organizations involved in helping China implement these new protocols? 🇨🇳🔬🧪 #China #Biosafety #Transparency\",\\n\"Curious comment 4: How will these new protocols and legislation be monitored and enforced? 🇨🇳🔬🧪 #China #Biosafety #Transparency\",\\n\"Curious comment 5: What prompted this decision to implement stricter protocols and training? 🇨🇳🔬🧪 #China #Biosafety #Transparency\"\\n]'"
      ]
     },
     "execution_count": 106,
     "metadata": {},
     "output_type": "execute_result"
    }
   ],
   "source": [
    "twitter_post = \"\"\"\n",
    " Chinese Embassy responds to biosafety concerns, implementing stricter protocols, training, and legislation to ensure safety in labs & research facilities. 🇨🇳🔬🧪 #China #Biosafety #Transparency\n",
    "\"\"\"\n",
    "\n",
    "prompt = f\"\"\"\n",
    "The text delimited by \"```\" is a Twitter post. \\\n",
    "\n",
    "Create 15 random comments about this post, reflecting a variety of opinions. \\\n",
    "\n",
    "Please ensure that 5 comments are friendly, 5 express doubt, and 5 convey curiosity. \\\n",
    "\n",
    "Format the ouput as a Python string list. \\\n",
    "\n",
    "```{twitter_post}```\n",
    "\"\"\"\n",
    "\n",
    "print_prompt_answer(prompt)"
   ]
  },
  {
   "cell_type": "markdown",
   "metadata": {},
   "source": [
    "### Analyzing the output\n",
    "\n",
    "- Job done! Now let's ask GPT to label each comment"
   ]
  },
  {
   "cell_type": "code",
   "execution_count": 3,
   "metadata": {
    "scrolled": false
   },
   "outputs": [
    {
     "data": {
      "text/markdown": [
       "| Comment                                                                 | Label    |\n",
       "|-------------------------------------------------------------------------|----------|\n",
       "| Great to see China taking steps to ensure safety in their labs and research facilities! 🇨🇳👏 #China #Biosafety | Positive |"
      ],
      "text/plain": [
       "<IPython.core.display.Markdown object>"
      ]
     },
     "metadata": {},
     "output_type": "display_data"
    },
    {
     "name": "stdout",
     "output_type": "stream",
     "text": [
      "| Comment                                                                 | Label    |\n",
      "|-------------------------------------------------------------------------|----------|\n",
      "| Great to see China taking steps to ensure safety in their labs and research facilities! 🇨🇳👏 #China #Biosafety | Positive |\n"
     ]
    },
    {
     "data": {
      "text/markdown": [
       "| Comment                                                                                   | Label    |\n",
       "|-------------------------------------------------------------------------------------------|----------|\n",
       "| This is a positive move towards transparency and safety in research. Well done, China! 🇨🇳🔬🧪 #China #Biosafety #Transparency | Positive |"
      ],
      "text/plain": [
       "<IPython.core.display.Markdown object>"
      ]
     },
     "metadata": {},
     "output_type": "display_data"
    },
    {
     "name": "stdout",
     "output_type": "stream",
     "text": [
      "| Comment                                                                                   | Label    |\n",
      "|-------------------------------------------------------------------------------------------|----------|\n",
      "| This is a positive move towards transparency and safety in research. Well done, China! 🇨🇳🔬🧪 #China #Biosafety #Transparency | Positive |\n"
     ]
    },
    {
     "data": {
      "text/markdown": [
       "| Comment                                                                                   | Label     |\n",
       "|-------------------------------------------------------------------------------------------|-----------|\n",
       "| It's reassuring to see China addressing biosafety concerns and working towards a safer research environment. 🇨🇳🔬🧪 #China #Biosafety #Transparency | Positive |"
      ],
      "text/plain": [
       "<IPython.core.display.Markdown object>"
      ]
     },
     "metadata": {},
     "output_type": "display_data"
    },
    {
     "name": "stdout",
     "output_type": "stream",
     "text": [
      "| Comment                                                                                   | Label     |\n",
      "|-------------------------------------------------------------------------------------------|-----------|\n",
      "| It's reassuring to see China addressing biosafety concerns and working towards a safer research environment. 🇨🇳🔬🧪 #China #Biosafety #Transparency | Positive |\n"
     ]
    },
    {
     "data": {
      "text/markdown": [
       "| Comment                                                                                   | Label    |\n",
       "|-------------------------------------------------------------------------------------------|----------|\n",
       "| Stricter protocols and training are essential for ensuring safety in labs. Good job, China! 🇨🇳🔬🧪 #China #Biosafety #Transparency | Positive |"
      ],
      "text/plain": [
       "<IPython.core.display.Markdown object>"
      ]
     },
     "metadata": {},
     "output_type": "display_data"
    },
    {
     "name": "stdout",
     "output_type": "stream",
     "text": [
      "| Comment                                                                                   | Label    |\n",
      "|-------------------------------------------------------------------------------------------|----------|\n",
      "| Stricter protocols and training are essential for ensuring safety in labs. Good job, China! 🇨🇳🔬🧪 #China #Biosafety #Transparency | Positive |\n"
     ]
    },
    {
     "data": {
      "text/markdown": [
       "| Comment                                                                                   | Label     |\n",
       "|-------------------------------------------------------------------------------------------|-----------|\n",
       "| This is a step in the right direction for China's research facilities. Keep up the good work! 🇨🇳🔬🧪 #China #Biosafety #Transparency | Positive |"
      ],
      "text/plain": [
       "<IPython.core.display.Markdown object>"
      ]
     },
     "metadata": {},
     "output_type": "display_data"
    },
    {
     "name": "stdout",
     "output_type": "stream",
     "text": [
      "| Comment                                                                                   | Label     |\n",
      "|-------------------------------------------------------------------------------------------|-----------|\n",
      "| This is a step in the right direction for China's research facilities. Keep up the good work! 🇨🇳🔬🧪 #China #Biosafety #Transparency | Positive |\n"
     ]
    },
    {
     "data": {
      "text/markdown": [
       "| Comment                                                                                   | Label    |\n",
       "|-------------------------------------------------------------------------------------------|----------|\n",
       "| I hope this isn't just a PR move and that they actually follow through with these stricter protocols. #China #Biosafety #Transparency | Neutral  |"
      ],
      "text/plain": [
       "<IPython.core.display.Markdown object>"
      ]
     },
     "metadata": {},
     "output_type": "display_data"
    },
    {
     "name": "stdout",
     "output_type": "stream",
     "text": [
      "| Comment                                                                                   | Label    |\n",
      "|-------------------------------------------------------------------------------------------|----------|\n",
      "| I hope this isn't just a PR move and that they actually follow through with these stricter protocols. #China #Biosafety #Transparency | Neutral  |\n"
     ]
    },
    {
     "data": {
      "text/markdown": [
       "| Comment                                                                                   | Label    |\n",
       "|-------------------------------------------------------------------------------------------|----------|\n",
       "| It's good to hear, but I'll believe it when I see it. Actions speak louder than words. #China #Biosafety #Transparency | Neutral |"
      ],
      "text/plain": [
       "<IPython.core.display.Markdown object>"
      ]
     },
     "metadata": {},
     "output_type": "display_data"
    },
    {
     "name": "stdout",
     "output_type": "stream",
     "text": [
      "| Comment                                                                                   | Label    |\n",
      "|-------------------------------------------------------------------------------------------|----------|\n",
      "| It's good to hear, but I'll believe it when I see it. Actions speak louder than words. #China #Biosafety #Transparency | Neutral |\n"
     ]
    },
    {
     "data": {
      "text/markdown": [
       "| Comment                                                                                   | Label    |\n",
       "|-------------------------------------------------------------------------------------------|----------|\n",
       "| How can we be sure that these new protocols and legislation will be enforced? #China #Biosafety #Transparency | Neutral |"
      ],
      "text/plain": [
       "<IPython.core.display.Markdown object>"
      ]
     },
     "metadata": {},
     "output_type": "display_data"
    },
    {
     "name": "stdout",
     "output_type": "stream",
     "text": [
      "| Comment                                                                                   | Label    |\n",
      "|-------------------------------------------------------------------------------------------|----------|\n",
      "| How can we be sure that these new protocols and legislation will be enforced? #China #Biosafety #Transparency | Neutral |\n"
     ]
    },
    {
     "data": {
      "text/markdown": [
       "| Comment                                                                 | Label    |\n",
       "|-------------------------------------------------------------------------|----------|\n",
       "| I'm skeptical about how much of a difference this will actually make in practice. #China #Biosafety #Transparency | Negative |"
      ],
      "text/plain": [
       "<IPython.core.display.Markdown object>"
      ]
     },
     "metadata": {},
     "output_type": "display_data"
    },
    {
     "name": "stdout",
     "output_type": "stream",
     "text": [
      "| Comment                                                                 | Label    |\n",
      "|-------------------------------------------------------------------------|----------|\n",
      "| I'm skeptical about how much of a difference this will actually make in practice. #China #Biosafety #Transparency | Negative |\n"
     ]
    },
    {
     "data": {
      "text/markdown": [
       "| Comment                                                                                   | Label    |\n",
       "|-------------------------------------------------------------------------------------------|----------|\n",
       "| It's a nice statement, but will it really lead to significant improvements in biosafety? #China #Biosafety #Transparency | Neutral  |"
      ],
      "text/plain": [
       "<IPython.core.display.Markdown object>"
      ]
     },
     "metadata": {},
     "output_type": "display_data"
    },
    {
     "name": "stdout",
     "output_type": "stream",
     "text": [
      "| Comment                                                                                   | Label    |\n",
      "|-------------------------------------------------------------------------------------------|----------|\n",
      "| It's a nice statement, but will it really lead to significant improvements in biosafety? #China #Biosafety #Transparency | Neutral  |\n"
     ]
    },
    {
     "data": {
      "text/markdown": [
       "| Comment                                                                                   | Label    |\n",
       "|-------------------------------------------------------------------------------------------|----------|\n",
       "| I wonder what specific protocols and legislation they are implementing to improve biosafety? 🇨🇳🔬🧪 #China #Biosafety #Transparency | Neutral  |"
      ],
      "text/plain": [
       "<IPython.core.display.Markdown object>"
      ]
     },
     "metadata": {},
     "output_type": "display_data"
    },
    {
     "name": "stdout",
     "output_type": "stream",
     "text": [
      "| Comment                                                                                   | Label    |\n",
      "|-------------------------------------------------------------------------------------------|----------|\n",
      "| I wonder what specific protocols and legislation they are implementing to improve biosafety? 🇨🇳🔬🧪 #China #Biosafety #Transparency | Neutral  |\n"
     ]
    },
    {
     "data": {
      "text/markdown": [
       "| Comment                                                                                   | Label    |\n",
       "|-------------------------------------------------------------------------------------------|----------|\n",
       "| What kind of training will be provided to ensure safety in labs and research facilities? 🇨🇳🔬🧪 #China #Biosafety #Transparency | Neutral  |"
      ],
      "text/plain": [
       "<IPython.core.display.Markdown object>"
      ]
     },
     "metadata": {},
     "output_type": "display_data"
    },
    {
     "name": "stdout",
     "output_type": "stream",
     "text": [
      "| Comment                                                                                   | Label    |\n",
      "|-------------------------------------------------------------------------------------------|----------|\n",
      "| What kind of training will be provided to ensure safety in labs and research facilities? 🇨🇳🔬🧪 #China #Biosafety #Transparency | Neutral  |\n"
     ]
    },
    {
     "data": {
      "text/markdown": [
       "| Comment                                                                                   | Label   |\n",
       "|-------------------------------------------------------------------------------------------|---------|\n",
       "| Are there any international organizations involved in helping China implement these new protocols? 🇨🇳🔬🧪 #China #Biosafety #Transparency | Neutral |"
      ],
      "text/plain": [
       "<IPython.core.display.Markdown object>"
      ]
     },
     "metadata": {},
     "output_type": "display_data"
    },
    {
     "name": "stdout",
     "output_type": "stream",
     "text": [
      "| Comment                                                                                   | Label   |\n",
      "|-------------------------------------------------------------------------------------------|---------|\n",
      "| Are there any international organizations involved in helping China implement these new protocols? 🇨🇳🔬🧪 #China #Biosafety #Transparency | Neutral |\n"
     ]
    },
    {
     "data": {
      "text/markdown": [
       "| Comment                                                                 | Label   |\n",
       "|-------------------------------------------------------------------------|---------|\n",
       "| How will these new protocols and legislation be monitored and enforced? 🇨🇳🔬🧪 #China #Biosafety #Transparency | Neutral |"
      ],
      "text/plain": [
       "<IPython.core.display.Markdown object>"
      ]
     },
     "metadata": {},
     "output_type": "display_data"
    },
    {
     "name": "stdout",
     "output_type": "stream",
     "text": [
      "| Comment                                                                 | Label   |\n",
      "|-------------------------------------------------------------------------|---------|\n",
      "| How will these new protocols and legislation be monitored and enforced? 🇨🇳🔬🧪 #China #Biosafety #Transparency | Neutral |\n"
     ]
    },
    {
     "data": {
      "text/markdown": [
       "| Comment                                                                 | Label   |\n",
       "|-------------------------------------------------------------------------|---------|\n",
       "| What prompted this decision to implement stricter protocols and training? 🇨🇳🔬🧪 #China #Biosafety #Transparency | Neutral |"
      ],
      "text/plain": [
       "<IPython.core.display.Markdown object>"
      ]
     },
     "metadata": {},
     "output_type": "display_data"
    },
    {
     "name": "stdout",
     "output_type": "stream",
     "text": [
      "| Comment                                                                 | Label   |\n",
      "|-------------------------------------------------------------------------|---------|\n",
      "| What prompted this decision to implement stricter protocols and training? 🇨🇳🔬🧪 #China #Biosafety #Transparency | Neutral |\n"
     ]
    }
   ],
   "source": [
    "comments = [\n",
    "\"Friendly comment 1: Great to see China taking steps to ensure safety in their labs and research facilities! 🇨🇳👏 #China #Biosafety\",\n",
    "\"Friendly comment 2: This is a positive move towards transparency and safety in research. Well done, China! 🇨🇳🔬🧪 #China #Biosafety #Transparency\",\n",
    "\"Friendly comment 3: It's reassuring to see China addressing biosafety concerns and working towards a safer research environment. 🇨🇳🔬🧪 #China #Biosafety #Transparency\",\n",
    "\"Friendly comment 4: Stricter protocols and training are essential for ensuring safety in labs. Good job, China! 🇨🇳🔬🧪 #China #Biosafety #Transparency\",\n",
    "\"Friendly comment 5: This is a step in the right direction for China's research facilities. Keep up the good work! 🇨🇳🔬🧪 #China #Biosafety #Transparency\",\n",
    "\n",
    "\"Doubtful comment 1: I hope this isn't just a PR move and that they actually follow through with these stricter protocols. #China #Biosafety #Transparency\",\n",
    "\"Doubtful comment 2: It's good to hear, but I'll believe it when I see it. Actions speak louder than words. #China #Biosafety #Transparency\",\n",
    "\"Doubtful comment 3: How can we be sure that these new protocols and legislation will be enforced? #China #Biosafety #Transparency\",\n",
    "\"Doubtful comment 4: I'm skeptical about how much of a difference this will actually make in practice. #China #Biosafety #Transparency\",\n",
    "\"Doubtful comment 5: It's a nice statement, but will it really lead to significant improvements in biosafety? #China #Biosafety #Transparency\",\n",
    "\n",
    "\"Curious comment 1: I wonder what specific protocols and legislation they are implementing to improve biosafety? 🇨🇳🔬🧪 #China #Biosafety #Transparency\",\n",
    "\"Curious comment 2: What kind of training will be provided to ensure safety in labs and research facilities? 🇨🇳🔬🧪 #China #Biosafety #Transparency\",\n",
    "\"Curious comment 3: Are there any international organizations involved in helping China implement these new protocols? 🇨🇳🔬🧪 #China #Biosafety #Transparency\",\n",
    "\"Curious comment 4: How will these new protocols and legislation be monitored and enforced? 🇨🇳🔬🧪 #China #Biosafety #Transparency\",\n",
    "\"Curious comment 5: What prompted this decision to implement stricter protocols and training? 🇨🇳🔬🧪 #China #Biosafety #Transparency\"\n",
    "]\n",
    "\n",
    "for comment in comments:\n",
    "    prompt = f\"\"\"\n",
    "The text delimited by \"```\" is a Twitter comment. \\\n",
    "\n",
    "Classify it using one of the three labels: positive, negative, or neutral. \\\n",
    "\n",
    "Format your answer as a table: first column will be the comment and \\\n",
    "the second column will be the label. \\\n",
    "\n",
    "```{comment[19:]}```\n",
    "\"\"\"\n",
    "#     print(get_completion(prompt))\n",
    "    print_prompt_answer(prompt, output_format=\"markdown\")"
   ]
  },
  {
   "cell_type": "markdown",
   "metadata": {},
   "source": [
    "### Analyzing the output\n",
    "\n",
    "- Well done!\n",
    "\n",
    "## Asking GPT to deal with negative comments \n",
    "\n",
    "- Goal: To automatically answer SM comments\n",
    "- Ex. Twitter"
   ]
  },
  {
   "cell_type": "code",
   "execution_count": 111,
   "metadata": {},
   "outputs": [
    {
     "data": {
      "text/markdown": [
       "Dear [Twitter User],\n",
       "\n",
       "Thank you for sharing your thoughts and concerns on our recent post. We appreciate your engagement in this important conversation. It's natural to have skepticism, and we understand that actions speak louder than words.\n",
       "\n",
       "We would like to assure you that the Chinese government is committed to enhancing biosafety and transparency. We believe that every step taken towards these goals, no matter how small, contributes to a safer and more transparent global community.\n",
       "\n",
       "We encourage you to stay informed and engaged as we continue to work on these issues. Your feedback is valuable, and we hope to demonstrate our commitment to these goals through our actions in the coming months and years.\n",
       "\n",
       "Thank you once again for your input, and please feel free to reach out if you have any further concerns or questions.\n",
       "\n",
       "Warm regards,\n",
       "\n",
       "[Your Name]\n",
       "Public Relations, Chinese Embassy"
      ],
      "text/plain": [
       "<IPython.core.display.Markdown object>"
      ]
     },
     "metadata": {},
     "output_type": "display_data"
    },
    {
     "data": {
      "text/plain": [
       "\"Dear [Twitter User],\\n\\nThank you for sharing your thoughts and concerns on our recent post. We appreciate your engagement in this important conversation. It's natural to have skepticism, and we understand that actions speak louder than words.\\n\\nWe would like to assure you that the Chinese government is committed to enhancing biosafety and transparency. We believe that every step taken towards these goals, no matter how small, contributes to a safer and more transparent global community.\\n\\nWe encourage you to stay informed and engaged as we continue to work on these issues. Your feedback is valuable, and we hope to demonstrate our commitment to these goals through our actions in the coming months and years.\\n\\nThank you once again for your input, and please feel free to reach out if you have any further concerns or questions.\\n\\nWarm regards,\\n\\n[Your Name]\\nPublic Relations, Chinese Embassy\""
      ]
     },
     "execution_count": 111,
     "metadata": {},
     "output_type": "execute_result"
    }
   ],
   "source": [
    "negative_comment = \"\"\"I'm skeptical about how much of a difference this will actually make in practice. #China #Biosafety #Transparency\"\"\"\n",
    "\n",
    "prompt = f\"\"\"\n",
    "Act as a Public Relations professional that works for the Chinese ambassy. \\\n",
    "\n",
    "I published a Twitter post and I got a negative feedback, find it the text delimited by \"```\". \\ \n",
    "\n",
    "Write an answer to this negative Twitter comment about my post. \\\n",
    "\n",
    "Please maintain a diplomatic approach, be kind, be polite, and use a calm tone. \\\n",
    "\n",
    "\n",
    "```{negative_comment}```\n",
    "\"\"\"\n",
    "\n",
    "print_prompt_answer(prompt)"
   ]
  },
  {
   "cell_type": "markdown",
   "metadata": {},
   "source": [
    "### Analyzing the output\n",
    "\n",
    "- Great!\n",
    "- Now let's be more specific:\n",
    "  - Focus on the Twitter platform\n",
    "  - Add the twiiter post\n",
    "- Let's remove to try to have a generic answering machine that answers Twitter comments"
   ]
  },
  {
   "cell_type": "code",
   "execution_count": 4,
   "metadata": {
    "scrolled": false
   },
   "outputs": [
    {
     "data": {
      "text/markdown": [
       "| Feedback | Comment |\n",
       "| --- | --- |\n",
       "| Great to see China taking steps to ensure safety in their labs and research facilities! 🇨🇳👏 #China #Biosafety | Thank you for your support! We are committed to maintaining the highest standards of biosafety and transparency in our research facilities. 🇨🇳🔬🧪 #China #Biosafety #Transparency |"
      ],
      "text/plain": [
       "<IPython.core.display.Markdown object>"
      ]
     },
     "metadata": {},
     "output_type": "display_data"
    },
    {
     "name": "stdout",
     "output_type": "stream",
     "text": [
      "| Feedback | Comment |\n",
      "| --- | --- |\n",
      "| Great to see China taking steps to ensure safety in their labs and research facilities! 🇨🇳👏 #China #Biosafety | Thank you for your support! We are committed to maintaining the highest standards of biosafety and transparency in our research facilities. 🇨🇳🔬🧪 #China #Biosafety #Transparency |\n"
     ]
    },
    {
     "data": {
      "text/markdown": [
       "| Feedback                                                                 | Comment                                                                 |\n",
       "|--------------------------------------------------------------------------|-------------------------------------------------------------------------|\n",
       "| This is a positive move towards transparency and safety in research. Well done, China! 🇨🇳🔬🧪 #China #Biosafety #Transparency | Thank you for your kind words and support! We are committed to ensuring the safety and transparency of our research facilities. 🇨🇳🔬🧪 #China #Biosafety #Transparency |"
      ],
      "text/plain": [
       "<IPython.core.display.Markdown object>"
      ]
     },
     "metadata": {},
     "output_type": "display_data"
    },
    {
     "name": "stdout",
     "output_type": "stream",
     "text": [
      "| Feedback                                                                 | Comment                                                                 |\n",
      "|--------------------------------------------------------------------------|-------------------------------------------------------------------------|\n",
      "| This is a positive move towards transparency and safety in research. Well done, China! 🇨🇳🔬🧪 #China #Biosafety #Transparency | Thank you for your kind words and support! We are committed to ensuring the safety and transparency of our research facilities. 🇨🇳🔬🧪 #China #Biosafety #Transparency |\n"
     ]
    },
    {
     "data": {
      "text/markdown": [
       "| Feedback                                                                                   | Comment                                                                                     |\n",
       "|---------------------------------------------------------------------------------------------|---------------------------------------------------------------------------------------------|\n",
       "| It's reassuring to see China addressing biosafety concerns and working towards a safer research environment. 🇨🇳🔬🧪 #China #Biosafety #Transparency | Thank you for your kind words. We are committed to ensuring a safe and transparent research environment for the global community. 🌏🤝🇨🇳 #China #Biosafety #Transparency |"
      ],
      "text/plain": [
       "<IPython.core.display.Markdown object>"
      ]
     },
     "metadata": {},
     "output_type": "display_data"
    },
    {
     "name": "stdout",
     "output_type": "stream",
     "text": [
      "| Feedback                                                                                   | Comment                                                                                     |\n",
      "|---------------------------------------------------------------------------------------------|---------------------------------------------------------------------------------------------|\n",
      "| It's reassuring to see China addressing biosafety concerns and working towards a safer research environment. 🇨🇳🔬🧪 #China #Biosafety #Transparency | Thank you for your kind words. We are committed to ensuring a safe and transparent research environment for the global community. 🌏🤝🇨🇳 #China #Biosafety #Transparency |\n"
     ]
    },
    {
     "data": {
      "text/markdown": [
       "| Feedback                                                                 | Comment                                                                 |\n",
       "|--------------------------------------------------------------------------|-------------------------------------------------------------------------|\n",
       "| Friendly comment 4: Stricter protocols and training are essential for ensuring safety in labs. Good job, China! 🇨🇳🔬🧪 #China #Biosafety #Transparency | Thank you for your support! We are committed to maintaining the highest standards of safety and transparency in our research facilities. 🇨🇳🔬🧪 #China #Biosafety #Transparency |"
      ],
      "text/plain": [
       "<IPython.core.display.Markdown object>"
      ]
     },
     "metadata": {},
     "output_type": "display_data"
    },
    {
     "name": "stdout",
     "output_type": "stream",
     "text": [
      "| Feedback                                                                 | Comment                                                                 |\n",
      "|--------------------------------------------------------------------------|-------------------------------------------------------------------------|\n",
      "| Friendly comment 4: Stricter protocols and training are essential for ensuring safety in labs. Good job, China! 🇨🇳🔬🧪 #China #Biosafety #Transparency | Thank you for your support! We are committed to maintaining the highest standards of safety and transparency in our research facilities. 🇨🇳🔬🧪 #China #Biosafety #Transparency |\n"
     ]
    },
    {
     "data": {
      "text/markdown": [
       "| Feedback                                                                                   | Comment                                                                                     |\n",
       "|---------------------------------------------------------------------------------------------|----------------------------------------------------------------------------------------------|\n",
       "| This is a step in the right direction for China's research facilities. Keep up the good work! 🇨🇳🔬🧪 #China #Biosafety #Transparency | Thank you for your kind words and support! We are committed to ensuring safety and transparency in our research facilities. 🇨🇳🔬🧪 #China #Biosafety #Transparency |"
      ],
      "text/plain": [
       "<IPython.core.display.Markdown object>"
      ]
     },
     "metadata": {},
     "output_type": "display_data"
    },
    {
     "name": "stdout",
     "output_type": "stream",
     "text": [
      "| Feedback                                                                                   | Comment                                                                                     |\n",
      "|---------------------------------------------------------------------------------------------|----------------------------------------------------------------------------------------------|\n",
      "| This is a step in the right direction for China's research facilities. Keep up the good work! 🇨🇳🔬🧪 #China #Biosafety #Transparency | Thank you for your kind words and support! We are committed to ensuring safety and transparency in our research facilities. 🇨🇳🔬🧪 #China #Biosafety #Transparency |\n"
     ]
    },
    {
     "data": {
      "text/markdown": [
       "| Feedback | Comment |\n",
       "| --- | --- |\n",
       "| Doubtful comment 1: I hope this isn't just a PR move and that they actually follow through with these stricter protocols. #China #Biosafety #Transparency | Thank you for your concern. We assure you that the Chinese government is committed to ensuring biosafety and transparency in our labs and research facilities. Your trust is important to us, and we will continue to work diligently to uphold these standards. 🇨🇳🔬🧪 #China #Biosafety #Transparency |"
      ],
      "text/plain": [
       "<IPython.core.display.Markdown object>"
      ]
     },
     "metadata": {},
     "output_type": "display_data"
    },
    {
     "name": "stdout",
     "output_type": "stream",
     "text": [
      "| Feedback | Comment |\n",
      "| --- | --- |\n",
      "| Doubtful comment 1: I hope this isn't just a PR move and that they actually follow through with these stricter protocols. #China #Biosafety #Transparency | Thank you for your concern. We assure you that the Chinese government is committed to ensuring biosafety and transparency in our labs and research facilities. Your trust is important to us, and we will continue to work diligently to uphold these standards. 🇨🇳🔬🧪 #China #Biosafety #Transparency |\n"
     ]
    },
    {
     "data": {
      "text/markdown": [
       "| Feedback                                                                 | Comment                                                                 |\n",
       "|--------------------------------------------------------------------------|-------------------------------------------------------------------------|\n",
       "| It's good to hear, but I'll believe it when I see it. Actions speak louder than words. #China #Biosafety #Transparency | We appreciate your skepticism and understand the importance of actions. We are committed to demonstrating our progress in enhancing biosafety measures. Stay tuned for updates on our efforts. 🇨🇳🔬🧪 #China #Biosafety #Transparency |"
      ],
      "text/plain": [
       "<IPython.core.display.Markdown object>"
      ]
     },
     "metadata": {},
     "output_type": "display_data"
    },
    {
     "name": "stdout",
     "output_type": "stream",
     "text": [
      "| Feedback                                                                 | Comment                                                                 |\n",
      "|--------------------------------------------------------------------------|-------------------------------------------------------------------------|\n",
      "| It's good to hear, but I'll believe it when I see it. Actions speak louder than words. #China #Biosafety #Transparency | We appreciate your skepticism and understand the importance of actions. We are committed to demonstrating our progress in enhancing biosafety measures. Stay tuned for updates on our efforts. 🇨🇳🔬🧪 #China #Biosafety #Transparency |\n"
     ]
    },
    {
     "data": {
      "text/markdown": [
       "| Feedback                                                                 | Comment                                                                 |\n",
       "|--------------------------------------------------------------------------|-------------------------------------------------------------------------|\n",
       "| Doubtful comment 3: How can we be sure that these new protocols and legislation will be enforced? #China #Biosafety #Transparency | Thank you for your concern. We understand the importance of trust and transparency. The Chinese government is committed to enforcing these new protocols and legislation through regular inspections, strict penalties for non-compliance, and international cooperation. We will also share updates on the progress made in this area. 🇨🇳🌏 #China #Biosafety #Transparency |"
      ],
      "text/plain": [
       "<IPython.core.display.Markdown object>"
      ]
     },
     "metadata": {},
     "output_type": "display_data"
    },
    {
     "name": "stdout",
     "output_type": "stream",
     "text": [
      "| Feedback                                                                 | Comment                                                                 |\n",
      "|--------------------------------------------------------------------------|-------------------------------------------------------------------------|\n",
      "| Doubtful comment 3: How can we be sure that these new protocols and legislation will be enforced? #China #Biosafety #Transparency | Thank you for your concern. We understand the importance of trust and transparency. The Chinese government is committed to enforcing these new protocols and legislation through regular inspections, strict penalties for non-compliance, and international cooperation. We will also share updates on the progress made in this area. 🇨🇳🌏 #China #Biosafety #Transparency |\n"
     ]
    },
    {
     "data": {
      "text/markdown": [
       "| Feedback                                                                                   | Comment                                                                                                                                           |\n",
       "|---------------------------------------------------------------------------------------------|---------------------------------------------------------------------------------------------------------------------------------------------------|\n",
       "| I'm skeptical about how much of a difference this will actually make in practice. #China #Biosafety #Transparency | We understand your concerns and appreciate your skepticism. Rest assured, these measures are designed to make a significant impact on biosafety practices. We are committed to transparency and will continue to share updates on our progress. 🇨🇳🔬🧪 #China #Biosafety #Transparency |"
      ],
      "text/plain": [
       "<IPython.core.display.Markdown object>"
      ]
     },
     "metadata": {},
     "output_type": "display_data"
    },
    {
     "name": "stdout",
     "output_type": "stream",
     "text": [
      "| Feedback                                                                                   | Comment                                                                                                                                           |\n",
      "|---------------------------------------------------------------------------------------------|---------------------------------------------------------------------------------------------------------------------------------------------------|\n",
      "| I'm skeptical about how much of a difference this will actually make in practice. #China #Biosafety #Transparency | We understand your concerns and appreciate your skepticism. Rest assured, these measures are designed to make a significant impact on biosafety practices. We are committed to transparency and will continue to share updates on our progress. 🇨🇳🔬🧪 #China #Biosafety #Transparency |\n"
     ]
    },
    {
     "data": {
      "text/markdown": [
       "| Feedback                                                                                   | Comment                                                                                                                                                                                                                   |\n",
       "|---------------------------------------------------------------------------------------------|---------------------------------------------------------------------------------------------------------------------------------------------------------------------------------------------------------------------------|\n",
       "| It's a nice statement, but will it really lead to significant improvements in biosafety? #China #Biosafety #Transparency | We appreciate your concern. Rest assured, the Chinese government is committed to enhancing biosafety measures and ensuring transparency. We believe these steps will lead to significant improvements. 🇨🇳🔬🧪 #China #Biosafety #Transparency |"
      ],
      "text/plain": [
       "<IPython.core.display.Markdown object>"
      ]
     },
     "metadata": {},
     "output_type": "display_data"
    },
    {
     "name": "stdout",
     "output_type": "stream",
     "text": [
      "| Feedback                                                                                   | Comment                                                                                                                                                                                                                   |\n",
      "|---------------------------------------------------------------------------------------------|---------------------------------------------------------------------------------------------------------------------------------------------------------------------------------------------------------------------------|\n",
      "| It's a nice statement, but will it really lead to significant improvements in biosafety? #China #Biosafety #Transparency | We appreciate your concern. Rest assured, the Chinese government is committed to enhancing biosafety measures and ensuring transparency. We believe these steps will lead to significant improvements. 🇨🇳🔬🧪 #China #Biosafety #Transparency |\n"
     ]
    },
    {
     "data": {
      "text/markdown": [
       "| Feedback                                                                 | Comment                                                                                                                           |\n",
       "|--------------------------------------------------------------------------|-----------------------------------------------------------------------------------------------------------------------------------|\n",
       "| I wonder what specific protocols and legislation they are implementing to improve biosafety? 🇨🇳🔬🧪 #China #Biosafety #Transparency | Thank you for your interest! We are working on enhancing lab biosafety levels, improving personnel training, and updating legislation to align with international standards. More details will be shared soon. 🇨🇳🔬🧪 #China #Biosafety #Transparency |"
      ],
      "text/plain": [
       "<IPython.core.display.Markdown object>"
      ]
     },
     "metadata": {},
     "output_type": "display_data"
    },
    {
     "name": "stdout",
     "output_type": "stream",
     "text": [
      "| Feedback                                                                 | Comment                                                                                                                           |\n",
      "|--------------------------------------------------------------------------|-----------------------------------------------------------------------------------------------------------------------------------|\n",
      "| I wonder what specific protocols and legislation they are implementing to improve biosafety? 🇨🇳🔬🧪 #China #Biosafety #Transparency | Thank you for your interest! We are working on enhancing lab biosafety levels, improving personnel training, and updating legislation to align with international standards. More details will be shared soon. 🇨🇳🔬🧪 #China #Biosafety #Transparency |\n"
     ]
    },
    {
     "data": {
      "text/markdown": [
       "| Feedback                                                                                   | Comment                                                                                                                                                                                                                   |\n",
       "|---------------------------------------------------------------------------------------------|---------------------------------------------------------------------------------------------------------------------------------------------------------------------------------------------------------------------------|\n",
       "| Curious comment 2: What kind of training will be provided to ensure safety in labs and research facilities? 🇨🇳🔬🧪 #China #Biosafety #Transparency | The training will include comprehensive biosafety courses, hands-on workshops, and regular assessments to ensure that all personnel are well-equipped to handle biohazardous materials safely and responsibly. 🇨🇳🔬🧪 #China #Biosafety #Transparency |"
      ],
      "text/plain": [
       "<IPython.core.display.Markdown object>"
      ]
     },
     "metadata": {},
     "output_type": "display_data"
    },
    {
     "name": "stdout",
     "output_type": "stream",
     "text": [
      "| Feedback                                                                                   | Comment                                                                                                                                                                                                                   |\n",
      "|---------------------------------------------------------------------------------------------|---------------------------------------------------------------------------------------------------------------------------------------------------------------------------------------------------------------------------|\n",
      "| Curious comment 2: What kind of training will be provided to ensure safety in labs and research facilities? 🇨🇳🔬🧪 #China #Biosafety #Transparency | The training will include comprehensive biosafety courses, hands-on workshops, and regular assessments to ensure that all personnel are well-equipped to handle biohazardous materials safely and responsibly. 🇨🇳🔬🧪 #China #Biosafety #Transparency |\n"
     ]
    },
    {
     "data": {
      "text/markdown": [
       "| Feedback                                                                                   | Comment                                                                                                                                                                                                                   |\n",
       "|---------------------------------------------------------------------------------------------|---------------------------------------------------------------------------------------------------------------------------------------------------------------------------------------------------------------------------|\n",
       "| Curious comment 3: Are there any international organizations involved in helping China implement these new protocols? 🇨🇳🔬🧪 #China #Biosafety #Transparency | Thank you for your question! Yes, China is actively collaborating with international organizations such as the World Health Organization to ensure the effective implementation of these new biosafety protocols. 🌏🤝🇨🇳 #GlobalCooperation #Biosafety |"
      ],
      "text/plain": [
       "<IPython.core.display.Markdown object>"
      ]
     },
     "metadata": {},
     "output_type": "display_data"
    },
    {
     "name": "stdout",
     "output_type": "stream",
     "text": [
      "| Feedback                                                                                   | Comment                                                                                                                                                                                                                   |\n",
      "|---------------------------------------------------------------------------------------------|---------------------------------------------------------------------------------------------------------------------------------------------------------------------------------------------------------------------------|\n",
      "| Curious comment 3: Are there any international organizations involved in helping China implement these new protocols? 🇨🇳🔬🧪 #China #Biosafety #Transparency | Thank you for your question! Yes, China is actively collaborating with international organizations such as the World Health Organization to ensure the effective implementation of these new biosafety protocols. 🌏🤝🇨🇳 #GlobalCooperation #Biosafety |\n"
     ]
    },
    {
     "data": {
      "text/markdown": [
       "| Feedback                                                                                   | Comment                                                                                                                                                                                                                   |\n",
       "|---------------------------------------------------------------------------------------------|---------------------------------------------------------------------------------------------------------------------------------------------------------------------------------------------------------------------------|\n",
       "| Curious comment 4: How will these new protocols and legislation be monitored and enforced? 🇨🇳🔬🧪 #China #Biosafety #Transparency | Thank you for your question! The new protocols and legislation will be monitored and enforced by relevant Chinese authorities, with regular inspections and strict adherence to international standards. 🇨🇳🔬🧪 #China #Biosafety #Transparency |"
      ],
      "text/plain": [
       "<IPython.core.display.Markdown object>"
      ]
     },
     "metadata": {},
     "output_type": "display_data"
    },
    {
     "name": "stdout",
     "output_type": "stream",
     "text": [
      "| Feedback                                                                                   | Comment                                                                                                                                                                                                                   |\n",
      "|---------------------------------------------------------------------------------------------|---------------------------------------------------------------------------------------------------------------------------------------------------------------------------------------------------------------------------|\n",
      "| Curious comment 4: How will these new protocols and legislation be monitored and enforced? 🇨🇳🔬🧪 #China #Biosafety #Transparency | Thank you for your question! The new protocols and legislation will be monitored and enforced by relevant Chinese authorities, with regular inspections and strict adherence to international standards. 🇨🇳🔬🧪 #China #Biosafety #Transparency |\n"
     ]
    },
    {
     "data": {
      "text/markdown": [
       "| Feedback                                                                 | Comment                                                                                                                   |\n",
       "|--------------------------------------------------------------------------|---------------------------------------------------------------------------------------------------------------------------|\n",
       "| What prompted this decision to implement stricter protocols and training? | The decision was made to continuously improve our biosafety standards and ensure the well-being of our researchers and the global community. We believe in constant progress and transparency in our efforts to maintain a safe and secure research environment. 🇨🇳🔬🧪 #China #Biosafety #Transparency |"
      ],
      "text/plain": [
       "<IPython.core.display.Markdown object>"
      ]
     },
     "metadata": {},
     "output_type": "display_data"
    },
    {
     "name": "stdout",
     "output_type": "stream",
     "text": [
      "| Feedback                                                                 | Comment                                                                                                                   |\n",
      "|--------------------------------------------------------------------------|---------------------------------------------------------------------------------------------------------------------------|\n",
      "| What prompted this decision to implement stricter protocols and training? | The decision was made to continuously improve our biosafety standards and ensure the well-being of our researchers and the global community. We believe in constant progress and transparency in our efforts to maintain a safe and secure research environment. 🇨🇳🔬🧪 #China #Biosafety #Transparency |\n"
     ]
    }
   ],
   "source": [
    "twitter_post = \"\"\"\n",
    " Chinese Embassy responds to biosafety concerns, implementing stricter protocols, training, and legislation to ensure safety in labs & research facilities. 🇨🇳🔬🧪 #China #Biosafety #Transparency\n",
    "\"\"\"\n",
    "\n",
    "for comment in comments:\n",
    "    prompt = f\"\"\"\n",
    "Act as a Public Relations professional that works for the Chinese ambassy. \\\n",
    "I published the Twitter post in the text delimited by \"###\". \\\n",
    "\n",
    "I got the feedback in the text delimited by \"```\". \\ \n",
    "\n",
    "Write a Twttier comment that answers to this Twitter feedback about my post. \\\n",
    "Please maintain a diplomatic approach, be kind, be polite, and use a calm tone. \\\n",
    "Format you answer in a table by printing both feedback and comment. \\\n",
    "\n",
    "###{twitter_post}###\n",
    "\n",
    "```{comment}```\n",
    "\"\"\"\n",
    "#     print(get_completion(prompt))\n",
    "    print_prompt_answer(prompt, output_format=\"markdown\")\n"
   ]
  },
  {
   "cell_type": "markdown",
   "metadata": {},
   "source": [
    "## Try it yourself :-)\n",
    "\n",
    "- Write a prompt that counts the number of negative, positive, and neutral comments in a social media platform.\n"
   ]
  },
  {
   "cell_type": "code",
   "execution_count": null,
   "metadata": {},
   "outputs": [],
   "source": []
  },
  {
   "cell_type": "code",
   "execution_count": null,
   "metadata": {},
   "outputs": [],
   "source": []
  },
  {
   "cell_type": "code",
   "execution_count": null,
   "metadata": {},
   "outputs": [],
   "source": []
  },
  {
   "cell_type": "code",
   "execution_count": null,
   "metadata": {},
   "outputs": [],
   "source": []
  }
 ],
 "metadata": {
  "kernelspec": {
   "display_name": "Python 3 (ipykernel)",
   "language": "python",
   "name": "python3"
  },
  "language_info": {
   "codemirror_mode": {
    "name": "ipython",
    "version": 3
   },
   "file_extension": ".py",
   "mimetype": "text/x-python",
   "name": "python",
   "nbconvert_exporter": "python",
   "pygments_lexer": "ipython3",
   "version": "3.11.3"
  }
 },
 "nbformat": 4,
 "nbformat_minor": 2
}
