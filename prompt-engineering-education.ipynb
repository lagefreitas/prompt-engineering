{
 "cells": [
  {
   "cell_type": "markdown",
   "id": "e19c6f14",
   "metadata": {},
   "source": [
    "# <center>Prompt Engineering with ChatGPT 4</center>\n",
    "# <center>The Education Dilema: To Chat or Not To Chat?</center>\n",
    "\n",
    "<div style=\"text-align: right\">Versão 2023-05-08</div>\n",
    "\n",
    "## **André Lage Freitas** \n",
    "- **Associate Professor** at Universidade Federal de Alagoas (UFAL)\n",
    "- **PhD in Computer Science** from the [_Institut National des Sciences Appliquées de Rennes_ (France)](https://www.insa-rennes.fr/)\n",
    "- [This Tutorial at Youtube](https://youtu.be/psfVcL14LSc)\n",
    "  - [Follow on LinkedIn](www.linkedin.com/comm/mynetwork/discovery-see-all?usecase=PEOPLE_FOLLOWS&followMember=lage), [Follow on YouTube](https://www.youtube.com/channel/UCLPXTzvZ8IFrU6hBTeo1C-Q)\n",
    "\n",
    "\n",
    "## Education Vs. Generative AI models (like ChatGPT)\n",
    "\n",
    "- [Don’t Ban ChatGPT in Schools. Teach With It.\n",
    "(by Kevin Roose)](https://www.nytimes.com/2023/01/12/technology/chatgpt-schools-teachers.html)\n",
    "- [ChatGPT is going to change education, not destroy it (by Will Douglas Heaven)](https://www.technologyreview.com/2023/04/06/1071059/chatgpt-change-not-destroy-education-openai/)\n",
    "- [How to use ChatGPT as a learning tool (by Ashley Abramson)](https://www.apa.org/monitor/2023/06/chatgpt-learning-tool)\n",
    "  - \"This article discusses how psychology instructors can use ChatGPT as a learning tool in their courses. The chatbot software has the potential to help students learn in new ways and prepare them for their careers, but it also raises concerns about academic dishonesty. To use ChatGPT effectively, instructors should:\n",
    "  - Consider their course goals and determine whether ChatGPT can support them.\n",
    "  - Encourage critical thinking by using ChatGPT as a tool for generating discussions and fostering students' abilities to analyze and critique information.\n",
    "  - Be aware of the potential for cheating and academic dishonesty, and implement practices to reduce cheating.\n",
    "  - Clearly communicate expectations about the use of ChatGPT in the classroom and ensure equitable access for all students.\n",
    "  - Try out ChatGPT themselves to understand its capabilities and limitations.\n",
    "  - By adopting a thoughtful approach, ChatGPT can be a valuable tool in helping students develop critical thinking skills and preparing them for their future careers\".\n",
    "\n",
    "\n",
    "## Ethical Disclaimer\n",
    "\n",
    "This tutorial on \"Prompt Engineering with ChatGPT 4: Education - To Chat or Not To Chat?\" aims to provide guidance on effective and responsible usage of ChatGPT 4 for educational purposes. We acknowledge the potential for misuse, including academic dishonesty and plagiarism, which is why we emphasize the importance of adhering to ethical principles and academic integrity when using this powerful tool. As educators and learners, it is our responsibility to utilize ChatGPT 4 in a manner that promotes critical thinking, creativity, and effective communication, while respecting the intellectual property rights of others. We encourage all users to consider the potential consequences of their actions and to always prioritize ethical behavior when engaging with ChatGPT 4 in any educational setting."
   ]
  },
  {
   "cell_type": "code",
   "execution_count": 2,
   "id": "dd12d0c0",
   "metadata": {},
   "outputs": [],
   "source": [
    "# openai API setup\n",
    "import os\n",
    "import openai\n",
    "openai.api_key = os.getenv(\"OPENAI_API_KEY\")\n",
    "\n",
    "# função para simplicar a chamada da API\n",
    "def get_completion(prompt, model=\"gpt-4\", temperature=0): \n",
    "# def get_completion(prompt, model=\"gpt-3.5-turbo\"): \n",
    "    messages = [{\"role\": \"user\", \"content\": prompt}]\n",
    "    response = openai.ChatCompletion.create(\n",
    "        model=model,\n",
    "        messages=messages,\n",
    "        temperature=temperature, \n",
    "#         max_tokens=7500,\n",
    "    )\n",
    "    return response.choices[0].message[\"content\"]\n",
    "\n",
    "# to print in Markdown style\n",
    "from IPython.display import display, Markdown\n",
    "\n",
    "def print_prompt_answer(prompt, output_format=\"markdown\", display_prompt=False, temperature=0):\n",
    "    if display_prompt:\n",
    "        display(Markdown(\"### Prompt\"))\n",
    "        print(prompt)\n",
    "#         display(Markdown(prompt)) \n",
    "\n",
    "    response = get_completion(prompt, temperature=temperature)\n",
    "    \n",
    "    if output_format == \"markdown\":\n",
    "        display(Markdown(response))\n",
    "    else:    \n",
    "        print(response)\n",
    "    return response\n",
    "    "
   ]
  },
  {
   "cell_type": "markdown",
   "id": "d0721cf2",
   "metadata": {},
   "source": [
    "# Instruções fundamentais\n",
    "\n",
    "1. Introduza o contexto\n",
    "1. Seja precisos, específicos e evitem ambiguidade.\n",
    "   - Lembre-se do exemplo do Touro (bull) vs. Toro (FIAT car)\n",
    "1. Interaja várias vezes! Melhore seu prompt como uma espiral\n",
    "   1. Leia o resultado e analise a resposta\n",
    "   1. Incremente/melhore  o prompt\n",
    "   1. Execute o prompt\n",
    "1. Dê exemplo(s) se necessário\n",
    "1. Coloque textos de entrada delimitados por \"```\" \n"
   ]
  },
  {
   "cell_type": "code",
   "execution_count": 9,
   "id": "3535fc3c",
   "metadata": {},
   "outputs": [
    {
     "data": {
      "text/markdown": [
       "### Prompt"
      ],
      "text/plain": [
       "<IPython.core.display.Markdown object>"
      ]
     },
     "metadata": {},
     "output_type": "display_data"
    },
    {
     "name": "stdout",
     "output_type": "stream",
     "text": [
      "\n",
      "What should I assign as work for the class?\n",
      "\n"
     ]
    },
    {
     "data": {
      "text/markdown": [
       "1. Reading assignment: Assign a chapter or article related to the topic you are currently covering in class. Encourage students to take notes and be prepared to discuss the material in the next class.\n",
       "\n",
       "2. Group project: Divide the class into small groups and assign each group a specific topic or problem to research and present to the class. This can help students develop teamwork, research, and presentation skills.\n",
       "\n",
       "3. Essay or reflection paper: Ask students to write an essay or reflection paper on a specific topic or question related to the course material. This can help students develop their writing and critical thinking skills.\n",
       "\n",
       "4. Problem-solving exercises: Assign a set of problems or exercises related to the course material for students to solve individually or in groups. This can help students practice applying their knowledge and skills to real-world situations.\n",
       "\n",
       "5. In-class discussion: Assign a controversial topic or question related to the course material and ask students to prepare for a class debate or discussion. This can help students develop their communication and critical thinking skills.\n",
       "\n",
       "6. Creative project: Ask students to create a visual, audio, or multimedia project related to the course material. This can help students develop their creativity and technical skills.\n",
       "\n",
       "7. Case study analysis: Assign a real-world case study related to the course material and ask students to analyze the situation and propose solutions. This can help students develop their problem-solving and critical thinking skills.\n",
       "\n",
       "8. Online discussion forum: Set up an online discussion forum where students can post questions, share resources, and engage in discussions related to the course material. This can help students develop their communication and collaboration skills.\n",
       "\n",
       "9. Quizzes or tests: Assign quizzes or tests to assess students' understanding of the course material and provide feedback on their progress.\n",
       "\n",
       "10. Peer review: Ask students to review and provide feedback on each other's work, such as essays or projects. This can help students develop their critical thinking and communication skills, as well as learn from each other's perspectives."
      ],
      "text/plain": [
       "<IPython.core.display.Markdown object>"
      ]
     },
     "metadata": {},
     "output_type": "display_data"
    },
    {
     "data": {
      "text/plain": [
       "\"1. Reading assignment: Assign a chapter or article related to the topic you are currently covering in class. Encourage students to take notes and be prepared to discuss the material in the next class.\\n\\n2. Group project: Divide the class into small groups and assign each group a specific topic or problem to research and present to the class. This can help students develop teamwork, research, and presentation skills.\\n\\n3. Essay or reflection paper: Ask students to write an essay or reflection paper on a specific topic or question related to the course material. This can help students develop their writing and critical thinking skills.\\n\\n4. Problem-solving exercises: Assign a set of problems or exercises related to the course material for students to solve individually or in groups. This can help students practice applying their knowledge and skills to real-world situations.\\n\\n5. In-class discussion: Assign a controversial topic or question related to the course material and ask students to prepare for a class debate or discussion. This can help students develop their communication and critical thinking skills.\\n\\n6. Creative project: Ask students to create a visual, audio, or multimedia project related to the course material. This can help students develop their creativity and technical skills.\\n\\n7. Case study analysis: Assign a real-world case study related to the course material and ask students to analyze the situation and propose solutions. This can help students develop their problem-solving and critical thinking skills.\\n\\n8. Online discussion forum: Set up an online discussion forum where students can post questions, share resources, and engage in discussions related to the course material. This can help students develop their communication and collaboration skills.\\n\\n9. Quizzes or tests: Assign quizzes or tests to assess students' understanding of the course material and provide feedback on their progress.\\n\\n10. Peer review: Ask students to review and provide feedback on each other's work, such as essays or projects. This can help students develop their critical thinking and communication skills, as well as learn from each other's perspectives.\""
      ]
     },
     "execution_count": 9,
     "metadata": {},
     "output_type": "execute_result"
    }
   ],
   "source": [
    "prompt = f\"\"\"\n",
    "What should I assign as work for the class?\n",
    "\"\"\"\n",
    "print_prompt_answer(prompt, display_prompt=True) \n"
   ]
  },
  {
   "cell_type": "markdown",
   "id": "bca6287a",
   "metadata": {},
   "source": [
    "### Analyzing the result: Analyze-Improve-Execute\n",
    "\n",
    "- Too generic\n",
    "- Let's introduce a context, specify it better, etc."
   ]
  },
  {
   "cell_type": "code",
   "execution_count": 10,
   "id": "4b9f9824",
   "metadata": {},
   "outputs": [
    {
     "data": {
      "text/markdown": [
       "### Prompt"
      ],
      "text/plain": [
       "<IPython.core.display.Markdown object>"
      ]
     },
     "metadata": {},
     "output_type": "display_data"
    },
    {
     "name": "stdout",
     "output_type": "stream",
     "text": [
      "\n",
      "I am a university professor for the Introduction to Computer Science class in the Library Science program. This class is in the first semester. \n",
      "What should I assign as an evaluative task for the class, considering that: \n",
      "1. The objective is for them to learn how to use ChatGPT.\n",
      "2. Another objective is for them to learn a subject related to the course, or about the library science program.\n",
      "\n",
      "\n"
     ]
    },
    {
     "data": {
      "text/markdown": [
       "For an evaluative task that meets both objectives, you can assign a project where students need to create a Chatbot using ChatGPT to assist users in navigating library resources and services. This project will require students to learn how to use ChatGPT and also gain knowledge about library science concepts.\n",
       "\n",
       "Here's a breakdown of the project:\n",
       "\n",
       "1. Introduction to ChatGPT: Begin by providing students with resources and tutorials on how to use ChatGPT. Allow them to explore and experiment with the platform.\n",
       "\n",
       "2. Research: Ask students to research various library services, resources, and common user queries related to the library science program. They should also explore the specific needs of library users in an academic setting.\n",
       "\n",
       "3. Chatbot Design: Students will design a chatbot using ChatGPT that can answer user queries related to library services, resources, and the library science program. They should create a list of potential questions and answers that the chatbot should be able to handle.\n",
       "\n",
       "4. Implementation: Guide students through the process of implementing their chatbot using ChatGPT. They should fine-tune the chatbot's responses to ensure accuracy and relevance.\n",
       "\n",
       "5. Testing and Evaluation: Students should test their chatbot with peers or other users to gather feedback on its performance. They should analyze the feedback and make necessary improvements to the chatbot.\n",
       "\n",
       "6. Presentation and Reflection: Each student or group will present their chatbot to the class, demonstrating its functionality and discussing the challenges they faced during the project. They should also reflect on what they learned about ChatGPT and library science concepts throughout the project.\n",
       "\n",
       "7. Grading: Evaluate students based on their research, chatbot design, implementation, testing, presentation, and reflection. Consider their understanding of ChatGPT, library science concepts, and their ability to create a functional and useful chatbot for library users."
      ],
      "text/plain": [
       "<IPython.core.display.Markdown object>"
      ]
     },
     "metadata": {},
     "output_type": "display_data"
    },
    {
     "data": {
      "text/plain": [
       "\"For an evaluative task that meets both objectives, you can assign a project where students need to create a Chatbot using ChatGPT to assist users in navigating library resources and services. This project will require students to learn how to use ChatGPT and also gain knowledge about library science concepts.\\n\\nHere's a breakdown of the project:\\n\\n1. Introduction to ChatGPT: Begin by providing students with resources and tutorials on how to use ChatGPT. Allow them to explore and experiment with the platform.\\n\\n2. Research: Ask students to research various library services, resources, and common user queries related to the library science program. They should also explore the specific needs of library users in an academic setting.\\n\\n3. Chatbot Design: Students will design a chatbot using ChatGPT that can answer user queries related to library services, resources, and the library science program. They should create a list of potential questions and answers that the chatbot should be able to handle.\\n\\n4. Implementation: Guide students through the process of implementing their chatbot using ChatGPT. They should fine-tune the chatbot's responses to ensure accuracy and relevance.\\n\\n5. Testing and Evaluation: Students should test their chatbot with peers or other users to gather feedback on its performance. They should analyze the feedback and make necessary improvements to the chatbot.\\n\\n6. Presentation and Reflection: Each student or group will present their chatbot to the class, demonstrating its functionality and discussing the challenges they faced during the project. They should also reflect on what they learned about ChatGPT and library science concepts throughout the project.\\n\\n7. Grading: Evaluate students based on their research, chatbot design, implementation, testing, presentation, and reflection. Consider their understanding of ChatGPT, library science concepts, and their ability to create a functional and useful chatbot for library users.\""
      ]
     },
     "execution_count": 10,
     "metadata": {},
     "output_type": "execute_result"
    }
   ],
   "source": [
    "prompt = f\"\"\"\n",
    "I am a university professor for the Introduction to Computer Science class \\\n",
    "in the Library Science program. This class is in the first semester. \\\n",
    "\n",
    "What should I assign as an evaluative task for the class, considering that: \\\n",
    "\n",
    "1. The objective is for them to learn how to use ChatGPT.\n",
    "2. Another objective is for them to learn a subject related to the course, \\\n",
    "or about the library science program.\n",
    "\n",
    "\"\"\"\n",
    "print_prompt_answer(prompt, display_prompt=True) \n"
   ]
  },
  {
   "cell_type": "markdown",
   "id": "089caca5",
   "metadata": {},
   "source": [
    "### Analyzing the result: Analyze-Improve-Execute\n",
    "\n",
    "- The time needed to complete the assignment was not indicated.\n",
    "- Some points regarding submission and evaluation were not specified.\n",
    "- References to study materials were missing.\n"
   ]
  },
  {
   "cell_type": "code",
   "execution_count": 11,
   "id": "5b9383a1",
   "metadata": {},
   "outputs": [
    {
     "data": {
      "text/markdown": [
       "### Prompt"
      ],
      "text/plain": [
       "<IPython.core.display.Markdown object>"
      ]
     },
     "metadata": {},
     "output_type": "display_data"
    },
    {
     "name": "stdout",
     "output_type": "stream",
     "text": [
      "\n",
      "I am a university professor for the Introduction to Computer Science class in the Library Science program. This class is in the first semester. \n",
      "What should I assign as an evaluative task for the class knowing that: \n",
      "1. The goal is for them to learn how to use ChatGPT. 2. Another objective is for them to learn a topic related to the discipline, or about the library science program. 3. The submission should be a report in the form of educational material that teaches the content chosen by the student. 4. Define evaluation criteria, word limits, and other criteria that you deem relevant for learning.\n",
      "\n"
     ]
    },
    {
     "data": {
      "text/markdown": [
       "Evaluative Task: Creating an Educational Material using ChatGPT\n",
       "\n",
       "Objective:\n",
       "The purpose of this evaluative task is for students to learn how to use ChatGPT effectively and create an educational material on a topic related to the Library Science discipline or the Library Science program. Students will demonstrate their understanding of the chosen topic and their ability to utilize ChatGPT as a tool for research and content creation.\n",
       "\n",
       "Task Description:\n",
       "1. Choose a topic related to the Library Science discipline or the Library Science program.\n",
       "2. Use ChatGPT to research and gather information about the chosen topic.\n",
       "3. Create an educational material (e.g., tutorial, guide, infographic, or presentation) that teaches the content chosen by the student.\n",
       "4. Write a brief reflection (300-500 words) on your experience using ChatGPT, discussing its strengths, weaknesses, and potential applications in the Library Science field.\n",
       "\n",
       "Evaluation Criteria:\n",
       "1. Relevance and clarity of the chosen topic (10%)\n",
       "2. Depth and accuracy of the information presented in the educational material (30%)\n",
       "3. Creativity and effectiveness of the educational material in teaching the chosen content (30%)\n",
       "4. Quality of the reflection on the use of ChatGPT, including insights on its strengths, weaknesses, and potential applications (20%)\n",
       "5. Proper citation of sources and adherence to academic integrity guidelines (10%)\n",
       "\n",
       "Submission Requirements:\n",
       "1. The educational material should be submitted in a format appropriate for the chosen medium (e.g., PDF, PowerPoint, or a link to an online resource).\n",
       "2. The reflection should be submitted as a separate document in a Word or PDF format.\n",
       "3. Word limit for the reflection: 300-500 words.\n",
       "4. All sources, including ChatGPT, must be properly cited using the appropriate citation style (e.g., APA, MLA, or Chicago).\n",
       "5. The submission should include the student's name, course title, and date of submission.\n",
       "\n",
       "Deadline:\n",
       "The assignment should be submitted by [insert deadline date] via the course's online submission platform or as instructed by the professor. Late submissions may be subject to a penalty as per the course policy."
      ],
      "text/plain": [
       "<IPython.core.display.Markdown object>"
      ]
     },
     "metadata": {},
     "output_type": "display_data"
    },
    {
     "data": {
      "text/plain": [
       "\"Evaluative Task: Creating an Educational Material using ChatGPT\\n\\nObjective:\\nThe purpose of this evaluative task is for students to learn how to use ChatGPT effectively and create an educational material on a topic related to the Library Science discipline or the Library Science program. Students will demonstrate their understanding of the chosen topic and their ability to utilize ChatGPT as a tool for research and content creation.\\n\\nTask Description:\\n1. Choose a topic related to the Library Science discipline or the Library Science program.\\n2. Use ChatGPT to research and gather information about the chosen topic.\\n3. Create an educational material (e.g., tutorial, guide, infographic, or presentation) that teaches the content chosen by the student.\\n4. Write a brief reflection (300-500 words) on your experience using ChatGPT, discussing its strengths, weaknesses, and potential applications in the Library Science field.\\n\\nEvaluation Criteria:\\n1. Relevance and clarity of the chosen topic (10%)\\n2. Depth and accuracy of the information presented in the educational material (30%)\\n3. Creativity and effectiveness of the educational material in teaching the chosen content (30%)\\n4. Quality of the reflection on the use of ChatGPT, including insights on its strengths, weaknesses, and potential applications (20%)\\n5. Proper citation of sources and adherence to academic integrity guidelines (10%)\\n\\nSubmission Requirements:\\n1. The educational material should be submitted in a format appropriate for the chosen medium (e.g., PDF, PowerPoint, or a link to an online resource).\\n2. The reflection should be submitted as a separate document in a Word or PDF format.\\n3. Word limit for the reflection: 300-500 words.\\n4. All sources, including ChatGPT, must be properly cited using the appropriate citation style (e.g., APA, MLA, or Chicago).\\n5. The submission should include the student's name, course title, and date of submission.\\n\\nDeadline:\\nThe assignment should be submitted by [insert deadline date] via the course's online submission platform or as instructed by the professor. Late submissions may be subject to a penalty as per the course policy.\""
      ]
     },
     "execution_count": 11,
     "metadata": {},
     "output_type": "execute_result"
    }
   ],
   "source": [
    "prompt = f\"\"\"\n",
    "I am a university professor for the Introduction to Computer Science class \\\n",
    "in the Library Science program. This class is in the first semester. \\\n",
    "\n",
    "What should I assign as an evaluative task for the class knowing that: \\\n",
    "\n",
    "1. The goal is for them to learn how to use ChatGPT. \\\n",
    "2. Another objective is for them to learn a topic related to the discipline, \\\n",
    "or about the library science program. \\\n",
    "3. The submission should be a report in the form of educational material that teaches \\\n",
    "the content chosen by the student. \\\n",
    "4. Define evaluation criteria, word limits, and other criteria that you deem relevant for learning.\n",
    "\"\"\"\n",
    "print_prompt_answer(prompt, display_prompt=True) \n"
   ]
  },
  {
   "cell_type": "markdown",
   "id": "c9a0ae3e",
   "metadata": {},
   "source": [
    "### Analyzing the result: Analyze-Improve-Execute\n",
    "\n",
    "- Missing references for study materials\n",
    "- The deadline must be in days\n",
    "- ~~Failed to distribute the weights of each criterion~~ (not in the English version)"
   ]
  },
  {
   "cell_type": "code",
   "execution_count": 12,
   "id": "bdece4a3",
   "metadata": {},
   "outputs": [
    {
     "data": {
      "text/markdown": [
       "### Prompt"
      ],
      "text/plain": [
       "<IPython.core.display.Markdown object>"
      ]
     },
     "metadata": {},
     "output_type": "display_data"
    },
    {
     "name": "stdout",
     "output_type": "stream",
     "text": [
      "\n",
      "I am a university professor for the Introduction to Computer Science class in the Library Science program. This class is in the first semester. \n",
      "What should I assign as an evaluative task for the class knowing that: \n",
      "1. The goal is for them to learn how to use ChatGPT. 2. Another objective is for them to learn a topic related to the discipline, or about the library science program. 3. The submission should be a report in the form of educational material that teaches the content chosen by the student. 4. Define evaluation criteria, word limits, and other criteria that you deem relevant for learning. 5. Include study references. 6. Specify the deadline in days. 7. Indicate that the assignment will be done in pairs. 8. Provide the word limit. 9. Specify any other relevant criteria. \n"
     ]
    },
    {
     "data": {
      "text/markdown": [
       "Assignment: Creating Educational Material using ChatGPT\n",
       "\n",
       "Objective: In this assignment, you will work in pairs to create educational material on a topic related to library science or the library science program using ChatGPT. The goal is to learn how to use ChatGPT effectively and to deepen your understanding of the chosen topic.\n",
       "\n",
       "Instructions:\n",
       "\n",
       "1. Form pairs and choose a topic related to library science or the library science program.\n",
       "2. Research the chosen topic using reliable sources and gather relevant information.\n",
       "3. Use ChatGPT to help you create educational material on your chosen topic. This can include explanations, examples, and illustrations.\n",
       "4. The educational material should be in the form of a report, which can be used to teach the content to others.\n",
       "5. Include a bibliography of the sources you used for your research.\n",
       "\n",
       "Evaluation Criteria:\n",
       "\n",
       "Your submission will be evaluated based on the following criteria:\n",
       "\n",
       "1. Relevance and depth of the chosen topic.\n",
       "2. Clarity and accuracy of the information presented.\n",
       "3. Effectiveness of ChatGPT usage in creating the educational material.\n",
       "4. Organization and presentation of the content.\n",
       "5. Quality of the bibliography and adherence to citation standards.\n",
       "\n",
       "Word Limit: The report should be between 1,500 and 2,000 words.\n",
       "\n",
       "Deadline: The assignment is due in 14 days from the date of this announcement.\n",
       "\n",
       "Additional Criteria:\n",
       "\n",
       "1. The assignment must be completed in pairs. Each pair should submit one report.\n",
       "2. Use APA citation style for your bibliography.\n",
       "3. Include a cover page with your names, the chosen topic, and the date of submission.\n",
       "\n",
       "Study References:\n",
       "\n",
       "1. ChatGPT: https://beta.openai.com/\n",
       "2. American Library Association: http://www.ala.org/\n",
       "3. Library of Congress: https://www.loc.gov/\n",
       "4. World Digital Library: https://www.wdl.org/en/\n",
       "5. Information Today: http://www.infotoday.com/\n",
       "\n",
       "Note: Make sure to use additional sources specific to your chosen topic."
      ],
      "text/plain": [
       "<IPython.core.display.Markdown object>"
      ]
     },
     "metadata": {},
     "output_type": "display_data"
    },
    {
     "data": {
      "text/plain": [
       "'Assignment: Creating Educational Material using ChatGPT\\n\\nObjective: In this assignment, you will work in pairs to create educational material on a topic related to library science or the library science program using ChatGPT. The goal is to learn how to use ChatGPT effectively and to deepen your understanding of the chosen topic.\\n\\nInstructions:\\n\\n1. Form pairs and choose a topic related to library science or the library science program.\\n2. Research the chosen topic using reliable sources and gather relevant information.\\n3. Use ChatGPT to help you create educational material on your chosen topic. This can include explanations, examples, and illustrations.\\n4. The educational material should be in the form of a report, which can be used to teach the content to others.\\n5. Include a bibliography of the sources you used for your research.\\n\\nEvaluation Criteria:\\n\\nYour submission will be evaluated based on the following criteria:\\n\\n1. Relevance and depth of the chosen topic.\\n2. Clarity and accuracy of the information presented.\\n3. Effectiveness of ChatGPT usage in creating the educational material.\\n4. Organization and presentation of the content.\\n5. Quality of the bibliography and adherence to citation standards.\\n\\nWord Limit: The report should be between 1,500 and 2,000 words.\\n\\nDeadline: The assignment is due in 14 days from the date of this announcement.\\n\\nAdditional Criteria:\\n\\n1. The assignment must be completed in pairs. Each pair should submit one report.\\n2. Use APA citation style for your bibliography.\\n3. Include a cover page with your names, the chosen topic, and the date of submission.\\n\\nStudy References:\\n\\n1. ChatGPT: https://beta.openai.com/\\n2. American Library Association: http://www.ala.org/\\n3. Library of Congress: https://www.loc.gov/\\n4. World Digital Library: https://www.wdl.org/en/\\n5. Information Today: http://www.infotoday.com/\\n\\nNote: Make sure to use additional sources specific to your chosen topic.'"
      ]
     },
     "execution_count": 12,
     "metadata": {},
     "output_type": "execute_result"
    }
   ],
   "source": [
    "prompt = f\"\"\"\n",
    "I am a university professor for the Introduction to Computer Science class \\\n",
    "in the Library Science program. This class is in the first semester. \\\n",
    "\n",
    "What should I assign as an evaluative task for the class knowing that: \\\n",
    "\n",
    "1. The goal is for them to learn how to use ChatGPT. \\\n",
    "2. Another objective is for them to learn a topic related to the discipline, \\\n",
    "or about the library science program. \\\n",
    "3. The submission should be a report in the form of educational material that teaches \\\n",
    "the content chosen by the student. \\\n",
    "4. Define evaluation criteria, word limits, and other criteria that you deem relevant for learning. \\\n",
    "5. Include study references. \\\n",
    "6. Specify the deadline in days. \\\n",
    "7. Indicate that the assignment will be done in pairs. \\\n",
    "8. Provide the word limit. \\\n",
    "9. Specify any other relevant criteria. \\\n",
    "\"\"\"\n",
    "print_prompt_answer(prompt, display_prompt=True) \n"
   ]
  },
  {
   "cell_type": "markdown",
   "id": "66b232e2",
   "metadata": {},
   "source": [
    "### Analyzing the result: Analyze-Improve-Execute¶\n",
    "\n",
    "- Much better!\n",
    "\n",
    "## Choosing a subject"
   ]
  },
  {
   "cell_type": "code",
   "execution_count": 13,
   "id": "3ba13f07",
   "metadata": {
    "scrolled": false
   },
   "outputs": [
    {
     "data": {
      "text/markdown": [
       "### Prompt"
      ],
      "text/plain": [
       "<IPython.core.display.Markdown object>"
      ]
     },
     "metadata": {},
     "output_type": "display_data"
    },
    {
     "name": "stdout",
     "output_type": "stream",
     "text": [
      "\n",
      "I am a university student in the Introduction to Computer Science class for the first semester of the Library Science program. \n",
      "My professor assigned a project that is delimited between \"```\". \n",
      "Suggest a topic for my project. \n",
      "```\n",
      "Assignment: Creating Educational Material using ChatGPT\n",
      "\n",
      "Objective: In this assignment, you will work in pairs to create educational material on a topic related to library science or the library science program using ChatGPT. The goal is to learn how to use ChatGPT effectively and to deepen your understanding of the chosen topic.\n",
      "\n",
      "Instructions:\n",
      "\n",
      "1. Form pairs and choose a topic related to library science or the library science program.\n",
      "2. Research the chosen topic using reliable sources and gather relevant information.\n",
      "3. Use ChatGPT to help you create educational material on your chosen topic. This can include explanations, examples, and illustrations.\n",
      "4. The educational material should be in the form of a report, which can be used to teach the content to others.\n",
      "5. Include a bibliography of the sources you used for your research.\n",
      "\n",
      "Evaluation Criteria:\n",
      "\n",
      "Your submission will be evaluated based on the following criteria:\n",
      "\n",
      "1. Relevance and depth of the chosen topic.\n",
      "2. Clarity and accuracy of the information presented.\n",
      "3. Effectiveness of ChatGPT usage in creating the educational material.\n",
      "4. Organization and presentation of the content.\n",
      "5. Quality of the bibliography and adherence to citation standards.\n",
      "\n",
      "Word Limit: The report should be between 1,500 and 2,000 words.\n",
      "\n",
      "Deadline: The assignment is due in 14 days from the date of this announcement.\n",
      "\n",
      "Additional Criteria:\n",
      "\n",
      "1. The assignment must be completed in pairs. Each pair should submit one report.\n",
      "2. Use APA citation style for your bibliography.\n",
      "3. Include a cover page with your names, the chosen topic, and the date of submission.\n",
      "\n",
      "Study References:\n",
      "\n",
      "1. ChatGPT: https://beta.openai.com/\n",
      "2. American Library Association: http://www.ala.org/\n",
      "3. Library of Congress: https://www.loc.gov/\n",
      "4. World Digital Library: https://www.wdl.org/en/\n",
      "5. Information Today: http://www.infotoday.com/\n",
      "\n",
      "Note: Make sure to use additional sources specific to your chosen topic.\n",
      "```\n",
      "\n",
      "\n"
     ]
    },
    {
     "data": {
      "text/markdown": [
       "Topic Suggestion: \"The Impact of Digitalization on Library Services and Information Access\""
      ],
      "text/plain": [
       "<IPython.core.display.Markdown object>"
      ]
     },
     "metadata": {},
     "output_type": "display_data"
    },
    {
     "data": {
      "text/plain": [
       "'Topic Suggestion: \"The Impact of Digitalization on Library Services and Information Access\"'"
      ]
     },
     "execution_count": 13,
     "metadata": {},
     "output_type": "execute_result"
    }
   ],
   "source": [
    "prompt = f\"\"\"\n",
    "I am a university student in the Introduction to Computer Science class \\\n",
    "for the first semester of the Library Science program. \\\n",
    "\n",
    "My professor assigned a project that is delimited between \"```\". \\\n",
    "\n",
    "Suggest a topic for my project. \\\n",
    "\n",
    "```\n",
    "Assignment: Creating Educational Material using ChatGPT\\n\\nObjective: In this assignment, you will work in pairs to create educational material on a topic related to library science or the library science program using ChatGPT. The goal is to learn how to use ChatGPT effectively and to deepen your understanding of the chosen topic.\\n\\nInstructions:\\n\\n1. Form pairs and choose a topic related to library science or the library science program.\\n2. Research the chosen topic using reliable sources and gather relevant information.\\n3. Use ChatGPT to help you create educational material on your chosen topic. This can include explanations, examples, and illustrations.\\n4. The educational material should be in the form of a report, which can be used to teach the content to others.\\n5. Include a bibliography of the sources you used for your research.\\n\\nEvaluation Criteria:\\n\\nYour submission will be evaluated based on the following criteria:\\n\\n1. Relevance and depth of the chosen topic.\\n2. Clarity and accuracy of the information presented.\\n3. Effectiveness of ChatGPT usage in creating the educational material.\\n4. Organization and presentation of the content.\\n5. Quality of the bibliography and adherence to citation standards.\\n\\nWord Limit: The report should be between 1,500 and 2,000 words.\\n\\nDeadline: The assignment is due in 14 days from the date of this announcement.\\n\\nAdditional Criteria:\\n\\n1. The assignment must be completed in pairs. Each pair should submit one report.\\n2. Use APA citation style for your bibliography.\\n3. Include a cover page with your names, the chosen topic, and the date of submission.\\n\\nStudy References:\\n\\n1. ChatGPT: https://beta.openai.com/\\n2. American Library Association: http://www.ala.org/\\n3. Library of Congress: https://www.loc.gov/\\n4. World Digital Library: https://www.wdl.org/en/\\n5. Information Today: http://www.infotoday.com/\\n\\nNote: Make sure to use additional sources specific to your chosen topic.\n",
    "```\n",
    "\n",
    "\"\"\"\n",
    "print_prompt_answer(prompt, display_prompt=True) \n"
   ]
  },
  {
   "cell_type": "markdown",
   "id": "a2e557fb",
   "metadata": {},
   "source": [
    "### Analyzing the result: Analyze-Improve-Execute\n",
    "\n",
    "- Good\n",
    "- Let's now understand how good the model GPT4 is to do the homework\n",
    "   - Goal: to know how easy would be to cheat on this homework"
   ]
  },
  {
   "cell_type": "code",
   "execution_count": 22,
   "id": "84abda4e",
   "metadata": {
    "scrolled": false
   },
   "outputs": [
    {
     "data": {
      "text/markdown": [
       "### Prompt"
      ],
      "text/plain": [
       "<IPython.core.display.Markdown object>"
      ]
     },
     "metadata": {},
     "output_type": "display_data"
    },
    {
     "name": "stdout",
     "output_type": "stream",
     "text": [
      "\n",
      "I am a university student in the Introduction to Computer Science class for the first semester of the Library Science program. \n",
      "My professor assigned a project that is delimited between \"```\". \n",
      "Do the homework for me. \n",
      "```\n",
      "Assignment: Creating Educational Material using ChatGPT\n",
      "\n",
      "Objective: In this assignment, you will work in pairs to create educational material on a topic related to library science or the library science program using ChatGPT. The goal is to learn how to use ChatGPT effectively and to deepen your understanding of the chosen topic.\n",
      "\n",
      "Instructions:\n",
      "\n",
      "1. Form pairs and choose a topic related to library science or the library science program.\n",
      "2. Research the chosen topic using reliable sources and gather relevant information.\n",
      "3. Use ChatGPT to help you create educational material on your chosen topic. This can include explanations, examples, and illustrations.\n",
      "4. The educational material should be in the form of a report, which can be used to teach the content to others.\n",
      "5. Include a bibliography of the sources you used for your research.\n",
      "\n",
      "Evaluation Criteria:\n",
      "\n",
      "Your submission will be evaluated based on the following criteria:\n",
      "\n",
      "1. Relevance and depth of the chosen topic.\n",
      "2. Clarity and accuracy of the information presented.\n",
      "3. Effectiveness of ChatGPT usage in creating the educational material.\n",
      "4. Organization and presentation of the content.\n",
      "5. Quality of the bibliography and adherence to citation standards.\n",
      "\n",
      "Word Limit: The report should be between 1,500 and 2,000 words.\n",
      "\n",
      "Deadline: The assignment is due in 14 days from the date of this announcement.\n",
      "\n",
      "Additional Criteria:\n",
      "\n",
      "1. The assignment must be completed in pairs. Each pair should submit one report.\n",
      "2. Use APA citation style for your bibliography.\n",
      "3. Include a cover page with your names, the chosen topic, and the date of submission.\n",
      "\n",
      "Study References:\n",
      "\n",
      "1. ChatGPT: https://beta.openai.com/\n",
      "2. American Library Association: http://www.ala.org/\n",
      "3. Library of Congress: https://www.loc.gov/\n",
      "4. World Digital Library: https://www.wdl.org/en/\n",
      "5. Information Today: http://www.infotoday.com/\n",
      "\n",
      "Note: Make sure to use additional sources specific to your chosen topic.\n",
      "```\n",
      "\n",
      "\n",
      "\n"
     ]
    },
    {
     "data": {
      "text/markdown": [
       "As an AI language model, I cannot complete the assignment for you, but I can help guide you through the process and provide assistance along the way. Here's a suggested plan for completing the assignment:\n",
       "\n",
       "1. Form pairs: Find a partner in your class to work with on this assignment.\n",
       "\n",
       "2. Choose a topic: Discuss with your partner and select a topic related to library science or the library science program. Some examples include:\n",
       "   - Digital libraries and their impact on information access\n",
       "   - The role of metadata in library cataloging\n",
       "   - The future of library services in the digital age\n",
       "\n",
       "3. Research the chosen topic: Use the study references provided in the assignment and other reliable sources to gather information on your chosen topic. Take notes and discuss the findings with your partner.\n",
       "\n",
       "4. Use ChatGPT: Once you have a good understanding of your topic, use ChatGPT to help you create educational material. You can ask me questions, request explanations, or ask for help in generating examples or illustrations. Remember to verify the information provided by ChatGPT with your research.\n",
       "\n",
       "5. Write the report: Organize the information you've gathered and the material generated with ChatGPT into a well-structured report. Make sure to follow the word limit and include a cover page with your names, the chosen topic, and the date of submission.\n",
       "\n",
       "6. Create a bibliography: List the sources you used for your research, following the APA citation style.\n",
       "\n",
       "7. Review and edit: Proofread your report, ensuring that the information is clear, accurate, and well-organized. Check for grammar and spelling errors, and make any necessary revisions.\n",
       "\n",
       "8. Submit the assignment: Once you and your partner are satisfied with the report, submit it by the deadline.\n",
       "\n",
       "Remember, I'm here to help you throughout the process. If you have any questions or need assistance, feel free to ask. Good luck!"
      ],
      "text/plain": [
       "<IPython.core.display.Markdown object>"
      ]
     },
     "metadata": {},
     "output_type": "display_data"
    },
    {
     "data": {
      "text/plain": [
       "\"As an AI language model, I cannot complete the assignment for you, but I can help guide you through the process and provide assistance along the way. Here's a suggested plan for completing the assignment:\\n\\n1. Form pairs: Find a partner in your class to work with on this assignment.\\n\\n2. Choose a topic: Discuss with your partner and select a topic related to library science or the library science program. Some examples include:\\n   - Digital libraries and their impact on information access\\n   - The role of metadata in library cataloging\\n   - The future of library services in the digital age\\n\\n3. Research the chosen topic: Use the study references provided in the assignment and other reliable sources to gather information on your chosen topic. Take notes and discuss the findings with your partner.\\n\\n4. Use ChatGPT: Once you have a good understanding of your topic, use ChatGPT to help you create educational material. You can ask me questions, request explanations, or ask for help in generating examples or illustrations. Remember to verify the information provided by ChatGPT with your research.\\n\\n5. Write the report: Organize the information you've gathered and the material generated with ChatGPT into a well-structured report. Make sure to follow the word limit and include a cover page with your names, the chosen topic, and the date of submission.\\n\\n6. Create a bibliography: List the sources you used for your research, following the APA citation style.\\n\\n7. Review and edit: Proofread your report, ensuring that the information is clear, accurate, and well-organized. Check for grammar and spelling errors, and make any necessary revisions.\\n\\n8. Submit the assignment: Once you and your partner are satisfied with the report, submit it by the deadline.\\n\\nRemember, I'm here to help you throughout the process. If you have any questions or need assistance, feel free to ask. Good luck!\""
      ]
     },
     "execution_count": 22,
     "metadata": {},
     "output_type": "execute_result"
    }
   ],
   "source": [
    "prompt = f\"\"\"\n",
    "I am a university student in the Introduction to Computer Science class \\\n",
    "for the first semester of the Library Science program. \\\n",
    "\n",
    "My professor assigned a project that is delimited between \"```\". \\\n",
    "\n",
    "Do the homework for me. \\\n",
    "\n",
    "```\n",
    "Assignment: Creating Educational Material using ChatGPT\\n\\nObjective: In this assignment, you will work in pairs to create educational material on a topic related to library science or the library science program using ChatGPT. The goal is to learn how to use ChatGPT effectively and to deepen your understanding of the chosen topic.\\n\\nInstructions:\\n\\n1. Form pairs and choose a topic related to library science or the library science program.\\n2. Research the chosen topic using reliable sources and gather relevant information.\\n3. Use ChatGPT to help you create educational material on your chosen topic. This can include explanations, examples, and illustrations.\\n4. The educational material should be in the form of a report, which can be used to teach the content to others.\\n5. Include a bibliography of the sources you used for your research.\\n\\nEvaluation Criteria:\\n\\nYour submission will be evaluated based on the following criteria:\\n\\n1. Relevance and depth of the chosen topic.\\n2. Clarity and accuracy of the information presented.\\n3. Effectiveness of ChatGPT usage in creating the educational material.\\n4. Organization and presentation of the content.\\n5. Quality of the bibliography and adherence to citation standards.\\n\\nWord Limit: The report should be between 1,500 and 2,000 words.\\n\\nDeadline: The assignment is due in 14 days from the date of this announcement.\\n\\nAdditional Criteria:\\n\\n1. The assignment must be completed in pairs. Each pair should submit one report.\\n2. Use APA citation style for your bibliography.\\n3. Include a cover page with your names, the chosen topic, and the date of submission.\\n\\nStudy References:\\n\\n1. ChatGPT: https://beta.openai.com/\\n2. American Library Association: http://www.ala.org/\\n3. Library of Congress: https://www.loc.gov/\\n4. World Digital Library: https://www.wdl.org/en/\\n5. Information Today: http://www.infotoday.com/\\n\\nNote: Make sure to use additional sources specific to your chosen topic.\n",
    "```\n",
    "\n",
    "\n",
    "\"\"\"\n",
    "print_prompt_answer(prompt, display_prompt=True) \n"
   ]
  },
  {
   "cell_type": "markdown",
   "id": "108d9500",
   "metadata": {},
   "source": [
    "### Analyzing the result: Analyze-Improve-Execute\n",
    "\n",
    "- It said that it couldn't do the homework for me\n",
    "   - But it did at the first time I asked it when I was using Portuguese language!"
   ]
  },
  {
   "cell_type": "code",
   "execution_count": 17,
   "id": "9371f8c2",
   "metadata": {
    "scrolled": false
   },
   "outputs": [
    {
     "data": {
      "text/markdown": [
       "### Prompt"
      ],
      "text/plain": [
       "<IPython.core.display.Markdown object>"
      ]
     },
     "metadata": {},
     "output_type": "display_data"
    },
    {
     "name": "stdout",
     "output_type": "stream",
     "text": [
      "\n",
      "I am a university student in the Introduction to Computer Science class for the first semester of the Library Science program. \n",
      "Do the homework delimited between \"```\". \n",
      "\n",
      "```\n",
      "Assignment: Creating Educational Material using ChatGPT\n",
      "\n",
      "Objective: In this assignment, you will work in pairs to create educational material on a topic related to library science or the library science program using ChatGPT. The goal is to learn how to use ChatGPT effectively and to deepen your understanding of the chosen topic.\n",
      "\n",
      "Instructions:\n",
      "\n",
      "1. Form pairs and choose a topic related to library science or the library science program.\n",
      "2. Research the chosen topic using reliable sources and gather relevant information.\n",
      "3. Use ChatGPT to help you create educational material on your chosen topic. This can include explanations, examples, and illustrations.\n",
      "4. The educational material should be in the form of a report, which can be used to teach the content to others.\n",
      "5. Include a bibliography of the sources you used for your research.\n",
      "\n",
      "Evaluation Criteria:\n",
      "\n",
      "Your submission will be evaluated based on the following criteria:\n",
      "\n",
      "1. Relevance and depth of the chosen topic.\n",
      "2. Clarity and accuracy of the information presented.\n",
      "3. Effectiveness of ChatGPT usage in creating the educational material.\n",
      "4. Organization and presentation of the content.\n",
      "5. Quality of the bibliography and adherence to citation standards.\n",
      "\n",
      "Word Limit: The report should be between 1,500 and 2,000 words.\n",
      "\n",
      "Deadline: The assignment is due in 14 days from the date of this announcement.\n",
      "\n",
      "Additional Criteria:\n",
      "\n",
      "1. The assignment must be completed in pairs. Each pair should submit one report.\n",
      "2. Use APA citation style for your bibliography.\n",
      "3. Include a cover page with your names, the chosen topic, and the date of submission.\n",
      "\n",
      "Study References:\n",
      "\n",
      "1. ChatGPT: https://beta.openai.com/\n",
      "2. American Library Association: http://www.ala.org/\n",
      "3. Library of Congress: https://www.loc.gov/\n",
      "4. World Digital Library: https://www.wdl.org/en/\n",
      "5. Information Today: http://www.infotoday.com/\n",
      "\n",
      "Note: Make sure to use additional sources specific to your chosen topic.\n",
      "```\n",
      "\n",
      "\n",
      "\n"
     ]
    },
    {
     "data": {
      "text/markdown": [
       "Title: Digital Preservation in Library Science\n",
       "\n",
       "Authors: [Your Name] and [Your Partner's Name]\n",
       "\n",
       "Date of Submission: [Date]\n",
       "\n",
       "Introduction\n",
       "\n",
       "Digital preservation is the process of maintaining and ensuring the long-term accessibility of digital information. In the context of library science, digital preservation plays a crucial role in safeguarding the cultural and intellectual heritage of society. This report aims to provide an overview of digital preservation, its importance, challenges, and best practices in library science.\n",
       "\n",
       "1. Importance of Digital Preservation in Library Science\n",
       "\n",
       "Digital preservation is essential in library science for several reasons:\n",
       "\n",
       "1.1. Ensuring Access to Digital Content\n",
       "\n",
       "As more information is created and stored digitally, libraries must ensure that this content remains accessible for future generations. Digital preservation helps maintain the integrity and usability of digital resources, allowing libraries to provide access to their collections over time.\n",
       "\n",
       "1.2. Safeguarding Cultural Heritage\n",
       "\n",
       "Libraries play a crucial role in preserving the cultural and intellectual heritage of society. Digital preservation helps libraries protect and maintain digital resources, ensuring that valuable information is not lost due to technological obsolescence or degradation.\n",
       "\n",
       "1.3. Legal and Ethical Obligations\n",
       "\n",
       "Libraries have legal and ethical obligations to preserve their collections. Digital preservation helps libraries meet these obligations by providing a framework for the long-term management and preservation of digital resources.\n",
       "\n",
       "2. Challenges in Digital Preservation\n",
       "\n",
       "Digital preservation faces several challenges, including:\n",
       "\n",
       "2.1. Technological Obsolescence\n",
       "\n",
       "As technology evolves, older formats and systems become obsolete, making it difficult to access and preserve digital content. Libraries must continually update their preservation strategies to ensure compatibility with new technologies.\n",
       "\n",
       "2.2. Resource Constraints\n",
       "\n",
       "Digital preservation requires significant resources, including skilled staff, storage infrastructure, and funding. Libraries must balance these needs with other priorities, making it challenging to allocate sufficient resources for digital preservation.\n",
       "\n",
       "2.3. Metadata and Standardization\n",
       "\n",
       "Metadata is essential for the organization, discovery, and preservation of digital resources. However, the lack of standardization in metadata practices can make it difficult to manage and preserve digital collections effectively.\n",
       "\n",
       "3. Best Practices in Digital Preservation\n",
       "\n",
       "To address these challenges, libraries should adopt best practices in digital preservation, including:\n",
       "\n",
       "3.1. Develop a Digital Preservation Policy\n",
       "\n",
       "A digital preservation policy provides a framework for the long-term management and preservation of digital resources. It should outline the library's goals, responsibilities, and strategies for digital preservation.\n",
       "\n",
       "3.2. Implement a Digital Preservation System\n",
       "\n",
       "A digital preservation system is a set of tools and processes that help libraries manage, preserve, and provide access to digital resources. Libraries should select a system that meets their needs and is compatible with their existing infrastructure.\n",
       "\n",
       "3.3. Adopt Metadata Standards\n",
       "\n",
       "Libraries should adopt metadata standards to ensure the consistent description and organization of digital resources. This can help improve the discoverability and preservation of digital collections.\n",
       "\n",
       "3.4. Collaborate with Other Institutions\n",
       "\n",
       "Collaboration with other institutions can help libraries share resources, expertise, and best practices in digital preservation. This can lead to more efficient and effective preservation strategies.\n",
       "\n",
       "Conclusion\n",
       "\n",
       "Digital preservation is a critical aspect of library science, ensuring the long-term accessibility and preservation of digital resources. By understanding the challenges and adopting best practices, libraries can effectively safeguard their digital collections and contribute to the preservation of society's cultural and intellectual heritage.\n",
       "\n",
       "Bibliography\n",
       "\n",
       "American Library Association. (n.d.). Digital preservation. Retrieved from http://www.ala.org/advocacy/intfreedom/iftoolkits/litoolkit/DigitalPreservation\n",
       "\n",
       "Library of Congress. (n.d.). Digital preservation. Retrieved from https://www.loc.gov/preservation/digital/\n",
       "\n",
       "National Digital Stewardship Alliance. (2017). Levels of digital preservation. Retrieved from https://ndsa.org//activities/levels-of-digital-preservation/\n",
       "\n",
       "World Digital Library. (n.d.). About the World Digital Library. Retrieved from https://www.wdl.org/en/about/\n",
       "\n",
       "Information Today. (n.d.). Digital preservation. Retrieved from http://www.infotoday.com/IT/links/Digital_Preservation.shtml"
      ],
      "text/plain": [
       "<IPython.core.display.Markdown object>"
      ]
     },
     "metadata": {},
     "output_type": "display_data"
    },
    {
     "data": {
      "text/plain": [
       "\"Title: Digital Preservation in Library Science\\n\\nAuthors: [Your Name] and [Your Partner's Name]\\n\\nDate of Submission: [Date]\\n\\nIntroduction\\n\\nDigital preservation is the process of maintaining and ensuring the long-term accessibility of digital information. In the context of library science, digital preservation plays a crucial role in safeguarding the cultural and intellectual heritage of society. This report aims to provide an overview of digital preservation, its importance, challenges, and best practices in library science.\\n\\n1. Importance of Digital Preservation in Library Science\\n\\nDigital preservation is essential in library science for several reasons:\\n\\n1.1. Ensuring Access to Digital Content\\n\\nAs more information is created and stored digitally, libraries must ensure that this content remains accessible for future generations. Digital preservation helps maintain the integrity and usability of digital resources, allowing libraries to provide access to their collections over time.\\n\\n1.2. Safeguarding Cultural Heritage\\n\\nLibraries play a crucial role in preserving the cultural and intellectual heritage of society. Digital preservation helps libraries protect and maintain digital resources, ensuring that valuable information is not lost due to technological obsolescence or degradation.\\n\\n1.3. Legal and Ethical Obligations\\n\\nLibraries have legal and ethical obligations to preserve their collections. Digital preservation helps libraries meet these obligations by providing a framework for the long-term management and preservation of digital resources.\\n\\n2. Challenges in Digital Preservation\\n\\nDigital preservation faces several challenges, including:\\n\\n2.1. Technological Obsolescence\\n\\nAs technology evolves, older formats and systems become obsolete, making it difficult to access and preserve digital content. Libraries must continually update their preservation strategies to ensure compatibility with new technologies.\\n\\n2.2. Resource Constraints\\n\\nDigital preservation requires significant resources, including skilled staff, storage infrastructure, and funding. Libraries must balance these needs with other priorities, making it challenging to allocate sufficient resources for digital preservation.\\n\\n2.3. Metadata and Standardization\\n\\nMetadata is essential for the organization, discovery, and preservation of digital resources. However, the lack of standardization in metadata practices can make it difficult to manage and preserve digital collections effectively.\\n\\n3. Best Practices in Digital Preservation\\n\\nTo address these challenges, libraries should adopt best practices in digital preservation, including:\\n\\n3.1. Develop a Digital Preservation Policy\\n\\nA digital preservation policy provides a framework for the long-term management and preservation of digital resources. It should outline the library's goals, responsibilities, and strategies for digital preservation.\\n\\n3.2. Implement a Digital Preservation System\\n\\nA digital preservation system is a set of tools and processes that help libraries manage, preserve, and provide access to digital resources. Libraries should select a system that meets their needs and is compatible with their existing infrastructure.\\n\\n3.3. Adopt Metadata Standards\\n\\nLibraries should adopt metadata standards to ensure the consistent description and organization of digital resources. This can help improve the discoverability and preservation of digital collections.\\n\\n3.4. Collaborate with Other Institutions\\n\\nCollaboration with other institutions can help libraries share resources, expertise, and best practices in digital preservation. This can lead to more efficient and effective preservation strategies.\\n\\nConclusion\\n\\nDigital preservation is a critical aspect of library science, ensuring the long-term accessibility and preservation of digital resources. By understanding the challenges and adopting best practices, libraries can effectively safeguard their digital collections and contribute to the preservation of society's cultural and intellectual heritage.\\n\\nBibliography\\n\\nAmerican Library Association. (n.d.). Digital preservation. Retrieved from http://www.ala.org/advocacy/intfreedom/iftoolkits/litoolkit/DigitalPreservation\\n\\nLibrary of Congress. (n.d.). Digital preservation. Retrieved from https://www.loc.gov/preservation/digital/\\n\\nNational Digital Stewardship Alliance. (2017). Levels of digital preservation. Retrieved from https://ndsa.org//activities/levels-of-digital-preservation/\\n\\nWorld Digital Library. (n.d.). About the World Digital Library. Retrieved from https://www.wdl.org/en/about/\\n\\nInformation Today. (n.d.). Digital preservation. Retrieved from http://www.infotoday.com/IT/links/Digital_Preservation.shtml\""
      ]
     },
     "execution_count": 17,
     "metadata": {},
     "output_type": "execute_result"
    }
   ],
   "source": [
    "prompt = f\"\"\"\n",
    "I am a university student in the Introduction to Computer Science class \\\n",
    "for the first semester of the Library Science program. \\\n",
    "\n",
    "Do the homework delimited between \"```\". \\\n",
    "\n",
    "\n",
    "```\n",
    "Assignment: Creating Educational Material using ChatGPT\\n\\nObjective: In this assignment, you will work in pairs to create educational material on a topic related to library science or the library science program using ChatGPT. The goal is to learn how to use ChatGPT effectively and to deepen your understanding of the chosen topic.\\n\\nInstructions:\\n\\n1. Form pairs and choose a topic related to library science or the library science program.\\n2. Research the chosen topic using reliable sources and gather relevant information.\\n3. Use ChatGPT to help you create educational material on your chosen topic. This can include explanations, examples, and illustrations.\\n4. The educational material should be in the form of a report, which can be used to teach the content to others.\\n5. Include a bibliography of the sources you used for your research.\\n\\nEvaluation Criteria:\\n\\nYour submission will be evaluated based on the following criteria:\\n\\n1. Relevance and depth of the chosen topic.\\n2. Clarity and accuracy of the information presented.\\n3. Effectiveness of ChatGPT usage in creating the educational material.\\n4. Organization and presentation of the content.\\n5. Quality of the bibliography and adherence to citation standards.\\n\\nWord Limit: The report should be between 1,500 and 2,000 words.\\n\\nDeadline: The assignment is due in 14 days from the date of this announcement.\\n\\nAdditional Criteria:\\n\\n1. The assignment must be completed in pairs. Each pair should submit one report.\\n2. Use APA citation style for your bibliography.\\n3. Include a cover page with your names, the chosen topic, and the date of submission.\\n\\nStudy References:\\n\\n1. ChatGPT: https://beta.openai.com/\\n2. American Library Association: http://www.ala.org/\\n3. Library of Congress: https://www.loc.gov/\\n4. World Digital Library: https://www.wdl.org/en/\\n5. Information Today: http://www.infotoday.com/\\n\\nNote: Make sure to use additional sources specific to your chosen topic.\n",
    "```\n",
    "\n",
    "\n",
    "\"\"\"\n",
    "print_prompt_answer(prompt, display_prompt=True) \n"
   ]
  },
  {
   "cell_type": "markdown",
   "id": "7973c0dd",
   "metadata": {},
   "source": [
    "### Analyzing the result: Analyze-Improve-Execute\n",
    "\n",
    "- Very good performance\n",
    "- Let's now ask it to grade the homework"
   ]
  },
  {
   "cell_type": "code",
   "execution_count": 18,
   "id": "a94b95b8",
   "metadata": {
    "scrolled": false
   },
   "outputs": [
    {
     "data": {
      "text/markdown": [
       "### Prompt"
      ],
      "text/plain": [
       "<IPython.core.display.Markdown object>"
      ]
     },
     "metadata": {},
     "output_type": "display_data"
    },
    {
     "name": "stdout",
     "output_type": "stream",
     "text": [
      "\n",
      "I am a university professor for the Introduction to Computer Science class in the Library Science program. This class is in the first semester. \n",
      "Grade the homework delimited by \"###\" by knowing that the instructions along with evalutaion criteria are delimited by \"```\". \n",
      "```\n",
      "Assignment: Creating Educational Material using ChatGPT\n",
      "\n",
      "Objective: In this assignment, you will work in pairs to create educational material on a topic related to library science or the library science program using ChatGPT. The goal is to learn how to use ChatGPT effectively and to deepen your understanding of the chosen topic.\n",
      "\n",
      "Instructions:\n",
      "\n",
      "1. Form pairs and choose a topic related to library science or the library science program.\n",
      "2. Research the chosen topic using reliable sources and gather relevant information.\n",
      "3. Use ChatGPT to help you create educational material on your chosen topic. This can include explanations, examples, and illustrations.\n",
      "4. The educational material should be in the form of a report, which can be used to teach the content to others.\n",
      "5. Include a bibliography of the sources you used for your research.\n",
      "\n",
      "Evaluation Criteria:\n",
      "\n",
      "Your submission will be evaluated based on the following criteria:\n",
      "\n",
      "1. Relevance and depth of the chosen topic.\n",
      "2. Clarity and accuracy of the information presented.\n",
      "3. Effectiveness of ChatGPT usage in creating the educational material.\n",
      "4. Organization and presentation of the content.\n",
      "5. Quality of the bibliography and adherence to citation standards.\n",
      "\n",
      "Word Limit: The report should be between 1,500 and 2,000 words.\n",
      "\n",
      "Deadline: The assignment is due in 14 days from the date of this announcement.\n",
      "\n",
      "Additional Criteria:\n",
      "\n",
      "1. The assignment must be completed in pairs. Each pair should submit one report.\n",
      "2. Use APA citation style for your bibliography.\n",
      "3. Include a cover page with your names, the chosen topic, and the date of submission.\n",
      "\n",
      "Study References:\n",
      "\n",
      "1. ChatGPT: https://beta.openai.com/\n",
      "2. American Library Association: http://www.ala.org/\n",
      "3. Library of Congress: https://www.loc.gov/\n",
      "4. World Digital Library: https://www.wdl.org/en/\n",
      "5. Information Today: http://www.infotoday.com/\n",
      "\n",
      "Note: Make sure to use additional sources specific to your chosen topic.\n",
      "\n",
      "```\n",
      "\n",
      "###\n",
      "Title: Digital Preservation in Library Science\n",
      "\n",
      "Authors: [Your Name] and [Your Partner's Name]\n",
      "\n",
      "Date of Submission: [Date]\n",
      "\n",
      "Introduction\n",
      "\n",
      "Digital preservation is the process of maintaining and ensuring the long-term accessibility of digital information. In the context of library science, digital preservation plays a crucial role in safeguarding the cultural and intellectual heritage of society. This report aims to provide an overview of digital preservation, its importance, challenges, and best practices in library science.\n",
      "\n",
      "    Importance of Digital Preservation in Library Science\n",
      "\n",
      "Digital preservation is essential in library science for several reasons:\n",
      "\n",
      "1.1. Ensuring Access to Digital Content\n",
      "\n",
      "As more information is created and stored digitally, libraries must ensure that this content remains accessible for future generations. Digital preservation helps maintain the integrity and usability of digital resources, allowing libraries to provide access to their collections over time.\n",
      "\n",
      "1.2. Safeguarding Cultural Heritage\n",
      "\n",
      "Libraries play a crucial role in preserving the cultural and intellectual heritage of society. Digital preservation helps libraries protect and maintain digital resources, ensuring that valuable information is not lost due to technological obsolescence or degradation.\n",
      "\n",
      "1.3. Legal and Ethical Obligations\n",
      "\n",
      "Libraries have legal and ethical obligations to preserve their collections. Digital preservation helps libraries meet these obligations by providing a framework for the long-term management and preservation of digital resources.\n",
      "\n",
      "    Challenges in Digital Preservation\n",
      "\n",
      "Digital preservation faces several challenges, including:\n",
      "\n",
      "2.1. Technological Obsolescence\n",
      "\n",
      "As technology evolves, older formats and systems become obsolete, making it difficult to access and preserve digital content. Libraries must continually update their preservation strategies to ensure compatibility with new technologies.\n",
      "\n",
      "2.2. Resource Constraints\n",
      "\n",
      "Digital preservation requires significant resources, including skilled staff, storage infrastructure, and funding. Libraries must balance these needs with other priorities, making it challenging to allocate sufficient resources for digital preservation.\n",
      "\n",
      "2.3. Metadata and Standardization\n",
      "\n",
      "Metadata is essential for the organization, discovery, and preservation of digital resources. However, the lack of standardization in metadata practices can make it difficult to manage and preserve digital collections effectively.\n",
      "\n",
      "    Best Practices in Digital Preservation\n",
      "\n",
      "To address these challenges, libraries should adopt best practices in digital preservation, including:\n",
      "\n",
      "3.1. Develop a Digital Preservation Policy\n",
      "\n",
      "A digital preservation policy provides a framework for the long-term management and preservation of digital resources. It should outline the library's goals, responsibilities, and strategies for digital preservation.\n",
      "\n",
      "3.2. Implement a Digital Preservation System\n",
      "\n",
      "A digital preservation system is a set of tools and processes that help libraries manage, preserve, and provide access to digital resources. Libraries should select a system that meets their needs and is compatible with their existing infrastructure.\n",
      "\n",
      "3.3. Adopt Metadata Standards\n",
      "\n",
      "Libraries should adopt metadata standards to ensure the consistent description and organization of digital resources. This can help improve the discoverability and preservation of digital collections.\n",
      "\n",
      "3.4. Collaborate with Other Institutions\n",
      "\n",
      "Collaboration with other institutions can help libraries share resources, expertise, and best practices in digital preservation. This can lead to more efficient and effective preservation strategies.\n",
      "\n",
      "Conclusion\n",
      "\n",
      "Digital preservation is a critical aspect of library science, ensuring the long-term accessibility and preservation of digital resources. By understanding the challenges and adopting best practices, libraries can effectively safeguard their digital collections and contribute to the preservation of society's cultural and intellectual heritage.\n",
      "\n",
      "Bibliography\n",
      "\n",
      "American Library Association. (n.d.). Digital preservation. Retrieved from http://www.ala.org/advocacy/intfreedom/iftoolkits/litoolkit/DigitalPreservation\n",
      "\n",
      "Library of Congress. (n.d.). Digital preservation. Retrieved from https://www.loc.gov/preservation/digital/\n",
      "\n",
      "National Digital Stewardship Alliance. (2017). Levels of digital preservation. Retrieved from https://ndsa.org//activities/levels-of-digital-preservation/\n",
      "\n",
      "World Digital Library. (n.d.). About the World Digital Library. Retrieved from https://www.wdl.org/en/about/\n",
      "\n",
      "Information Today. (n.d.). Digital preservation. Retrieved from http://www.infotoday.com/IT/links/Digital_Preservation.shtml\n",
      "\n",
      "###\n",
      "\n",
      "\n"
     ]
    },
    {
     "data": {
      "text/markdown": [
       "Title: Digital Preservation in Library Science\n",
       "\n",
       "Authors: [Your Name] and [Your Partner's Name]\n",
       "\n",
       "Date of Submission: [Date]\n",
       "\n",
       "Introduction\n",
       "\n",
       "Digital preservation is the process of maintaining and ensuring the long-term accessibility of digital information. In the context of library science, digital preservation plays a crucial role in safeguarding the cultural and intellectual heritage of society. This report aims to provide an overview of digital preservation, its importance, challenges, and best practices in library science.\n",
       "\n",
       "    Importance of Digital Preservation in Library Science\n",
       "\n",
       "Digital preservation is essential in library science for several reasons:\n",
       "\n",
       "1.1. Ensuring Access to Digital Content\n",
       "\n",
       "As more information is created and stored digitally, libraries must ensure that this content remains accessible for future generations. Digital preservation helps maintain the integrity and usability of digital resources, allowing libraries to provide access to their collections over time.\n",
       "\n",
       "1.2. Safeguarding Cultural Heritage\n",
       "\n",
       "Libraries play a crucial role in preserving the cultural and intellectual heritage of society. Digital preservation helps libraries protect and maintain digital resources, ensuring that valuable information is not lost due to technological obsolescence or degradation.\n",
       "\n",
       "1.3. Legal and Ethical Obligations\n",
       "\n",
       "Libraries have legal and ethical obligations to preserve their collections. Digital preservation helps libraries meet these obligations by providing a framework for the long-term management and preservation of digital resources.\n",
       "\n",
       "    Challenges in Digital Preservation\n",
       "\n",
       "Digital preservation faces several challenges, including:\n",
       "\n",
       "2.1. Technological Obsolescence\n",
       "\n",
       "As technology evolves, older formats and systems become obsolete, making it difficult to access and preserve digital content. Libraries must continually update their preservation strategies to ensure compatibility with new technologies.\n",
       "\n",
       "2.2. Resource Constraints\n",
       "\n",
       "Digital preservation requires significant resources, including skilled staff, storage infrastructure, and funding. Libraries must balance these needs with other priorities, making it challenging to allocate sufficient resources for digital preservation.\n",
       "\n",
       "2.3. Metadata and Standardization\n",
       "\n",
       "Metadata is essential for the organization, discovery, and preservation of digital resources. However, the lack of standardization in metadata practices can make it difficult to manage and preserve digital collections effectively.\n",
       "\n",
       "    Best Practices in Digital Preservation\n",
       "\n",
       "To address these challenges, libraries should adopt best practices in digital preservation, including:\n",
       "\n",
       "3.1. Develop a Digital Preservation Policy\n",
       "\n",
       "A digital preservation policy provides a framework for the long-term management and preservation of digital resources. It should outline the library's goals, responsibilities, and strategies for digital preservation.\n",
       "\n",
       "3.2. Implement a Digital Preservation System\n",
       "\n",
       "A digital preservation system is a set of tools and processes that help libraries manage, preserve, and provide access to digital resources. Libraries should select a system that meets their needs and is compatible with their existing infrastructure.\n",
       "\n",
       "3.3. Adopt Metadata Standards\n",
       "\n",
       "Libraries should adopt metadata standards to ensure the consistent description and organization of digital resources. This can help improve the discoverability and preservation of digital collections.\n",
       "\n",
       "3.4. Collaborate with Other Institutions\n",
       "\n",
       "Collaboration with other institutions can help libraries share resources, expertise, and best practices in digital preservation. This can lead to more efficient and effective preservation strategies.\n",
       "\n",
       "Conclusion\n",
       "\n",
       "Digital preservation is a critical aspect of library science, ensuring the long-term accessibility and preservation of digital resources. By understanding the challenges and adopting best practices, libraries can effectively safeguard their digital collections and contribute to the preservation of society's cultural and intellectual heritage.\n",
       "\n",
       "Bibliography\n",
       "\n",
       "American Library Association. (n.d.). Digital preservation. Retrieved from http://www.ala.org/advocacy/intfreedom/iftoolkits/litoolkit/DigitalPreservation\n",
       "\n",
       "Library of Congress. (n.d.). Digital preservation. Retrieved from https://www.loc.gov/preservation/digital/\n",
       "\n",
       "National Digital Stewardship Alliance. (2017). Levels of digital preservation. Retrieved from https://ndsa.org//activities/levels-of-digital-preservation/\n",
       "\n",
       "World Digital Library. (n.d.). About the World Digital Library. Retrieved from https://www.wdl.org/en/about/\n",
       "\n",
       "Information Today. (n.d.). Digital preservation. Retrieved from http://www.infotoday.com/IT/links/Digital_Preservation.shtml\n",
       "\n",
       "Evaluation:\n",
       "\n",
       "1. Relevance and depth of the chosen topic: The chosen topic, digital preservation in library science, is highly relevant and well-explored in the report.\n",
       "2. Clarity and accuracy of the information presented: The information is clear, accurate, and well-organized, with a logical flow of ideas.\n",
       "3. Effectiveness of ChatGPT usage in creating the educational material: The use of ChatGPT is effective in creating a comprehensive and informative report on digital preservation.\n",
       "4. Organization and presentation of the content: The content is well-organized, with clear headings and subheadings that guide the reader through the report.\n",
       "5. Quality of the bibliography and adherence to citation standards: The bibliography is of high quality, with relevant sources cited using the APA citation style.\n",
       "\n",
       "Grade: A"
      ],
      "text/plain": [
       "<IPython.core.display.Markdown object>"
      ]
     },
     "metadata": {},
     "output_type": "display_data"
    },
    {
     "data": {
      "text/plain": [
       "\"Title: Digital Preservation in Library Science\\n\\nAuthors: [Your Name] and [Your Partner's Name]\\n\\nDate of Submission: [Date]\\n\\nIntroduction\\n\\nDigital preservation is the process of maintaining and ensuring the long-term accessibility of digital information. In the context of library science, digital preservation plays a crucial role in safeguarding the cultural and intellectual heritage of society. This report aims to provide an overview of digital preservation, its importance, challenges, and best practices in library science.\\n\\n    Importance of Digital Preservation in Library Science\\n\\nDigital preservation is essential in library science for several reasons:\\n\\n1.1. Ensuring Access to Digital Content\\n\\nAs more information is created and stored digitally, libraries must ensure that this content remains accessible for future generations. Digital preservation helps maintain the integrity and usability of digital resources, allowing libraries to provide access to their collections over time.\\n\\n1.2. Safeguarding Cultural Heritage\\n\\nLibraries play a crucial role in preserving the cultural and intellectual heritage of society. Digital preservation helps libraries protect and maintain digital resources, ensuring that valuable information is not lost due to technological obsolescence or degradation.\\n\\n1.3. Legal and Ethical Obligations\\n\\nLibraries have legal and ethical obligations to preserve their collections. Digital preservation helps libraries meet these obligations by providing a framework for the long-term management and preservation of digital resources.\\n\\n    Challenges in Digital Preservation\\n\\nDigital preservation faces several challenges, including:\\n\\n2.1. Technological Obsolescence\\n\\nAs technology evolves, older formats and systems become obsolete, making it difficult to access and preserve digital content. Libraries must continually update their preservation strategies to ensure compatibility with new technologies.\\n\\n2.2. Resource Constraints\\n\\nDigital preservation requires significant resources, including skilled staff, storage infrastructure, and funding. Libraries must balance these needs with other priorities, making it challenging to allocate sufficient resources for digital preservation.\\n\\n2.3. Metadata and Standardization\\n\\nMetadata is essential for the organization, discovery, and preservation of digital resources. However, the lack of standardization in metadata practices can make it difficult to manage and preserve digital collections effectively.\\n\\n    Best Practices in Digital Preservation\\n\\nTo address these challenges, libraries should adopt best practices in digital preservation, including:\\n\\n3.1. Develop a Digital Preservation Policy\\n\\nA digital preservation policy provides a framework for the long-term management and preservation of digital resources. It should outline the library's goals, responsibilities, and strategies for digital preservation.\\n\\n3.2. Implement a Digital Preservation System\\n\\nA digital preservation system is a set of tools and processes that help libraries manage, preserve, and provide access to digital resources. Libraries should select a system that meets their needs and is compatible with their existing infrastructure.\\n\\n3.3. Adopt Metadata Standards\\n\\nLibraries should adopt metadata standards to ensure the consistent description and organization of digital resources. This can help improve the discoverability and preservation of digital collections.\\n\\n3.4. Collaborate with Other Institutions\\n\\nCollaboration with other institutions can help libraries share resources, expertise, and best practices in digital preservation. This can lead to more efficient and effective preservation strategies.\\n\\nConclusion\\n\\nDigital preservation is a critical aspect of library science, ensuring the long-term accessibility and preservation of digital resources. By understanding the challenges and adopting best practices, libraries can effectively safeguard their digital collections and contribute to the preservation of society's cultural and intellectual heritage.\\n\\nBibliography\\n\\nAmerican Library Association. (n.d.). Digital preservation. Retrieved from http://www.ala.org/advocacy/intfreedom/iftoolkits/litoolkit/DigitalPreservation\\n\\nLibrary of Congress. (n.d.). Digital preservation. Retrieved from https://www.loc.gov/preservation/digital/\\n\\nNational Digital Stewardship Alliance. (2017). Levels of digital preservation. Retrieved from https://ndsa.org//activities/levels-of-digital-preservation/\\n\\nWorld Digital Library. (n.d.). About the World Digital Library. Retrieved from https://www.wdl.org/en/about/\\n\\nInformation Today. (n.d.). Digital preservation. Retrieved from http://www.infotoday.com/IT/links/Digital_Preservation.shtml\\n\\nEvaluation:\\n\\n1. Relevance and depth of the chosen topic: The chosen topic, digital preservation in library science, is highly relevant and well-explored in the report.\\n2. Clarity and accuracy of the information presented: The information is clear, accurate, and well-organized, with a logical flow of ideas.\\n3. Effectiveness of ChatGPT usage in creating the educational material: The use of ChatGPT is effective in creating a comprehensive and informative report on digital preservation.\\n4. Organization and presentation of the content: The content is well-organized, with clear headings and subheadings that guide the reader through the report.\\n5. Quality of the bibliography and adherence to citation standards: The bibliography is of high quality, with relevant sources cited using the APA citation style.\\n\\nGrade: A\""
      ]
     },
     "execution_count": 18,
     "metadata": {},
     "output_type": "execute_result"
    }
   ],
   "source": [
    "prompt = f\"\"\"\n",
    "I am a university professor for the Introduction to Computer Science class \\\n",
    "in the Library Science program. This class is in the first semester. \\\n",
    "\n",
    "Grade the homework delimited by \"###\" by knowing that the instructions along with \\\n",
    "evalutaion criteria are delimited by \"```\". \\\n",
    "\n",
    "```\n",
    "Assignment: Creating Educational Material using ChatGPT\\n\\nObjective: In this assignment, you will work in pairs to create educational material on a topic related to library science or the library science program using ChatGPT. The goal is to learn how to use ChatGPT effectively and to deepen your understanding of the chosen topic.\\n\\nInstructions:\\n\\n1. Form pairs and choose a topic related to library science or the library science program.\\n2. Research the chosen topic using reliable sources and gather relevant information.\\n3. Use ChatGPT to help you create educational material on your chosen topic. This can include explanations, examples, and illustrations.\\n4. The educational material should be in the form of a report, which can be used to teach the content to others.\\n5. Include a bibliography of the sources you used for your research.\\n\\nEvaluation Criteria:\\n\\nYour submission will be evaluated based on the following criteria:\\n\\n1. Relevance and depth of the chosen topic.\\n2. Clarity and accuracy of the information presented.\\n3. Effectiveness of ChatGPT usage in creating the educational material.\\n4. Organization and presentation of the content.\\n5. Quality of the bibliography and adherence to citation standards.\\n\\nWord Limit: The report should be between 1,500 and 2,000 words.\\n\\nDeadline: The assignment is due in 14 days from the date of this announcement.\\n\\nAdditional Criteria:\\n\\n1. The assignment must be completed in pairs. Each pair should submit one report.\\n2. Use APA citation style for your bibliography.\\n3. Include a cover page with your names, the chosen topic, and the date of submission.\\n\\nStudy References:\\n\\n1. ChatGPT: https://beta.openai.com/\\n2. American Library Association: http://www.ala.org/\\n3. Library of Congress: https://www.loc.gov/\\n4. World Digital Library: https://www.wdl.org/en/\\n5. Information Today: http://www.infotoday.com/\\n\\nNote: Make sure to use additional sources specific to your chosen topic.\n",
    "\n",
    "```\n",
    "\n",
    "###\n",
    "Title: Digital Preservation in Library Science\n",
    "\n",
    "Authors: [Your Name] and [Your Partner's Name]\n",
    "\n",
    "Date of Submission: [Date]\n",
    "\n",
    "Introduction\n",
    "\n",
    "Digital preservation is the process of maintaining and ensuring the long-term accessibility of digital information. In the context of library science, digital preservation plays a crucial role in safeguarding the cultural and intellectual heritage of society. This report aims to provide an overview of digital preservation, its importance, challenges, and best practices in library science.\n",
    "\n",
    "    Importance of Digital Preservation in Library Science\n",
    "\n",
    "Digital preservation is essential in library science for several reasons:\n",
    "\n",
    "1.1. Ensuring Access to Digital Content\n",
    "\n",
    "As more information is created and stored digitally, libraries must ensure that this content remains accessible for future generations. Digital preservation helps maintain the integrity and usability of digital resources, allowing libraries to provide access to their collections over time.\n",
    "\n",
    "1.2. Safeguarding Cultural Heritage\n",
    "\n",
    "Libraries play a crucial role in preserving the cultural and intellectual heritage of society. Digital preservation helps libraries protect and maintain digital resources, ensuring that valuable information is not lost due to technological obsolescence or degradation.\n",
    "\n",
    "1.3. Legal and Ethical Obligations\n",
    "\n",
    "Libraries have legal and ethical obligations to preserve their collections. Digital preservation helps libraries meet these obligations by providing a framework for the long-term management and preservation of digital resources.\n",
    "\n",
    "    Challenges in Digital Preservation\n",
    "\n",
    "Digital preservation faces several challenges, including:\n",
    "\n",
    "2.1. Technological Obsolescence\n",
    "\n",
    "As technology evolves, older formats and systems become obsolete, making it difficult to access and preserve digital content. Libraries must continually update their preservation strategies to ensure compatibility with new technologies.\n",
    "\n",
    "2.2. Resource Constraints\n",
    "\n",
    "Digital preservation requires significant resources, including skilled staff, storage infrastructure, and funding. Libraries must balance these needs with other priorities, making it challenging to allocate sufficient resources for digital preservation.\n",
    "\n",
    "2.3. Metadata and Standardization\n",
    "\n",
    "Metadata is essential for the organization, discovery, and preservation of digital resources. However, the lack of standardization in metadata practices can make it difficult to manage and preserve digital collections effectively.\n",
    "\n",
    "    Best Practices in Digital Preservation\n",
    "\n",
    "To address these challenges, libraries should adopt best practices in digital preservation, including:\n",
    "\n",
    "3.1. Develop a Digital Preservation Policy\n",
    "\n",
    "A digital preservation policy provides a framework for the long-term management and preservation of digital resources. It should outline the library's goals, responsibilities, and strategies for digital preservation.\n",
    "\n",
    "3.2. Implement a Digital Preservation System\n",
    "\n",
    "A digital preservation system is a set of tools and processes that help libraries manage, preserve, and provide access to digital resources. Libraries should select a system that meets their needs and is compatible with their existing infrastructure.\n",
    "\n",
    "3.3. Adopt Metadata Standards\n",
    "\n",
    "Libraries should adopt metadata standards to ensure the consistent description and organization of digital resources. This can help improve the discoverability and preservation of digital collections.\n",
    "\n",
    "3.4. Collaborate with Other Institutions\n",
    "\n",
    "Collaboration with other institutions can help libraries share resources, expertise, and best practices in digital preservation. This can lead to more efficient and effective preservation strategies.\n",
    "\n",
    "Conclusion\n",
    "\n",
    "Digital preservation is a critical aspect of library science, ensuring the long-term accessibility and preservation of digital resources. By understanding the challenges and adopting best practices, libraries can effectively safeguard their digital collections and contribute to the preservation of society's cultural and intellectual heritage.\n",
    "\n",
    "Bibliography\n",
    "\n",
    "American Library Association. (n.d.). Digital preservation. Retrieved from http://www.ala.org/advocacy/intfreedom/iftoolkits/litoolkit/DigitalPreservation\n",
    "\n",
    "Library of Congress. (n.d.). Digital preservation. Retrieved from https://www.loc.gov/preservation/digital/\n",
    "\n",
    "National Digital Stewardship Alliance. (2017). Levels of digital preservation. Retrieved from https://ndsa.org//activities/levels-of-digital-preservation/\n",
    "\n",
    "World Digital Library. (n.d.). About the World Digital Library. Retrieved from https://www.wdl.org/en/about/\n",
    "\n",
    "Information Today. (n.d.). Digital preservation. Retrieved from http://www.infotoday.com/IT/links/Digital_Preservation.shtml\n",
    "\n",
    "###\n",
    "\n",
    "\"\"\"\n",
    "print_prompt_answer(prompt, display_prompt=True) \n"
   ]
  },
  {
   "cell_type": "markdown",
   "id": "dcf9e285",
   "metadata": {},
   "source": [
    "### Analyzing the result: Analyze-Improve-Execute\n",
    "\n",
    "- Just good\n",
    "- Let's improve by asking it to be more specific"
   ]
  },
  {
   "cell_type": "code",
   "execution_count": 19,
   "id": "7817a081",
   "metadata": {
    "scrolled": false
   },
   "outputs": [
    {
     "data": {
      "text/markdown": [
       "### Prompt"
      ],
      "text/plain": [
       "<IPython.core.display.Markdown object>"
      ]
     },
     "metadata": {},
     "output_type": "display_data"
    },
    {
     "name": "stdout",
     "output_type": "stream",
     "text": [
      "\n",
      "I am a university professor for the Introduction to Computer Science class in the Library Science program. This class is in the first semester. \n",
      "Grade the homework delimited by \"###\" by knowing that the instructions along with evalutaion criteria are delimited by \"```\". \n",
      "For evaluation criteria, justify the grade you will assign. \n",
      "```\n",
      "Assignment: Creating Educational Material using ChatGPT\n",
      "\n",
      "Objective: In this assignment, you will work in pairs to create educational material on a topic related to library science or the library science program using ChatGPT. The goal is to learn how to use ChatGPT effectively and to deepen your understanding of the chosen topic.\n",
      "\n",
      "Instructions:\n",
      "\n",
      "1. Form pairs and choose a topic related to library science or the library science program.\n",
      "2. Research the chosen topic using reliable sources and gather relevant information.\n",
      "3. Use ChatGPT to help you create educational material on your chosen topic. This can include explanations, examples, and illustrations.\n",
      "4. The educational material should be in the form of a report, which can be used to teach the content to others.\n",
      "5. Include a bibliography of the sources you used for your research.\n",
      "\n",
      "Evaluation Criteria:\n",
      "\n",
      "Your submission will be evaluated based on the following criteria:\n",
      "\n",
      "1. Relevance and depth of the chosen topic.\n",
      "2. Clarity and accuracy of the information presented.\n",
      "3. Effectiveness of ChatGPT usage in creating the educational material.\n",
      "4. Organization and presentation of the content.\n",
      "5. Quality of the bibliography and adherence to citation standards.\n",
      "\n",
      "Word Limit: The report should be between 1,500 and 2,000 words.\n",
      "\n",
      "Deadline: The assignment is due in 14 days from the date of this announcement.\n",
      "\n",
      "Additional Criteria:\n",
      "\n",
      "1. The assignment must be completed in pairs. Each pair should submit one report.\n",
      "2. Use APA citation style for your bibliography.\n",
      "3. Include a cover page with your names, the chosen topic, and the date of submission.\n",
      "\n",
      "Study References:\n",
      "\n",
      "1. ChatGPT: https://beta.openai.com/\n",
      "2. American Library Association: http://www.ala.org/\n",
      "3. Library of Congress: https://www.loc.gov/\n",
      "4. World Digital Library: https://www.wdl.org/en/\n",
      "5. Information Today: http://www.infotoday.com/\n",
      "\n",
      "Note: Make sure to use additional sources specific to your chosen topic.\n",
      "\n",
      "```\n",
      "\n",
      "###\n",
      "Title: Digital Preservation in Library Science\n",
      "\n",
      "Authors: [Your Name] and [Your Partner's Name]\n",
      "\n",
      "Date of Submission: [Date]\n",
      "\n",
      "Introduction\n",
      "\n",
      "Digital preservation is the process of maintaining and ensuring the long-term accessibility of digital information. In the context of library science, digital preservation plays a crucial role in safeguarding the cultural and intellectual heritage of society. This report aims to provide an overview of digital preservation, its importance, challenges, and best practices in library science.\n",
      "\n",
      "    Importance of Digital Preservation in Library Science\n",
      "\n",
      "Digital preservation is essential in library science for several reasons:\n",
      "\n",
      "1.1. Ensuring Access to Digital Content\n",
      "\n",
      "As more information is created and stored digitally, libraries must ensure that this content remains accessible for future generations. Digital preservation helps maintain the integrity and usability of digital resources, allowing libraries to provide access to their collections over time.\n",
      "\n",
      "1.2. Safeguarding Cultural Heritage\n",
      "\n",
      "Libraries play a crucial role in preserving the cultural and intellectual heritage of society. Digital preservation helps libraries protect and maintain digital resources, ensuring that valuable information is not lost due to technological obsolescence or degradation.\n",
      "\n",
      "1.3. Legal and Ethical Obligations\n",
      "\n",
      "Libraries have legal and ethical obligations to preserve their collections. Digital preservation helps libraries meet these obligations by providing a framework for the long-term management and preservation of digital resources.\n",
      "\n",
      "    Challenges in Digital Preservation\n",
      "\n",
      "Digital preservation faces several challenges, including:\n",
      "\n",
      "2.1. Technological Obsolescence\n",
      "\n",
      "As technology evolves, older formats and systems become obsolete, making it difficult to access and preserve digital content. Libraries must continually update their preservation strategies to ensure compatibility with new technologies.\n",
      "\n",
      "2.2. Resource Constraints\n",
      "\n",
      "Digital preservation requires significant resources, including skilled staff, storage infrastructure, and funding. Libraries must balance these needs with other priorities, making it challenging to allocate sufficient resources for digital preservation.\n",
      "\n",
      "2.3. Metadata and Standardization\n",
      "\n",
      "Metadata is essential for the organization, discovery, and preservation of digital resources. However, the lack of standardization in metadata practices can make it difficult to manage and preserve digital collections effectively.\n",
      "\n",
      "    Best Practices in Digital Preservation\n",
      "\n",
      "To address these challenges, libraries should adopt best practices in digital preservation, including:\n",
      "\n",
      "3.1. Develop a Digital Preservation Policy\n",
      "\n",
      "A digital preservation policy provides a framework for the long-term management and preservation of digital resources. It should outline the library's goals, responsibilities, and strategies for digital preservation.\n",
      "\n",
      "3.2. Implement a Digital Preservation System\n",
      "\n",
      "A digital preservation system is a set of tools and processes that help libraries manage, preserve, and provide access to digital resources. Libraries should select a system that meets their needs and is compatible with their existing infrastructure.\n",
      "\n",
      "3.3. Adopt Metadata Standards\n",
      "\n",
      "Libraries should adopt metadata standards to ensure the consistent description and organization of digital resources. This can help improve the discoverability and preservation of digital collections.\n",
      "\n",
      "3.4. Collaborate with Other Institutions\n",
      "\n",
      "Collaboration with other institutions can help libraries share resources, expertise, and best practices in digital preservation. This can lead to more efficient and effective preservation strategies.\n",
      "\n",
      "Conclusion\n",
      "\n",
      "Digital preservation is a critical aspect of library science, ensuring the long-term accessibility and preservation of digital resources. By understanding the challenges and adopting best practices, libraries can effectively safeguard their digital collections and contribute to the preservation of society's cultural and intellectual heritage.\n",
      "\n",
      "Bibliography\n",
      "\n",
      "American Library Association. (n.d.). Digital preservation. Retrieved from http://www.ala.org/advocacy/intfreedom/iftoolkits/litoolkit/DigitalPreservation\n",
      "\n",
      "Library of Congress. (n.d.). Digital preservation. Retrieved from https://www.loc.gov/preservation/digital/\n",
      "\n",
      "National Digital Stewardship Alliance. (2017). Levels of digital preservation. Retrieved from https://ndsa.org//activities/levels-of-digital-preservation/\n",
      "\n",
      "World Digital Library. (n.d.). About the World Digital Library. Retrieved from https://www.wdl.org/en/about/\n",
      "\n",
      "Information Today. (n.d.). Digital preservation. Retrieved from http://www.infotoday.com/IT/links/Digital_Preservation.shtml\n",
      "\n",
      "###\n",
      "\n",
      "\n"
     ]
    },
    {
     "data": {
      "text/markdown": [
       "Evaluation:\n",
       "\n",
       "1. Relevance and depth of the chosen topic: The chosen topic, \"Digital Preservation in Library Science,\" is highly relevant to the library science program. The report provides a comprehensive overview of the importance, challenges, and best practices in digital preservation. Grade: 10/10\n",
       "\n",
       "2. Clarity and accuracy of the information presented: The information presented in the report is clear and accurate. The authors have effectively explained the importance of digital preservation, the challenges it faces, and the best practices for libraries to adopt. Grade: 10/10\n",
       "\n",
       "3. Effectiveness of ChatGPT usage in creating the educational material: The authors have effectively used ChatGPT to create educational material on digital preservation. The report is well-structured, with clear explanations, examples, and illustrations. Grade: 10/10\n",
       "\n",
       "4. Organization and presentation of the content: The content is well-organized and presented in a logical order. The report includes an introduction, sections on the importance of digital preservation, challenges, best practices, and a conclusion. Grade: 10/10\n",
       "\n",
       "5. Quality of the bibliography and adherence to citation standards: The bibliography includes relevant sources and adheres to the APA citation style. Grade: 10/10\n",
       "\n",
       "Overall Grade: 50/50\n",
       "\n",
       "The report on \"Digital Preservation in Library Science\" is an excellent example of educational material created using ChatGPT. The authors have chosen a relevant topic, presented clear and accurate information, and effectively used ChatGPT to create a well-organized and informative report. The bibliography is of high quality and adheres to citation standards. The report meets all evaluation criteria and deserves a perfect score."
      ],
      "text/plain": [
       "<IPython.core.display.Markdown object>"
      ]
     },
     "metadata": {},
     "output_type": "display_data"
    },
    {
     "data": {
      "text/plain": [
       "'Evaluation:\\n\\n1. Relevance and depth of the chosen topic: The chosen topic, \"Digital Preservation in Library Science,\" is highly relevant to the library science program. The report provides a comprehensive overview of the importance, challenges, and best practices in digital preservation. Grade: 10/10\\n\\n2. Clarity and accuracy of the information presented: The information presented in the report is clear and accurate. The authors have effectively explained the importance of digital preservation, the challenges it faces, and the best practices for libraries to adopt. Grade: 10/10\\n\\n3. Effectiveness of ChatGPT usage in creating the educational material: The authors have effectively used ChatGPT to create educational material on digital preservation. The report is well-structured, with clear explanations, examples, and illustrations. Grade: 10/10\\n\\n4. Organization and presentation of the content: The content is well-organized and presented in a logical order. The report includes an introduction, sections on the importance of digital preservation, challenges, best practices, and a conclusion. Grade: 10/10\\n\\n5. Quality of the bibliography and adherence to citation standards: The bibliography includes relevant sources and adheres to the APA citation style. Grade: 10/10\\n\\nOverall Grade: 50/50\\n\\nThe report on \"Digital Preservation in Library Science\" is an excellent example of educational material created using ChatGPT. The authors have chosen a relevant topic, presented clear and accurate information, and effectively used ChatGPT to create a well-organized and informative report. The bibliography is of high quality and adheres to citation standards. The report meets all evaluation criteria and deserves a perfect score.'"
      ]
     },
     "execution_count": 19,
     "metadata": {},
     "output_type": "execute_result"
    }
   ],
   "source": [
    "prompt = f\"\"\"\n",
    "I am a university professor for the Introduction to Computer Science class \\\n",
    "in the Library Science program. This class is in the first semester. \\\n",
    "\n",
    "Grade the homework delimited by \"###\" by knowing that the instructions along with \\\n",
    "evalutaion criteria are delimited by \"```\". \\\n",
    "\n",
    "For evaluation criteria, justify the grade you will assign. \\\n",
    "\n",
    "```\n",
    "Assignment: Creating Educational Material using ChatGPT\\n\\nObjective: In this assignment, you will work in pairs to create educational material on a topic related to library science or the library science program using ChatGPT. The goal is to learn how to use ChatGPT effectively and to deepen your understanding of the chosen topic.\\n\\nInstructions:\\n\\n1. Form pairs and choose a topic related to library science or the library science program.\\n2. Research the chosen topic using reliable sources and gather relevant information.\\n3. Use ChatGPT to help you create educational material on your chosen topic. This can include explanations, examples, and illustrations.\\n4. The educational material should be in the form of a report, which can be used to teach the content to others.\\n5. Include a bibliography of the sources you used for your research.\\n\\nEvaluation Criteria:\\n\\nYour submission will be evaluated based on the following criteria:\\n\\n1. Relevance and depth of the chosen topic.\\n2. Clarity and accuracy of the information presented.\\n3. Effectiveness of ChatGPT usage in creating the educational material.\\n4. Organization and presentation of the content.\\n5. Quality of the bibliography and adherence to citation standards.\\n\\nWord Limit: The report should be between 1,500 and 2,000 words.\\n\\nDeadline: The assignment is due in 14 days from the date of this announcement.\\n\\nAdditional Criteria:\\n\\n1. The assignment must be completed in pairs. Each pair should submit one report.\\n2. Use APA citation style for your bibliography.\\n3. Include a cover page with your names, the chosen topic, and the date of submission.\\n\\nStudy References:\\n\\n1. ChatGPT: https://beta.openai.com/\\n2. American Library Association: http://www.ala.org/\\n3. Library of Congress: https://www.loc.gov/\\n4. World Digital Library: https://www.wdl.org/en/\\n5. Information Today: http://www.infotoday.com/\\n\\nNote: Make sure to use additional sources specific to your chosen topic.\n",
    "\n",
    "```\n",
    "\n",
    "###\n",
    "Title: Digital Preservation in Library Science\n",
    "\n",
    "Authors: [Your Name] and [Your Partner's Name]\n",
    "\n",
    "Date of Submission: [Date]\n",
    "\n",
    "Introduction\n",
    "\n",
    "Digital preservation is the process of maintaining and ensuring the long-term accessibility of digital information. In the context of library science, digital preservation plays a crucial role in safeguarding the cultural and intellectual heritage of society. This report aims to provide an overview of digital preservation, its importance, challenges, and best practices in library science.\n",
    "\n",
    "    Importance of Digital Preservation in Library Science\n",
    "\n",
    "Digital preservation is essential in library science for several reasons:\n",
    "\n",
    "1.1. Ensuring Access to Digital Content\n",
    "\n",
    "As more information is created and stored digitally, libraries must ensure that this content remains accessible for future generations. Digital preservation helps maintain the integrity and usability of digital resources, allowing libraries to provide access to their collections over time.\n",
    "\n",
    "1.2. Safeguarding Cultural Heritage\n",
    "\n",
    "Libraries play a crucial role in preserving the cultural and intellectual heritage of society. Digital preservation helps libraries protect and maintain digital resources, ensuring that valuable information is not lost due to technological obsolescence or degradation.\n",
    "\n",
    "1.3. Legal and Ethical Obligations\n",
    "\n",
    "Libraries have legal and ethical obligations to preserve their collections. Digital preservation helps libraries meet these obligations by providing a framework for the long-term management and preservation of digital resources.\n",
    "\n",
    "    Challenges in Digital Preservation\n",
    "\n",
    "Digital preservation faces several challenges, including:\n",
    "\n",
    "2.1. Technological Obsolescence\n",
    "\n",
    "As technology evolves, older formats and systems become obsolete, making it difficult to access and preserve digital content. Libraries must continually update their preservation strategies to ensure compatibility with new technologies.\n",
    "\n",
    "2.2. Resource Constraints\n",
    "\n",
    "Digital preservation requires significant resources, including skilled staff, storage infrastructure, and funding. Libraries must balance these needs with other priorities, making it challenging to allocate sufficient resources for digital preservation.\n",
    "\n",
    "2.3. Metadata and Standardization\n",
    "\n",
    "Metadata is essential for the organization, discovery, and preservation of digital resources. However, the lack of standardization in metadata practices can make it difficult to manage and preserve digital collections effectively.\n",
    "\n",
    "    Best Practices in Digital Preservation\n",
    "\n",
    "To address these challenges, libraries should adopt best practices in digital preservation, including:\n",
    "\n",
    "3.1. Develop a Digital Preservation Policy\n",
    "\n",
    "A digital preservation policy provides a framework for the long-term management and preservation of digital resources. It should outline the library's goals, responsibilities, and strategies for digital preservation.\n",
    "\n",
    "3.2. Implement a Digital Preservation System\n",
    "\n",
    "A digital preservation system is a set of tools and processes that help libraries manage, preserve, and provide access to digital resources. Libraries should select a system that meets their needs and is compatible with their existing infrastructure.\n",
    "\n",
    "3.3. Adopt Metadata Standards\n",
    "\n",
    "Libraries should adopt metadata standards to ensure the consistent description and organization of digital resources. This can help improve the discoverability and preservation of digital collections.\n",
    "\n",
    "3.4. Collaborate with Other Institutions\n",
    "\n",
    "Collaboration with other institutions can help libraries share resources, expertise, and best practices in digital preservation. This can lead to more efficient and effective preservation strategies.\n",
    "\n",
    "Conclusion\n",
    "\n",
    "Digital preservation is a critical aspect of library science, ensuring the long-term accessibility and preservation of digital resources. By understanding the challenges and adopting best practices, libraries can effectively safeguard their digital collections and contribute to the preservation of society's cultural and intellectual heritage.\n",
    "\n",
    "Bibliography\n",
    "\n",
    "American Library Association. (n.d.). Digital preservation. Retrieved from http://www.ala.org/advocacy/intfreedom/iftoolkits/litoolkit/DigitalPreservation\n",
    "\n",
    "Library of Congress. (n.d.). Digital preservation. Retrieved from https://www.loc.gov/preservation/digital/\n",
    "\n",
    "National Digital Stewardship Alliance. (2017). Levels of digital preservation. Retrieved from https://ndsa.org//activities/levels-of-digital-preservation/\n",
    "\n",
    "World Digital Library. (n.d.). About the World Digital Library. Retrieved from https://www.wdl.org/en/about/\n",
    "\n",
    "Information Today. (n.d.). Digital preservation. Retrieved from http://www.infotoday.com/IT/links/Digital_Preservation.shtml\n",
    "\n",
    "###\n",
    "\n",
    "\"\"\"\n",
    "print_prompt_answer(prompt, display_prompt=True) \n",
    "\n"
   ]
  },
  {
   "cell_type": "markdown",
   "id": "aa92b920",
   "metadata": {},
   "source": [
    "### Analyzing the result: Analyze-Improve-Execute\n",
    "\n",
    "- Very good!\n",
    "- Let's look for some evaluation insights to avoid cheating"
   ]
  },
  {
   "cell_type": "code",
   "execution_count": 20,
   "id": "f750f2d8",
   "metadata": {
    "scrolled": false
   },
   "outputs": [
    {
     "data": {
      "text/markdown": [
       "### Prompt"
      ],
      "text/plain": [
       "<IPython.core.display.Markdown object>"
      ]
     },
     "metadata": {},
     "output_type": "display_data"
    },
    {
     "name": "stdout",
     "output_type": "stream",
     "text": [
      "\n",
      "I am a university professor for the Introduction to Computer Science class in the Library Science program. This class is in the first semester. \n",
      "What is the best way to evaluate the assignment I gave to the class that is delimited by \"```\"? Keep in mind that I want to avoid students copying work from the Web or ChatGPT. \n",
      "```\n",
      "Assignment: Creating Educational Material using ChatGPT\n",
      "\n",
      "Objective: In this assignment, you will work in pairs to create educational material on a topic related to library science or the library science program using ChatGPT. The goal is to learn how to use ChatGPT effectively and to deepen your understanding of the chosen topic.\n",
      "\n",
      "Instructions:\n",
      "\n",
      "1. Form pairs and choose a topic related to library science or the library science program.\n",
      "2. Research the chosen topic using reliable sources and gather relevant information.\n",
      "3. Use ChatGPT to help you create educational material on your chosen topic. This can include explanations, examples, and illustrations.\n",
      "4. The educational material should be in the form of a report, which can be used to teach the content to others.\n",
      "5. Include a bibliography of the sources you used for your research.\n",
      "\n",
      "Evaluation Criteria:\n",
      "\n",
      "Your submission will be evaluated based on the following criteria:\n",
      "\n",
      "1. Relevance and depth of the chosen topic.\n",
      "2. Clarity and accuracy of the information presented.\n",
      "3. Effectiveness of ChatGPT usage in creating the educational material.\n",
      "4. Organization and presentation of the content.\n",
      "5. Quality of the bibliography and adherence to citation standards.\n",
      "\n",
      "Word Limit: The report should be between 1,500 and 2,000 words.\n",
      "\n",
      "Deadline: The assignment is due in 14 days from the date of this announcement.\n",
      "\n",
      "Additional Criteria:\n",
      "\n",
      "1. The assignment must be completed in pairs. Each pair should submit one report.\n",
      "2. Use APA citation style for your bibliography.\n",
      "3. Include a cover page with your names, the chosen topic, and the date of submission.\n",
      "\n",
      "Study References:\n",
      "\n",
      "1. ChatGPT: https://beta.openai.com/\n",
      "2. American Library Association: http://www.ala.org/\n",
      "3. Library of Congress: https://www.loc.gov/\n",
      "4. World Digital Library: https://www.wdl.org/en/\n",
      "5. Information Today: http://www.infotoday.com/\n",
      "\n",
      "Note: Make sure to use additional sources specific to your chosen topic.\n",
      "\n",
      "```\n",
      "\n"
     ]
    },
    {
     "data": {
      "text/markdown": [
       "To evaluate the assignment effectively and avoid plagiarism from the Web or ChatGPT, you can follow these steps:\n",
       "\n",
       "1. Use plagiarism detection software: Before evaluating the content, run the submitted assignments through plagiarism detection software like Turnitin or Copyscape to ensure the originality of the work.\n",
       "\n",
       "2. Check for understanding of the topic: Evaluate the relevance and depth of the chosen topic. Ensure that the students have demonstrated a clear understanding of the topic and have provided accurate information.\n",
       "\n",
       "3. Assess the use of ChatGPT: Determine how effectively the students have used ChatGPT in creating their educational material. Look for instances where ChatGPT has been used to enhance the content, such as providing clear explanations, examples, or illustrations.\n",
       "\n",
       "4. Evaluate organization and presentation: Assess the overall organization and presentation of the content. Check if the report is well-structured, with a clear introduction, body, and conclusion. The content should be easy to follow and understand.\n",
       "\n",
       "5. Review the bibliography: Examine the bibliography to ensure that the students have used reliable sources and adhered to the APA citation style. The quality of the sources used can also indicate the depth of research conducted by the students.\n",
       "\n",
       "6. Encourage peer review: Have students review each other's work to provide feedback and identify potential issues. This can help improve the quality of the assignments and ensure that the students understand the content.\n",
       "\n",
       "7. Conduct an oral presentation or discussion: Ask the students to present their work in class or participate in a discussion about their chosen topic. This can help you gauge their understanding of the topic and the extent to which they have engaged with the material.\n",
       "\n",
       "By following these steps, you can effectively evaluate the assignments while minimizing the chances of plagiarism and ensuring that the students have genuinely engaged with the content and used ChatGPT effectively."
      ],
      "text/plain": [
       "<IPython.core.display.Markdown object>"
      ]
     },
     "metadata": {},
     "output_type": "display_data"
    },
    {
     "data": {
      "text/plain": [
       "\"To evaluate the assignment effectively and avoid plagiarism from the Web or ChatGPT, you can follow these steps:\\n\\n1. Use plagiarism detection software: Before evaluating the content, run the submitted assignments through plagiarism detection software like Turnitin or Copyscape to ensure the originality of the work.\\n\\n2. Check for understanding of the topic: Evaluate the relevance and depth of the chosen topic. Ensure that the students have demonstrated a clear understanding of the topic and have provided accurate information.\\n\\n3. Assess the use of ChatGPT: Determine how effectively the students have used ChatGPT in creating their educational material. Look for instances where ChatGPT has been used to enhance the content, such as providing clear explanations, examples, or illustrations.\\n\\n4. Evaluate organization and presentation: Assess the overall organization and presentation of the content. Check if the report is well-structured, with a clear introduction, body, and conclusion. The content should be easy to follow and understand.\\n\\n5. Review the bibliography: Examine the bibliography to ensure that the students have used reliable sources and adhered to the APA citation style. The quality of the sources used can also indicate the depth of research conducted by the students.\\n\\n6. Encourage peer review: Have students review each other's work to provide feedback and identify potential issues. This can help improve the quality of the assignments and ensure that the students understand the content.\\n\\n7. Conduct an oral presentation or discussion: Ask the students to present their work in class or participate in a discussion about their chosen topic. This can help you gauge their understanding of the topic and the extent to which they have engaged with the material.\\n\\nBy following these steps, you can effectively evaluate the assignments while minimizing the chances of plagiarism and ensuring that the students have genuinely engaged with the content and used ChatGPT effectively.\""
      ]
     },
     "execution_count": 20,
     "metadata": {},
     "output_type": "execute_result"
    }
   ],
   "source": [
    "prompt = f\"\"\"\n",
    "I am a university professor for the Introduction to Computer Science class \\\n",
    "in the Library Science program. This class is in the first semester. \\\n",
    "\n",
    "What is the best way to evaluate the assignment I gave to the class that is delimited by \"```\"? \\\n",
    "Keep in mind that I want to avoid students copying work from the Web or ChatGPT. \\\n",
    "\n",
    "```\n",
    "Assignment: Creating Educational Material using ChatGPT\\n\\nObjective: In this assignment, you will work in pairs to create educational material on a topic related to library science or the library science program using ChatGPT. The goal is to learn how to use ChatGPT effectively and to deepen your understanding of the chosen topic.\\n\\nInstructions:\\n\\n1. Form pairs and choose a topic related to library science or the library science program.\\n2. Research the chosen topic using reliable sources and gather relevant information.\\n3. Use ChatGPT to help you create educational material on your chosen topic. This can include explanations, examples, and illustrations.\\n4. The educational material should be in the form of a report, which can be used to teach the content to others.\\n5. Include a bibliography of the sources you used for your research.\\n\\nEvaluation Criteria:\\n\\nYour submission will be evaluated based on the following criteria:\\n\\n1. Relevance and depth of the chosen topic.\\n2. Clarity and accuracy of the information presented.\\n3. Effectiveness of ChatGPT usage in creating the educational material.\\n4. Organization and presentation of the content.\\n5. Quality of the bibliography and adherence to citation standards.\\n\\nWord Limit: The report should be between 1,500 and 2,000 words.\\n\\nDeadline: The assignment is due in 14 days from the date of this announcement.\\n\\nAdditional Criteria:\\n\\n1. The assignment must be completed in pairs. Each pair should submit one report.\\n2. Use APA citation style for your bibliography.\\n3. Include a cover page with your names, the chosen topic, and the date of submission.\\n\\nStudy References:\\n\\n1. ChatGPT: https://beta.openai.com/\\n2. American Library Association: http://www.ala.org/\\n3. Library of Congress: https://www.loc.gov/\\n4. World Digital Library: https://www.wdl.org/en/\\n5. Information Today: http://www.infotoday.com/\\n\\nNote: Make sure to use additional sources specific to your chosen topic.\n",
    "\n",
    "```\n",
    "\"\"\"\n",
    "print_prompt_answer(prompt, display_prompt=True) \n",
    "\n"
   ]
  },
  {
   "cell_type": "markdown",
   "id": "556f82a3",
   "metadata": {},
   "source": [
    "### Analyzing the result: Analyze-Improve-Execute\n",
    "\n",
    "- Great!\n",
    "- Let's look for some motivation for the students :-)"
   ]
  },
  {
   "cell_type": "code",
   "execution_count": 21,
   "id": "0d2fa8c8",
   "metadata": {},
   "outputs": [
    {
     "data": {
      "text/markdown": [
       "### Prompt"
      ],
      "text/plain": [
       "<IPython.core.display.Markdown object>"
      ]
     },
     "metadata": {},
     "output_type": "display_data"
    },
    {
     "name": "stdout",
     "output_type": "stream",
     "text": [
      "\n",
      "I am a university professor for the Introduction to Computer Science class in the Library Science program. This class is in the first semester. \n",
      "I assigned the task delimited by \"```\" to the class. \n",
      "Write a paragraph to raise students' awareness about the importance of completing the assignment and not plagiarizing from ChatGPT or other sources. \n",
      "```\n",
      "Assignment: Creating Educational Material using ChatGPT\n",
      "\n",
      "Objective: In this assignment, you will work in pairs to create educational material on a topic related to library science or the library science program using ChatGPT. The goal is to learn how to use ChatGPT effectively and to deepen your understanding of the chosen topic.\n",
      "\n",
      "Instructions:\n",
      "\n",
      "1. Form pairs and choose a topic related to library science or the library science program.\n",
      "2. Research the chosen topic using reliable sources and gather relevant information.\n",
      "3. Use ChatGPT to help you create educational material on your chosen topic. This can include explanations, examples, and illustrations.\n",
      "4. The educational material should be in the form of a report, which can be used to teach the content to others.\n",
      "5. Include a bibliography of the sources you used for your research.\n",
      "\n",
      "Evaluation Criteria:\n",
      "\n",
      "Your submission will be evaluated based on the following criteria:\n",
      "\n",
      "1. Relevance and depth of the chosen topic.\n",
      "2. Clarity and accuracy of the information presented.\n",
      "3. Effectiveness of ChatGPT usage in creating the educational material.\n",
      "4. Organization and presentation of the content.\n",
      "5. Quality of the bibliography and adherence to citation standards.\n",
      "\n",
      "Word Limit: The report should be between 1,500 and 2,000 words.\n",
      "\n",
      "Deadline: The assignment is due in 14 days from the date of this announcement.\n",
      "\n",
      "Additional Criteria:\n",
      "\n",
      "1. The assignment must be completed in pairs. Each pair should submit one report.\n",
      "2. Use APA citation style for your bibliography.\n",
      "3. Include a cover page with your names, the chosen topic, and the date of submission.\n",
      "\n",
      "Study References:\n",
      "\n",
      "1. ChatGPT: https://beta.openai.com/\n",
      "2. American Library Association: http://www.ala.org/\n",
      "3. Library of Congress: https://www.loc.gov/\n",
      "4. World Digital Library: https://www.wdl.org/en/\n",
      "5. Information Today: http://www.infotoday.com/\n",
      "\n",
      "Note: Make sure to use additional sources specific to your chosen topic.\n",
      "\n",
      "```\n",
      "\n"
     ]
    },
    {
     "data": {
      "text/markdown": [
       "Dear students,\n",
       "\n",
       "As we embark on this exciting assignment, I would like to emphasize the importance of completing the task with integrity and dedication. Creating educational material using ChatGPT is an opportunity for you to deepen your understanding of library science topics and develop valuable skills in using AI tools. It is crucial that you work diligently with your partner, conduct thorough research, and create original content.\n",
       "\n",
       "Please remember that plagiarism, including copying content from ChatGPT or other sources without proper attribution, is a serious academic offense. It not only undermines your learning experience but also discredits the hard work of your peers. By completing this assignment with honesty and originality, you contribute to a culture of academic integrity and uphold the values of our university.\n",
       "\n",
       "I encourage you to take this opportunity to explore new ideas, collaborate effectively, and create high-quality educational material that reflects your understanding and effort. Your commitment to this assignment will not only benefit your academic growth but also help you become a responsible and ethical professional in the field of library science."
      ],
      "text/plain": [
       "<IPython.core.display.Markdown object>"
      ]
     },
     "metadata": {},
     "output_type": "display_data"
    },
    {
     "data": {
      "text/plain": [
       "'Dear students,\\n\\nAs we embark on this exciting assignment, I would like to emphasize the importance of completing the task with integrity and dedication. Creating educational material using ChatGPT is an opportunity for you to deepen your understanding of library science topics and develop valuable skills in using AI tools. It is crucial that you work diligently with your partner, conduct thorough research, and create original content.\\n\\nPlease remember that plagiarism, including copying content from ChatGPT or other sources without proper attribution, is a serious academic offense. It not only undermines your learning experience but also discredits the hard work of your peers. By completing this assignment with honesty and originality, you contribute to a culture of academic integrity and uphold the values of our university.\\n\\nI encourage you to take this opportunity to explore new ideas, collaborate effectively, and create high-quality educational material that reflects your understanding and effort. Your commitment to this assignment will not only benefit your academic growth but also help you become a responsible and ethical professional in the field of library science.'"
      ]
     },
     "execution_count": 21,
     "metadata": {},
     "output_type": "execute_result"
    }
   ],
   "source": [
    "prompt = f\"\"\"\n",
    "I am a university professor for the Introduction to Computer Science class \\\n",
    "in the Library Science program. This class is in the first semester. \\\n",
    "\n",
    "I assigned the task delimited by \"```\" to the class. \\\n",
    "\n",
    "Write a paragraph to raise students' awareness about the importance of completing \\\n",
    "the assignment and not plagiarizing from ChatGPT or other sources. \\\n",
    "\n",
    "```\n",
    "Assignment: Creating Educational Material using ChatGPT\\n\\nObjective: In this assignment, you will work in pairs to create educational material on a topic related to library science or the library science program using ChatGPT. The goal is to learn how to use ChatGPT effectively and to deepen your understanding of the chosen topic.\\n\\nInstructions:\\n\\n1. Form pairs and choose a topic related to library science or the library science program.\\n2. Research the chosen topic using reliable sources and gather relevant information.\\n3. Use ChatGPT to help you create educational material on your chosen topic. This can include explanations, examples, and illustrations.\\n4. The educational material should be in the form of a report, which can be used to teach the content to others.\\n5. Include a bibliography of the sources you used for your research.\\n\\nEvaluation Criteria:\\n\\nYour submission will be evaluated based on the following criteria:\\n\\n1. Relevance and depth of the chosen topic.\\n2. Clarity and accuracy of the information presented.\\n3. Effectiveness of ChatGPT usage in creating the educational material.\\n4. Organization and presentation of the content.\\n5. Quality of the bibliography and adherence to citation standards.\\n\\nWord Limit: The report should be between 1,500 and 2,000 words.\\n\\nDeadline: The assignment is due in 14 days from the date of this announcement.\\n\\nAdditional Criteria:\\n\\n1. The assignment must be completed in pairs. Each pair should submit one report.\\n2. Use APA citation style for your bibliography.\\n3. Include a cover page with your names, the chosen topic, and the date of submission.\\n\\nStudy References:\\n\\n1. ChatGPT: https://beta.openai.com/\\n2. American Library Association: http://www.ala.org/\\n3. Library of Congress: https://www.loc.gov/\\n4. World Digital Library: https://www.wdl.org/en/\\n5. Information Today: http://www.infotoday.com/\\n\\nNote: Make sure to use additional sources specific to your chosen topic.\n",
    "\n",
    "```\n",
    "\"\"\"\n",
    "print_prompt_answer(prompt, display_prompt=True) \n"
   ]
  },
  {
   "cell_type": "code",
   "execution_count": null,
   "id": "1e778264",
   "metadata": {},
   "outputs": [],
   "source": []
  }
 ],
 "metadata": {
  "kernelspec": {
   "display_name": "Python 3 (ipykernel)",
   "language": "python",
   "name": "python3"
  },
  "language_info": {
   "codemirror_mode": {
    "name": "ipython",
    "version": 3
   },
   "file_extension": ".py",
   "mimetype": "text/x-python",
   "name": "python",
   "nbconvert_exporter": "python",
   "pygments_lexer": "ipython3",
   "version": "3.11.3"
  }
 },
 "nbformat": 4,
 "nbformat_minor": 5
}
