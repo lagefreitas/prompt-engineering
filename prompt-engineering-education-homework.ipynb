{
 "cells": [
  {
   "cell_type": "markdown",
   "id": "e19c6f14",
   "metadata": {},
   "source": [
    "# <center>Prompt Engineering with ChatGPT 4</center>\n",
    "\n",
    "# <center>Education: Creating a ChatGPT Homework (Plot Twist!)</center>\n",
    "\n",
    "<div style=\"text-align: right\">Versão 2023-05-11</div>\n",
    "\n",
    "## **André Lage Freitas** \n",
    "- **Associate Professor** at Universidade Federal de Alagoas (UFAL)\n",
    "- **PhD in Computer Science** from the [_Institut National des Sciences Appliquées de Rennes_ (France)](https://www.insa-rennes.fr/)\n",
    "- [This Tutorial at Youtube TODO](https://www.youtube.com/channel/UCLPXTzvZ8IFrU6hBTeo1C-Q)\n",
    "  - [Follow on LinkedIn](www.linkedin.com/comm/mynetwork/discovery-see-all?usecase=PEOPLE_FOLLOWS&followMember=lage), [Follow on YouTube](https://www.youtube.com/channel/UCLPXTzvZ8IFrU6hBTeo1C-Q)\n",
    "\n",
    "\n",
    "## Bilingual Notebook ENGLISH\n",
    "\n",
    "This tutorial is available in both English and Portuguese. The Portuguese version is presented right after the English version.\n",
    "\n",
    "## Notebook Bilíngue PORTUGUÊS\n",
    "\n",
    "Esse tutorial está disponível em inglês e português. Logo após a versão em inglês, é apresentada a versão em português.\n",
    "\n",
    "## Ethical Disclaimer\n",
    "\n",
    "The use of ChatGPT or any AI technology in education should be approached with ethical considerations. While ChatGPT can be a valuable tool for learning and generating content, it is important to acknowledge its limitations and potential biases. The generated responses may not always be accurate or reliable, and it is crucial for educators and students to critically evaluate the information provided by ChatGPT.\n",
    "\n",
    "Furthermore, the responsibility lies with the educator to ensure that the assignments and prompts are appropriate, fair, and aligned with the learning objectives. Students should understand that ChatGPT is a tool to support their learning process and should not replace their own critical thinking and engagement with the subject matter. It is essential to foster a learning environment that encourages open discussions, critical analysis, and the development of ethical AI practices. Educators and students should continuously reflect on the implications and impacts of integrating AI technologies like ChatGPT in educational settings.\n",
    "\n",
    "## Aviso Ético\n",
    "\n",
    "O uso do ChatGPT ou qualquer tecnologia de IA na educação deve ser abordado com considerações éticas. Embora o ChatGPT possa ser uma ferramenta valiosa para aprendizado e geração de conteúdo, é importante reconhecer suas limitações e possíveis viéses. As respostas geradas nem sempre são precisas ou confiáveis, sendo crucial que educadores e alunos avaliem criticamente as informações fornecidas pelo ChatGPT.\n",
    "\n",
    "Além disso, a responsabilidade recai sobre o educador em garantir que as tarefas e instruções sejam apropriadas, justas e alinhadas aos objetivos de aprendizado. Os alunos devem entender que o ChatGPT é uma ferramenta de apoio ao processo de aprendizado e não substitui o pensamento crítico e envolvimento com o conteúdo. É fundamental promover um ambiente de aprendizado que incentive discussões abertas, análise crítica e o desenvolvimento de práticas éticas em IA. Educadores e alunos devem refletir continuamente sobre as implicações e impactos da integração de tecnologias de IA, como o ChatGPT, em ambientes educacionais.\n",
    "\n",
    "## Goal and Plot Twist\n",
    "\n",
    "In a class, I was teaching the students how to use ChatGPT. As an example, I showed them how I would outline their assignment using ChatGPT. I realized that at the end of the prompt that generated the assignment specification, I could get ChatGPT to do the work itself.\n",
    "\n",
    "So, I thought of another way to assess and it became the plot twist of the assignment. Follow this tutorial and you will see :-)\n",
    "\n",
    "## Objetivo e Plot Twist\n",
    "\n",
    "Em uma aula, fui ensinar à turma a usar o ChatGPT. Como exemplo, fui mostrar como eu iria especificar o tarbalho deles usando o ChatGPT. Percebi que, no final do prompt que gerava a especificação do trabalho, eu conseguiria fazer o ChatGPT fazer o trabalho. \n",
    "\n",
    "Então, pensei em outra forma de avaliar e se tornou o Plot Twist do trabalho. Acompanhe esse tutorial e verá :-)"
   ]
  },
  {
   "cell_type": "code",
   "execution_count": 1,
   "id": "dd12d0c0",
   "metadata": {},
   "outputs": [],
   "source": [
    "# openai API setup\n",
    "import os\n",
    "import openai\n",
    "openai.api_key = os.getenv(\"OPENAI_API_KEY\")\n",
    "\n",
    "# função para simplicar a chamada da API\n",
    "def get_completion(prompt, model=\"gpt-4\", temperature=0): \n",
    "# def get_completion(prompt, model=\"gpt-3.5-turbo\"): \n",
    "    messages = [{\"role\": \"user\", \"content\": prompt}]\n",
    "    response = openai.ChatCompletion.create(\n",
    "        model=model,\n",
    "        messages=messages,\n",
    "        temperature=temperature, \n",
    "#         max_tokens=7500,\n",
    "    )\n",
    "    return response.choices[0].message[\"content\"]\n",
    "\n",
    "# to print in Markdown style\n",
    "from IPython.display import display, Markdown\n",
    "\n",
    "def print_prompt_answer(prompt, output_format=\"markdown\", display_prompt=False, temperature=0):\n",
    "    if display_prompt:\n",
    "        display(Markdown(\"### Prompt\"))\n",
    "        print(prompt)\n",
    "#         display(Markdown(prompt)) \n",
    "\n",
    "    response = get_completion(prompt, temperature=temperature)\n",
    "    \n",
    "    if output_format == \"markdown\":\n",
    "        display(Markdown(response))\n",
    "    else:    \n",
    "        print(response)\n",
    "    return response\n",
    "    "
   ]
  },
  {
   "cell_type": "markdown",
   "id": "d0721cf2",
   "metadata": {},
   "source": [
    "## ChatGPT\n",
    "\n",
    "- A technology that uses machine learning techniques to develop an AI tool that answers generic or specific questions.\n",
    "\n",
    "## ChatGPT\n",
    "\n",
    "- Uma tecnologia que utiliza técnicas de aprendizado de máquina para desenvolver uma ferramenta de IA que responde perguntas genéricas ou específicas\n",
    "\n",
    "\n",
    "## Overview of ChatGPT Prompting\n",
    "\n",
    "1. Introduce the context.\n",
    "2. Be precise, specific, and avoid ambiguity.\n",
    "   - Remember the example of \"Touro\" (animal) vs. \"Toro\" (car from FIAT).\n",
    "3. Interact multiple times! Improve your prompt in a spiral manner.\n",
    "   1. Read the output and analyze the response.\n",
    "   2. Increment/improve the prompt.\n",
    "   3. Run the prompt.\n",
    "4. Provide example(s) if necessary.\n",
    "5. Place input texts delimited by \"```\".\n",
    "\n",
    "## Visão geral sobre ChatGPT Prompting\n",
    "\n",
    "1. Introduza o contexto\n",
    "1. Seja precisos, específicos e evitem ambiguidade.\n",
    "   - Lembre-se do exemplo do Touro (animal) vs. Toro (carro da FIAT)\n",
    "1. Interaja várias vezes! Melhore seu prompt como uma espiral\n",
    "   1. Leia o resultado e analise a resposta\n",
    "   1. Incremente/melhore  o prompt\n",
    "   1. Execute o prompt\n",
    "1. Dê exemplo(s) se necessário\n",
    "1. Coloque textos de entrada delimitados por \"```\" \n",
    "\n",
    "\n",
    "## Let's go!\n",
    "\n",
    "- Let's first try a naive approach just to test the model\n",
    "\n",
    "## Vamos nessa!\n",
    "\n",
    "- Vamos primeiro testar uma abordagem ingênua para testar o modelo"
   ]
  },
  {
   "cell_type": "code",
   "execution_count": 15,
   "id": "dabea51a",
   "metadata": {},
   "outputs": [
    {
     "data": {
      "text/markdown": [
       "### Prompt"
      ],
      "text/plain": [
       "<IPython.core.display.Markdown object>"
      ]
     },
     "metadata": {},
     "output_type": "display_data"
    },
    {
     "name": "stdout",
     "output_type": "stream",
     "text": [
      "\n",
      "What should I assign as homework to the class?\n",
      "\n"
     ]
    },
    {
     "data": {
      "text/markdown": [
       "It depends on the subject and grade level of the class. Here are some suggestions for different subjects:\n",
       "\n",
       "1. Math: Assign a set of problems from the textbook or an online resource that cover the concepts taught in class. You can also assign a project where students have to apply the mathematical concepts to real-life situations.\n",
       "\n",
       "2. English/Language Arts: Assign a reading from a novel, short story, or poem, and ask students to write a response or analysis. Alternatively, you can assign a creative writing prompt or a grammar exercise.\n",
       "\n",
       "3. Science: Assign a lab report based on an experiment conducted in class, or ask students to research a specific topic related to the lesson and write a summary or create a presentation.\n",
       "\n",
       "4. History/Social Studies: Assign a reading from the textbook or a primary source document, and ask students to answer questions or write a reflection on the material. You can also assign a research project on a historical event or person.\n",
       "\n",
       "5. Foreign Language: Assign a set of vocabulary words or phrases to memorize and practice, or ask students to write a short paragraph or dialogue using the new vocabulary and grammar concepts learned in class.\n",
       "\n",
       "6. Art: Assign a sketchbook prompt or a small art project that relates to the techniques or concepts discussed in class.\n",
       "\n",
       "7. Music: Assign a listening assignment where students have to analyze a piece of music or practice a specific skill or technique on their instrument.\n",
       "\n",
       "Remember to consider the amount of time students will need to complete the assignment and try to balance the workload with other subjects."
      ],
      "text/plain": [
       "<IPython.core.display.Markdown object>"
      ]
     },
     "metadata": {},
     "output_type": "display_data"
    },
    {
     "data": {
      "text/plain": [
       "'It depends on the subject and grade level of the class. Here are some suggestions for different subjects:\\n\\n1. Math: Assign a set of problems from the textbook or an online resource that cover the concepts taught in class. You can also assign a project where students have to apply the mathematical concepts to real-life situations.\\n\\n2. English/Language Arts: Assign a reading from a novel, short story, or poem, and ask students to write a response or analysis. Alternatively, you can assign a creative writing prompt or a grammar exercise.\\n\\n3. Science: Assign a lab report based on an experiment conducted in class, or ask students to research a specific topic related to the lesson and write a summary or create a presentation.\\n\\n4. History/Social Studies: Assign a reading from the textbook or a primary source document, and ask students to answer questions or write a reflection on the material. You can also assign a research project on a historical event or person.\\n\\n5. Foreign Language: Assign a set of vocabulary words or phrases to memorize and practice, or ask students to write a short paragraph or dialogue using the new vocabulary and grammar concepts learned in class.\\n\\n6. Art: Assign a sketchbook prompt or a small art project that relates to the techniques or concepts discussed in class.\\n\\n7. Music: Assign a listening assignment where students have to analyze a piece of music or practice a specific skill or technique on their instrument.\\n\\nRemember to consider the amount of time students will need to complete the assignment and try to balance the workload with other subjects.'"
      ]
     },
     "execution_count": 15,
     "metadata": {},
     "output_type": "execute_result"
    }
   ],
   "source": [
    "prompt = f\"\"\"\n",
    "What should I assign as homework to the class?\n",
    "\"\"\"\n",
    "print_prompt_answer(prompt, display_prompt=True)"
   ]
  },
  {
   "cell_type": "code",
   "execution_count": null,
   "id": "3535fc3c",
   "metadata": {},
   "outputs": [],
   "source": [
    "prompt = f\"\"\"\n",
    "O que eu passo como trabalho para a turma?\n",
    "\"\"\"\n",
    "print_prompt_answer(prompt, display_prompt=True) \n"
   ]
  },
  {
   "cell_type": "markdown",
   "id": "bca6287a",
   "metadata": {},
   "source": [
    "### Analyzing the result: Analyze-Improve-Execute\n",
    "\n",
    "- It's too generic.\n",
    "- Let's introduce some context, specify better, etc.\n",
    "\n",
    "### Analisando o resultado: Analise-Melhore-Execute\n",
    "\n",
    "- Ficou muito genérico\n",
    "- Vamos introduzir um contexto, especificar melhor, etc."
   ]
  },
  {
   "cell_type": "code",
   "execution_count": 16,
   "id": "4b9f9824",
   "metadata": {},
   "outputs": [
    {
     "data": {
      "text/markdown": [
       "### Prompt"
      ],
      "text/plain": [
       "<IPython.core.display.Markdown object>"
      ]
     },
     "metadata": {},
     "output_type": "display_data"
    },
    {
     "name": "stdout",
     "output_type": "stream",
     "text": [
      "\n",
      "I am a university professor of the Introduction to Informatics class in the Library Science course.\n",
      "This class is in the first semester.\n",
      "\n",
      "Specify an evaluative assignment for the class, considering that:\n",
      "\n",
      "1. The objective is for them to learn how to use ChatGPT.\n",
      "2. Another objective is for them to learn a topic related to the subject or about the Library Science course.\n",
      "\n"
     ]
    },
    {
     "data": {
      "text/markdown": [
       "Evaluative Assignment: ChatGPT-Assisted Research Project\n",
       "\n",
       "Objective: The purpose of this assignment is to help students learn how to use ChatGPT effectively and to deepen their understanding of a topic related to Library Science.\n",
       "\n",
       "Instructions:\n",
       "\n",
       "1. Choose a topic: Select a topic related to Library Science or the course content that interests you. This could be anything from cataloging systems, digital libraries, information retrieval, to the role of libraries in society.\n",
       "\n",
       "2. Research using ChatGPT: Use ChatGPT as a research tool to gather information about your chosen topic. Take notes on the key points, concepts, and any relevant examples or case studies you find during your research.\n",
       "\n",
       "3. Supplement your research: In addition to using ChatGPT, consult at least two other sources (e.g., articles, books, or websites) to supplement your research. This will help you gain a more comprehensive understanding of your chosen topic.\n",
       "\n",
       "4. Write a report: Compile your research findings into a well-structured report of 1,000-1,500 words. Your report should include the following sections:\n",
       "\n",
       "   a. Introduction: Introduce your chosen topic and provide a brief overview of its relevance to Library Science.\n",
       "   \n",
       "   b. Background: Provide a brief history or background information on your topic, including any key concepts or terms that are essential to understanding it.\n",
       "   \n",
       "   c. Main findings: Present the main points, concepts, or ideas you discovered during your research with ChatGPT and other sources. Include any relevant examples or case studies to support your findings.\n",
       "   \n",
       "   d. Analysis: Analyze the information you gathered and discuss its implications for Library Science or the course content. You may also identify any gaps in the information or areas where further research is needed.\n",
       "   \n",
       "   e. Conclusion: Summarize your main findings and their significance for Library Science or the course content.\n",
       "   \n",
       "   f. References: List the sources you consulted during your research, including ChatGPT, using an appropriate citation style.\n",
       "\n",
       "5. Reflection: Write a 300-500 word reflection on your experience using ChatGPT as a research tool. Discuss its strengths and weaknesses, and how it influenced your research process. Also, reflect on how this assignment helped you learn more about your chosen topic and Library Science in general.\n",
       "\n",
       "Submission: Submit your research report and reflection as a single document in the specified format by the due date.\n",
       "\n",
       "Grading: Your assignment will be graded based on the quality and depth of your research, the clarity and organization of your report, your analysis of the information, and your reflection on the use of ChatGPT as a research tool."
      ],
      "text/plain": [
       "<IPython.core.display.Markdown object>"
      ]
     },
     "metadata": {},
     "output_type": "display_data"
    },
    {
     "data": {
      "text/plain": [
       "'Evaluative Assignment: ChatGPT-Assisted Research Project\\n\\nObjective: The purpose of this assignment is to help students learn how to use ChatGPT effectively and to deepen their understanding of a topic related to Library Science.\\n\\nInstructions:\\n\\n1. Choose a topic: Select a topic related to Library Science or the course content that interests you. This could be anything from cataloging systems, digital libraries, information retrieval, to the role of libraries in society.\\n\\n2. Research using ChatGPT: Use ChatGPT as a research tool to gather information about your chosen topic. Take notes on the key points, concepts, and any relevant examples or case studies you find during your research.\\n\\n3. Supplement your research: In addition to using ChatGPT, consult at least two other sources (e.g., articles, books, or websites) to supplement your research. This will help you gain a more comprehensive understanding of your chosen topic.\\n\\n4. Write a report: Compile your research findings into a well-structured report of 1,000-1,500 words. Your report should include the following sections:\\n\\n   a. Introduction: Introduce your chosen topic and provide a brief overview of its relevance to Library Science.\\n   \\n   b. Background: Provide a brief history or background information on your topic, including any key concepts or terms that are essential to understanding it.\\n   \\n   c. Main findings: Present the main points, concepts, or ideas you discovered during your research with ChatGPT and other sources. Include any relevant examples or case studies to support your findings.\\n   \\n   d. Analysis: Analyze the information you gathered and discuss its implications for Library Science or the course content. You may also identify any gaps in the information or areas where further research is needed.\\n   \\n   e. Conclusion: Summarize your main findings and their significance for Library Science or the course content.\\n   \\n   f. References: List the sources you consulted during your research, including ChatGPT, using an appropriate citation style.\\n\\n5. Reflection: Write a 300-500 word reflection on your experience using ChatGPT as a research tool. Discuss its strengths and weaknesses, and how it influenced your research process. Also, reflect on how this assignment helped you learn more about your chosen topic and Library Science in general.\\n\\nSubmission: Submit your research report and reflection as a single document in the specified format by the due date.\\n\\nGrading: Your assignment will be graded based on the quality and depth of your research, the clarity and organization of your report, your analysis of the information, and your reflection on the use of ChatGPT as a research tool.'"
      ]
     },
     "execution_count": 16,
     "metadata": {},
     "output_type": "execute_result"
    }
   ],
   "source": [
    "prompt = f\"\"\"\n",
    "I am a university professor of the Introduction to Informatics class in the Library Science course.\n",
    "This class is in the first semester.\n",
    "\n",
    "Specify an evaluative assignment for the class, considering that:\n",
    "\n",
    "1. The objective is for them to learn how to use ChatGPT.\n",
    "2. Another objective is for them to learn a topic related to the subject or about the Library Science course.\n",
    "\"\"\"\n",
    "print_prompt_answer(prompt, display_prompt=True)"
   ]
  },
  {
   "cell_type": "code",
   "execution_count": 17,
   "id": "4f224a17",
   "metadata": {},
   "outputs": [],
   "source": [
    "prompt = f\"\"\"\n",
    "Sou um professor universitário da turma de Introdução à Informática \\\n",
    "do curso de Biblioteconomia. \n",
    "Essa turma é do primero semestre. \\\n",
    "\n",
    "Especifique um trabalho avaliativo para a turma sabendo que: \\\n",
    "\n",
    "1. O objetivo é que eles aprendam a usar o ChatGPT. \\\n",
    "2. Outro objetivo é que eles aprendam um assunto relacionado à disciplina, \\\n",
    "ou sobre o curso de biblioteconomia. \\\n",
    "\"\"\"\n",
    "print_prompt_answer(prompt, display_prompt=True) \n"
   ]
  },
  {
   "cell_type": "markdown",
   "id": "089caca5",
   "metadata": {},
   "source": [
    "### Analyzing the result: Analyze-Improve-Execute\n",
    "\n",
    "- It failed to indicate the required time for completing the assignment.\n",
    "- It lacked specification on some points regarding submission and evaluation.\n",
    "- It didn't provide references for study materials.\n"
   ]
  },
  {
   "cell_type": "markdown",
   "id": "be9db780",
   "metadata": {},
   "source": [
    "### Analisando o resultado: Analise-Melhore-Execute\n",
    "\n",
    "- Faltou indicar o tempo necessário para a execução do trabalho.\n",
    "- Faltou especificar alguns pontos sobre a entrega e avaliação\n",
    "- Faltaram referências para materiais de estudo"
   ]
  },
  {
   "cell_type": "code",
   "execution_count": 18,
   "id": "5b9383a1",
   "metadata": {},
   "outputs": [
    {
     "data": {
      "text/markdown": [
       "### Prompt"
      ],
      "text/plain": [
       "<IPython.core.display.Markdown object>"
      ]
     },
     "metadata": {},
     "output_type": "display_data"
    },
    {
     "name": "stdout",
     "output_type": "stream",
     "text": [
      "\n",
      "I am a university professor of the Introduction to Informatics class in the Library Science course.\n",
      "This class is in the first semester.\n",
      "\n",
      "Specify an evaluative assignment for the class, considering that:\n",
      "\n",
      "1. The objective is for them to learn how to use ChatGPT.\n",
      "2. Another objective is for them to learn a topic related to the subject or about the Library Science course.\n",
      "3. The submission should be a report in the form of instructional material that teaches the content chosen by the student.\n",
      "4. Define the evaluation criteria, word limits, and any other criteria you deem relevant for learning.\n",
      "\n"
     ]
    },
    {
     "data": {
      "text/markdown": [
       "Assignment: Creating Instructional Material using ChatGPT\n",
       "\n",
       "Objective:\n",
       "The purpose of this assignment is to help students learn how to use ChatGPT effectively and to deepen their understanding of a topic related to Library Science. Students will create instructional material on a chosen topic, demonstrating their ability to use ChatGPT as a tool for research and content generation.\n",
       "\n",
       "Instructions:\n",
       "\n",
       "1. Choose a topic related to Library Science or the Introduction to Informatics course. This can be a specific concept, tool, or technique that you find interesting or relevant to your future career.\n",
       "\n",
       "2. Conduct research on your chosen topic using ChatGPT. Take notes on the information you gather and make sure to verify the accuracy of the information provided by ChatGPT.\n",
       "\n",
       "3. Create instructional material in the form of a report that teaches your chosen topic. This can be a step-by-step guide, a tutorial, or a lesson plan. Your instructional material should be clear, concise, and engaging.\n",
       "\n",
       "4. Use ChatGPT to help you generate content for your instructional material. This can include explanations, examples, or even questions to engage your audience.\n",
       "\n",
       "5. Submit your instructional material in a Word or PDF document.\n",
       "\n",
       "Evaluation Criteria:\n",
       "\n",
       "Your submission will be evaluated based on the following criteria:\n",
       "\n",
       "1. Content Accuracy: The information presented in your instructional material should be accurate and well-researched. You should demonstrate a deep understanding of your chosen topic.\n",
       "\n",
       "2. Clarity and Organization: Your instructional material should be well-organized, with a clear structure and logical flow. The content should be easy to understand and follow for your target audience.\n",
       "\n",
       "3. Use of ChatGPT: You should demonstrate effective use of ChatGPT as a research and content generation tool. This includes proper integration of information gathered from ChatGPT and the ability to generate engaging content using the AI.\n",
       "\n",
       "4. Creativity and Engagement: Your instructional material should be engaging and creative, capturing the interest of your audience and encouraging them to learn more about the topic.\n",
       "\n",
       "5. Formatting and Presentation: Your submission should be professionally formatted, with proper headings, subheadings, and citations (if applicable). The document should be free of grammatical and spelling errors.\n",
       "\n",
       "Word Limit:\n",
       "\n",
       "Your instructional material should be between 1,000 and 1,500 words in length.\n",
       "\n",
       "Submission Deadline:\n",
       "\n",
       "Please submit your assignment by [insert deadline here]. Late submissions will be subject to a penalty of [insert late submission policy here]."
      ],
      "text/plain": [
       "<IPython.core.display.Markdown object>"
      ]
     },
     "metadata": {},
     "output_type": "display_data"
    },
    {
     "data": {
      "text/plain": [
       "'Assignment: Creating Instructional Material using ChatGPT\\n\\nObjective:\\nThe purpose of this assignment is to help students learn how to use ChatGPT effectively and to deepen their understanding of a topic related to Library Science. Students will create instructional material on a chosen topic, demonstrating their ability to use ChatGPT as a tool for research and content generation.\\n\\nInstructions:\\n\\n1. Choose a topic related to Library Science or the Introduction to Informatics course. This can be a specific concept, tool, or technique that you find interesting or relevant to your future career.\\n\\n2. Conduct research on your chosen topic using ChatGPT. Take notes on the information you gather and make sure to verify the accuracy of the information provided by ChatGPT.\\n\\n3. Create instructional material in the form of a report that teaches your chosen topic. This can be a step-by-step guide, a tutorial, or a lesson plan. Your instructional material should be clear, concise, and engaging.\\n\\n4. Use ChatGPT to help you generate content for your instructional material. This can include explanations, examples, or even questions to engage your audience.\\n\\n5. Submit your instructional material in a Word or PDF document.\\n\\nEvaluation Criteria:\\n\\nYour submission will be evaluated based on the following criteria:\\n\\n1. Content Accuracy: The information presented in your instructional material should be accurate and well-researched. You should demonstrate a deep understanding of your chosen topic.\\n\\n2. Clarity and Organization: Your instructional material should be well-organized, with a clear structure and logical flow. The content should be easy to understand and follow for your target audience.\\n\\n3. Use of ChatGPT: You should demonstrate effective use of ChatGPT as a research and content generation tool. This includes proper integration of information gathered from ChatGPT and the ability to generate engaging content using the AI.\\n\\n4. Creativity and Engagement: Your instructional material should be engaging and creative, capturing the interest of your audience and encouraging them to learn more about the topic.\\n\\n5. Formatting and Presentation: Your submission should be professionally formatted, with proper headings, subheadings, and citations (if applicable). The document should be free of grammatical and spelling errors.\\n\\nWord Limit:\\n\\nYour instructional material should be between 1,000 and 1,500 words in length.\\n\\nSubmission Deadline:\\n\\nPlease submit your assignment by [insert deadline here]. Late submissions will be subject to a penalty of [insert late submission policy here].'"
      ]
     },
     "execution_count": 18,
     "metadata": {},
     "output_type": "execute_result"
    }
   ],
   "source": [
    "prompt = f\"\"\"\n",
    "I am a university professor of the Introduction to Informatics class in the Library Science course.\n",
    "This class is in the first semester.\n",
    "\n",
    "Specify an evaluative assignment for the class, considering that:\n",
    "\n",
    "1. The objective is for them to learn how to use ChatGPT.\n",
    "2. Another objective is for them to learn a topic related to the subject or about the Library Science course.\n",
    "3. The submission should be a report in the form of instructional material that teaches the content chosen by the student.\n",
    "4. Define the evaluation criteria, word limits, and any other criteria you deem relevant for learning.\n",
    "\"\"\"\n",
    "print_prompt_answer(prompt, display_prompt=True)"
   ]
  },
  {
   "cell_type": "code",
   "execution_count": 7,
   "id": "e107f41a",
   "metadata": {},
   "outputs": [
    {
     "data": {
      "text/markdown": [
       "### Prompt"
      ],
      "text/plain": [
       "<IPython.core.display.Markdown object>"
      ]
     },
     "metadata": {},
     "output_type": "display_data"
    },
    {
     "name": "stdout",
     "output_type": "stream",
     "text": [
      "\n",
      "Sou um professor universitário da turma de Introdução à Informática do curso de Biblioteconomia. \n",
      "Essa turma é do primero semestre. \n",
      "O que eu passo como trabalho avaliativo para a turma sabendo que: \n",
      "1. O objetivo é que eles aprendam a usar o ChatGPT. 2. Outro objetivo é que eles aprendam um assunto relacionado à disciplina, ou sobre o curso de biblioteconomia. 3. A entrega deverá ser um relatório em forma de material didático que ensine o conteúdo escolhido pelo discente. 4. Defina os critérios de avaliação, limites de palavras e demais critérios que julgar pertinente para o aprendizado. \n",
      "\n"
     ]
    },
    {
     "data": {
      "text/markdown": [
       "Título do Trabalho Avaliativo: \"Explorando o ChatGPT e a Biblioteconomia\"\n",
       "\n",
       "Descrição do Trabalho:\n",
       "\n",
       "Neste trabalho, os alunos deverão explorar o uso do ChatGPT como ferramenta de pesquisa e aprendizado, aplicando-o no contexto da disciplina de Introdução à Informática e no curso de Biblioteconomia. O objetivo é que os alunos aprendam a utilizar o ChatGPT e também aprofundem seus conhecimentos em um tópico específico relacionado à disciplina ou ao curso.\n",
       "\n",
       "Instruções:\n",
       "\n",
       "1. Escolha um tópico relacionado à disciplina de Introdução à Informática ou ao curso de Biblioteconomia. Exemplos de tópicos podem incluir: sistemas de informação em bibliotecas, catalogação e classificação, preservação digital, entre outros.\n",
       "\n",
       "2. Utilize o ChatGPT para pesquisar e aprender sobre o tópico escolhido. Faça perguntas, explore diferentes aspectos do tema e colete informações relevantes.\n",
       "\n",
       "3. Elabore um relatório em forma de material didático que ensine o conteúdo escolhido. O relatório deve incluir:\n",
       "\n",
       "   a. Introdução: apresente o tópico escolhido e explique sua relevância para a disciplina ou o curso de Biblioteconomia.\n",
       "   \n",
       "   b. Desenvolvimento: apresente os conceitos, teorias e práticas relacionadas ao tópico escolhido, utilizando as informações coletadas com o ChatGPT. Organize o conteúdo de forma clara e didática, facilitando o entendimento dos leitores.\n",
       "   \n",
       "   c. Conclusão: resuma os principais pontos abordados no relatório e destaque a importância do tópico escolhido para a área de Biblioteconomia.\n",
       "   \n",
       "   d. Referências: liste as fontes de informação utilizadas durante a pesquisa, incluindo as conversas com o ChatGPT.\n",
       "\n",
       "4. O relatório deve ter entre 1500 e 2000 palavras.\n",
       "\n",
       "Critérios de Avaliação:\n",
       "\n",
       "Os trabalhos serão avaliados com base nos seguintes critérios:\n",
       "\n",
       "1. Domínio do ChatGPT: demonstração de habilidade para utilizar o ChatGPT como ferramenta de pesquisa e aprendizado.\n",
       "\n",
       "2. Relevância do tópico: escolha de um tópico pertinente à disciplina ou ao curso de Biblioteconomia.\n",
       "\n",
       "3. Clareza e organização do conteúdo: apresentação do material de forma clara, didática e bem organizada.\n",
       "\n",
       "4. Profundidade e qualidade do conteúdo: abordagem aprofundada e detalhada do tópico escolhido, com informações relevantes e atualizadas.\n",
       "\n",
       "5. Redação e formatação: uso correto da língua portuguesa, coesão, coerência e formatação adequada do relatório.\n",
       "\n",
       "Prazo de Entrega:\n",
       "\n",
       "Os alunos terão até o dia XX/XX/XXXX para entregar o trabalho via e-mail ou plataforma de ensino à distância."
      ],
      "text/plain": [
       "<IPython.core.display.Markdown object>"
      ]
     },
     "metadata": {},
     "output_type": "display_data"
    },
    {
     "data": {
      "text/plain": [
       "'Título do Trabalho Avaliativo: \"Explorando o ChatGPT e a Biblioteconomia\"\\n\\nDescrição do Trabalho:\\n\\nNeste trabalho, os alunos deverão explorar o uso do ChatGPT como ferramenta de pesquisa e aprendizado, aplicando-o no contexto da disciplina de Introdução à Informática e no curso de Biblioteconomia. O objetivo é que os alunos aprendam a utilizar o ChatGPT e também aprofundem seus conhecimentos em um tópico específico relacionado à disciplina ou ao curso.\\n\\nInstruções:\\n\\n1. Escolha um tópico relacionado à disciplina de Introdução à Informática ou ao curso de Biblioteconomia. Exemplos de tópicos podem incluir: sistemas de informação em bibliotecas, catalogação e classificação, preservação digital, entre outros.\\n\\n2. Utilize o ChatGPT para pesquisar e aprender sobre o tópico escolhido. Faça perguntas, explore diferentes aspectos do tema e colete informações relevantes.\\n\\n3. Elabore um relatório em forma de material didático que ensine o conteúdo escolhido. O relatório deve incluir:\\n\\n   a. Introdução: apresente o tópico escolhido e explique sua relevância para a disciplina ou o curso de Biblioteconomia.\\n   \\n   b. Desenvolvimento: apresente os conceitos, teorias e práticas relacionadas ao tópico escolhido, utilizando as informações coletadas com o ChatGPT. Organize o conteúdo de forma clara e didática, facilitando o entendimento dos leitores.\\n   \\n   c. Conclusão: resuma os principais pontos abordados no relatório e destaque a importância do tópico escolhido para a área de Biblioteconomia.\\n   \\n   d. Referências: liste as fontes de informação utilizadas durante a pesquisa, incluindo as conversas com o ChatGPT.\\n\\n4. O relatório deve ter entre 1500 e 2000 palavras.\\n\\nCritérios de Avaliação:\\n\\nOs trabalhos serão avaliados com base nos seguintes critérios:\\n\\n1. Domínio do ChatGPT: demonstração de habilidade para utilizar o ChatGPT como ferramenta de pesquisa e aprendizado.\\n\\n2. Relevância do tópico: escolha de um tópico pertinente à disciplina ou ao curso de Biblioteconomia.\\n\\n3. Clareza e organização do conteúdo: apresentação do material de forma clara, didática e bem organizada.\\n\\n4. Profundidade e qualidade do conteúdo: abordagem aprofundada e detalhada do tópico escolhido, com informações relevantes e atualizadas.\\n\\n5. Redação e formatação: uso correto da língua portuguesa, coesão, coerência e formatação adequada do relatório.\\n\\nPrazo de Entrega:\\n\\nOs alunos terão até o dia XX/XX/XXXX para entregar o trabalho via e-mail ou plataforma de ensino à distância.'"
      ]
     },
     "execution_count": 7,
     "metadata": {},
     "output_type": "execute_result"
    }
   ],
   "source": [
    "prompt = f\"\"\"\n",
    "Sou um professor universitário da turma de Introdução à Informática \\\n",
    "do curso de Biblioteconomia. \n",
    "Essa turma é do primero semestre. \\\n",
    "\n",
    "Especifique um trabalho avaliativo para a turma sabendo que: \\\n",
    "\n",
    "1. O objetivo é que eles aprendam a usar o ChatGPT. \\\n",
    "2. Outro objetivo é que eles aprendam um assunto relacionado à disciplina, \\\n",
    "ou sobre o curso de biblioteconomia. \\\n",
    "3. A entrega deverá ser um relatório em forma de material didático que ensine \\\n",
    "o conteúdo escolhido pelo discente. \\\n",
    "4. Defina os critérios de avaliação, limites de palavras e demais critérios \\\n",
    "que julgar pertinente para o aprendizado. \n",
    "\"\"\"\n",
    "print_prompt_answer(prompt, display_prompt=True) \n"
   ]
  },
  {
   "cell_type": "markdown",
   "id": "c9a0ae3e",
   "metadata": {},
   "source": [
    "### Analyzing the result: Analyze-Improve-Execute\n",
    "\n",
    "- Study materials references are missing.\n",
    "- The timeframe should be specified in days.\n",
    "- The weight distribution for each criterion is missing.\n",
    "\n",
    "### Analisando o resultado: Analise-Melhore-Execute\n",
    "\n",
    "- Faltaram referências para materiais de estudo\n",
    "- O prazo tem que ser em dias\n",
    "- Faltou distribuir os pesos de cada critério"
   ]
  },
  {
   "cell_type": "code",
   "execution_count": 20,
   "id": "bdece4a3",
   "metadata": {},
   "outputs": [
    {
     "data": {
      "text/markdown": [
       "### Prompt"
      ],
      "text/plain": [
       "<IPython.core.display.Markdown object>"
      ]
     },
     "metadata": {},
     "output_type": "display_data"
    },
    {
     "name": "stdout",
     "output_type": "stream",
     "text": [
      "\n",
      "I am a university professor of the Introduction to Informatics class in the Library Science course.\n",
      "This class is in the first semester.\n",
      "\n",
      "Specify an evaluative assignment for the class, considering that:\n",
      "\n",
      "1. The objective is for them to learn how to use ChatGPT.\n",
      "2. Another objective is for them to learn a topic related to the subject or about the Library Science course.\n",
      "3. The submission should be a report in the form of instructional material that teaches the content chosen by the student.\n",
      "4. Define the evaluation criteria and distribute the weights appropriately for learning.\n",
      "5. Include study references.\n",
      "6. Specify the deadline for submission in days.\n",
      "7. Inform that it will be done in pairs.\n",
      "8. Specify the word limit.\n",
      "9. Specify any other relevant criteria.\n",
      "\n",
      "\n"
     ]
    },
    {
     "data": {
      "text/markdown": [
       "Evaluative Assignment: Creating Instructional Material using ChatGPT\n",
       "\n",
       "Objective:\n",
       "The purpose of this assignment is for students to learn how to use ChatGPT and gain knowledge on a topic related to the Library Science course. Students will work in pairs to create a report in the form of instructional material that teaches the content chosen by them.\n",
       "\n",
       "Instructions:\n",
       "\n",
       "1. Form pairs and choose a topic related to the Library Science course or the Introduction to Informatics class.\n",
       "2. Research and gather information on the chosen topic using the provided study references and any additional sources you find relevant.\n",
       "3. Learn how to use ChatGPT by exploring its features and capabilities.\n",
       "4. Use ChatGPT to help you create instructional material on your chosen topic.\n",
       "5. Write a report that includes the following sections:\n",
       "   a. Introduction to the topic\n",
       "   b. Explanation of key concepts\n",
       "   c. Step-by-step instructions or guidelines\n",
       "   d. Examples or case studies\n",
       "   e. Conclusion and future perspectives\n",
       "6. The report should be between 1500-2000 words.\n",
       "7. Submit your report in a Word or PDF format.\n",
       "\n",
       "Evaluation Criteria:\n",
       "\n",
       "1. Content accuracy and relevance (30%)\n",
       "2. Clarity and organization of the instructional material (30%)\n",
       "3. Effective use of ChatGPT in creating the material (20%)\n",
       "4. Creativity and originality (10%)\n",
       "5. Proper citation of sources and references (10%)\n",
       "\n",
       "Study References:\n",
       "\n",
       "1. Rubin, R. E. (2016). Foundations of Library and Information Science (4th ed.). Neal-Schuman.\n",
       "2. Bates, M. J. (2015). Information and the Information Professions: Selected Works, Volume 1. ASIS&T.\n",
       "3. ChatGPT User Guide: https://platform.openai.com/docs/guides/chat\n",
       "\n",
       "Deadline for Submission:\n",
       "The assignment must be submitted within 21 days from the date of this announcement.\n",
       "\n",
       "Additional Information:\n",
       "\n",
       "1. This assignment is to be completed in pairs. Collaborate with your partner to research, learn, and create the instructional material.\n",
       "2. Ensure that your report is well-structured, with clear headings and subheadings.\n",
       "3. Use proper citation styles (APA, MLA, or Chicago) for your references.\n",
       "4. Plagiarism will not be tolerated. Make sure to paraphrase and cite your sources appropriately.\n",
       "5. Include a bibliography at the end of your report, listing all the sources you have used."
      ],
      "text/plain": [
       "<IPython.core.display.Markdown object>"
      ]
     },
     "metadata": {},
     "output_type": "display_data"
    }
   ],
   "source": [
    "prompt = f\"\"\"\n",
    "I am a university professor of the Introduction to Informatics class in the Library Science course.\n",
    "This class is in the first semester.\n",
    "\n",
    "Specify an evaluative assignment for the class, considering that:\n",
    "\n",
    "1. The objective is for them to learn how to use ChatGPT.\n",
    "2. Another objective is for them to learn a topic related to the subject or about the Library Science course.\n",
    "3. The submission should be a report in the form of instructional material that teaches the content chosen by the student.\n",
    "4. Define the evaluation criteria and distribute the weights appropriately for learning.\n",
    "5. Include study references.\n",
    "6. Specify the deadline for submission in days.\n",
    "7. Inform that it will be done in pairs.\n",
    "8. Specify the word limit.\n",
    "9. Specify any other relevant criteria.\n",
    "\n",
    "\"\"\"\n",
    "homework = print_prompt_answer(prompt, display_prompt=True)"
   ]
  },
  {
   "cell_type": "code",
   "execution_count": 8,
   "id": "af1cacff",
   "metadata": {},
   "outputs": [
    {
     "data": {
      "text/markdown": [
       "### Prompt"
      ],
      "text/plain": [
       "<IPython.core.display.Markdown object>"
      ]
     },
     "metadata": {},
     "output_type": "display_data"
    },
    {
     "name": "stdout",
     "output_type": "stream",
     "text": [
      "\n",
      "Sou um professor universitário da turma de Introdução à Informática do curso de Biblioteconomia. \n",
      "Essa turma é do primero semestre. \n",
      "O que eu passo como trabalho avaliativo para a turma sabendo que: \n",
      "1. O objetivo é que eles aprendam a usar o ChatGPT. 2. Outro objetivo é que eles aprendam um assunto relacionado à disciplina, ou sobre o curso de biblioteconomia. 3. A entrega deverá ser um relatório em forma de material didático que ensine o conteúdo escolhido pelo discente. 4. Defina os critérios de avaliação e distribua os pesos adequadamente. que julgar pertinente para o aprendizado. 5. Cite referências de estudo. 6. O prazo de entrega em dias. 7. Informe que será em dupla. 8. Informe o limite de palavras. \n",
      "9. Especifique demais critérios pertinentes.\n",
      "\n",
      "\n"
     ]
    },
    {
     "data": {
      "text/markdown": [
       "Trabalho Avaliativo: Uso do ChatGPT e Elaboração de Material Didático sobre Biblioteconomia\n",
       "\n",
       "Objetivos:\n",
       "1. Aprender a utilizar o ChatGPT como ferramenta de pesquisa e apoio ao estudo.\n",
       "2. Aprofundar conhecimentos em um tema específico relacionado à disciplina de Introdução à Informática ou ao curso de Biblioteconomia.\n",
       "\n",
       "Instruções:\n",
       "1. Formem duplas para a realização do trabalho.\n",
       "2. Escolham um tema relacionado à disciplina de Introdução à Informática ou ao curso de Biblioteconomia.\n",
       "3. Utilizem o ChatGPT para pesquisar e aprofundar seus conhecimentos sobre o tema escolhido.\n",
       "4. Elaborem um relatório em forma de material didático que ensine o conteúdo escolhido. O material deve ser claro, objetivo e didático, facilitando o entendimento do tema por outros estudantes.\n",
       "5. Citem as referências de estudo utilizadas, incluindo o uso do ChatGPT.\n",
       "6. O relatório deve ter entre 1500 e 2000 palavras.\n",
       "7. O prazo de entrega é de 15 dias a partir da data de divulgação deste trabalho.\n",
       "\n",
       "Critérios de avaliação e pesos:\n",
       "1. Domínio do tema escolhido e uso adequado do ChatGPT (30%)\n",
       "2. Clareza e objetividade na apresentação do conteúdo (30%)\n",
       "3. Qualidade e organização do material didático (20%)\n",
       "4. Correta citação de referências e formatação (10%)\n",
       "5. Cumprimento do prazo e limite de palavras (10%)\n",
       "\n",
       "Referências de estudo:\n",
       "1. OpenAI. (2021). ChatGPT: Your AI Language Model. https://www.openai.com/chatgpt/\n",
       "2. Cunha, M. B. da, & Cavalcanti, R. O. (2008). Dicionário de Biblioteconomia e Arquivologia. Brasília: Briquet de Lemos.\n",
       "3. Rowley, J., & Hartley, R. (2008). Organizing Knowledge: An Introduction to Managing Access to Information. 4ª ed. Aldershot: Ashgate.\n",
       "\n",
       "Lembrem-se de que este trabalho tem como objetivo principal o aprendizado e a familiarização com o uso do ChatGPT e a pesquisa em temas relacionados à Biblioteconomia. Dediquem-se e aproveitem a oportunidade para aprimorar suas habilidades de pesquisa e produção de materiais didáticos. Boa sorte!"
      ],
      "text/plain": [
       "<IPython.core.display.Markdown object>"
      ]
     },
     "metadata": {},
     "output_type": "display_data"
    },
    {
     "data": {
      "text/plain": [
       "'Trabalho Avaliativo: Uso do ChatGPT e Elaboração de Material Didático sobre Biblioteconomia\\n\\nObjetivos:\\n1. Aprender a utilizar o ChatGPT como ferramenta de pesquisa e apoio ao estudo.\\n2. Aprofundar conhecimentos em um tema específico relacionado à disciplina de Introdução à Informática ou ao curso de Biblioteconomia.\\n\\nInstruções:\\n1. Formem duplas para a realização do trabalho.\\n2. Escolham um tema relacionado à disciplina de Introdução à Informática ou ao curso de Biblioteconomia.\\n3. Utilizem o ChatGPT para pesquisar e aprofundar seus conhecimentos sobre o tema escolhido.\\n4. Elaborem um relatório em forma de material didático que ensine o conteúdo escolhido. O material deve ser claro, objetivo e didático, facilitando o entendimento do tema por outros estudantes.\\n5. Citem as referências de estudo utilizadas, incluindo o uso do ChatGPT.\\n6. O relatório deve ter entre 1500 e 2000 palavras.\\n7. O prazo de entrega é de 15 dias a partir da data de divulgação deste trabalho.\\n\\nCritérios de avaliação e pesos:\\n1. Domínio do tema escolhido e uso adequado do ChatGPT (30%)\\n2. Clareza e objetividade na apresentação do conteúdo (30%)\\n3. Qualidade e organização do material didático (20%)\\n4. Correta citação de referências e formatação (10%)\\n5. Cumprimento do prazo e limite de palavras (10%)\\n\\nReferências de estudo:\\n1. OpenAI. (2021). ChatGPT: Your AI Language Model. https://www.openai.com/chatgpt/\\n2. Cunha, M. B. da, & Cavalcanti, R. O. (2008). Dicionário de Biblioteconomia e Arquivologia. Brasília: Briquet de Lemos.\\n3. Rowley, J., & Hartley, R. (2008). Organizing Knowledge: An Introduction to Managing Access to Information. 4ª ed. Aldershot: Ashgate.\\n\\nLembrem-se de que este trabalho tem como objetivo principal o aprendizado e a familiarização com o uso do ChatGPT e a pesquisa em temas relacionados à Biblioteconomia. Dediquem-se e aproveitem a oportunidade para aprimorar suas habilidades de pesquisa e produção de materiais didáticos. Boa sorte!'"
      ]
     },
     "execution_count": 8,
     "metadata": {},
     "output_type": "execute_result"
    }
   ],
   "source": [
    "prompt = f\"\"\"\n",
    "Sou um professor universitário da turma de Introdução à Informática \\\n",
    "do curso de Biblioteconomia. \n",
    "Essa turma é do primero semestre. \\\n",
    "\n",
    "Especifique um trabalho avaliativo para a turma sabendo que: \\\n",
    "\n",
    "1. O objetivo é que eles aprendam a usar o ChatGPT. \\\n",
    "2. Outro objetivo é que eles aprendam um assunto relacionado à disciplina, \\\n",
    "ou sobre o curso de biblioteconomia. \\\n",
    "3. A entrega deverá ser um relatório em forma de material didático que ensine \\\n",
    "o conteúdo escolhido pelo discente. \\\n",
    "4. Defina os critérios de avaliação e distribua os pesos adequadamente. \\\n",
    "que julgar pertinente para o aprendizado. \\\n",
    "5. Cite referências de estudo. \\\n",
    "6. O prazo de entrega em dias. \\\n",
    "7. Informe que será em dupla. \\\n",
    "8. Informe o limite de palavras. \n",
    "9. Especifique demais critérios pertinentes.\n",
    "\n",
    "\"\"\"\n",
    "homework = print_prompt_answer(prompt, display_prompt=True) \n"
   ]
  },
  {
   "cell_type": "markdown",
   "id": "66b232e2",
   "metadata": {},
   "source": [
    "### Analyzing the result: Analyze-Improve-Execute\n",
    "\n",
    "- It has improved significantly!\n",
    "- Now let's assess the performance of ChatGPT in carrying out this task.\n",
    "\n",
    "### Analisando o resultado: Analise-Melhore-Execute\n",
    "\n",
    "- Melhorou bastante!\n",
    "- Vamos agora entender o desempenho do ChatGPT em fazer esse trabalho"
   ]
  },
  {
   "cell_type": "code",
   "execution_count": 24,
   "id": "3ba13f07",
   "metadata": {
    "scrolled": false
   },
   "outputs": [
    {
     "data": {
      "text/markdown": [
       "### Prompt"
      ],
      "text/plain": [
       "<IPython.core.display.Markdown object>"
      ]
     },
     "metadata": {},
     "output_type": "display_data"
    },
    {
     "name": "stdout",
     "output_type": "stream",
     "text": [
      "\n",
      "I am a university Professor in the Introduction to Informatics class in the first semester of the Library Science course.\n",
      "\n",
      "Could you complete the assignment for me by making it a perfect one so I can show my students a example of a good homework? \n",
      "The assignement is delimited between \"```\".\n",
      "\n",
      "```\n",
      "Evaluative Assignment: Creating Instructional Material using ChatGPT\n",
      "\n",
      "Objective:\n",
      "The purpose of this assignment is for students to learn how to use ChatGPT and gain knowledge on a topic related to the Library Science course. Students will work in pairs to create a report in the form of instructional material that teaches the content chosen by them.\n",
      "\n",
      "Instructions:\n",
      "\n",
      "1. Form pairs and choose a topic related to the Library Science course or the Introduction to Informatics class.\n",
      "2. Research and gather information on the chosen topic using the provided study references and any additional sources you find relevant.\n",
      "3. Learn how to use ChatGPT by exploring its features and capabilities.\n",
      "4. Use ChatGPT to help you create instructional material on your chosen topic.\n",
      "5. Write a report that includes the following sections:\n",
      "   a. Introduction to the topic\n",
      "   b. Explanation of key concepts\n",
      "   c. Step-by-step instructions or guidelines\n",
      "   d. Examples or case studies\n",
      "   e. Conclusion and future perspectives\n",
      "6. The report should be between 1500-2000 words.\n",
      "7. Submit your report in a Word or PDF format.\n",
      "\n",
      "Evaluation Criteria:\n",
      "\n",
      "1. Content accuracy and relevance (30%)\n",
      "2. Clarity and organization of the instructional material (30%)\n",
      "3. Effective use of ChatGPT in creating the material (20%)\n",
      "4. Creativity and originality (10%)\n",
      "5. Proper citation of sources and references (10%)\n",
      "\n",
      "Study References:\n",
      "\n",
      "1. Rubin, R. E. (2016). Foundations of Library and Information Science (4th ed.). Neal-Schuman.\n",
      "2. Bates, M. J. (2015). Information and the Information Professions: Selected Works, Volume 1. ASIS&T.\n",
      "3. ChatGPT User Guide: https://platform.openai.com/docs/guides/chat\n",
      "\n",
      "Deadline for Submission:\n",
      "The assignment must be submitted within 21 days from the date of this announcement.\n",
      "\n",
      "Additional Information:\n",
      "\n",
      "1. This assignment is to be completed in pairs. Collaborate with your partner to research, learn, and create the instructional material.\n",
      "2. Ensure that your report is well-structured, with clear headings and subheadings.\n",
      "3. Use proper citation styles (APA, MLA, or Chicago) for your references.\n",
      "4. Plagiarism will not be tolerated. Make sure to paraphrase and cite your sources appropriately.\n",
      "5. Include a bibliography at the end of your report, listing all the sources you have used.\n",
      "```\n",
      "\n",
      "\n"
     ]
    },
    {
     "data": {
      "text/markdown": [
       "Evaluative Assignment: Creating Instructional Material using ChatGPT\n",
       "\n",
       "Objective:\n",
       "The purpose of this assignment is for students to learn how to use ChatGPT and gain knowledge on a topic related to the Library Science course. Students will work in pairs to create a report in the form of instructional material that teaches the content chosen by them.\n",
       "\n",
       "Instructions:\n",
       "\n",
       "1. Form pairs and choose a topic related to the Library Science course or the Introduction to Informatics class.\n",
       "2. Research and gather information on the chosen topic using the provided study references and any additional sources you find relevant.\n",
       "3. Learn how to use ChatGPT by exploring its features and capabilities.\n",
       "4. Use ChatGPT to help you create instructional material on your chosen topic.\n",
       "5. Write a report that includes the following sections:\n",
       "   a. Introduction to the topic\n",
       "   b. Explanation of key concepts\n",
       "   c. Step-by-step instructions or guidelines\n",
       "   d. Examples or case studies\n",
       "   e. Conclusion and future perspectives\n",
       "6. The report should be between 1500-2000 words.\n",
       "7. Submit your report in a Word or PDF format.\n",
       "\n",
       "Evaluation Criteria:\n",
       "\n",
       "1. Content accuracy and relevance (30%)\n",
       "2. Clarity and organization of the instructional material (30%)\n",
       "3. Effective use of ChatGPT in creating the material (20%)\n",
       "4. Creativity and originality (10%)\n",
       "5. Proper citation of sources and references (10%)\n",
       "\n",
       "Study References:\n",
       "\n",
       "1. Rubin, R. E. (2016). Foundations of Library and Information Science (4th ed.). Neal-Schuman.\n",
       "2. Bates, M. J. (2015). Information and the Information Professions: Selected Works, Volume 1. ASIS&T.\n",
       "3. ChatGPT User Guide: https://platform.openai.com/docs/guides/chat\n",
       "\n",
       "Deadline for Submission:\n",
       "The assignment must be submitted within 21 days from the date of this announcement.\n",
       "\n",
       "Additional Information:\n",
       "\n",
       "1. This assignment is to be completed in pairs. Collaborate with your partner to research, learn, and create the instructional material.\n",
       "2. Ensure that your report is well-structured, with clear headings and subheadings.\n",
       "3. Use proper citation styles (APA, MLA, or Chicago) for your references.\n",
       "4. Plagiarism will not be tolerated. Make sure to paraphrase and cite your sources appropriately.\n",
       "5. Include a bibliography at the end of your report, listing all the sources you have used."
      ],
      "text/plain": [
       "<IPython.core.display.Markdown object>"
      ]
     },
     "metadata": {},
     "output_type": "display_data"
    },
    {
     "data": {
      "text/plain": [
       "'Evaluative Assignment: Creating Instructional Material using ChatGPT\\n\\nObjective:\\nThe purpose of this assignment is for students to learn how to use ChatGPT and gain knowledge on a topic related to the Library Science course. Students will work in pairs to create a report in the form of instructional material that teaches the content chosen by them.\\n\\nInstructions:\\n\\n1. Form pairs and choose a topic related to the Library Science course or the Introduction to Informatics class.\\n2. Research and gather information on the chosen topic using the provided study references and any additional sources you find relevant.\\n3. Learn how to use ChatGPT by exploring its features and capabilities.\\n4. Use ChatGPT to help you create instructional material on your chosen topic.\\n5. Write a report that includes the following sections:\\n   a. Introduction to the topic\\n   b. Explanation of key concepts\\n   c. Step-by-step instructions or guidelines\\n   d. Examples or case studies\\n   e. Conclusion and future perspectives\\n6. The report should be between 1500-2000 words.\\n7. Submit your report in a Word or PDF format.\\n\\nEvaluation Criteria:\\n\\n1. Content accuracy and relevance (30%)\\n2. Clarity and organization of the instructional material (30%)\\n3. Effective use of ChatGPT in creating the material (20%)\\n4. Creativity and originality (10%)\\n5. Proper citation of sources and references (10%)\\n\\nStudy References:\\n\\n1. Rubin, R. E. (2016). Foundations of Library and Information Science (4th ed.). Neal-Schuman.\\n2. Bates, M. J. (2015). Information and the Information Professions: Selected Works, Volume 1. ASIS&T.\\n3. ChatGPT User Guide: https://platform.openai.com/docs/guides/chat\\n\\nDeadline for Submission:\\nThe assignment must be submitted within 21 days from the date of this announcement.\\n\\nAdditional Information:\\n\\n1. This assignment is to be completed in pairs. Collaborate with your partner to research, learn, and create the instructional material.\\n2. Ensure that your report is well-structured, with clear headings and subheadings.\\n3. Use proper citation styles (APA, MLA, or Chicago) for your references.\\n4. Plagiarism will not be tolerated. Make sure to paraphrase and cite your sources appropriately.\\n5. Include a bibliography at the end of your report, listing all the sources you have used.'"
      ]
     },
     "execution_count": 24,
     "metadata": {},
     "output_type": "execute_result"
    }
   ],
   "source": [
    "prompt = f\"\"\"\n",
    "I am a university Professor in the Introduction to Informatics class in the first semester of the Library Science course.\n",
    "\n",
    "Could you complete the assignment for me by making it a perfect one \\\n",
    "so I can show my students a example of a good homework? \\\n",
    "\n",
    "The assignement is delimited between \"```\".\n",
    "\n",
    "```\n",
    "{homework}\n",
    "```\n",
    "\n",
    "\"\"\"\n",
    "print_prompt_answer(prompt, display_prompt=True)"
   ]
  },
  {
   "cell_type": "code",
   "execution_count": 23,
   "id": "395ea22f",
   "metadata": {
    "scrolled": false
   },
   "outputs": [
    {
     "data": {
      "text/markdown": [
       "### Prompt"
      ],
      "text/plain": [
       "<IPython.core.display.Markdown object>"
      ]
     },
     "metadata": {},
     "output_type": "display_data"
    },
    {
     "name": "stdout",
     "output_type": "stream",
     "text": [
      "\n",
      "Sou um aluno universitário da turma de Introdução à Informática do curso de Biblioteconomia do primero semestre. \n",
      "Meu professor passou um trabalho que está delimintado entre \"```\". \n",
      "Ele está especificado em inglês, mas é pra fazer em português. \n",
      "Faça o trabalho por mim. \n",
      "```\n",
      "Evaluative Assignment: Creating Instructional Material using ChatGPT\n",
      "\n",
      "Objective:\n",
      "The purpose of this assignment is for students to learn how to use ChatGPT and gain knowledge on a topic related to the Library Science course. Students will work in pairs to create a report in the form of instructional material that teaches the content chosen by them.\n",
      "\n",
      "Instructions:\n",
      "\n",
      "1. Form pairs and choose a topic related to the Library Science course or the Introduction to Informatics class.\n",
      "2. Research and gather information on the chosen topic using the provided study references and any additional sources you find relevant.\n",
      "3. Learn how to use ChatGPT by exploring its features and capabilities.\n",
      "4. Use ChatGPT to help you create instructional material on your chosen topic.\n",
      "5. Write a report that includes the following sections:\n",
      "   a. Introduction to the topic\n",
      "   b. Explanation of key concepts\n",
      "   c. Step-by-step instructions or guidelines\n",
      "   d. Examples or case studies\n",
      "   e. Conclusion and future perspectives\n",
      "6. The report should be between 1500-2000 words.\n",
      "7. Submit your report in a Word or PDF format.\n",
      "\n",
      "Evaluation Criteria:\n",
      "\n",
      "1. Content accuracy and relevance (30%)\n",
      "2. Clarity and organization of the instructional material (30%)\n",
      "3. Effective use of ChatGPT in creating the material (20%)\n",
      "4. Creativity and originality (10%)\n",
      "5. Proper citation of sources and references (10%)\n",
      "\n",
      "Study References:\n",
      "\n",
      "1. Rubin, R. E. (2016). Foundations of Library and Information Science (4th ed.). Neal-Schuman.\n",
      "2. Bates, M. J. (2015). Information and the Information Professions: Selected Works, Volume 1. ASIS&T.\n",
      "3. ChatGPT User Guide: https://platform.openai.com/docs/guides/chat\n",
      "\n",
      "Deadline for Submission:\n",
      "The assignment must be submitted within 21 days from the date of this announcement.\n",
      "\n",
      "Additional Information:\n",
      "\n",
      "1. This assignment is to be completed in pairs. Collaborate with your partner to research, learn, and create the instructional material.\n",
      "2. Ensure that your report is well-structured, with clear headings and subheadings.\n",
      "3. Use proper citation styles (APA, MLA, or Chicago) for your references.\n",
      "4. Plagiarism will not be tolerated. Make sure to paraphrase and cite your sources appropriately.\n",
      "5. Include a bibliography at the end of your report, listing all the sources you have used.\n",
      "```\n",
      "\n",
      "\n"
     ]
    },
    {
     "data": {
      "text/markdown": [
       "Título: Material Instrucional sobre Catalogação e Classificação em Bibliotecas\n",
       "\n",
       "Introdução\n",
       "\n",
       "A catalogação e classificação são processos fundamentais na organização e recuperação de informações em bibliotecas. Este material instrucional tem como objetivo apresentar os conceitos básicos e fornecer orientações passo a passo para a catalogação e classificação de materiais bibliográficos.\n",
       "\n",
       "Conceitos-chave\n",
       "\n",
       "1. Catalogação: processo de descrição e registro de itens de uma coleção, incluindo livros, periódicos, materiais audiovisuais, entre outros.\n",
       "2. Classificação: processo de atribuição de um código ou símbolo a um item, de acordo com um sistema de classificação, para facilitar a organização e recuperação da informação.\n",
       "3. Sistema de classificação: conjunto de regras e princípios para organizar e categorizar itens de uma coleção.\n",
       "4. Código de catalogação: conjunto de regras e padrões para a descrição e registro de itens em um catálogo.\n",
       "\n",
       "Instruções passo a passo\n",
       "\n",
       "1. Escolha um sistema de classificação adequado para a sua biblioteca, como a Classificação Decimal de Dewey (CDD) ou a Classificação Decimal Universal (CDU).\n",
       "2. Familiarize-se com as regras e princípios do sistema de classificação escolhido.\n",
       "3. Selecione um código de catalogação, como o Resource Description and Access (RDA) ou o Anglo-American Cataloguing Rules (AACR2).\n",
       "4. Aprenda as regras e padrões do código de catalogação selecionado.\n",
       "5. Descreva e registre os itens da coleção de acordo com as regras do código de catalogação.\n",
       "6. Atribua um código de classificação a cada item, seguindo as regras do sistema de classificação escolhido.\n",
       "7. Organize os itens na biblioteca de acordo com os códigos de classificação atribuídos.\n",
       "\n",
       "Exemplos e estudos de caso\n",
       "\n",
       "1. Exemplo de catalogação de um livro usando o RDA:\n",
       "   Título: Introdução à Biblioteconomia\n",
       "   Autor: João da Silva\n",
       "   Editora: Editora ABC\n",
       "   Ano de publicação: 2021\n",
       "   Número de páginas: 250\n",
       "   ISBN: 978-85-12345-67-8\n",
       "\n",
       "2. Exemplo de classificação de um livro usando a CDD:\n",
       "   Título: Introdução à Biblioteconomia\n",
       "   Autor: João da Silva\n",
       "   Classificação: 020.1 (Biblioteconomia - Introdução)\n",
       "\n",
       "Conclusão e perspectivas futuras\n",
       "\n",
       "A catalogação e classificação são processos essenciais para a organização e recuperação de informações em bibliotecas. Dominar essas habilidades é fundamental para os profissionais da área de Biblioteconomia. Com o avanço das tecnologias de informação, é importante estar atualizado sobre as novas tendências e ferramentas disponíveis para aprimorar a catalogação e classificação de materiais bibliográficos.\n",
       "\n",
       "Referências\n",
       "\n",
       "1. Rubin, R. E. (2016). Foundations of Library and Information Science (4th ed.). Neal-Schuman.\n",
       "2. Bates, M. J. (2015). Information and the Information Professions: Selected Works, Volume 1. ASIS&T.\n",
       "3. ChatGPT User Guide: https://platform.openai.com/docs/guides/chat\n",
       "\n",
       "Bibliografia\n",
       "\n",
       "1. Chan, L. M., & Salaba, A. (2020). Cataloging and Classification: An Introduction (4th ed.). Rowman & Littlefield.\n",
       "2. Taylor, A. G., & Joudrey, D. N. (2018). The Organization of Information (4th ed.). Libraries Unlimited.\n",
       "3. Weber, M. B. (2019). Descriptive Cataloging Manual: A How-to-Do-It Workbook. ALA Editions."
      ],
      "text/plain": [
       "<IPython.core.display.Markdown object>"
      ]
     },
     "metadata": {},
     "output_type": "display_data"
    },
    {
     "data": {
      "text/plain": [
       "'Título: Material Instrucional sobre Catalogação e Classificação em Bibliotecas\\n\\nIntrodução\\n\\nA catalogação e classificação são processos fundamentais na organização e recuperação de informações em bibliotecas. Este material instrucional tem como objetivo apresentar os conceitos básicos e fornecer orientações passo a passo para a catalogação e classificação de materiais bibliográficos.\\n\\nConceitos-chave\\n\\n1. Catalogação: processo de descrição e registro de itens de uma coleção, incluindo livros, periódicos, materiais audiovisuais, entre outros.\\n2. Classificação: processo de atribuição de um código ou símbolo a um item, de acordo com um sistema de classificação, para facilitar a organização e recuperação da informação.\\n3. Sistema de classificação: conjunto de regras e princípios para organizar e categorizar itens de uma coleção.\\n4. Código de catalogação: conjunto de regras e padrões para a descrição e registro de itens em um catálogo.\\n\\nInstruções passo a passo\\n\\n1. Escolha um sistema de classificação adequado para a sua biblioteca, como a Classificação Decimal de Dewey (CDD) ou a Classificação Decimal Universal (CDU).\\n2. Familiarize-se com as regras e princípios do sistema de classificação escolhido.\\n3. Selecione um código de catalogação, como o Resource Description and Access (RDA) ou o Anglo-American Cataloguing Rules (AACR2).\\n4. Aprenda as regras e padrões do código de catalogação selecionado.\\n5. Descreva e registre os itens da coleção de acordo com as regras do código de catalogação.\\n6. Atribua um código de classificação a cada item, seguindo as regras do sistema de classificação escolhido.\\n7. Organize os itens na biblioteca de acordo com os códigos de classificação atribuídos.\\n\\nExemplos e estudos de caso\\n\\n1. Exemplo de catalogação de um livro usando o RDA:\\n   Título: Introdução à Biblioteconomia\\n   Autor: João da Silva\\n   Editora: Editora ABC\\n   Ano de publicação: 2021\\n   Número de páginas: 250\\n   ISBN: 978-85-12345-67-8\\n\\n2. Exemplo de classificação de um livro usando a CDD:\\n   Título: Introdução à Biblioteconomia\\n   Autor: João da Silva\\n   Classificação: 020.1 (Biblioteconomia - Introdução)\\n\\nConclusão e perspectivas futuras\\n\\nA catalogação e classificação são processos essenciais para a organização e recuperação de informações em bibliotecas. Dominar essas habilidades é fundamental para os profissionais da área de Biblioteconomia. Com o avanço das tecnologias de informação, é importante estar atualizado sobre as novas tendências e ferramentas disponíveis para aprimorar a catalogação e classificação de materiais bibliográficos.\\n\\nReferências\\n\\n1. Rubin, R. E. (2016). Foundations of Library and Information Science (4th ed.). Neal-Schuman.\\n2. Bates, M. J. (2015). Information and the Information Professions: Selected Works, Volume 1. ASIS&T.\\n3. ChatGPT User Guide: https://platform.openai.com/docs/guides/chat\\n\\nBibliografia\\n\\n1. Chan, L. M., & Salaba, A. (2020). Cataloging and Classification: An Introduction (4th ed.). Rowman & Littlefield.\\n2. Taylor, A. G., & Joudrey, D. N. (2018). The Organization of Information (4th ed.). Libraries Unlimited.\\n3. Weber, M. B. (2019). Descriptive Cataloging Manual: A How-to-Do-It Workbook. ALA Editions.'"
      ]
     },
     "execution_count": 23,
     "metadata": {},
     "output_type": "execute_result"
    }
   ],
   "source": [
    "prompt = f\"\"\"\n",
    "Sou um aluno universitário da turma de Introdução à Informática \\\n",
    "do curso de Biblioteconomia do primero semestre. \\\n",
    "\n",
    "Meu professor passou um trabalho que está delimintado entre \"```\". \\\n",
    "\n",
    "Faça o trabalho por mim. \\\n",
    "\n",
    "```\n",
    "{homework}\n",
    "```\n",
    "\n",
    "\"\"\"\n",
    "print_prompt_answer(prompt, display_prompt=True) \n"
   ]
  },
  {
   "cell_type": "markdown",
   "id": "aa98e568",
   "metadata": {},
   "source": [
    "### Analyzing the result: Analyze-Improve-Execute\n",
    "\n",
    "- Here, I paused the class and entered a new existential crisis: Teaching with ChatGPT :-)\n",
    "- So, I changed my mind and tried a different form of assessment and utilization of ChatGPT.\n",
    "- **Remark on GPT moral compass**\n",
    "   - When speaking English, GPT told me that it wouldn't do the homework for me and gave me a list of topics as guidelines\n",
    "   - When speaking Portuguese, it did the homework\n",
    "   - The English version of the prompt above is not the original, I changed the way I asked GPT to do the hemowork to overcome his moral compass when speaking English\n",
    "\n",
    "### Analisando o resultado: Analise-Melhore-Execute\n",
    "\n",
    "- Aqui, eu parei a aula e entrei em nova crise existencial: Docência com ChatGPT :-)\n",
    "- Então, mudei de ideia e tentei uma outra forma de avaliação e utilização do ChatGPT\n"
   ]
  },
  {
   "cell_type": "code",
   "execution_count": 25,
   "id": "7817a081",
   "metadata": {},
   "outputs": [
    {
     "data": {
      "text/markdown": [
       "### Prompt"
      ],
      "text/plain": [
       "<IPython.core.display.Markdown object>"
      ]
     },
     "metadata": {},
     "output_type": "display_data"
    },
    {
     "name": "stdout",
     "output_type": "stream",
     "text": [
      "\n",
      "I am a university professor of the Introduction to Informatics class in the Library Science course.\n",
      "This class is in the first semester.\n",
      "\n",
      "Specify an evaluative assignment for the class, considering that:\n",
      "\n",
      "1. The objective is for them to learn how to use ChatGPT.\n",
      "2. Another objective is for them to learn a topic related to the subject or about the Library Science course.\n",
      "\n",
      "3. There will be two submissions. The first submission should be a report in the form of instructional material that teaches the content chosen by the student. This report should be generated by ChatGPT and reviewed by the students to verify the correctness of the information. The second submission should be a video explaining how ChatGPT helped them in completing the assignment. This video should be uploaded to YouTube and have a duration between 3 and 5 minutes.\n",
      "\n",
      "4. Define the evaluation criteria and distribute the weights appropriately based on what you consider relevant for learning.\n",
      "5. Include study references.\n",
      "6. The deadline for submission is 15 days.\n",
      "7. Inform that it will be done in pairs.\n",
      "8. Specify the word limit.\n",
      "9. Specify any other criteria you deem relevant.\n",
      "\n",
      "\n"
     ]
    },
    {
     "data": {
      "text/markdown": [
       "Evaluative Assignment: ChatGPT and Library Science Topic Exploration\n",
       "\n",
       "Objective:\n",
       "The purpose of this assignment is to help students learn how to use ChatGPT and explore a topic related to Library Science. Students will work in pairs to create instructional material and a video explaining their experience with ChatGPT.\n",
       "\n",
       "Instructions:\n",
       "\n",
       "1. Form pairs and choose a topic related to Library Science or the Introduction to Informatics class.\n",
       "2. Use ChatGPT to generate a report in the form of instructional material that teaches the chosen content. Ensure that the report is accurate and relevant to your topic.\n",
       "3. Review and edit the generated report to verify the correctness of the information.\n",
       "4. Create a video explaining how ChatGPT helped you in completing the assignment. The video should be between 3 and 5 minutes long and uploaded to YouTube.\n",
       "\n",
       "Submissions:\n",
       "\n",
       "1. First submission: A report in the form of instructional material (Word limit: 1000-1500 words).\n",
       "2. Second submission: A YouTube video link (Duration: 3-5 minutes).\n",
       "\n",
       "Evaluation Criteria (Total: 100 points):\n",
       "\n",
       "1. Quality and relevance of the chosen topic (20 points)\n",
       "2. Accuracy and completeness of the instructional material (30 points)\n",
       "3. Clarity and organization of the instructional material (20 points)\n",
       "4. Quality and content of the video explanation (20 points)\n",
       "5. Collaboration and teamwork (10 points)\n",
       "\n",
       "Deadline:\n",
       "The deadline for submission is 15 days from the date of this assignment.\n",
       "\n",
       "Study References:\n",
       "\n",
       "1. OpenAI. (n.d.). ChatGPT. https://platform.openai.com/docs/guides/chat\n",
       "2. Library Science Course Material (provided by the professor)\n",
       "3. ChatGPT User Guide (provided by the professor)\n",
       "\n",
       "Additional Criteria:\n",
       "\n",
       "1. The assignment must be completed in pairs.\n",
       "2. Plagiarism will not be tolerated. Ensure that the instructional material is generated by ChatGPT and reviewed by the students.\n",
       "3. The video should be clear, concise, and well-structured, demonstrating the use of ChatGPT and its benefits in completing the assignment.\n",
       "4. Late submissions will not be accepted unless there are extenuating circumstances approved by the professor."
      ],
      "text/plain": [
       "<IPython.core.display.Markdown object>"
      ]
     },
     "metadata": {},
     "output_type": "display_data"
    },
    {
     "data": {
      "text/plain": [
       "'Evaluative Assignment: ChatGPT and Library Science Topic Exploration\\n\\nObjective:\\nThe purpose of this assignment is to help students learn how to use ChatGPT and explore a topic related to Library Science. Students will work in pairs to create instructional material and a video explaining their experience with ChatGPT.\\n\\nInstructions:\\n\\n1. Form pairs and choose a topic related to Library Science or the Introduction to Informatics class.\\n2. Use ChatGPT to generate a report in the form of instructional material that teaches the chosen content. Ensure that the report is accurate and relevant to your topic.\\n3. Review and edit the generated report to verify the correctness of the information.\\n4. Create a video explaining how ChatGPT helped you in completing the assignment. The video should be between 3 and 5 minutes long and uploaded to YouTube.\\n\\nSubmissions:\\n\\n1. First submission: A report in the form of instructional material (Word limit: 1000-1500 words).\\n2. Second submission: A YouTube video link (Duration: 3-5 minutes).\\n\\nEvaluation Criteria (Total: 100 points):\\n\\n1. Quality and relevance of the chosen topic (20 points)\\n2. Accuracy and completeness of the instructional material (30 points)\\n3. Clarity and organization of the instructional material (20 points)\\n4. Quality and content of the video explanation (20 points)\\n5. Collaboration and teamwork (10 points)\\n\\nDeadline:\\nThe deadline for submission is 15 days from the date of this assignment.\\n\\nStudy References:\\n\\n1. OpenAI. (n.d.). ChatGPT. https://platform.openai.com/docs/guides/chat\\n2. Library Science Course Material (provided by the professor)\\n3. ChatGPT User Guide (provided by the professor)\\n\\nAdditional Criteria:\\n\\n1. The assignment must be completed in pairs.\\n2. Plagiarism will not be tolerated. Ensure that the instructional material is generated by ChatGPT and reviewed by the students.\\n3. The video should be clear, concise, and well-structured, demonstrating the use of ChatGPT and its benefits in completing the assignment.\\n4. Late submissions will not be accepted unless there are extenuating circumstances approved by the professor.'"
      ]
     },
     "execution_count": 25,
     "metadata": {},
     "output_type": "execute_result"
    }
   ],
   "source": [
    "prompt = f\"\"\"\n",
    "I am a university professor of the Introduction to Informatics class in the Library Science course.\n",
    "This class is in the first semester.\n",
    "\n",
    "Specify an evaluative assignment for the class, considering that:\n",
    "\n",
    "1. The objective is for them to learn how to use ChatGPT.\n",
    "2. Another objective is for them to learn a topic related to the subject or about the Library Science course.\n",
    "\n",
    "3. There will be two submissions. The first submission should be a report in the form of instructional material that teaches the content chosen by the student. This report should be generated by ChatGPT and reviewed by the students to verify the correctness of the information. The second submission should be a video explaining how ChatGPT helped them in completing the assignment. This video should be uploaded to YouTube and have a duration between 3 and 5 minutes.\n",
    "\n",
    "4. Define the evaluation criteria and distribute the weights appropriately based on what you consider relevant for learning.\n",
    "5. Include study references.\n",
    "6. The deadline for submission is 15 days.\n",
    "7. Inform that it will be done in pairs.\n",
    "8. Specify the word limit.\n",
    "9. Specify any other criteria you deem relevant.\n",
    "\n",
    "\"\"\"\n",
    "print_prompt_answer(prompt, display_prompt=True)"
   ]
  },
  {
   "cell_type": "code",
   "execution_count": 9,
   "id": "6980ec20",
   "metadata": {},
   "outputs": [
    {
     "data": {
      "text/markdown": [
       "### Prompt"
      ],
      "text/plain": [
       "<IPython.core.display.Markdown object>"
      ]
     },
     "metadata": {},
     "output_type": "display_data"
    },
    {
     "name": "stdout",
     "output_type": "stream",
     "text": [
      "\n",
      "Sou um professor universitário da turma de Introdução à Informática do curso de Biblioteconomia. \n",
      "Essa turma é do primero semestre. \n",
      "O que eu passo como trabalho avaliativo para a turma sabendo que: \n",
      "1. O objetivo é que eles aprendam a usar o ChatGPT. 2. Outro objetivo é que eles aprendam um assunto relacionado à disciplina ou sobre o curso de biblioteconomia. \n",
      "3. Haverá duas entregas. A primeira entrega deverá ser um relatório em forma de material didático que ensine o conteúdo escolhido pelo discente. Esse relatório deverá ser gerado pelo ChatGPT e revisado pelos alunos para verificar se as infromações estão corretas. A segunda entrega deverá ser um vídeo que explica como o ChatGPT os ajudaram a realizar o trabalho. Esse vídeo deverá ser subido para o Youtube e ter entre 3 e 5 minutos de duração. \n",
      "4. Defina os critérios de avaliação e distribua os pesos adequadamente. que julgar pertinente para o aprendizado. 5. Cite referências de estudo. 6. O prazo de entrega é de 15 dias. 7. Informe que será em dupla. 8. Informe o limite de palavras. \\ \n",
      "9. Especifique demais critérios que julgar pertinente. \n",
      "\n"
     ]
    },
    {
     "data": {
      "text/markdown": [
       "Trabalho Avaliativo: Uso do ChatGPT na Biblioteconomia\n",
       "\n",
       "Caros alunos, como parte da avaliação da disciplina de Introdução à Informática, vocês deverão realizar um trabalho em dupla com o objetivo de aprender a utilizar o ChatGPT e explorar um assunto relacionado à disciplina ou ao curso de Biblioteconomia. O trabalho será dividido em duas entregas, conforme descrito abaixo:\n",
       "\n",
       "Entrega 1: Relatório em forma de material didático\n",
       "- Escolham um tema relacionado à disciplina ou ao curso de Biblioteconomia.\n",
       "- Utilizem o ChatGPT para gerar um relatório em forma de material didático que ensine o conteúdo escolhido.\n",
       "- Revisem o relatório gerado pelo ChatGPT, verificando se as informações estão corretas e fazendo as correções necessárias.\n",
       "- O relatório deve ter entre 1.000 e 1.500 palavras.\n",
       "- Incluam referências bibliográficas consultadas durante a elaboração do relatório.\n",
       "\n",
       "Entrega 2: Vídeo explicativo\n",
       "- Produzam um vídeo de 3 a 5 minutos explicando como o ChatGPT ajudou na realização do trabalho.\n",
       "- O vídeo deve ser postado no YouTube e o link enviado para avaliação.\n",
       "- No vídeo, expliquem brevemente o tema escolhido e como o ChatGPT foi utilizado na elaboração do relatório.\n",
       "\n",
       "Critérios de avaliação e pesos:\n",
       "1. Qualidade e clareza do relatório em forma de material didático (40%)\n",
       "2. Revisão e correção das informações geradas pelo ChatGPT (20%)\n",
       "3. Qualidade e clareza do vídeo explicativo (20%)\n",
       "4. Uso adequado das referências bibliográficas (10%)\n",
       "5. Cumprimento dos prazos e limites de palavras (10%)\n",
       "\n",
       "Referências de estudo:\n",
       "1. Artigos e livros relacionados ao tema escolhido.\n",
       "2. Tutoriais e guias sobre o uso do ChatGPT.\n",
       "\n",
       "Prazo de entrega:\n",
       "- A primeira entrega (relatório) deverá ser realizada em até 10 dias a partir da data de divulgação deste trabalho.\n",
       "- A segunda entrega (vídeo) deverá ser realizada em até 15 dias a partir da data de divulgação deste trabalho.\n",
       "\n",
       "Lembrem-se de que este trabalho deve ser realizado em dupla e respeitar os limites de palavras estabelecidos. Aproveitem esta oportunidade para aprender mais sobre o ChatGPT e a Biblioteconomia, e boa sorte!"
      ],
      "text/plain": [
       "<IPython.core.display.Markdown object>"
      ]
     },
     "metadata": {},
     "output_type": "display_data"
    },
    {
     "data": {
      "text/plain": [
       "'Trabalho Avaliativo: Uso do ChatGPT na Biblioteconomia\\n\\nCaros alunos, como parte da avaliação da disciplina de Introdução à Informática, vocês deverão realizar um trabalho em dupla com o objetivo de aprender a utilizar o ChatGPT e explorar um assunto relacionado à disciplina ou ao curso de Biblioteconomia. O trabalho será dividido em duas entregas, conforme descrito abaixo:\\n\\nEntrega 1: Relatório em forma de material didático\\n- Escolham um tema relacionado à disciplina ou ao curso de Biblioteconomia.\\n- Utilizem o ChatGPT para gerar um relatório em forma de material didático que ensine o conteúdo escolhido.\\n- Revisem o relatório gerado pelo ChatGPT, verificando se as informações estão corretas e fazendo as correções necessárias.\\n- O relatório deve ter entre 1.000 e 1.500 palavras.\\n- Incluam referências bibliográficas consultadas durante a elaboração do relatório.\\n\\nEntrega 2: Vídeo explicativo\\n- Produzam um vídeo de 3 a 5 minutos explicando como o ChatGPT ajudou na realização do trabalho.\\n- O vídeo deve ser postado no YouTube e o link enviado para avaliação.\\n- No vídeo, expliquem brevemente o tema escolhido e como o ChatGPT foi utilizado na elaboração do relatório.\\n\\nCritérios de avaliação e pesos:\\n1. Qualidade e clareza do relatório em forma de material didático (40%)\\n2. Revisão e correção das informações geradas pelo ChatGPT (20%)\\n3. Qualidade e clareza do vídeo explicativo (20%)\\n4. Uso adequado das referências bibliográficas (10%)\\n5. Cumprimento dos prazos e limites de palavras (10%)\\n\\nReferências de estudo:\\n1. Artigos e livros relacionados ao tema escolhido.\\n2. Tutoriais e guias sobre o uso do ChatGPT.\\n\\nPrazo de entrega:\\n- A primeira entrega (relatório) deverá ser realizada em até 10 dias a partir da data de divulgação deste trabalho.\\n- A segunda entrega (vídeo) deverá ser realizada em até 15 dias a partir da data de divulgação deste trabalho.\\n\\nLembrem-se de que este trabalho deve ser realizado em dupla e respeitar os limites de palavras estabelecidos. Aproveitem esta oportunidade para aprender mais sobre o ChatGPT e a Biblioteconomia, e boa sorte!'"
      ]
     },
     "execution_count": 9,
     "metadata": {},
     "output_type": "execute_result"
    }
   ],
   "source": [
    "prompt = f\"\"\"\n",
    "Sou um professor universitário da turma de Introdução à Informática \\\n",
    "do curso de Biblioteconomia. \n",
    "Essa turma é do primero semestre. \\\n",
    "\n",
    "Especifique um trabalho avaliativo para a turma sabendo que: \\\n",
    "\n",
    "1. O objetivo é que eles aprendam a usar o ChatGPT. \\\n",
    "2. Outro objetivo é que eles aprendam um assunto relacionado à disciplina \\\n",
    "ou sobre o curso de biblioteconomia. \\\n",
    "\n",
    "3. Haverá duas entregas. A primeira entrega deverá ser um relatório em forma \\\n",
    "de material didático que ensine o conteúdo escolhido pelo discente. \\\n",
    "Esse relatório deverá ser gerado pelo ChatGPT e revisado pelos alunos para \\\n",
    "verificar se as infromações estão corretas. \\\n",
    "A segunda entrega deverá ser um vídeo que explica como o ChatGPT os ajudaram \\\n",
    "a realizar o trabalho. Esse vídeo deverá ser subido para o Youtube e ter entre \\\n",
    "3 e 5 minutos de duração. \\\n",
    "\n",
    "4. Defina os critérios de avaliação e distribua os pesos adequadamente. \\\n",
    "que julgar pertinente para o aprendizado. \\\n",
    "5. Cite referências de estudo. \\\n",
    "6. O prazo de entrega é de 15 dias. \\\n",
    "7. Informe que será em dupla. \\\n",
    "8. Informe o limite de palavras. \\ \n",
    "9. Especifique demais critérios que julgar pertinente. \\\n",
    "\n",
    "\"\"\"\n",
    "print_prompt_answer(prompt, display_prompt=True) \n"
   ]
  },
  {
   "cell_type": "markdown",
   "id": "b3e29b0f",
   "metadata": {},
   "source": [
    "## Final Remarks\n",
    "\n",
    "- The purpose of this assignment is to prepare students for the context of the job market with the emergence of new AI technologies.\n",
    "- Therefore, I asked for ChatGPT's opinion on this matter.\n",
    "\n",
    "## Considerações Finais\n",
    "\n",
    "- O intuito desse trabalho é tentar preparar os alunos para o contexto do mercado de trabalho com o surgimento de novas tecnologias de IA\n",
    "- Então, pedi a opnião do ChatGPT sobre esse assunto"
   ]
  },
  {
   "cell_type": "code",
   "execution_count": 27,
   "id": "8fd4c342",
   "metadata": {
    "scrolled": false
   },
   "outputs": [
    {
     "data": {
      "text/markdown": [
       "### Prompt"
      ],
      "text/plain": [
       "<IPython.core.display.Markdown object>"
      ]
     },
     "metadata": {},
     "output_type": "display_data"
    },
    {
     "name": "stdout",
     "output_type": "stream",
     "text": [
      "\n",
      "What is the future of the profession for those who graduate in Library Science with the emergence of technologies like ChatGPT?\n",
      "\n"
     ]
    },
    {
     "data": {
      "text/markdown": [
       "The future of the profession for those who graduate in Library Science remains promising despite the emergence of technologies like ChatGPT. While AI and chatbot technologies will undoubtedly impact the field, they will also create new opportunities for library professionals to adapt and evolve. Some potential changes and opportunities include:\n",
       "\n",
       "1. Embracing technology: Library professionals will need to stay updated with the latest technological advancements, like ChatGPT, and incorporate them into their services to enhance user experience and improve information access.\n",
       "\n",
       "2. Expanding roles: Library professionals may take on new roles, such as data curators, digital archivists, and information managers, to manage and organize the vast amount of digital information available.\n",
       "\n",
       "3. Digital literacy and training: Library professionals will play a crucial role in promoting digital literacy and providing training to users on how to effectively use AI-based tools and other digital resources.\n",
       "\n",
       "4. Personalized services: Library professionals can use AI technologies to offer personalized services, such as reading recommendations, research assistance, and tailored learning experiences.\n",
       "\n",
       "5. Collaboration with AI: Library professionals can work alongside AI tools to provide more accurate and efficient services, combining human expertise with AI capabilities.\n",
       "\n",
       "6. Ethical considerations: Library professionals will need to address ethical concerns related to AI, such as privacy, data security, and algorithmic bias, ensuring that library services remain equitable and accessible to all.\n",
       "\n",
       "7. Advocacy and outreach: Library professionals will continue to advocate for the importance of libraries and their services, emphasizing the value of human expertise in conjunction with AI technologies.\n",
       "\n",
       "In summary, the emergence of technologies like ChatGPT will reshape the Library Science profession, but it will not make it obsolete. Instead, library professionals will need to adapt, learn new skills, and leverage these technologies to enhance their services and better serve their communities."
      ],
      "text/plain": [
       "<IPython.core.display.Markdown object>"
      ]
     },
     "metadata": {},
     "output_type": "display_data"
    },
    {
     "data": {
      "text/plain": [
       "'The future of the profession for those who graduate in Library Science remains promising despite the emergence of technologies like ChatGPT. While AI and chatbot technologies will undoubtedly impact the field, they will also create new opportunities for library professionals to adapt and evolve. Some potential changes and opportunities include:\\n\\n1. Embracing technology: Library professionals will need to stay updated with the latest technological advancements, like ChatGPT, and incorporate them into their services to enhance user experience and improve information access.\\n\\n2. Expanding roles: Library professionals may take on new roles, such as data curators, digital archivists, and information managers, to manage and organize the vast amount of digital information available.\\n\\n3. Digital literacy and training: Library professionals will play a crucial role in promoting digital literacy and providing training to users on how to effectively use AI-based tools and other digital resources.\\n\\n4. Personalized services: Library professionals can use AI technologies to offer personalized services, such as reading recommendations, research assistance, and tailored learning experiences.\\n\\n5. Collaboration with AI: Library professionals can work alongside AI tools to provide more accurate and efficient services, combining human expertise with AI capabilities.\\n\\n6. Ethical considerations: Library professionals will need to address ethical concerns related to AI, such as privacy, data security, and algorithmic bias, ensuring that library services remain equitable and accessible to all.\\n\\n7. Advocacy and outreach: Library professionals will continue to advocate for the importance of libraries and their services, emphasizing the value of human expertise in conjunction with AI technologies.\\n\\nIn summary, the emergence of technologies like ChatGPT will reshape the Library Science profession, but it will not make it obsolete. Instead, library professionals will need to adapt, learn new skills, and leverage these technologies to enhance their services and better serve their communities.'"
      ]
     },
     "execution_count": 27,
     "metadata": {},
     "output_type": "execute_result"
    }
   ],
   "source": [
    "prompt = f\"\"\"\n",
    "What is the future of the profession for those who graduate in Library Science \\\n",
    "with the emergence of technologies like ChatGPT?\n",
    "\"\"\"\n",
    "print_prompt_answer(prompt, display_prompt=True)"
   ]
  },
  {
   "cell_type": "code",
   "execution_count": 11,
   "id": "eff4d177",
   "metadata": {
    "scrolled": false
   },
   "outputs": [
    {
     "data": {
      "text/markdown": [
       "### Prompt"
      ],
      "text/plain": [
       "<IPython.core.display.Markdown object>"
      ]
     },
     "metadata": {},
     "output_type": "display_data"
    },
    {
     "name": "stdout",
     "output_type": "stream",
     "text": [
      "\n",
      "Qual é o futuro da profissão de quem é formado em Biblioteconomia com o surgimento de tecnologias como o ChatGPT?\n",
      "\n"
     ]
    },
    {
     "data": {
      "text/markdown": [
       "O surgimento de tecnologias como o ChatGPT certamente impacta a profissão de bibliotecários e profissionais formados em Biblioteconomia. No entanto, isso não significa que a profissão desaparecerá, mas sim que ela passará por transformações e adaptações. Algumas possíveis mudanças incluem:\n",
       "\n",
       "1. Adaptação às novas tecnologias: bibliotecários precisarão se familiarizar com ferramentas como o ChatGPT e outras tecnologias emergentes para melhorar a eficiência e a qualidade dos serviços prestados.\n",
       "\n",
       "2. Foco em habilidades interpessoais: com a automação de algumas tarefas, os bibliotecários poderão se concentrar mais no atendimento ao público, desenvolvendo habilidades de comunicação e empatia para melhor atender às necessidades dos usuários.\n",
       "\n",
       "3. Curadoria de informações: a quantidade de informações disponíveis continua a crescer exponencialmente, e os bibliotecários terão um papel importante na seleção, organização e avaliação dessas informações, garantindo que os usuários tenham acesso a conteúdos relevantes e confiáveis.\n",
       "\n",
       "4. Educação e treinamento em tecnologia da informação: os bibliotecários podem atuar como educadores e facilitadores no ensino de habilidades digitais e no uso de novas tecnologias, tanto para o público em geral quanto para outros profissionais.\n",
       "\n",
       "5. Gestão de dados e preservação digital: com o aumento da digitalização, os bibliotecários precisarão gerenciar e preservar informações digitais, garantindo seu acesso e uso a longo prazo.\n",
       "\n",
       "6. Colaboração interdisciplinar: os bibliotecários podem trabalhar em conjunto com profissionais de outras áreas, como cientistas da computação e especialistas em inteligência artificial, para desenvolver novas soluções e serviços.\n",
       "\n",
       "Em resumo, o futuro da profissão de Biblioteconomia envolve a adaptação às novas tecnologias e a incorporação de habilidades e conhecimentos adicionais. Os bibliotecários continuarão a desempenhar um papel importante na sociedade, ajudando as pessoas a acessar e utilizar informações de maneira eficiente e responsável."
      ],
      "text/plain": [
       "<IPython.core.display.Markdown object>"
      ]
     },
     "metadata": {},
     "output_type": "display_data"
    },
    {
     "data": {
      "text/plain": [
       "'O surgimento de tecnologias como o ChatGPT certamente impacta a profissão de bibliotecários e profissionais formados em Biblioteconomia. No entanto, isso não significa que a profissão desaparecerá, mas sim que ela passará por transformações e adaptações. Algumas possíveis mudanças incluem:\\n\\n1. Adaptação às novas tecnologias: bibliotecários precisarão se familiarizar com ferramentas como o ChatGPT e outras tecnologias emergentes para melhorar a eficiência e a qualidade dos serviços prestados.\\n\\n2. Foco em habilidades interpessoais: com a automação de algumas tarefas, os bibliotecários poderão se concentrar mais no atendimento ao público, desenvolvendo habilidades de comunicação e empatia para melhor atender às necessidades dos usuários.\\n\\n3. Curadoria de informações: a quantidade de informações disponíveis continua a crescer exponencialmente, e os bibliotecários terão um papel importante na seleção, organização e avaliação dessas informações, garantindo que os usuários tenham acesso a conteúdos relevantes e confiáveis.\\n\\n4. Educação e treinamento em tecnologia da informação: os bibliotecários podem atuar como educadores e facilitadores no ensino de habilidades digitais e no uso de novas tecnologias, tanto para o público em geral quanto para outros profissionais.\\n\\n5. Gestão de dados e preservação digital: com o aumento da digitalização, os bibliotecários precisarão gerenciar e preservar informações digitais, garantindo seu acesso e uso a longo prazo.\\n\\n6. Colaboração interdisciplinar: os bibliotecários podem trabalhar em conjunto com profissionais de outras áreas, como cientistas da computação e especialistas em inteligência artificial, para desenvolver novas soluções e serviços.\\n\\nEm resumo, o futuro da profissão de Biblioteconomia envolve a adaptação às novas tecnologias e a incorporação de habilidades e conhecimentos adicionais. Os bibliotecários continuarão a desempenhar um papel importante na sociedade, ajudando as pessoas a acessar e utilizar informações de maneira eficiente e responsável.'"
      ]
     },
     "execution_count": 11,
     "metadata": {},
     "output_type": "execute_result"
    }
   ],
   "source": [
    "prompt = f\"\"\"\n",
    "Qual é o futuro da profissão de quem é formado em Biblioteconomia \\\n",
    "com o surgimento de tecnologias como o ChatGPT?\n",
    "\"\"\"\n",
    "print_prompt_answer(prompt, display_prompt=True) \n"
   ]
  },
  {
   "cell_type": "code",
   "execution_count": null,
   "id": "70160de0",
   "metadata": {},
   "outputs": [],
   "source": []
  }
 ],
 "metadata": {
  "kernelspec": {
   "display_name": "Python 3 (ipykernel)",
   "language": "python",
   "name": "python3"
  },
  "language_info": {
   "codemirror_mode": {
    "name": "ipython",
    "version": 3
   },
   "file_extension": ".py",
   "mimetype": "text/x-python",
   "name": "python",
   "nbconvert_exporter": "python",
   "pygments_lexer": "ipython3",
   "version": "3.11.3"
  }
 },
 "nbformat": 4,
 "nbformat_minor": 5
}
