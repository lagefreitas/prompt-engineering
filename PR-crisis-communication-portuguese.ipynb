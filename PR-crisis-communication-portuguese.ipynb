{
 "cells": [
  {
   "cell_type": "markdown",
   "metadata": {},
   "source": [
    "<div style=\"text-align: right\"></div>\n",
    "\n",
    "# <center>A Inteligência Artificial como Suporte ao Gerenciamento de Crises</center>\n",
    "<div style=\"text-align: right\">Versão 2023-07-04</div>\n",
    "\n",
    "- Autor: **André Lage Freitas** \n",
    "  - **Professor Associado** da Universidade Federal de Alagoas (UFAL), curso de [Relações Públicas](https://ichca.ufal.br/pt-br/graduacao/relacoes-publicas)\n",
    "  - **PhD in Computer Science** from the [_Institut National des Sciences Appliquées de Rennes_ (France)](https://www.insa-rennes.fr/)\n",
    "- Vídeo dsse Tutorial no Youtube (em breve!)\n",
    "- [Siga-me no LinkedIn](www.linkedin.com/comm/mynetwork/discovery-see-all?usecase=PEOPLE_FOLLOWS&followMember=lage), [Siga-me no YouTube](https://www.youtube.com/channel/UCLPXTzvZ8IFrU6hBTeo1C-Q)\n",
    "- Modelo utilizado: GPT-4 (não é o ChatGPT, é a [API do GPT](https://openai.com/blog/openai-api))\n",
    "\n",
    "### Nota ética\n",
    "\n",
    "O uso adequado de uma IA generativa como o ChatGPT envolve aproveitar suas capacidades para auxiliar na elaboração de mensagens oportunas, precisas e claras que abordem efetivamente a crise em questão. Os usuários devem utilizar a IA para gerar ideias, elaborar respostas ou analisar o sentimento público, mantendo uma abordagem respeitosa e ética. É importante estar ciente das limitações da IA, pois ocasionalmente pode produzir informações que não são totalmente precisas ou atualizadas. Ao usar o ChatGPT de forma responsável, os profissionais de relações públicas podem aprimorar suas estratégias de comunicação em situações de crise e lidar melhor com desafios.\n",
    "\n",
    "Além disso, os usuários devem garantir que o conteúdo gerado pela IA esteja alinhado com a voz e os valores de sua organização, seguindo padrões éticos. É crucial verificar novamente as informações geradas pela IA quanto à precisão e relevância, pois ocasionalmente pode produzir conteúdo que não está totalmente atualizado ou contextualmente preciso.\n",
    "\n",
    "### Agradecimentos\n",
    "\n",
    "Meus sinceros agradecimentos aos revisores anônimos deste trabalho que contribuíram com seus questionamentos e sugestões."
   ]
  },
  {
   "cell_type": "markdown",
   "metadata": {},
   "source": [
    "## Objetivo\n",
    "\n",
    "**Investigar a praticabilidade e a eficiência de um modelo largo de linguagem no gerenciamento de crises.**\n",
    "\n",
    "\n",
    "## Crise: [\"CEO da OceanGate morto em acidente no submarino ignorou alertas de segurança\"](https://www.metropoles.com/brasil/ceo-da-oceangate-morto-em-acidente-no-submarino-ignorou-alertas-de-seguranca)\n",
    "\n",
    "- Autora: Mariah Aquino, 23/06/2023 19:29, atualizado 23/06/2023 22:13\n",
    "- Original na íntegra disponível no [portal Metropoles](https://www.metropoles.com/brasil/ceo-da-oceangate-morto-em-acidente-no-submarino-ignorou-alertas-de-seguranca)\n"
   ]
  },
  {
   "cell_type": "code",
   "execution_count": 4,
   "metadata": {
    "scrolled": true,
    "tags": []
   },
   "outputs": [],
   "source": [
    "# Source: https://www.metropoles.com/brasil/ceo-da-oceangate-morto-em-acidente-no-submarino-ignorou-alertas-de-seguranca\n",
    "materia = \"\"\"CEO da OceanGate morto em acidente no submarino ignorou alertas de segurança. O CEO da OceanGate, Stockton Rush, um dos mortos na tragédia do submarino Titan desaparecido na expedição aos destroços do Titanic, ignorou, por diversas vezes, alertas sobre a segurança do submersível Titan.  As falas foram reveladas pela BBC em troca de e-mails entre Rush e o especialista em exploração no alto mar Rob McCallum. O expert insistia para que o uso do Titan fosse suspenso até que a máquina recebesse certificação de um órgão independente.  “Acho que você está potencialmente colocando a si mesmo e a seus clientes em uma dinâmica perigosa”, escreveu McCallum em 2018. Rush rebateu: “Estou cansado de gente da indústria que tenta usar argumentos de segurança para impedir a inovação.”  McCallum ainda relembrou a frase dita sobre o próprio Titanic, tido como um navio “inafundável”. “Imploro que tomem todo o cuidado em seus testes e testes no mar e sejam muito, muito conservadores. Por mais que eu aprecie o empreendedorismo e a inovação, você está potencialmente colocando todo um setor em risco”, ressaltou o especialista.  Stockton Rush admitiu que “a abordagem inovadora e focada em engenharia da OceanGate vai contra a ortodoxia de submersíveis, mas essa é a natureza da inovação”. A troca de mensagens foi interrompida com uma ameaça da empresa a processar Rob McCallum.  Foto colorida mostra Sulaiman e Shahzada Dawood, filho e pai paquistaneses - Metrópoles SulaimaneShahzadaDawood  Sulaiman e Shahzada Dawood, filho e pai paquistaneses Reprodução  Imagem colorida mostra Submarino usado na visita ao naufrágio do Titanic - Metrópoles Submarino usado na visita ao naufrágio do Titanic tem capacidade para 5 pessoas  O submarino levava cinco pessoas aos destroços do Titanic OceanGate/Divulgação  Imagem colorida mostra Submarino usado na visita ao naufrágio do Titanic claustrofobia - Metrópoles Submarino usado na visita ao naufrágio do Titanic tem capacidade para 5 pessoas. claustrofobia  Submarino usado na visita ao Titanic tinha capacidade para cinco pessoas em espaço apertado, o que poderia gerar sensação de claustrofobia OceanGate/Divulgação  Imagem colorida de um mapeamento 3D do Titanic - Metrópoles popa do titanic  Destroços e pedaços da popa do navio Titanic, naufragado em 1912 Reprodução/Atlantic Productions/Magellan  Imagem colorida de um mapeamento 3D do Titanic - Metrópoles proa do titanic  A proa do Titanic permanece reconhecível após mais de 100 anos de naufrágio Reprodução/Atlantic Productions/Magellan  foto colorida de navio Titanic naufragado titanic naufragado  O Titanic naufragado Divulgação/OceanGate Expeditions  Montagem mostra vítimas de acidente com submarino da OceanGate - Metrópoles acidentesubmarino  Paul-Henry Nargeolet, Hamish Harding, Sulaiman Dawood, Shahzada Dawood e Stockton Rush: vítimas de acidente com submarino da OceanGate no Atlântico Norte, próximo aos destroços do Titanic Reprodução  Foto colorista mostra Stockton Rush, diretor-executivo e co-fundador da OceanGate - Metrópoles StocktonRush  Stockton Rush, diretor-executivo e co-fundador da OceanGate  Imagem mostra bilionário Hamish Harding que estava a bordo de submersível que desapareceu em busca de destroços do Titanic - Metrópoles bilionário  O bilionário Hamish Harding está no submarino desaparecido Reprodução / Redes sociais  Imagem colorida mostra Paul Henri Nargeolet é um renomado explorador francês - Metrópoles Paul Henri Nargeolet  Paul Henri Nargeolet é um renomado explorador francês OceanGate/Divulgação  Foto colorida mostra Sulaiman e Shahzada Dawood, filho e pai paquistaneses - Metrópoles SulaimaneShahzadaDawood  Sulaiman e Shahzada Dawood, filho e pai paquistaneses Reprodução  Imagem colorida mostra Submarino usado na visita ao naufrágio do Titanic - Metrópoles Submarino usado na visita ao naufrágio do Titanic tem capacidade para 5 pessoas  O submarino levava cinco pessoas aos destroços do Titanic OceanGate/Divulgação  1 “Implosão catastrófica”  A Guarda Costeira dos Estados Unidos (EUA) confirmou, nesta quinta-feira (22/6), a morte das cinco pessoas que estavam no submarino Titan, da empresa OceanGate. O veículo desapareceu no último domingo (18/6), em meio ao Oceano Atlântico, após fazer uma expedição até os destroços do navio Titanic, a cerca de 3,8 mil metros de profundidade.  O contra-almirante da Marinha americana John Mauger afirmou que cinco peças de destroços do submarino foram encontrados próximos ao Titanic, o que caracteriza uma “implosão catastrófica” do submarino.  Cinco pessoas fizeram parte da expedição:      Stockton Rush, diretor-executivo e co-fundador da OceanGate;     Hamish Harding, 58 anos, bilionário britânico dono da empresa de aviação Action Aviation;     Shahzada Dawood, empresário paquistanês e vice-presidente da Engro Corporation;     Sulaiman Dawood, filho de Shahzada Dawood; e     Paul-Henry Nargeolet, 77 anos, ex-comandante da Marinha Francesa e um dos principais especialistas no naufrágio do Titanic.  As equipes de busca encontraram destroços da cabine de pressão do submarino em 3 grandes pedaços. Após encontrar o primeiro detrito, que aparentava ser a parte externa da cabine onde os passageiros estavam a bordo, o porta-voz afirmou que essa foi “a primeira grande indicação de que houve um evento catastrófico”.  Quando uma segunda área de destroços com outro pedaço da cabine de pressão foi descoberta, as autoridades puderam confirmar que o submersível foi implodido com seus passageiros dentro.  “Um ROV descobriu uma parte do casco do submersível a cerca de 500 metros da proa do Titanic no fundo do oceano. Em seguida, o robô encontrou outros destroços”, descreveu John Mauger.  Os destroços foram localizados por um veículo operado remotamente (sigla em inglês, ROV), o robô francês modelo Victor 6000, que chega a grandes profundidades.  A viagem de vários dias até o local onde o Titanic naufragou custa dezenas de milhares de dólares e incluía um mergulho para observar os destroços do famoso navio. A descida e a subida levam cerca de oito horas.  O famoso naufrágio do navio fica a 3.800 metros, no fundo do Atlântico. Os restos da maior embarcação de sua época estão localizados a cerca de 600 km da costa de Newfoundland, no Canadá.\"\"\"\n",
    "# materia"
   ]
  },
  {
   "cell_type": "markdown",
   "metadata": {},
   "source": [
    "## Definindo as funções que enviam os comandos (prompts) para o GPT"
   ]
  },
  {
   "cell_type": "code",
   "execution_count": 5,
   "metadata": {
    "tags": []
   },
   "outputs": [],
   "source": [
    "# openai API setup\n",
    "import os\n",
    "import openai\n",
    "openai.api_key = os.getenv(\"OPENAI_API_KEY\")\n",
    "\n",
    "# função para simplicar a chamada da API\n",
    "def get_completion(prompt, model=\"gpt-4\"): \n",
    "# def get_completion(prompt, model=\"gpt-3.5-turbo\"): \n",
    "    messages = [{\"role\": \"user\", \"content\": prompt}]\n",
    "    response = openai.ChatCompletion.create(\n",
    "        model=model,\n",
    "        messages=messages,\n",
    "        temperature=0, \n",
    "    )\n",
    "    return response.choices[0].message[\"content\"]\n",
    "\n",
    "# to print in Markdown style\n",
    "from IPython.display import display, Markdown\n",
    "\n",
    "def print_prompt_answer(prompt, output_format=\"markdown\", display_prompt=False):\n",
    "    if display_prompt:\n",
    "        display(Markdown(\"### Prompt\"))\n",
    "        print(prompt)\n",
    "#         display(Markdown(prompt)) \n",
    "\n",
    "    response = get_completion(prompt)\n",
    "    \n",
    "    if output_format == \"markdown\":\n",
    "        display(Markdown(response))\n",
    "    print(response)\n",
    "    return response\n",
    "    "
   ]
  },
  {
   "cell_type": "markdown",
   "metadata": {},
   "source": [
    "## Criação de Comunicado de Imprensa\n",
    "\n",
    "Com o objetivo de compreender o conhecimento geral do modelo sobre gerenciamento de crises, executamos o comando: \n",
    "\n",
    "> O que eu devo fazer para gerir a crise criada pela matéria delimitada por \"```\"? ```{materia}```\n",
    "\n",
    "Onde materia é o conteúdo da notícia publicada. O GPT sugeriu os seguintes etapas para lidar com a crise: Reconhecimento, Investigação, Comunicação, Ação, Revisão, Restauração da confiança e Apoio às vítimas. Além disso, explicou o que deveria ser feito em cada etapa incluinodo exemplos. O conteúdo estava correto e englobava as principais ações a serem tomadas no gerenciamento de crises. \n",
    "\n",
    "Em seguida, executamos o comando: \n",
    "\n",
    "> Você é o Relações Públicas da empresa OceanGate e precisa gerenciar a crise sobre a matéria delimitada por  \"```\". Escreva um comunidado de imprensa para reconhecer a situação e expressar condolências às famílias das vítimas. Isso deve ser feito de maneira sincera e respeitosa. ```{materia}```. \n",
    "\n",
    "O objetivo foi realizar a etapa \"Reconhecimento\", sugerida pelo próprio GPT no comando anterior, inclusive, a frase \"reconhecer a situação e expressar condolências às famílias das vítimas. Isso deve ser feito de maneira sincera e respeitosa.\" foi copiada da saída do comando anterior. Hipoteticamente, especificamos que somos um profissional de Relações Públicas da empresa OceanGate para que o modelo compreende melhor o contexto do comando a ser executado. O comunidado de imporesa gerado pelo GPT ficou bem escrito e muito adequado à situação.\n",
    "\n"
   ]
  },
  {
   "cell_type": "code",
   "execution_count": 7,
   "metadata": {
    "tags": []
   },
   "outputs": [
    {
     "data": {
      "text/markdown": [
       "Gerir uma crise como essa requer uma abordagem cuidadosa e estratégica. Aqui estão algumas etapas que você pode seguir:\n",
       "\n",
       "1. **Reconhecimento**: A primeira coisa a fazer é reconhecer a situação e expressar condolências às famílias das vítimas. Isso deve ser feito de maneira sincera e respeitosa.\n",
       "\n",
       "2. **Investigação**: Inicie uma investigação interna para entender o que aconteceu e por que os alertas de segurança foram ignorados. Se necessário, contrate uma empresa de investigação independente para garantir a imparcialidade.\n",
       "\n",
       "3. **Comunicação**: Mantenha uma comunicação aberta e transparente com o público, a mídia e todas as partes interessadas. Informe-os sobre o que aconteceu, o que está sendo feito para investigar a situação e quais medidas estão sendo tomadas para evitar que isso aconteça novamente.\n",
       "\n",
       "4. **Ação**: Com base nos resultados da investigação, tome medidas corretivas. Isso pode incluir a implementação de novas políticas de segurança, treinamento de funcionários e, se necessário, ações disciplinares contra aqueles que ignoraram os alertas de segurança.\n",
       "\n",
       "5. **Revisão**: Revise suas políticas e procedimentos de segurança para garantir que eles sejam eficazes e estejam sendo seguidos. Considere a contratação de um consultor de segurança para ajudar nesse processo.\n",
       "\n",
       "6. **Restauração da confiança**: Trabalhe para restaurar a confiança do público em sua empresa. Isso pode levar tempo e requerer uma comunicação consistente e transparente, bem como a demonstração de que medidas efetivas foram tomadas para evitar que uma tragédia semelhante aconteça novamente.\n",
       "\n",
       "7. **Apoio às vítimas**: Forneça apoio às famílias das vítimas, seja através de assistência financeira, aconselhamento ou outras formas de apoio. Isso não apenas é a coisa certa a fazer, mas também ajudará a restaurar a reputação da sua empresa.\n",
       "\n",
       "Lembre-se, a chave para gerir uma crise é agir de forma rápida, transparente e responsável."
      ],
      "text/plain": [
       "<IPython.core.display.Markdown object>"
      ]
     },
     "metadata": {},
     "output_type": "display_data"
    },
    {
     "name": "stdout",
     "output_type": "stream",
     "text": [
      "Gerir uma crise como essa requer uma abordagem cuidadosa e estratégica. Aqui estão algumas etapas que você pode seguir:\n",
      "\n",
      "1. **Reconhecimento**: A primeira coisa a fazer é reconhecer a situação e expressar condolências às famílias das vítimas. Isso deve ser feito de maneira sincera e respeitosa.\n",
      "\n",
      "2. **Investigação**: Inicie uma investigação interna para entender o que aconteceu e por que os alertas de segurança foram ignorados. Se necessário, contrate uma empresa de investigação independente para garantir a imparcialidade.\n",
      "\n",
      "3. **Comunicação**: Mantenha uma comunicação aberta e transparente com o público, a mídia e todas as partes interessadas. Informe-os sobre o que aconteceu, o que está sendo feito para investigar a situação e quais medidas estão sendo tomadas para evitar que isso aconteça novamente.\n",
      "\n",
      "4. **Ação**: Com base nos resultados da investigação, tome medidas corretivas. Isso pode incluir a implementação de novas políticas de segurança, treinamento de funcionários e, se necessário, ações disciplinares contra aqueles que ignoraram os alertas de segurança.\n",
      "\n",
      "5. **Revisão**: Revise suas políticas e procedimentos de segurança para garantir que eles sejam eficazes e estejam sendo seguidos. Considere a contratação de um consultor de segurança para ajudar nesse processo.\n",
      "\n",
      "6. **Restauração da confiança**: Trabalhe para restaurar a confiança do público em sua empresa. Isso pode levar tempo e requerer uma comunicação consistente e transparente, bem como a demonstração de que medidas efetivas foram tomadas para evitar que uma tragédia semelhante aconteça novamente.\n",
      "\n",
      "7. **Apoio às vítimas**: Forneça apoio às famílias das vítimas, seja através de assistência financeira, aconselhamento ou outras formas de apoio. Isso não apenas é a coisa certa a fazer, mas também ajudará a restaurar a reputação da sua empresa.\n",
      "\n",
      "Lembre-se, a chave para gerir uma crise é agir de forma rápida, transparente e responsável.\n"
     ]
    },
    {
     "data": {
      "text/plain": [
       "'Gerir uma crise como essa requer uma abordagem cuidadosa e estratégica. Aqui estão algumas etapas que você pode seguir:\\n\\n1. **Reconhecimento**: A primeira coisa a fazer é reconhecer a situação e expressar condolências às famílias das vítimas. Isso deve ser feito de maneira sincera e respeitosa.\\n\\n2. **Investigação**: Inicie uma investigação interna para entender o que aconteceu e por que os alertas de segurança foram ignorados. Se necessário, contrate uma empresa de investigação independente para garantir a imparcialidade.\\n\\n3. **Comunicação**: Mantenha uma comunicação aberta e transparente com o público, a mídia e todas as partes interessadas. Informe-os sobre o que aconteceu, o que está sendo feito para investigar a situação e quais medidas estão sendo tomadas para evitar que isso aconteça novamente.\\n\\n4. **Ação**: Com base nos resultados da investigação, tome medidas corretivas. Isso pode incluir a implementação de novas políticas de segurança, treinamento de funcionários e, se necessário, ações disciplinares contra aqueles que ignoraram os alertas de segurança.\\n\\n5. **Revisão**: Revise suas políticas e procedimentos de segurança para garantir que eles sejam eficazes e estejam sendo seguidos. Considere a contratação de um consultor de segurança para ajudar nesse processo.\\n\\n6. **Restauração da confiança**: Trabalhe para restaurar a confiança do público em sua empresa. Isso pode levar tempo e requerer uma comunicação consistente e transparente, bem como a demonstração de que medidas efetivas foram tomadas para evitar que uma tragédia semelhante aconteça novamente.\\n\\n7. **Apoio às vítimas**: Forneça apoio às famílias das vítimas, seja através de assistência financeira, aconselhamento ou outras formas de apoio. Isso não apenas é a coisa certa a fazer, mas também ajudará a restaurar a reputação da sua empresa.\\n\\nLembre-se, a chave para gerir uma crise é agir de forma rápida, transparente e responsável.'"
      ]
     },
     "execution_count": 7,
     "metadata": {},
     "output_type": "execute_result"
    }
   ],
   "source": [
    "prompt = f\"\"\"\n",
    "O que eu devo fazer para gerir a crise criada pela matéria delimitada por \"```\"? \\\n",
    "\n",
    "```{materia}```\n",
    "\"\"\"\n",
    "\n",
    "print_prompt_answer(prompt)"
   ]
  },
  {
   "cell_type": "code",
   "execution_count": 8,
   "metadata": {
    "tags": []
   },
   "outputs": [
    {
     "data": {
      "text/markdown": [
       "COMUNICADO DE IMPRENSA\n",
       "\n",
       "OceanGate Inc.\n",
       "\n",
       "22 de junho\n",
       "\n",
       "É com profundo pesar que a OceanGate Inc. confirma a perda trágica de cinco membros da nossa equipe durante uma expedição ao Titanic no submarino Titan. Entre os falecidos estão nosso CEO e co-fundador, Stockton Rush, o bilionário britânico Hamish Harding, o empresário paquistanês Shahzada Dawood, seu filho Sulaiman Dawood, e o renomado explorador francês Paul-Henry Nargeolet.\n",
       "\n",
       "Nossos pensamentos e orações estão com suas famílias e amigos neste momento extremamente difícil. Estamos trabalhando para fornecer todo o apoio necessário a eles e a todos os membros da nossa equipe que estão sofrendo com essa perda inimaginável.\n",
       "\n",
       "A OceanGate Inc. está em contato direto com a Guarda Costeira dos Estados Unidos e outras autoridades relevantes para entender completamente as circunstâncias que levaram a este trágico acidente. A segurança de nossa equipe e de todos os envolvidos em nossas operações sempre foi e continuará sendo nossa prioridade máxima.\n",
       "\n",
       "Reconhecemos as preocupações levantadas sobre a segurança do submarino Titan. Estamos comprometidos em conduzir uma investigação completa e transparente sobre essas alegações. Qualquer falha em nossos protocolos de segurança será tratada com a máxima seriedade e faremos as mudanças necessárias para garantir que um incidente como este nunca se repita.\n",
       "\n",
       "A OceanGate Inc. foi fundada com a missão de abrir as fronteiras do oceano para a exploração humana e a pesquisa científica. A perda desses cinco indivíduos, todos comprometidos com essa missão, é um golpe devastador para todos nós.\n",
       "\n",
       "Neste momento de luto, pedimos respeito à privacidade das famílias afetadas enquanto elas lidam com essa perda inimaginável. Agradecemos a todos que expressaram suas condolências e ofereceram seu apoio.\n",
       "\n",
       "Para mais informações, entre em contato com nosso departamento de relações públicas.\n",
       "\n",
       "OceanGate Inc."
      ],
      "text/plain": [
       "<IPython.core.display.Markdown object>"
      ]
     },
     "metadata": {},
     "output_type": "display_data"
    },
    {
     "name": "stdout",
     "output_type": "stream",
     "text": [
      "COMUNICADO DE IMPRENSA\n",
      "\n",
      "OceanGate Inc.\n",
      "\n",
      "22 de junho\n",
      "\n",
      "É com profundo pesar que a OceanGate Inc. confirma a perda trágica de cinco membros da nossa equipe durante uma expedição ao Titanic no submarino Titan. Entre os falecidos estão nosso CEO e co-fundador, Stockton Rush, o bilionário britânico Hamish Harding, o empresário paquistanês Shahzada Dawood, seu filho Sulaiman Dawood, e o renomado explorador francês Paul-Henry Nargeolet.\n",
      "\n",
      "Nossos pensamentos e orações estão com suas famílias e amigos neste momento extremamente difícil. Estamos trabalhando para fornecer todo o apoio necessário a eles e a todos os membros da nossa equipe que estão sofrendo com essa perda inimaginável.\n",
      "\n",
      "A OceanGate Inc. está em contato direto com a Guarda Costeira dos Estados Unidos e outras autoridades relevantes para entender completamente as circunstâncias que levaram a este trágico acidente. A segurança de nossa equipe e de todos os envolvidos em nossas operações sempre foi e continuará sendo nossa prioridade máxima.\n",
      "\n",
      "Reconhecemos as preocupações levantadas sobre a segurança do submarino Titan. Estamos comprometidos em conduzir uma investigação completa e transparente sobre essas alegações. Qualquer falha em nossos protocolos de segurança será tratada com a máxima seriedade e faremos as mudanças necessárias para garantir que um incidente como este nunca se repita.\n",
      "\n",
      "A OceanGate Inc. foi fundada com a missão de abrir as fronteiras do oceano para a exploração humana e a pesquisa científica. A perda desses cinco indivíduos, todos comprometidos com essa missão, é um golpe devastador para todos nós.\n",
      "\n",
      "Neste momento de luto, pedimos respeito à privacidade das famílias afetadas enquanto elas lidam com essa perda inimaginável. Agradecemos a todos que expressaram suas condolências e ofereceram seu apoio.\n",
      "\n",
      "Para mais informações, entre em contato com nosso departamento de relações públicas.\n",
      "\n",
      "OceanGate Inc.\n"
     ]
    },
    {
     "data": {
      "text/plain": [
       "'COMUNICADO DE IMPRENSA\\n\\nOceanGate Inc.\\n\\n22 de junho\\n\\nÉ com profundo pesar que a OceanGate Inc. confirma a perda trágica de cinco membros da nossa equipe durante uma expedição ao Titanic no submarino Titan. Entre os falecidos estão nosso CEO e co-fundador, Stockton Rush, o bilionário britânico Hamish Harding, o empresário paquistanês Shahzada Dawood, seu filho Sulaiman Dawood, e o renomado explorador francês Paul-Henry Nargeolet.\\n\\nNossos pensamentos e orações estão com suas famílias e amigos neste momento extremamente difícil. Estamos trabalhando para fornecer todo o apoio necessário a eles e a todos os membros da nossa equipe que estão sofrendo com essa perda inimaginável.\\n\\nA OceanGate Inc. está em contato direto com a Guarda Costeira dos Estados Unidos e outras autoridades relevantes para entender completamente as circunstâncias que levaram a este trágico acidente. A segurança de nossa equipe e de todos os envolvidos em nossas operações sempre foi e continuará sendo nossa prioridade máxima.\\n\\nReconhecemos as preocupações levantadas sobre a segurança do submarino Titan. Estamos comprometidos em conduzir uma investigação completa e transparente sobre essas alegações. Qualquer falha em nossos protocolos de segurança será tratada com a máxima seriedade e faremos as mudanças necessárias para garantir que um incidente como este nunca se repita.\\n\\nA OceanGate Inc. foi fundada com a missão de abrir as fronteiras do oceano para a exploração humana e a pesquisa científica. A perda desses cinco indivíduos, todos comprometidos com essa missão, é um golpe devastador para todos nós.\\n\\nNeste momento de luto, pedimos respeito à privacidade das famílias afetadas enquanto elas lidam com essa perda inimaginável. Agradecemos a todos que expressaram suas condolências e ofereceram seu apoio.\\n\\nPara mais informações, entre em contato com nosso departamento de relações públicas.\\n\\nOceanGate Inc.'"
      ]
     },
     "execution_count": 8,
     "metadata": {},
     "output_type": "execute_result"
    }
   ],
   "source": [
    "prompt = f\"\"\"\n",
    "Você é o Relações Públicas da empresa OceanGate e precisa gerenciar a crise sobre a matéria delimitada por  \"```\". \\\n",
    "Escreva um comunidado de imprensa para reconhecer a situação e expressar condolências às famílias das vítimas. Isso deve ser feito de maneira sincera e respeitosa. \\\n",
    "\n",
    "```{materia}```\n",
    "\"\"\"\n",
    "\n",
    "print_prompt_answer(prompt)"
   ]
  },
  {
   "cell_type": "markdown",
   "metadata": {},
   "source": [
    "\n",
    "\n",
    "\n",
    "## Criação de postagem para redes sociais e análise de sentimentos dos comentários\n",
    "\n",
    "Em seguida, pedimos ao GPT para criar postagens em várias redes sociais utilizando o comunicado de impresa. O objetivo é se reconhecer a sistuação em redes sociais de acordo com a linguagem cultural de cada rede. O comando utilizado foi: \n",
    "\n",
    "> Resuma o texto delimitado por \"```\" para que ele seja utilizado nas seguintes redes sociais, adaptando cada estilo de redação de acordo com a cultura de linguagem de cada rede social: 1. Instagram. 2. Twitter. 3. Tiktok. 4. Linkedin. \n",
    "\n",
    "Os textos gerados ficaram satisfatórios e de acordo com a cultura de cada rede. "
   ]
  },
  {
   "cell_type": "code",
   "execution_count": 9,
   "metadata": {
    "scrolled": true,
    "tags": []
   },
   "outputs": [
    {
     "data": {
      "text/markdown": [
       "1. Instagram: 💔 É com pesar que confirmamos a perda de cinco membros da nossa equipe da OceanGate Inc., incluindo nosso CEO e co-fundador, durante uma expedição ao Titanic. Nossos pensamentos estão com suas famílias neste momento difícil. Estamos comprometidos em entender o que aconteceu e garantir a segurança de todos os envolvidos em nossas operações. #OceanGateInc #RIP\n",
       "\n",
       "2. Twitter: Tragicamente, perdemos cinco membros da equipe da OceanGate Inc. durante uma expedição ao Titanic, incluindo nosso CEO. Nossos pensamentos estão com suas famílias. Estamos trabalhando para entender o que aconteceu e garantir a segurança de todos. #OceanGateInc #RIP\n",
       "\n",
       "3. TikTok: [Vídeo com música triste] Texto na tela: \"OceanGate Inc. lamenta a perda de cinco membros da equipe durante uma expedição ao Titanic. Nossos pensamentos estão com suas famílias. Estamos comprometidos em entender o que aconteceu e garantir a segurança de todos.\"\n",
       "\n",
       "4. LinkedIn: É com profundo pesar que a OceanGate Inc. confirma a perda de cinco membros da nossa equipe, incluindo nosso CEO e co-fundador, durante uma expedição ao Titanic. Estamos em contato com as autoridades para entender completamente as circunstâncias deste trágico acidente. A segurança de nossa equipe e de todos os envolvidos em nossas operações é nossa prioridade máxima. Estamos comprometidos em conduzir uma investigação completa e transparente. Nossos pensamentos estão com as famílias dos falecidos neste momento extremamente difícil."
      ],
      "text/plain": [
       "<IPython.core.display.Markdown object>"
      ]
     },
     "metadata": {},
     "output_type": "display_data"
    },
    {
     "name": "stdout",
     "output_type": "stream",
     "text": [
      "1. Instagram: 💔 É com pesar que confirmamos a perda de cinco membros da nossa equipe da OceanGate Inc., incluindo nosso CEO e co-fundador, durante uma expedição ao Titanic. Nossos pensamentos estão com suas famílias neste momento difícil. Estamos comprometidos em entender o que aconteceu e garantir a segurança de todos os envolvidos em nossas operações. #OceanGateInc #RIP\n",
      "\n",
      "2. Twitter: Tragicamente, perdemos cinco membros da equipe da OceanGate Inc. durante uma expedição ao Titanic, incluindo nosso CEO. Nossos pensamentos estão com suas famílias. Estamos trabalhando para entender o que aconteceu e garantir a segurança de todos. #OceanGateInc #RIP\n",
      "\n",
      "3. TikTok: [Vídeo com música triste] Texto na tela: \"OceanGate Inc. lamenta a perda de cinco membros da equipe durante uma expedição ao Titanic. Nossos pensamentos estão com suas famílias. Estamos comprometidos em entender o que aconteceu e garantir a segurança de todos.\"\n",
      "\n",
      "4. LinkedIn: É com profundo pesar que a OceanGate Inc. confirma a perda de cinco membros da nossa equipe, incluindo nosso CEO e co-fundador, durante uma expedição ao Titanic. Estamos em contato com as autoridades para entender completamente as circunstâncias deste trágico acidente. A segurança de nossa equipe e de todos os envolvidos em nossas operações é nossa prioridade máxima. Estamos comprometidos em conduzir uma investigação completa e transparente. Nossos pensamentos estão com as famílias dos falecidos neste momento extremamente difícil.\n"
     ]
    },
    {
     "data": {
      "text/plain": [
       "'1. Instagram: 💔 É com pesar que confirmamos a perda de cinco membros da nossa equipe da OceanGate Inc., incluindo nosso CEO e co-fundador, durante uma expedição ao Titanic. Nossos pensamentos estão com suas famílias neste momento difícil. Estamos comprometidos em entender o que aconteceu e garantir a segurança de todos os envolvidos em nossas operações. #OceanGateInc #RIP\\n\\n2. Twitter: Tragicamente, perdemos cinco membros da equipe da OceanGate Inc. durante uma expedição ao Titanic, incluindo nosso CEO. Nossos pensamentos estão com suas famílias. Estamos trabalhando para entender o que aconteceu e garantir a segurança de todos. #OceanGateInc #RIP\\n\\n3. TikTok: [Vídeo com música triste] Texto na tela: \"OceanGate Inc. lamenta a perda de cinco membros da equipe durante uma expedição ao Titanic. Nossos pensamentos estão com suas famílias. Estamos comprometidos em entender o que aconteceu e garantir a segurança de todos.\"\\n\\n4. LinkedIn: É com profundo pesar que a OceanGate Inc. confirma a perda de cinco membros da nossa equipe, incluindo nosso CEO e co-fundador, durante uma expedição ao Titanic. Estamos em contato com as autoridades para entender completamente as circunstâncias deste trágico acidente. A segurança de nossa equipe e de todos os envolvidos em nossas operações é nossa prioridade máxima. Estamos comprometidos em conduzir uma investigação completa e transparente. Nossos pensamentos estão com as famílias dos falecidos neste momento extremamente difícil.'"
      ]
     },
     "execution_count": 9,
     "metadata": {},
     "output_type": "execute_result"
    }
   ],
   "source": [
    "comunicado_de_imprensa = \"\"\"COMUNICADO DE IMPRENSA. OceanGate Inc. 22 de junho de 2023. É com profundo pesar que a OceanGate Inc. confirma a perda trágica de cinco membros da nossa equipe durante uma expedição ao Titanic no submarino Titan. Entre os falecidos estão nosso CEO e co-fundador, Stockton Rush, o bilionário britânico Hamish Harding, o empresário paquistanês Shahzada Dawood, seu filho Sulaiman Dawood, e o renomado explorador francês Paul-Henry Nargeolet.  Nossos pensamentos e orações estão com suas famílias e amigos neste momento extremamente difícil. Estamos trabalhando para fornecer todo o apoio necessário a eles e a todos os membros da nossa equipe que estão sofrendo com essa perda inimaginável.  A OceanGate Inc. está em contato direto com a Guarda Costeira dos Estados Unidos e outras autoridades relevantes para entender completamente as circunstâncias que levaram a este trágico acidente. A segurança de nossa equipe e de todos os envolvidos em nossas operações sempre foi e continuará sendo nossa prioridade máxima.  Reconhecemos as preocupações levantadas sobre a segurança do submarino Titan. Estamos comprometidos em conduzir uma investigação completa e transparente sobre essas alegações. Qualquer falha em nossos protocolos de segurança será tratada com a máxima seriedade e faremos as mudanças necessárias para garantir que um incidente como este nunca se repita.  A OceanGate Inc. foi fundada com a missão de abrir as fronteiras do oceano para a exploração humana e a pesquisa científica. A perda desses cinco indivíduos, todos comprometidos com essa missão, é um golpe devastador para todos nós.  Neste momento de luto, pedimos respeito à privacidade das famílias afetadas enquanto elas lidam com essa perda inimaginável. Agradecemos a todos que expressaram suas condolências e ofereceram seu apoio.  Para mais informações, entre em contato com nosso departamento de relações públicas.  OceanGate Inc.\"\"\"\n",
    "\n",
    "prompt = f\"\"\"\n",
    "\n",
    "Resuma o texto delimitado por \"```\" para que ele seja utilizado nas seguintes redes sociais, \\\n",
    "adaptando cada estilo de redação de acordo com a cultura de linguagem de cada rede social: \\\n",
    "\n",
    "1. Instagram. \\\n",
    "2. Twitter. \\ \n",
    "3. Tiktok. \\\n",
    "4. Linkedin. \\\n",
    "\n",
    "```{comunicado_de_imprensa}```\n",
    "\"\"\"\n",
    "\n",
    "print_prompt_answer(prompt)"
   ]
  },
  {
   "cell_type": "markdown",
   "metadata": {},
   "source": [
    "Em seguida, simulamos que quinze pessoas comentaram sobre a postagem do Twitter através do seguinte comando: \n",
    "\n",
    "> O texto delimitado por \"```\" é uma postagem do Twitter. Crie 15 comentários aleatórios sobre essa postagem, sabendo que 5 comentários são amigáveis, 5 expressam dúvida e 5 expressam curiosidade sobre a postagem. Formate a saída como uma lista em Python. ```{twitter_post}```. \n",
    "\n",
    "A formatação da saída em lista de Python foi necessária para que possamos executar o próximo comando, que mescla programação na linguagem Python – para iterar passo a passo para cada comentário – e com comando do GPT, para rotular cada comentário entre positivo, neutro ou negativo: \n",
    "\n",
    "> O texto delimitado por \"```\" é um comentário de uma postagem do Twitter. Classifique-o como positivo, neutro ou negativo. Formate sua resposta em uma tabela sendo a primeira coluna o comentário e a segunda coluna a classificação. ```{comentario}```. \n",
    "\n",
    "Esse comando foi colocado dentro de uma estrutura repetição em Python que executa esse comando para cada um dos quinze comentários. \n"
   ]
  },
  {
   "cell_type": "code",
   "execution_count": 13,
   "metadata": {
    "tags": []
   },
   "outputs": [
    {
     "data": {
      "text/markdown": [
       "```python\n",
       "[\n",
       "    # Comentários amigáveis\n",
       "    \"Meus mais sinceros pêsames às famílias dos falecidos. Que eles possam encontrar força neste momento difícil. #OceanGateInc #RIP\",\n",
       "    \"Estou tão triste em ouvir isso. Meus pensamentos estão com todos vocês na OceanGate Inc. e com as famílias dos falecidos.\",\n",
       "    \"Que notícia trágica. Espero que todos na OceanGate Inc. estejam se apoiando durante este tempo. #OceanGateInc #RIP\",\n",
       "    \"Minhas condolências às famílias e a todos na OceanGate Inc. Que vocês encontrem conforto e força uns nos outros. #OceanGateInc #RIP\",\n",
       "    \"Estou profundamente triste em ouvir sobre essa tragédia. Meus pensamentos estão com todos vocês. #OceanGateInc #RIP\",\n",
       "\n",
       "    # Comentários expressando dúvida\n",
       "    \"Isso é tão trágico. Mas como isso aconteceu? Não havia medidas de segurança adequadas?\",\n",
       "    \"Que notícia terrível. Mas o que exatamente aconteceu? Estou confuso.\",\n",
       "    \"Isso é tão triste. Mas o que causou esse acidente? Foi um erro humano ou falha do equipamento?\",\n",
       "    \"Estou chocado com essa notícia. Mas como isso pôde acontecer? Não havia protocolos de segurança?\",\n",
       "    \"Que tragédia. Mas o que levou a esse acidente? Havia algum problema com o submarino?\",\n",
       "\n",
       "    # Comentários expressando curiosidade\n",
       "    \"Isso é tão triste. Vocês poderiam compartilhar mais detalhes sobre o que aconteceu?\",\n",
       "    \"Que notícia devastadora. O que exatamente aconteceu durante a expedição?\",\n",
       "    \"Estou tão triste em ouvir isso. Vocês poderiam nos dizer mais sobre o que levou a essa tragédia?\",\n",
       "    \"Isso é terrível. Vocês poderiam compartilhar mais informações sobre o incidente?\",\n",
       "    \"Que tragédia. Vocês poderiam nos dar mais detalhes sobre o que aconteceu durante a expedição?\"\n",
       "]\n",
       "```"
      ],
      "text/plain": [
       "<IPython.core.display.Markdown object>"
      ]
     },
     "metadata": {},
     "output_type": "display_data"
    },
    {
     "name": "stdout",
     "output_type": "stream",
     "text": [
      "```python\n",
      "[\n",
      "    # Comentários amigáveis\n",
      "    \"Meus mais sinceros pêsames às famílias dos falecidos. Que eles possam encontrar força neste momento difícil. #OceanGateInc #RIP\",\n",
      "    \"Estou tão triste em ouvir isso. Meus pensamentos estão com todos vocês na OceanGate Inc. e com as famílias dos falecidos.\",\n",
      "    \"Que notícia trágica. Espero que todos na OceanGate Inc. estejam se apoiando durante este tempo. #OceanGateInc #RIP\",\n",
      "    \"Minhas condolências às famílias e a todos na OceanGate Inc. Que vocês encontrem conforto e força uns nos outros. #OceanGateInc #RIP\",\n",
      "    \"Estou profundamente triste em ouvir sobre essa tragédia. Meus pensamentos estão com todos vocês. #OceanGateInc #RIP\",\n",
      "\n",
      "    # Comentários expressando dúvida\n",
      "    \"Isso é tão trágico. Mas como isso aconteceu? Não havia medidas de segurança adequadas?\",\n",
      "    \"Que notícia terrível. Mas o que exatamente aconteceu? Estou confuso.\",\n",
      "    \"Isso é tão triste. Mas o que causou esse acidente? Foi um erro humano ou falha do equipamento?\",\n",
      "    \"Estou chocado com essa notícia. Mas como isso pôde acontecer? Não havia protocolos de segurança?\",\n",
      "    \"Que tragédia. Mas o que levou a esse acidente? Havia algum problema com o submarino?\",\n",
      "\n",
      "    # Comentários expressando curiosidade\n",
      "    \"Isso é tão triste. Vocês poderiam compartilhar mais detalhes sobre o que aconteceu?\",\n",
      "    \"Que notícia devastadora. O que exatamente aconteceu durante a expedição?\",\n",
      "    \"Estou tão triste em ouvir isso. Vocês poderiam nos dizer mais sobre o que levou a essa tragédia?\",\n",
      "    \"Isso é terrível. Vocês poderiam compartilhar mais informações sobre o incidente?\",\n",
      "    \"Que tragédia. Vocês poderiam nos dar mais detalhes sobre o que aconteceu durante a expedição?\"\n",
      "]\n",
      "```\n"
     ]
    }
   ],
   "source": [
    "twitter_post = \"\"\"\n",
    "Tragicamente, perdemos cinco membros da equipe da OceanGate Inc. durante uma expedição ao Titanic, incluindo nosso CEO. Nossos pensamentos estão com suas famílias. Estamos trabalhando para entender o que aconteceu e garantir a segurança de todos. #OceanGateInc #RIP\n",
    "\"\"\"\n",
    "\n",
    "prompt = f\"\"\"\n",
    "O texto delimitado por \"```\" é uma postagem do Twitter. \\\n",
    "Crie 15 comentários aleatórios sobre essa postagem, sabendo que 5 comentários são amigáveis, \\\n",
    "5 expressam dúvida e 5 expressam curiosidade sobre a postagem. \\\n",
    "Formate a saída como uma lista em Python. \\\n",
    "\n",
    "```{twitter_post}```\n",
    "\"\"\"\n",
    "\n",
    "comentarios = print_prompt_answer(prompt)"
   ]
  },
  {
   "cell_type": "code",
   "execution_count": 16,
   "metadata": {
    "tags": []
   },
   "outputs": [
    {
     "data": {
      "text/plain": [
       "['Meus mais sinceros pêsames às famílias dos falecidos. Que eles possam encontrar força neste momento difícil. #OceanGateInc #RIP',\n",
       " 'Estou tão triste em ouvir isso. Meus pensamentos estão com todos vocês na OceanGate Inc. e com as famílias dos falecidos.',\n",
       " 'Que notícia trágica. Espero que todos na OceanGate Inc. estejam se apoiando durante este tempo. #OceanGateInc #RIP',\n",
       " 'Minhas condolências às famílias e a todos na OceanGate Inc. Que vocês encontrem conforto e força uns nos outros. #OceanGateInc #RIP',\n",
       " 'Estou profundamente triste em ouvir sobre essa tragédia. Meus pensamentos estão com todos vocês. #OceanGateInc #RIP',\n",
       " 'Isso é tão trágico. Mas como isso aconteceu? Não havia medidas de segurança adequadas?',\n",
       " 'Que notícia terrível. Mas o que exatamente aconteceu? Estou confuso.',\n",
       " 'Isso é tão triste. Mas o que causou esse acidente? Foi um erro humano ou falha do equipamento?',\n",
       " 'Estou chocado com essa notícia. Mas como isso pôde acontecer? Não havia protocolos de segurança?',\n",
       " 'Que tragédia. Mas o que levou a esse acidente? Havia algum problema com o submarino?',\n",
       " 'Isso é tão triste. Vocês poderiam compartilhar mais detalhes sobre o que aconteceu?',\n",
       " 'Que notícia devastadora. O que exatamente aconteceu durante a expedição?',\n",
       " 'Estou tão triste em ouvir isso. Vocês poderiam nos dizer mais sobre o que levou a essa tragédia?',\n",
       " 'Isso é terrível. Vocês poderiam compartilhar mais informações sobre o incidente?',\n",
       " 'Que tragédia. Vocês poderiam nos dar mais detalhes sobre o que aconteceu durante a expedição?']"
      ]
     },
     "execution_count": 16,
     "metadata": {},
     "output_type": "execute_result"
    }
   ],
   "source": [
    "comentarios = [\n",
    "    # Comentários amigáveis\n",
    "    \"Meus mais sinceros pêsames às famílias dos falecidos. Que eles possam encontrar força neste momento difícil. #OceanGateInc #RIP\",\n",
    "    \"Estou tão triste em ouvir isso. Meus pensamentos estão com todos vocês na OceanGate Inc. e com as famílias dos falecidos.\",\n",
    "    \"Que notícia trágica. Espero que todos na OceanGate Inc. estejam se apoiando durante este tempo. #OceanGateInc #RIP\",\n",
    "    \"Minhas condolências às famílias e a todos na OceanGate Inc. Que vocês encontrem conforto e força uns nos outros. #OceanGateInc #RIP\",\n",
    "    \"Estou profundamente triste em ouvir sobre essa tragédia. Meus pensamentos estão com todos vocês. #OceanGateInc #RIP\",\n",
    "\n",
    "    # Comentários expressando dúvida\n",
    "    \"Isso é tão trágico. Mas como isso aconteceu? Não havia medidas de segurança adequadas?\",\n",
    "    \"Que notícia terrível. Mas o que exatamente aconteceu? Estou confuso.\",\n",
    "    \"Isso é tão triste. Mas o que causou esse acidente? Foi um erro humano ou falha do equipamento?\",\n",
    "    \"Estou chocado com essa notícia. Mas como isso pôde acontecer? Não havia protocolos de segurança?\",\n",
    "    \"Que tragédia. Mas o que levou a esse acidente? Havia algum problema com o submarino?\",\n",
    "\n",
    "    # Comentários expressando curiosidade\n",
    "    \"Isso é tão triste. Vocês poderiam compartilhar mais detalhes sobre o que aconteceu?\",\n",
    "    \"Que notícia devastadora. O que exatamente aconteceu durante a expedição?\",\n",
    "    \"Estou tão triste em ouvir isso. Vocês poderiam nos dizer mais sobre o que levou a essa tragédia?\",\n",
    "    \"Isso é terrível. Vocês poderiam compartilhar mais informações sobre o incidente?\",\n",
    "    \"Que tragédia. Vocês poderiam nos dar mais detalhes sobre o que aconteceu durante a expedição?\"\n",
    "]\n",
    "comentarios"
   ]
  },
  {
   "cell_type": "markdown",
   "metadata": {
    "tags": []
   },
   "source": [
    "## Elaboração de respostas aos comentários negativos\n",
    "\n",
    "Por fim, utilizamos o GPT para responder aos comentários negativos através do seguinte comando: \n",
    "\n",
    "> O texto delimitado por \"```\" é um comentário de uma postagem do Twitter. Classifique-o como positivo, neutro ou negativo. Caso o comentário seja negativo, elabore uma resposta sabendo que ela será respondida pelo Twiiter e seja gentil, acolhedor e empático. Formate sua resposta em uma tabela sendo a primeira coluna o comentário, a segunda coluna a classificação e a terceira coluna a resposta ao comentário. ```{comentario}```. \n",
    "\n",
    "Esse comando também foi executado repetidamente para cada comentário. O resultado foi bom, por exemplo, para o comentário \"Estou tão triste em ouvir isso. Meus pensamentos estão com todos vocês na OceanGate Inc. e com as famílias dos falecidos\", o GPT escreveu a seguinte resposta: \"Agradecemos suas palavras de apoio e condolências. É um momento difícil para todos nós e sua empatia significa muito. Vamos continuar trabalhando para honrar a memória daqueles que perdemos\"."
   ]
  },
  {
   "cell_type": "code",
   "execution_count": null,
   "metadata": {},
   "outputs": [
    {
     "data": {
      "text/markdown": [
       "| Comentário                                                                                           | Classificação |\n",
       "|------------------------------------------------------------------------------------------------------|---------------|\n",
       "| Meus mais sinceros pêsames às famílias dos falecidos. Que eles possam encontrar força neste momento difícil. #OceanGateInc #RIP | Neutro        |"
      ],
      "text/plain": [
       "<IPython.core.display.Markdown object>"
      ]
     },
     "metadata": {},
     "output_type": "display_data"
    },
    {
     "name": "stdout",
     "output_type": "stream",
     "text": [
      "| Comentário                                                                                           | Classificação |\n",
      "|------------------------------------------------------------------------------------------------------|---------------|\n",
      "| Meus mais sinceros pêsames às famílias dos falecidos. Que eles possam encontrar força neste momento difícil. #OceanGateInc #RIP | Neutro        |\n"
     ]
    },
    {
     "data": {
      "text/markdown": [
       "| Comentário                                                                                           | Classificação |\n",
       "|------------------------------------------------------------------------------------------------------|---------------|\n",
       "| Estou tão triste em ouvir isso. Meus pensamentos estão com todos vocês na OceanGate Inc. e com as famílias dos falecidos. | Negativo      |"
      ],
      "text/plain": [
       "<IPython.core.display.Markdown object>"
      ]
     },
     "metadata": {},
     "output_type": "display_data"
    },
    {
     "name": "stdout",
     "output_type": "stream",
     "text": [
      "| Comentário                                                                                           | Classificação |\n",
      "|------------------------------------------------------------------------------------------------------|---------------|\n",
      "| Estou tão triste em ouvir isso. Meus pensamentos estão com todos vocês na OceanGate Inc. e com as famílias dos falecidos. | Negativo      |\n"
     ]
    },
    {
     "data": {
      "text/markdown": [
       "| Comentário                                                                                           | Classificação |\n",
       "|------------------------------------------------------------------------------------------------------|---------------|\n",
       "| Que notícia trágica. Espero que todos na OceanGate Inc. estejam se apoiando durante este tempo. #OceanGateInc #RIP | Negativo      |"
      ],
      "text/plain": [
       "<IPython.core.display.Markdown object>"
      ]
     },
     "metadata": {},
     "output_type": "display_data"
    },
    {
     "name": "stdout",
     "output_type": "stream",
     "text": [
      "| Comentário                                                                                           | Classificação |\n",
      "|------------------------------------------------------------------------------------------------------|---------------|\n",
      "| Que notícia trágica. Espero que todos na OceanGate Inc. estejam se apoiando durante este tempo. #OceanGateInc #RIP | Negativo      |\n"
     ]
    },
    {
     "data": {
      "text/markdown": [
       "| Comentário                                                                                           | Classificação |\n",
       "|------------------------------------------------------------------------------------------------------|---------------|\n",
       "| Minhas condolências às famílias e a todos na OceanGate Inc. Que vocês encontrem conforto e força uns nos outros. #OceanGateInc #RIP | Neutro        |"
      ],
      "text/plain": [
       "<IPython.core.display.Markdown object>"
      ]
     },
     "metadata": {},
     "output_type": "display_data"
    },
    {
     "name": "stdout",
     "output_type": "stream",
     "text": [
      "| Comentário                                                                                           | Classificação |\n",
      "|------------------------------------------------------------------------------------------------------|---------------|\n",
      "| Minhas condolências às famílias e a todos na OceanGate Inc. Que vocês encontrem conforto e força uns nos outros. #OceanGateInc #RIP | Neutro        |\n"
     ]
    },
    {
     "data": {
      "text/markdown": [
       "| Comentário                                                                                   | Classificação |\n",
       "|---------------------------------------------------------------------------------------------|---------------|\n",
       "| Estou profundamente triste em ouvir sobre essa tragédia. Meus pensamentos estão com todos vocês. #OceanGateInc #RIP | Negativo      |"
      ],
      "text/plain": [
       "<IPython.core.display.Markdown object>"
      ]
     },
     "metadata": {},
     "output_type": "display_data"
    },
    {
     "name": "stdout",
     "output_type": "stream",
     "text": [
      "| Comentário                                                                                   | Classificação |\n",
      "|---------------------------------------------------------------------------------------------|---------------|\n",
      "| Estou profundamente triste em ouvir sobre essa tragédia. Meus pensamentos estão com todos vocês. #OceanGateInc #RIP | Negativo      |\n"
     ]
    },
    {
     "data": {
      "text/markdown": [
       "| Comentário                                                                 | Classificação |\n",
       "|---------------------------------------------------------------------------|---------------|\n",
       "| Isso é tão trágico. Mas como isso aconteceu? Não havia medidas de segurança adequadas? | Negativo      |"
      ],
      "text/plain": [
       "<IPython.core.display.Markdown object>"
      ]
     },
     "metadata": {},
     "output_type": "display_data"
    },
    {
     "name": "stdout",
     "output_type": "stream",
     "text": [
      "| Comentário                                                                 | Classificação |\n",
      "|---------------------------------------------------------------------------|---------------|\n",
      "| Isso é tão trágico. Mas como isso aconteceu? Não havia medidas de segurança adequadas? | Negativo      |\n"
     ]
    },
    {
     "data": {
      "text/markdown": [
       "| Comentário                                             | Classificação |\n",
       "|--------------------------------------------------------|---------------|\n",
       "| Que notícia terrível. Mas o que exatamente aconteceu? Estou confuso. | Negativo      |"
      ],
      "text/plain": [
       "<IPython.core.display.Markdown object>"
      ]
     },
     "metadata": {},
     "output_type": "display_data"
    },
    {
     "name": "stdout",
     "output_type": "stream",
     "text": [
      "| Comentário                                             | Classificação |\n",
      "|--------------------------------------------------------|---------------|\n",
      "| Que notícia terrível. Mas o que exatamente aconteceu? Estou confuso. | Negativo      |\n"
     ]
    },
    {
     "data": {
      "text/markdown": [
       "| Comentário                                                                 | Classificação |\n",
       "|---------------------------------------------------------------------------|---------------|\n",
       "| Isso é tão triste. Mas o que causou esse acidente? Foi um erro humano ou falha do equipamento? | Neutro        |"
      ],
      "text/plain": [
       "<IPython.core.display.Markdown object>"
      ]
     },
     "metadata": {},
     "output_type": "display_data"
    },
    {
     "name": "stdout",
     "output_type": "stream",
     "text": [
      "| Comentário                                                                 | Classificação |\n",
      "|---------------------------------------------------------------------------|---------------|\n",
      "| Isso é tão triste. Mas o que causou esse acidente? Foi um erro humano ou falha do equipamento? | Neutro        |\n"
     ]
    },
    {
     "data": {
      "text/markdown": [
       "| Comentário                                                                 | Classificação |\n",
       "|---------------------------------------------------------------------------|---------------|\n",
       "| Estou chocado com essa notícia. Mas como isso pôde acontecer? Não havia protocolos de segurança? | Negativo      |"
      ],
      "text/plain": [
       "<IPython.core.display.Markdown object>"
      ]
     },
     "metadata": {},
     "output_type": "display_data"
    },
    {
     "name": "stdout",
     "output_type": "stream",
     "text": [
      "| Comentário                                                                 | Classificação |\n",
      "|---------------------------------------------------------------------------|---------------|\n",
      "| Estou chocado com essa notícia. Mas como isso pôde acontecer? Não havia protocolos de segurança? | Negativo      |\n"
     ]
    },
    {
     "data": {
      "text/markdown": [
       "| Comentário                                                                 | Classificação |\n",
       "|---------------------------------------------------------------------------|---------------|\n",
       "| Que tragédia. Mas o que levou a esse acidente? Havia algum problema com o submarino? | Neutro        |"
      ],
      "text/plain": [
       "<IPython.core.display.Markdown object>"
      ]
     },
     "metadata": {},
     "output_type": "display_data"
    },
    {
     "name": "stdout",
     "output_type": "stream",
     "text": [
      "| Comentário                                                                 | Classificação |\n",
      "|---------------------------------------------------------------------------|---------------|\n",
      "| Que tragédia. Mas o que levou a esse acidente? Havia algum problema com o submarino? | Neutro        |\n"
     ]
    },
    {
     "data": {
      "text/markdown": [
       "| Comentário                                                       | Classificação |\n",
       "|------------------------------------------------------------------|---------------|\n",
       "| Isso é tão triste. Vocês poderiam compartilhar mais detalhes sobre o que aconteceu? | Negativo      |"
      ],
      "text/plain": [
       "<IPython.core.display.Markdown object>"
      ]
     },
     "metadata": {},
     "output_type": "display_data"
    },
    {
     "name": "stdout",
     "output_type": "stream",
     "text": [
      "| Comentário                                                       | Classificação |\n",
      "|------------------------------------------------------------------|---------------|\n",
      "| Isso é tão triste. Vocês poderiam compartilhar mais detalhes sobre o que aconteceu? | Negativo      |\n"
     ]
    },
    {
     "data": {
      "text/markdown": [
       "| Comentário                                             | Classificação |\n",
       "|--------------------------------------------------------|---------------|\n",
       "| Que notícia devastadora. O que exatamente aconteceu durante a expedição? | Negativo      |"
      ],
      "text/plain": [
       "<IPython.core.display.Markdown object>"
      ]
     },
     "metadata": {},
     "output_type": "display_data"
    },
    {
     "name": "stdout",
     "output_type": "stream",
     "text": [
      "| Comentário                                             | Classificação |\n",
      "|--------------------------------------------------------|---------------|\n",
      "| Que notícia devastadora. O que exatamente aconteceu durante a expedição? | Negativo      |\n"
     ]
    },
    {
     "data": {
      "text/markdown": [
       "| Comentário                                                                 | Classificação |\n",
       "|---------------------------------------------------------------------------|---------------|\n",
       "| Estou tão triste em ouvir isso. Vocês poderiam nos dizer mais sobre o que levou a essa tragédia? | Negativo      |"
      ],
      "text/plain": [
       "<IPython.core.display.Markdown object>"
      ]
     },
     "metadata": {},
     "output_type": "display_data"
    },
    {
     "name": "stdout",
     "output_type": "stream",
     "text": [
      "| Comentário                                                                 | Classificação |\n",
      "|---------------------------------------------------------------------------|---------------|\n",
      "| Estou tão triste em ouvir isso. Vocês poderiam nos dizer mais sobre o que levou a essa tragédia? | Negativo      |\n"
     ]
    },
    {
     "data": {
      "text/markdown": [
       "| Comentário                                                       | Classificação |\n",
       "|------------------------------------------------------------------|---------------|\n",
       "| Isso é terrível. Vocês poderiam compartilhar mais informações sobre o incidente? | Negativo      |"
      ],
      "text/plain": [
       "<IPython.core.display.Markdown object>"
      ]
     },
     "metadata": {},
     "output_type": "display_data"
    },
    {
     "name": "stdout",
     "output_type": "stream",
     "text": [
      "| Comentário                                                       | Classificação |\n",
      "|------------------------------------------------------------------|---------------|\n",
      "| Isso é terrível. Vocês poderiam compartilhar mais informações sobre o incidente? | Negativo      |\n"
     ]
    },
    {
     "data": {
      "text/markdown": [
       "| Comentário | Classificação |\n",
       "| --- | --- |\n",
       "| Que tragédia. Vocês poderiam nos dar mais detalhes sobre o que aconteceu durante a expedição? | Neutro |"
      ],
      "text/plain": [
       "<IPython.core.display.Markdown object>"
      ]
     },
     "metadata": {},
     "output_type": "display_data"
    },
    {
     "name": "stdout",
     "output_type": "stream",
     "text": [
      "| Comentário | Classificação |\n",
      "| --- | --- |\n",
      "| Que tragédia. Vocês poderiam nos dar mais detalhes sobre o que aconteceu durante a expedição? | Neutro |\n"
     ]
    }
   ],
   "source": [
    "for comentario in comentarios:\n",
    "    prompt = f\"\"\"\n",
    "        O texto delimitado por \"```\" é um comentário de uma postagem do Twitter. \\\n",
    "        Classifique-o como positivo, neutro ou negativo. \\\n",
    "        Formate sua resposta em uma tabela sendo a primeira coluna o comentário e a segunda coluna a classificação. \\\n",
    "```{comentario}```\n",
    "\"\"\"\n",
    "#     print(get_completion(prompt))\n",
    "    print_prompt_answer(prompt)"
   ]
  },
  {
   "cell_type": "code",
   "execution_count": 21,
   "metadata": {
    "tags": []
   },
   "outputs": [
    {
     "data": {
      "text/markdown": [
       "| Comentário | Classificação | Resposta |\n",
       "| --- | --- | --- |\n",
       "| Meus mais sinceros pêsames às famílias dos falecidos. Que eles possam encontrar força neste momento difícil. #OceanGateInc #RIP | Neutro | N/A |"
      ],
      "text/plain": [
       "<IPython.core.display.Markdown object>"
      ]
     },
     "metadata": {},
     "output_type": "display_data"
    },
    {
     "name": "stdout",
     "output_type": "stream",
     "text": [
      "| Comentário | Classificação | Resposta |\n",
      "| --- | --- | --- |\n",
      "| Meus mais sinceros pêsames às famílias dos falecidos. Que eles possam encontrar força neste momento difícil. #OceanGateInc #RIP | Neutro | N/A |\n"
     ]
    },
    {
     "data": {
      "text/markdown": [
       "| Comentário | Classificação | Resposta |\n",
       "| --- | --- | --- |\n",
       "| Estou tão triste em ouvir isso. Meus pensamentos estão com todos vocês na OceanGate Inc. e com as famílias dos falecidos. | Negativo | Agradecemos suas palavras de apoio e condolências. É um momento difícil para todos nós e sua empatia significa muito. Vamos continuar trabalhando para honrar a memória daqueles que perdemos. |"
      ],
      "text/plain": [
       "<IPython.core.display.Markdown object>"
      ]
     },
     "metadata": {},
     "output_type": "display_data"
    },
    {
     "name": "stdout",
     "output_type": "stream",
     "text": [
      "| Comentário | Classificação | Resposta |\n",
      "| --- | --- | --- |\n",
      "| Estou tão triste em ouvir isso. Meus pensamentos estão com todos vocês na OceanGate Inc. e com as famílias dos falecidos. | Negativo | Agradecemos suas palavras de apoio e condolências. É um momento difícil para todos nós e sua empatia significa muito. Vamos continuar trabalhando para honrar a memória daqueles que perdemos. |\n"
     ]
    },
    {
     "data": {
      "text/markdown": [
       "| Comentário | Classificação | Resposta |\n",
       "| --- | --- | --- |\n",
       "| Que notícia trágica. Espero que todos na OceanGate Inc. estejam se apoiando durante este tempo. #OceanGateInc #RIP | Neutro | Agradecemos suas palavras de apoio. É um momento difícil para todos nós na OceanGate Inc. e estamos nos apoiando mutuamente. Obrigado por manter nossa equipe em seus pensamentos. |"
      ],
      "text/plain": [
       "<IPython.core.display.Markdown object>"
      ]
     },
     "metadata": {},
     "output_type": "display_data"
    },
    {
     "name": "stdout",
     "output_type": "stream",
     "text": [
      "| Comentário | Classificação | Resposta |\n",
      "| --- | --- | --- |\n",
      "| Que notícia trágica. Espero que todos na OceanGate Inc. estejam se apoiando durante este tempo. #OceanGateInc #RIP | Neutro | Agradecemos suas palavras de apoio. É um momento difícil para todos nós na OceanGate Inc. e estamos nos apoiando mutuamente. Obrigado por manter nossa equipe em seus pensamentos. |\n"
     ]
    },
    {
     "data": {
      "text/markdown": [
       "| Comentário | Classificação | Resposta |\n",
       "| --- | --- | --- |\n",
       "| Minhas condolências às famílias e a todos na OceanGate Inc. Que vocês encontrem conforto e força uns nos outros. #OceanGateInc #RIP | Neutro | Agradecemos suas palavras de conforto e apoio. É em momentos como este que a força da nossa comunidade realmente brilha. #OceanGateInc #RIP |"
      ],
      "text/plain": [
       "<IPython.core.display.Markdown object>"
      ]
     },
     "metadata": {},
     "output_type": "display_data"
    },
    {
     "name": "stdout",
     "output_type": "stream",
     "text": [
      "| Comentário | Classificação | Resposta |\n",
      "| --- | --- | --- |\n",
      "| Minhas condolências às famílias e a todos na OceanGate Inc. Que vocês encontrem conforto e força uns nos outros. #OceanGateInc #RIP | Neutro | Agradecemos suas palavras de conforto e apoio. É em momentos como este que a força da nossa comunidade realmente brilha. #OceanGateInc #RIP |\n"
     ]
    },
    {
     "data": {
      "text/markdown": [
       "| Comentário | Classificação | Resposta |\n",
       "| --- | --- | --- |\n",
       "| Estou profundamente triste em ouvir sobre essa tragédia. Meus pensamentos estão com todos vocês. #OceanGateInc #RIP | Negativo | Nós da #OceanGateInc agradecemos suas palavras de apoio. É um momento difícil para todos nós e saber que temos pessoas como você ao nosso lado nos dá força para continuar. Obrigado. |"
      ],
      "text/plain": [
       "<IPython.core.display.Markdown object>"
      ]
     },
     "metadata": {},
     "output_type": "display_data"
    },
    {
     "name": "stdout",
     "output_type": "stream",
     "text": [
      "| Comentário | Classificação | Resposta |\n",
      "| --- | --- | --- |\n",
      "| Estou profundamente triste em ouvir sobre essa tragédia. Meus pensamentos estão com todos vocês. #OceanGateInc #RIP | Negativo | Nós da #OceanGateInc agradecemos suas palavras de apoio. É um momento difícil para todos nós e saber que temos pessoas como você ao nosso lado nos dá força para continuar. Obrigado. |\n"
     ]
    },
    {
     "data": {
      "text/markdown": [
       "| Comentário | Classificação | Resposta |\n",
       "| --- | --- | --- |\n",
       "| Isso é tão trágico. Mas como isso aconteceu? Não havia medidas de segurança adequadas? | Negativo | Lamentamos profundamente o ocorrido e entendemos sua preocupação. A segurança é nossa prioridade e estamos investigando o incidente para garantir que isso não aconteça novamente. Agradecemos seu feedback e paciência. |"
      ],
      "text/plain": [
       "<IPython.core.display.Markdown object>"
      ]
     },
     "metadata": {},
     "output_type": "display_data"
    },
    {
     "name": "stdout",
     "output_type": "stream",
     "text": [
      "| Comentário | Classificação | Resposta |\n",
      "| --- | --- | --- |\n",
      "| Isso é tão trágico. Mas como isso aconteceu? Não havia medidas de segurança adequadas? | Negativo | Lamentamos profundamente o ocorrido e entendemos sua preocupação. A segurança é nossa prioridade e estamos investigando o incidente para garantir que isso não aconteça novamente. Agradecemos seu feedback e paciência. |\n"
     ]
    },
    {
     "data": {
      "text/markdown": [
       "| Comentário | Classificação | Resposta |\n",
       "| --- | --- | --- |\n",
       "| Que notícia terrível. Mas o que exatamente aconteceu? Estou confuso. | Neutro | Olá, entendemos que a situação pode ser confusa. Vamos tentar esclarecer melhor para você. Você poderia nos dizer qual parte da notícia não ficou clara? Estamos aqui para ajudar. |"
      ],
      "text/plain": [
       "<IPython.core.display.Markdown object>"
      ]
     },
     "metadata": {},
     "output_type": "display_data"
    },
    {
     "name": "stdout",
     "output_type": "stream",
     "text": [
      "| Comentário | Classificação | Resposta |\n",
      "| --- | --- | --- |\n",
      "| Que notícia terrível. Mas o que exatamente aconteceu? Estou confuso. | Neutro | Olá, entendemos que a situação pode ser confusa. Vamos tentar esclarecer melhor para você. Você poderia nos dizer qual parte da notícia não ficou clara? Estamos aqui para ajudar. |\n"
     ]
    },
    {
     "data": {
      "text/markdown": [
       "| Comentário | Classificação | Resposta |\n",
       "| --- | --- | --- |\n",
       "| Isso é tão triste. Mas o que causou esse acidente? Foi um erro humano ou falha do equipamento? | Negativo | Sentimos muito que você esteja triste com a situação. Ainda estamos investigando as causas e compartilharemos as informações assim que estiverem disponíveis. Agradecemos sua paciência e compreensão. |"
      ],
      "text/plain": [
       "<IPython.core.display.Markdown object>"
      ]
     },
     "metadata": {},
     "output_type": "display_data"
    },
    {
     "name": "stdout",
     "output_type": "stream",
     "text": [
      "| Comentário | Classificação | Resposta |\n",
      "| --- | --- | --- |\n",
      "| Isso é tão triste. Mas o que causou esse acidente? Foi um erro humano ou falha do equipamento? | Negativo | Sentimos muito que você esteja triste com a situação. Ainda estamos investigando as causas e compartilharemos as informações assim que estiverem disponíveis. Agradecemos sua paciência e compreensão. |\n"
     ]
    },
    {
     "data": {
      "text/markdown": [
       "| Comentário | Classificação | Resposta |\n",
       "| --- | --- | --- |\n",
       "| Estou chocado com essa notícia. Mas como isso pôde acontecer? Não havia protocolos de segurança? | Negativo | Entendemos sua preocupação e choque. A segurança é uma prioridade e estamos investigando o ocorrido para garantir que isso não se repita. Agradecemos por expressar sua preocupação. |"
      ],
      "text/plain": [
       "<IPython.core.display.Markdown object>"
      ]
     },
     "metadata": {},
     "output_type": "display_data"
    },
    {
     "name": "stdout",
     "output_type": "stream",
     "text": [
      "| Comentário | Classificação | Resposta |\n",
      "| --- | --- | --- |\n",
      "| Estou chocado com essa notícia. Mas como isso pôde acontecer? Não havia protocolos de segurança? | Negativo | Entendemos sua preocupação e choque. A segurança é uma prioridade e estamos investigando o ocorrido para garantir que isso não se repita. Agradecemos por expressar sua preocupação. |\n"
     ]
    },
    {
     "data": {
      "text/markdown": [
       "| Comentário | Classificação | Resposta |\n",
       "| --- | --- | --- |\n",
       "| Que tragédia. Mas o que levou a esse acidente? Havia algum problema com o submarino? | Neutro | Agradecemos seu interesse e preocupação. As causas do acidente ainda estão sendo investigadas. Manteremos todos informados assim que tivermos mais informações. |"
      ],
      "text/plain": [
       "<IPython.core.display.Markdown object>"
      ]
     },
     "metadata": {},
     "output_type": "display_data"
    },
    {
     "name": "stdout",
     "output_type": "stream",
     "text": [
      "| Comentário | Classificação | Resposta |\n",
      "| --- | --- | --- |\n",
      "| Que tragédia. Mas o que levou a esse acidente? Havia algum problema com o submarino? | Neutro | Agradecemos seu interesse e preocupação. As causas do acidente ainda estão sendo investigadas. Manteremos todos informados assim que tivermos mais informações. |\n"
     ]
    },
    {
     "data": {
      "text/markdown": [
       "| Comentário | Classificação | Resposta |\n",
       "| --- | --- | --- |\n",
       "| Isso é tão triste. Vocês poderiam compartilhar mais detalhes sobre o que aconteceu? | Negativo | Sentimos muito que você esteja se sentindo assim. Poderia nos fornecer mais detalhes para que possamos entender melhor a situação e tentar ajudar? |"
      ],
      "text/plain": [
       "<IPython.core.display.Markdown object>"
      ]
     },
     "metadata": {},
     "output_type": "display_data"
    },
    {
     "name": "stdout",
     "output_type": "stream",
     "text": [
      "| Comentário | Classificação | Resposta |\n",
      "| --- | --- | --- |\n",
      "| Isso é tão triste. Vocês poderiam compartilhar mais detalhes sobre o que aconteceu? | Negativo | Sentimos muito que você esteja se sentindo assim. Poderia nos fornecer mais detalhes para que possamos entender melhor a situação e tentar ajudar? |\n"
     ]
    },
    {
     "data": {
      "text/markdown": [
       "| Comentário | Classificação | Resposta |\n",
       "| --- | --- | --- |\n",
       "| Que notícia devastadora. O que exatamente aconteceu durante a expedição? | Neutro | Olá, entendemos que a notícia pode ter causado preocupação. Estamos trabalhando para fornecer mais detalhes sobre o ocorrido. Fique atento às nossas atualizações. |"
      ],
      "text/plain": [
       "<IPython.core.display.Markdown object>"
      ]
     },
     "metadata": {},
     "output_type": "display_data"
    },
    {
     "name": "stdout",
     "output_type": "stream",
     "text": [
      "| Comentário | Classificação | Resposta |\n",
      "| --- | --- | --- |\n",
      "| Que notícia devastadora. O que exatamente aconteceu durante a expedição? | Neutro | Olá, entendemos que a notícia pode ter causado preocupação. Estamos trabalhando para fornecer mais detalhes sobre o ocorrido. Fique atento às nossas atualizações. |\n"
     ]
    },
    {
     "data": {
      "text/markdown": [
       "| Comentário | Classificação | Resposta |\n",
       "| --- | --- | --- |\n",
       "| Estou tão triste em ouvir isso. Vocês poderiam nos dizer mais sobre o que levou a essa tragédia? | Negativo | Sentimos muito que você esteja passando por isso. É importante para nós entender melhor a situação. Poderia nos fornecer mais detalhes? Estamos aqui para ajudar. |"
      ],
      "text/plain": [
       "<IPython.core.display.Markdown object>"
      ]
     },
     "metadata": {},
     "output_type": "display_data"
    },
    {
     "name": "stdout",
     "output_type": "stream",
     "text": [
      "| Comentário | Classificação | Resposta |\n",
      "| --- | --- | --- |\n",
      "| Estou tão triste em ouvir isso. Vocês poderiam nos dizer mais sobre o que levou a essa tragédia? | Negativo | Sentimos muito que você esteja passando por isso. É importante para nós entender melhor a situação. Poderia nos fornecer mais detalhes? Estamos aqui para ajudar. |\n"
     ]
    },
    {
     "data": {
      "text/markdown": [
       "| Comentário | Classificação | Resposta |\n",
       "| --- | --- | --- |\n",
       "| Isso é terrível. Vocês poderiam compartilhar mais informações sobre o incidente? | Negativo | Lamentamos que você esteja passando por isso. Estamos trabalhando para resolver o problema e agradecemos sua paciência. Vamos compartilhar mais informações assim que estiverem disponíveis. |"
      ],
      "text/plain": [
       "<IPython.core.display.Markdown object>"
      ]
     },
     "metadata": {},
     "output_type": "display_data"
    },
    {
     "name": "stdout",
     "output_type": "stream",
     "text": [
      "| Comentário | Classificação | Resposta |\n",
      "| --- | --- | --- |\n",
      "| Isso é terrível. Vocês poderiam compartilhar mais informações sobre o incidente? | Negativo | Lamentamos que você esteja passando por isso. Estamos trabalhando para resolver o problema e agradecemos sua paciência. Vamos compartilhar mais informações assim que estiverem disponíveis. |\n"
     ]
    },
    {
     "data": {
      "text/markdown": [
       "| Comentário | Classificação | Resposta |\n",
       "| --- | --- | --- |\n",
       "| Que tragédia. Vocês poderiam nos dar mais detalhes sobre o que aconteceu durante a expedição? | Neutro | Claro, entendemos sua preocupação e estamos trabalhando para fornecer todas as informações possíveis. Fique atento às nossas atualizações. Agradecemos seu interesse e paciência. |\n"
      ],
      "text/plain": [
       "<IPython.core.display.Markdown object>"
      ]
     },
     "metadata": {},
     "output_type": "display_data"
    },
    {
     "name": "stdout",
     "output_type": "stream",
     "text": [
      "| Comentário | Classificação | Resposta |\n",
      "| --- | --- | --- |\n",
      "| Que tragédia. Vocês poderiam nos dar mais detalhes sobre o que aconteceu durante a expedição? | Neutro | Claro, entendemos sua preocupação e estamos trabalhando para fornecer todas as informações possíveis. Fique atento às nossas atualizações. Agradecemos seu interesse e paciência. |\n",
      "\n"
     ]
    }
   ],
   "source": [
    "for comentario in comentarios:\n",
    "    prompt = f\"\"\"\n",
    "        O texto delimitado por \"```\" é um comentário de uma postagem do Twitter. \\\n",
    "        Classifique-o como positivo, neutro ou negativo. \\\n",
    "        Caso o comentário seja negativo, elabore uma resposta sabendo que ela será respondida pelo Twiiter e \\\n",
    "        seja gentil, acolhedor e empático. \\\n",
    "        Formate sua resposta em uma tabela sendo a primeira coluna o comentário, a segunda coluna a classificação e \\\n",
    "        a terceira coluna a resposta ao comentário. \\        \n",
    "```{comentario}```\n",
    "\"\"\"\n",
    "    print_prompt_answer(prompt)"
   ]
  }
 ],
 "metadata": {
  "kernelspec": {
   "display_name": "Python 3 (ipykernel)",
   "language": "python",
   "name": "python3"
  },
  "language_info": {
   "codemirror_mode": {
    "name": "ipython",
    "version": 3
   },
   "file_extension": ".py",
   "mimetype": "text/x-python",
   "name": "python",
   "nbconvert_exporter": "python",
   "pygments_lexer": "ipython3",
   "version": "3.11.3"
  }
 },
 "nbformat": 4,
 "nbformat_minor": 4
}
