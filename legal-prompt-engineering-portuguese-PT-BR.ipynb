{
 "cells": [
  {
   "cell_type": "markdown",
   "id": "8a65a312",
   "metadata": {},
   "source": [
    "# <center> Engenharia de Prompt - ChatGPT aplicado ao Direito </center>\n",
    "\n",
    "<div style=\"text-align: right\">Versão 2023-05-05</div>\n",
    "\n",
    "- [**Vídeos deste tutorial no Youtube**](https://youtube.com/playlist?list=PLwEXPYCX6dlJSGVaaJ5LPFQcTKwKkHcYR)\n",
    "- Legal Prompt Engineering (Prompt Engineering for Law)\n",
    "  - Key-words: initial application, case outcome, legal documents, law, legal advice, appeal, justice, judge, legal decision, machine learning, artificial intelligence\n",
    "- Author: [André Lage Freitas](https://linkedin.com/in/lage)\n",
    "  - Associate Professor at Universidade Federal de Alagoas (UFAL)\n",
    "  - PhD in Computer Science from the _Institut National des Sciences Appliquées de Rennes_ (France)\n",
    "- Some parts of the source code used here come from:\n",
    "  - [DeepLearningAI: ChatGPT Prompt Engineering for Developers](https://www.deeplearning.ai/short-courses/chatgpt-prompt-engineering-for-developers/)\n",
    "  - Image Credits: Isa Fulford and Andrew Ng\n",
    "\n",
    "\n",
    "\n",
    "\n",
    "### A. Prompt Engineering: Visão geral \n",
    "\n",
    "1. Seja claro e preciso\n",
    "1. Interaja até encontrar um prompt adequado\n",
    "1. Use exemplos\n",
    "1. Divida um problema complexo em subproblemas\n",
    "1. Guarde seus prompts bons\n",
    "1. Teste seus prompts com outras entradas\n",
    "1. Peça para outras pessoas testarem seus prompts\n",
    "\n",
    "<img src=\"prompt-overview.png\"  width=\"450\" align=\"left\">"
   ]
  },
  {
   "cell_type": "markdown",
   "id": "86c8ead4",
   "metadata": {},
   "source": [
    "### B. Como executar os prompts desse material\n",
    "\n",
    "1. **Copiar e colar no [ChatGPT](https://chat.openai.com/)** o prompt formatado\n",
    "2. Abrir esse arquivo `.ipynb` no [Google Colab](https://colab.research.google.com/)"
   ]
  },
  {
   "cell_type": "code",
   "execution_count": 39,
   "id": "d15d1157",
   "metadata": {},
   "outputs": [],
   "source": [
    "# configurando openai API\n",
    "import os\n",
    "import openai\n",
    "openai.api_key = os.getenv(\"OPENAI_API_KEY\")\n",
    "\n",
    "# função para simplicar a chamada da API\n",
    "# def get_completion(prompt, model=\"gpt-4\"): \n",
    "def get_completion(prompt, model=\"gpt-3.5-turbo\"): \n",
    "    messages = [{\"role\": \"user\", \"content\": prompt}]\n",
    "    response = openai.ChatCompletion.create(\n",
    "        model=model,\n",
    "        messages=messages,\n",
    "        temperature=0, \n",
    "    )\n",
    "    return response.choices[0].message[\"content\"]\n",
    "\n",
    "# para formatar a saída em Markdown\n",
    "from IPython.display import display, Markdown\n",
    "\n",
    "def print_prompt_answer(prompt):\n",
    "    display(Markdown(\"### Prompt\"))\n",
    "    print(prompt)\n",
    "#     display(Markdown(prompt))    \n",
    "    response = get_completion(prompt)\n",
    "    display(Markdown(\"### Resposta\"))\n",
    "    display(Markdown(response))\n",
    "    print(response)"
   ]
  },
  {
   "cell_type": "markdown",
   "id": "4eea671f",
   "metadata": {},
   "source": [
    "## 1. Extração de informações em documentos jurídicos\n",
    "\n",
    "- **Objetivo**: extrair citações de normas jurídicas.\n",
    "\n",
    "Entidades são palavras ou sequências de palavras em um texto que representam entidades do mundo real, como pessoas, organizações, localizações, datas, quantidades e outros conceitos específicos. Extrair entidades é identificar e classificar essas entidades em categorias predefinidas.\n",
    "\n",
    "Por exemplo, vamos os nomes de entidades da [LAI (DECRETO Nº 7.724, DE 16 DE MAIO DE 2012)](https://www.planalto.gov.br/ccivil_03/_ato2011-2014/2012/decreto/d7724.htm).\n"
   ]
  },
  {
   "cell_type": "code",
   "execution_count": 40,
   "id": "be569552",
   "metadata": {},
   "outputs": [],
   "source": [
    "parte_da_lai = \"\"\"\n",
    " DECRETO Nº 7.724, DE 16 DE MAIO DE 2012\n",
    "Vigência \t\n",
    "\n",
    "Regulamenta a Lei nº 12.527, de 18 de novembro de 2011, que dispõe sobre o acesso a informações previsto no inciso XXXIII do caput do art. 5º , no inciso II do § 3º do art. 37 e no § 2º do art. 216 da Constituição.\n",
    "\n",
    "A PRESIDENTA DA REPÚBLICA, no uso das atribuições que lhe confere o art. 84, caput, incisos IV e VI, alínea “a”, da Constituição, e tendo em vista o disposto na Lei nº 12.527, de 18 de novembro de 2011,\n",
    "\n",
    "DECRETA:\n",
    "\n",
    "CAPÍTULO I\n",
    "\n",
    "DISPOSIÇÕES GERAIS\n",
    "\n",
    "Art. 1º Este Decreto regulamenta, no âmbito do Poder Executivo federal, os procedimentos para a garantia do acesso à informação e para a classificação de informações sob restrição de acesso, observados grau e prazo de sigilo, conforme o disposto na Lei nº 12.527, de 18 de novembro de 2011, que dispõe sobre o acesso a informações previsto no inciso XXXIII do caput do art. 5º , no inciso II do § 3º do art. 37 e no § 2º do art. 216 da Constituição.\n",
    "\n",
    "Art. 2º Os órgãos e as entidades do Poder Executivo federal assegurarão, às pessoas naturais e jurídicas, o direito de acesso à informação, que será proporcionado mediante procedimentos objetivos e ágeis, de forma transparente, clara e em linguagem de fácil compreensão, observados os princípios da administração pública e as diretrizes previstas na Lei nº 12.527, de 2011.\n",
    "\n",
    "Art. 3º Para os efeitos deste Decreto, considera-se:\n",
    "\n",
    "I - informação - dados, processados ou não, que podem ser utilizados para produção e transmissão de conhecimento, contidos em qualquer meio, suporte ou formato;\n",
    "\n",
    "II - dados processados - dados submetidos a qualquer operação ou tratamento por meio de processamento eletrônico ou por meio automatizado com o emprego de tecnologia da informação;\n",
    "\n",
    "III - documento - unidade de registro de informações, qualquer que seja o suporte ou formato;\n",
    "\n",
    "IV - informação sigilosa - informação submetida temporariamente à restrição de acesso público em razão de sua imprescindibilidade para a segurança da sociedade e do Estado, e aquelas abrangidas pelas demais hipóteses legais de sigilo;\n",
    "\n",
    "V - informação pessoal - informação relacionada à pessoa natural identificada ou identificável, relativa à intimidade, vida privada, honra e imagem;\n",
    "\n",
    "VI - tratamento da informação - conjunto de ações referentes à produção, recepção, classificação, utilização, acesso, reprodução, transporte, transmissão, distribuição, arquivamento, armazenamento, eliminação, avaliação, destinação ou controle da informação;\n",
    "\n",
    "VII - disponibilidade - qualidade da informação que pode ser conhecida e utilizada por indivíduos, equipamentos ou sistemas autorizados;\n",
    "\n",
    "VIII - autenticidade - qualidade da informação que tenha sido produzida, expedida, recebida ou modificada por determinado indivíduo, equipamento ou sistema;\n",
    "\n",
    "IX - integridade - qualidade da informação não modificada, inclusive quanto à origem, trânsito e destino;\n",
    "\n",
    "X - primariedade - qualidade da informação coletada na fonte, com o máximo de detalhamento possível, sem modificações;\n",
    "\n",
    "XI - informação atualizada - informação que reúne os dados mais recentes sobre o tema, de acordo com sua natureza, com os prazos previstos em normas específicas ou conforme a periodicidade estabelecida nos sistemas informatizados que a organizam; e\n",
    "\n",
    "XII - documento preparatório - documento formal utilizado como fundamento da tomada de decisão ou de ato administrativo, a exemplo de pareceres e notas técnicas.\n",
    "\n",
    "Art. 4º A busca e o fornecimento da informação são gratuitos, ressalvada a cobrança do valor referente ao custo dos serviços e dos materiais utilizados, tais como reprodução de documentos, mídias digitais e postagem.\n",
    "\n",
    "Parágrafo único. Está isento de ressarcir os custos dos serviços e dos materiais utilizados aquele cuja situação econômica não lhe permita fazê-lo sem prejuízo do sustento próprio ou da família, declarada nos termos da Lei nº 7.115, de 29 de agosto de 1983.\n",
    "\n",
    "CAPÍTULO II\n",
    "\n",
    "DA ABRANGÊNCIA\n",
    "\n",
    "Art. 5º Sujeitam-se ao disposto neste Decreto os órgãos da administração direta, as autarquias, as fundações públicas, as empresas públicas, as sociedades de economia mista e as demais entidades controladas direta ou indiretamente pela União.\n",
    "\n",
    "§ 1º A divulgação de informações de empresas públicas, sociedade de economia mista e demais entidades controladas pela União que atuem em regime de concorrência, sujeitas ao disposto no art. 173 da Constituição, estará submetida às normas pertinentes da Comissão de Valores Mobiliários, a fim de assegurar sua competitividade, governança corporativa e, quando houver, os interesses de acionistas minoritários.\n",
    "\n",
    "§ 2º Não se sujeitam ao disposto neste Decreto as informações relativas à atividade empresarial de pessoas físicas ou jurídicas de direito privado obtidas pelo Banco Central do Brasil, pelas agências reguladoras ou por outros órgãos ou entidades no exercício de atividade de controle, regulação e supervisão da atividade econômica cuja divulgação possa representar vantagem competitiva a outros agentes econômicos.\n",
    "\n",
    "Art. 6º O acesso à informação disciplinado neste Decreto não se aplica:\n",
    "\n",
    "I - às hipóteses de sigilo previstas na legislação, como fiscal, bancário, de operações e serviços no mercado de capitais, comercial, profissional, industrial e segredo de justiça; e\n",
    "\n",
    "II - às informações referentes a projetos de pesquisa e desenvolvimento científicos ou tecnológicos cujo sigilo seja imprescindível à segurança da sociedade e do Estado, na forma do §1º do art. 7º da Lei nº 12.527, de 2011. \n",
    "\"\"\""
   ]
  },
  {
   "cell_type": "code",
   "execution_count": 41,
   "id": "eba190b5",
   "metadata": {
    "scrolled": false
   },
   "outputs": [
    {
     "data": {
      "text/markdown": [
       "### Prompt"
      ],
      "text/plain": [
       "<IPython.core.display.Markdown object>"
      ]
     },
     "metadata": {},
     "output_type": "display_data"
    },
    {
     "name": "stdout",
     "output_type": "stream",
     "text": [
      "\n",
      "Sua tarefa é extratir nomes de entidades de uma lei brasileira. A partir da lei abaixo, delimitada por \"###\", extraia todas as entidades e indique qual o tipo de entidade para cada entidade encontrada. Organize os dados em uma tabela. \n",
      "\n",
      "###\n",
      " DECRETO Nº 7.724, DE 16 DE MAIO DE 2012\n",
      "Vigência \t\n",
      "\n",
      "Regulamenta a Lei nº 12.527, de 18 de novembro de 2011, que dispõe sobre o acesso a informações previsto no inciso XXXIII do caput do art. 5º , no inciso II do § 3º do art. 37 e no § 2º do art. 216 da Constituição.\n",
      "\n",
      "A PRESIDENTA DA REPÚBLICA, no uso das atribuições que lhe confere o art. 84, caput, incisos IV e VI, alínea “a”, da Constituição, e tendo em vista o disposto na Lei nº 12.527, de 18 de novembro de 2011,\n",
      "\n",
      "DECRETA:\n",
      "\n",
      "CAPÍTULO I\n",
      "\n",
      "DISPOSIÇÕES GERAIS\n",
      "\n",
      "Art. 1º Este Decreto regulamenta, no âmbito do Poder Executivo federal, os procedimentos para a garantia do acesso à informação e para a classificação de informações sob restrição de acesso, observados grau e prazo de sigilo, conforme o disposto na Lei nº 12.527, de 18 de novembro de 2011, que dispõe sobre o acesso a informações previsto no inciso XXXIII do caput do art. 5º , no inciso II do § 3º do art. 37 e no § 2º do art. 216 da Constituição.\n",
      "\n",
      "Art. 2º Os órgãos e as entidades do Poder Executivo federal assegurarão, às pessoas naturais e jurídicas, o direito de acesso à informação, que será proporcionado mediante procedimentos objetivos e ágeis, de forma transparente, clara e em linguagem de fácil compreensão, observados os princípios da administração pública e as diretrizes previstas na Lei nº 12.527, de 2011.\n",
      "\n",
      "Art. 3º Para os efeitos deste Decreto, considera-se:\n",
      "\n",
      "I - informação - dados, processados ou não, que podem ser utilizados para produção e transmissão de conhecimento, contidos em qualquer meio, suporte ou formato;\n",
      "\n",
      "II - dados processados - dados submetidos a qualquer operação ou tratamento por meio de processamento eletrônico ou por meio automatizado com o emprego de tecnologia da informação;\n",
      "\n",
      "III - documento - unidade de registro de informações, qualquer que seja o suporte ou formato;\n",
      "\n",
      "IV - informação sigilosa - informação submetida temporariamente à restrição de acesso público em razão de sua imprescindibilidade para a segurança da sociedade e do Estado, e aquelas abrangidas pelas demais hipóteses legais de sigilo;\n",
      "\n",
      "V - informação pessoal - informação relacionada à pessoa natural identificada ou identificável, relativa à intimidade, vida privada, honra e imagem;\n",
      "\n",
      "VI - tratamento da informação - conjunto de ações referentes à produção, recepção, classificação, utilização, acesso, reprodução, transporte, transmissão, distribuição, arquivamento, armazenamento, eliminação, avaliação, destinação ou controle da informação;\n",
      "\n",
      "VII - disponibilidade - qualidade da informação que pode ser conhecida e utilizada por indivíduos, equipamentos ou sistemas autorizados;\n",
      "\n",
      "VIII - autenticidade - qualidade da informação que tenha sido produzida, expedida, recebida ou modificada por determinado indivíduo, equipamento ou sistema;\n",
      "\n",
      "IX - integridade - qualidade da informação não modificada, inclusive quanto à origem, trânsito e destino;\n",
      "\n",
      "X - primariedade - qualidade da informação coletada na fonte, com o máximo de detalhamento possível, sem modificações;\n",
      "\n",
      "XI - informação atualizada - informação que reúne os dados mais recentes sobre o tema, de acordo com sua natureza, com os prazos previstos em normas específicas ou conforme a periodicidade estabelecida nos sistemas informatizados que a organizam; e\n",
      "\n",
      "XII - documento preparatório - documento formal utilizado como fundamento da tomada de decisão ou de ato administrativo, a exemplo de pareceres e notas técnicas.\n",
      "\n",
      "Art. 4º A busca e o fornecimento da informação são gratuitos, ressalvada a cobrança do valor referente ao custo dos serviços e dos materiais utilizados, tais como reprodução de documentos, mídias digitais e postagem.\n",
      "\n",
      "Parágrafo único. Está isento de ressarcir os custos dos serviços e dos materiais utilizados aquele cuja situação econômica não lhe permita fazê-lo sem prejuízo do sustento próprio ou da família, declarada nos termos da Lei nº 7.115, de 29 de agosto de 1983.\n",
      "\n",
      "CAPÍTULO II\n",
      "\n",
      "DA ABRANGÊNCIA\n",
      "\n",
      "Art. 5º Sujeitam-se ao disposto neste Decreto os órgãos da administração direta, as autarquias, as fundações públicas, as empresas públicas, as sociedades de economia mista e as demais entidades controladas direta ou indiretamente pela União.\n",
      "\n",
      "§ 1º A divulgação de informações de empresas públicas, sociedade de economia mista e demais entidades controladas pela União que atuem em regime de concorrência, sujeitas ao disposto no art. 173 da Constituição, estará submetida às normas pertinentes da Comissão de Valores Mobiliários, a fim de assegurar sua competitividade, governança corporativa e, quando houver, os interesses de acionistas minoritários.\n",
      "\n",
      "§ 2º Não se sujeitam ao disposto neste Decreto as informações relativas à atividade empresarial de pessoas físicas ou jurídicas de direito privado obtidas pelo Banco Central do Brasil, pelas agências reguladoras ou por outros órgãos ou entidades no exercício de atividade de controle, regulação e supervisão da atividade econômica cuja divulgação possa representar vantagem competitiva a outros agentes econômicos.\n",
      "\n",
      "Art. 6º O acesso à informação disciplinado neste Decreto não se aplica:\n",
      "\n",
      "I - às hipóteses de sigilo previstas na legislação, como fiscal, bancário, de operações e serviços no mercado de capitais, comercial, profissional, industrial e segredo de justiça; e\n",
      "\n",
      "II - às informações referentes a projetos de pesquisa e desenvolvimento científicos ou tecnológicos cujo sigilo seja imprescindível à segurança da sociedade e do Estado, na forma do §1º do art. 7º da Lei nº 12.527, de 2011. \n",
      "###\n",
      "\n"
     ]
    },
    {
     "data": {
      "text/markdown": [
       "### Resposta"
      ],
      "text/plain": [
       "<IPython.core.display.Markdown object>"
      ]
     },
     "metadata": {},
     "output_type": "display_data"
    },
    {
     "data": {
      "text/markdown": [
       "| Entidade | Tipo de Entidade |\n",
       "| --- | --- |\n",
       "| Lei nº 12.527 | Lei |\n",
       "| Constituição | Documento |\n",
       "| Poder Executivo federal | Órgão |\n",
       "| Pessoas naturais | Pessoa |\n",
       "| Pessoas jurídicas | Pessoa |\n",
       "| Princípios da administração pública | Diretriz |\n",
       "| Órgãos e entidades do Poder Executivo federal | Órgão/Entidade |\n",
       "| Informação | Dado |\n",
       "| Dados processados | Dado |\n",
       "| Documento | Unidade de registro |\n",
       "| Informação sigilosa | Informação |\n",
       "| Segurança da sociedade e do Estado | Conceito |\n",
       "| Hipóteses legais de sigilo | Conceito |\n",
       "| Informação pessoal | Informação |\n",
       "| Tratamento da informação | Ação |\n",
       "| Disponibilidade | Qualidade |\n",
       "| Autenticidade | Qualidade |\n",
       "| Integridade | Qualidade |\n",
       "| Primariedade | Qualidade |\n",
       "| Informação atualizada | Informação |\n",
       "| Documento preparatório | Documento |\n",
       "| Serviços e materiais utilizados | Custo |\n",
       "| Lei nº 7.115 | Lei |\n",
       "| Administração direta | Órgão |\n",
       "| Autarquias | Entidade |\n",
       "| Fundações públicas | Entidade |\n",
       "| Empresas públicas | Entidade |\n",
       "| Sociedades de economia mista | Entidade |\n",
       "| União | Entidade |\n",
       "| Regime de concorrência | Conceito |\n",
       "| Art. 173 da Constituição | Artigo |\n",
       "| Comissão de Valores Mobiliários | Órgão |\n",
       "| Acionistas minoritários | Pessoa |\n",
       "| Banco Central do Brasil | Órgão |\n",
       "| Agências reguladoras | Órgão |\n",
       "| Controle, regulação e supervisão da atividade econômica | Conceito |\n",
       "| Atividade empresarial de pessoas físicas ou jurídicas de direito privado | Conceito |\n",
       "| Projetos de pesquisa e desenvolvimento científicos ou tecnológicos | Informação |"
      ],
      "text/plain": [
       "<IPython.core.display.Markdown object>"
      ]
     },
     "metadata": {},
     "output_type": "display_data"
    },
    {
     "name": "stdout",
     "output_type": "stream",
     "text": [
      "| Entidade | Tipo de Entidade |\n",
      "| --- | --- |\n",
      "| Lei nº 12.527 | Lei |\n",
      "| Constituição | Documento |\n",
      "| Poder Executivo federal | Órgão |\n",
      "| Pessoas naturais | Pessoa |\n",
      "| Pessoas jurídicas | Pessoa |\n",
      "| Princípios da administração pública | Diretriz |\n",
      "| Órgãos e entidades do Poder Executivo federal | Órgão/Entidade |\n",
      "| Informação | Dado |\n",
      "| Dados processados | Dado |\n",
      "| Documento | Unidade de registro |\n",
      "| Informação sigilosa | Informação |\n",
      "| Segurança da sociedade e do Estado | Conceito |\n",
      "| Hipóteses legais de sigilo | Conceito |\n",
      "| Informação pessoal | Informação |\n",
      "| Tratamento da informação | Ação |\n",
      "| Disponibilidade | Qualidade |\n",
      "| Autenticidade | Qualidade |\n",
      "| Integridade | Qualidade |\n",
      "| Primariedade | Qualidade |\n",
      "| Informação atualizada | Informação |\n",
      "| Documento preparatório | Documento |\n",
      "| Serviços e materiais utilizados | Custo |\n",
      "| Lei nº 7.115 | Lei |\n",
      "| Administração direta | Órgão |\n",
      "| Autarquias | Entidade |\n",
      "| Fundações públicas | Entidade |\n",
      "| Empresas públicas | Entidade |\n",
      "| Sociedades de economia mista | Entidade |\n",
      "| União | Entidade |\n",
      "| Regime de concorrência | Conceito |\n",
      "| Art. 173 da Constituição | Artigo |\n",
      "| Comissão de Valores Mobiliários | Órgão |\n",
      "| Acionistas minoritários | Pessoa |\n",
      "| Banco Central do Brasil | Órgão |\n",
      "| Agências reguladoras | Órgão |\n",
      "| Controle, regulação e supervisão da atividade econômica | Conceito |\n",
      "| Atividade empresarial de pessoas físicas ou jurídicas de direito privado | Conceito |\n",
      "| Projetos de pesquisa e desenvolvimento científicos ou tecnológicos | Informação |\n"
     ]
    }
   ],
   "source": [
    "prompt = f\"\"\"\n",
    "Sua tarefa é extratir nomes de entidades de uma lei brasileira. \\\n",
    "A partir da lei abaixo, delimitada por \"###\", extraia todas as \\\n",
    "entidades e indique qual o tipo de entidade para cada entidade \\\n",
    "encontrada. Organize os dados em uma tabela. \\\n",
    "\n",
    "\n",
    "###{parte_da_lai}###\n",
    "\"\"\"\n",
    "\n",
    "print_prompt_answer(prompt)"
   ]
  },
  {
   "cell_type": "markdown",
   "id": "e19249bb",
   "metadata": {},
   "source": [
    "- Vamos pedir para ser mais conciso"
   ]
  },
  {
   "cell_type": "code",
   "execution_count": 42,
   "id": "b01030da",
   "metadata": {
    "scrolled": false
   },
   "outputs": [
    {
     "data": {
      "text/markdown": [
       "### Prompt"
      ],
      "text/plain": [
       "<IPython.core.display.Markdown object>"
      ]
     },
     "metadata": {},
     "output_type": "display_data"
    },
    {
     "name": "stdout",
     "output_type": "stream",
     "text": [
      "\n",
      "Sua tarefa é extratir nomes de entidades de uma lei brasileira. A partir da lei abaixo, delimitada por \"###\", extraia todas as entidades e indique qual o tipo de entidade para cada entidade encontrada. Organize os dados em uma tabela. \n",
      "Seja conciso e considere apenas as principais entidades. \n",
      "###\n",
      " DECRETO Nº 7.724, DE 16 DE MAIO DE 2012\n",
      "Vigência \t\n",
      "\n",
      "Regulamenta a Lei nº 12.527, de 18 de novembro de 2011, que dispõe sobre o acesso a informações previsto no inciso XXXIII do caput do art. 5º , no inciso II do § 3º do art. 37 e no § 2º do art. 216 da Constituição.\n",
      "\n",
      "A PRESIDENTA DA REPÚBLICA, no uso das atribuições que lhe confere o art. 84, caput, incisos IV e VI, alínea “a”, da Constituição, e tendo em vista o disposto na Lei nº 12.527, de 18 de novembro de 2011,\n",
      "\n",
      "DECRETA:\n",
      "\n",
      "CAPÍTULO I\n",
      "\n",
      "DISPOSIÇÕES GERAIS\n",
      "\n",
      "Art. 1º Este Decreto regulamenta, no âmbito do Poder Executivo federal, os procedimentos para a garantia do acesso à informação e para a classificação de informações sob restrição de acesso, observados grau e prazo de sigilo, conforme o disposto na Lei nº 12.527, de 18 de novembro de 2011, que dispõe sobre o acesso a informações previsto no inciso XXXIII do caput do art. 5º , no inciso II do § 3º do art. 37 e no § 2º do art. 216 da Constituição.\n",
      "\n",
      "Art. 2º Os órgãos e as entidades do Poder Executivo federal assegurarão, às pessoas naturais e jurídicas, o direito de acesso à informação, que será proporcionado mediante procedimentos objetivos e ágeis, de forma transparente, clara e em linguagem de fácil compreensão, observados os princípios da administração pública e as diretrizes previstas na Lei nº 12.527, de 2011.\n",
      "\n",
      "Art. 3º Para os efeitos deste Decreto, considera-se:\n",
      "\n",
      "I - informação - dados, processados ou não, que podem ser utilizados para produção e transmissão de conhecimento, contidos em qualquer meio, suporte ou formato;\n",
      "\n",
      "II - dados processados - dados submetidos a qualquer operação ou tratamento por meio de processamento eletrônico ou por meio automatizado com o emprego de tecnologia da informação;\n",
      "\n",
      "III - documento - unidade de registro de informações, qualquer que seja o suporte ou formato;\n",
      "\n",
      "IV - informação sigilosa - informação submetida temporariamente à restrição de acesso público em razão de sua imprescindibilidade para a segurança da sociedade e do Estado, e aquelas abrangidas pelas demais hipóteses legais de sigilo;\n",
      "\n",
      "V - informação pessoal - informação relacionada à pessoa natural identificada ou identificável, relativa à intimidade, vida privada, honra e imagem;\n",
      "\n",
      "VI - tratamento da informação - conjunto de ações referentes à produção, recepção, classificação, utilização, acesso, reprodução, transporte, transmissão, distribuição, arquivamento, armazenamento, eliminação, avaliação, destinação ou controle da informação;\n",
      "\n",
      "VII - disponibilidade - qualidade da informação que pode ser conhecida e utilizada por indivíduos, equipamentos ou sistemas autorizados;\n",
      "\n",
      "VIII - autenticidade - qualidade da informação que tenha sido produzida, expedida, recebida ou modificada por determinado indivíduo, equipamento ou sistema;\n",
      "\n",
      "IX - integridade - qualidade da informação não modificada, inclusive quanto à origem, trânsito e destino;\n",
      "\n",
      "X - primariedade - qualidade da informação coletada na fonte, com o máximo de detalhamento possível, sem modificações;\n",
      "\n",
      "XI - informação atualizada - informação que reúne os dados mais recentes sobre o tema, de acordo com sua natureza, com os prazos previstos em normas específicas ou conforme a periodicidade estabelecida nos sistemas informatizados que a organizam; e\n",
      "\n",
      "XII - documento preparatório - documento formal utilizado como fundamento da tomada de decisão ou de ato administrativo, a exemplo de pareceres e notas técnicas.\n",
      "\n",
      "Art. 4º A busca e o fornecimento da informação são gratuitos, ressalvada a cobrança do valor referente ao custo dos serviços e dos materiais utilizados, tais como reprodução de documentos, mídias digitais e postagem.\n",
      "\n",
      "Parágrafo único. Está isento de ressarcir os custos dos serviços e dos materiais utilizados aquele cuja situação econômica não lhe permita fazê-lo sem prejuízo do sustento próprio ou da família, declarada nos termos da Lei nº 7.115, de 29 de agosto de 1983.\n",
      "\n",
      "CAPÍTULO II\n",
      "\n",
      "DA ABRANGÊNCIA\n",
      "\n",
      "Art. 5º Sujeitam-se ao disposto neste Decreto os órgãos da administração direta, as autarquias, as fundações públicas, as empresas públicas, as sociedades de economia mista e as demais entidades controladas direta ou indiretamente pela União.\n",
      "\n",
      "§ 1º A divulgação de informações de empresas públicas, sociedade de economia mista e demais entidades controladas pela União que atuem em regime de concorrência, sujeitas ao disposto no art. 173 da Constituição, estará submetida às normas pertinentes da Comissão de Valores Mobiliários, a fim de assegurar sua competitividade, governança corporativa e, quando houver, os interesses de acionistas minoritários.\n",
      "\n",
      "§ 2º Não se sujeitam ao disposto neste Decreto as informações relativas à atividade empresarial de pessoas físicas ou jurídicas de direito privado obtidas pelo Banco Central do Brasil, pelas agências reguladoras ou por outros órgãos ou entidades no exercício de atividade de controle, regulação e supervisão da atividade econômica cuja divulgação possa representar vantagem competitiva a outros agentes econômicos.\n",
      "\n",
      "Art. 6º O acesso à informação disciplinado neste Decreto não se aplica:\n",
      "\n",
      "I - às hipóteses de sigilo previstas na legislação, como fiscal, bancário, de operações e serviços no mercado de capitais, comercial, profissional, industrial e segredo de justiça; e\n",
      "\n",
      "II - às informações referentes a projetos de pesquisa e desenvolvimento científicos ou tecnológicos cujo sigilo seja imprescindível à segurança da sociedade e do Estado, na forma do §1º do art. 7º da Lei nº 12.527, de 2011. \n",
      "###\n",
      "\n"
     ]
    },
    {
     "data": {
      "text/markdown": [
       "### Resposta"
      ],
      "text/plain": [
       "<IPython.core.display.Markdown object>"
      ]
     },
     "metadata": {},
     "output_type": "display_data"
    },
    {
     "data": {
      "text/markdown": [
       "| Entidade | Tipo de Entidade |\n",
       "| --- | --- |\n",
       "| Lei nº 12.527 | Lei |\n",
       "| Constituição | Documento |\n",
       "| Poder Executivo federal | Órgão |\n",
       "| Pessoa natural | Categoria |\n",
       "| Pessoa jurídica | Categoria |\n",
       "| Princípios da administração pública | Diretrizes |\n",
       "| Órgãos e entidades do Poder Executivo federal | Órgãos e entidades |\n",
       "| Informação | Dado |\n",
       "| Dados processados | Dado |\n",
       "| Documento | Unidade de registro |\n",
       "| Informação sigilosa | Informação |\n",
       "| Segurança da sociedade e do Estado | Categoria |\n",
       "| Informação pessoal | Informação |\n",
       "| Tratamento da informação | Ação |\n",
       "| Disponibilidade | Qualidade |\n",
       "| Autenticidade | Qualidade |\n",
       "| Integridade | Qualidade |\n",
       "| Primariedade | Qualidade |\n",
       "| Informação atualizada | Informação |\n",
       "| Documento preparatório | Documento |\n",
       "| Serviços e materiais utilizados | Custos |\n",
       "| Lei nº 7.115 | Lei |\n",
       "| Administração direta | Órgão |\n",
       "| Autarquias | Órgão |\n",
       "| Fundações públicas | Órgão |\n",
       "| Empresas públicas | Órgão |\n",
       "| Sociedades de economia mista | Órgão |\n",
       "| União | Entidade |\n",
       "| Comissão de Valores Mobiliários | Órgão |\n",
       "| Acionistas minoritários | Categoria |\n",
       "| Banco Central do Brasil | Órgão |\n",
       "| Agências reguladoras | Órgão |\n",
       "| Controle, regulação e supervisão da atividade econômica | Categoria |\n",
       "| Atividade empresarial de pessoas físicas ou jurídicas de direito privado | Categoria |\n",
       "| Projetos de pesquisa e desenvolvimento científicos ou tecnológicos | Categoria |"
      ],
      "text/plain": [
       "<IPython.core.display.Markdown object>"
      ]
     },
     "metadata": {},
     "output_type": "display_data"
    },
    {
     "name": "stdout",
     "output_type": "stream",
     "text": [
      "| Entidade | Tipo de Entidade |\n",
      "| --- | --- |\n",
      "| Lei nº 12.527 | Lei |\n",
      "| Constituição | Documento |\n",
      "| Poder Executivo federal | Órgão |\n",
      "| Pessoa natural | Categoria |\n",
      "| Pessoa jurídica | Categoria |\n",
      "| Princípios da administração pública | Diretrizes |\n",
      "| Órgãos e entidades do Poder Executivo federal | Órgãos e entidades |\n",
      "| Informação | Dado |\n",
      "| Dados processados | Dado |\n",
      "| Documento | Unidade de registro |\n",
      "| Informação sigilosa | Informação |\n",
      "| Segurança da sociedade e do Estado | Categoria |\n",
      "| Informação pessoal | Informação |\n",
      "| Tratamento da informação | Ação |\n",
      "| Disponibilidade | Qualidade |\n",
      "| Autenticidade | Qualidade |\n",
      "| Integridade | Qualidade |\n",
      "| Primariedade | Qualidade |\n",
      "| Informação atualizada | Informação |\n",
      "| Documento preparatório | Documento |\n",
      "| Serviços e materiais utilizados | Custos |\n",
      "| Lei nº 7.115 | Lei |\n",
      "| Administração direta | Órgão |\n",
      "| Autarquias | Órgão |\n",
      "| Fundações públicas | Órgão |\n",
      "| Empresas públicas | Órgão |\n",
      "| Sociedades de economia mista | Órgão |\n",
      "| União | Entidade |\n",
      "| Comissão de Valores Mobiliários | Órgão |\n",
      "| Acionistas minoritários | Categoria |\n",
      "| Banco Central do Brasil | Órgão |\n",
      "| Agências reguladoras | Órgão |\n",
      "| Controle, regulação e supervisão da atividade econômica | Categoria |\n",
      "| Atividade empresarial de pessoas físicas ou jurídicas de direito privado | Categoria |\n",
      "| Projetos de pesquisa e desenvolvimento científicos ou tecnológicos | Categoria |\n"
     ]
    }
   ],
   "source": [
    "prompt = f\"\"\"\n",
    "Sua tarefa é extratir nomes de entidades de uma lei brasileira. \\\n",
    "A partir da lei abaixo, delimitada por \"###\", extraia todas as \\\n",
    "entidades e indique qual o tipo de entidade para cada entidade \\\n",
    "encontrada. Organize os dados em uma tabela. \\\n",
    "\n",
    "Seja conciso e considere apenas as principais entidades. \\\n",
    "\n",
    "###{parte_da_lai}###\n",
    "\"\"\"\n",
    "\n",
    "print_prompt_answer(prompt)"
   ]
  },
  {
   "cell_type": "markdown",
   "id": "cd765af6",
   "metadata": {},
   "source": [
    "- Ainda não ficou bom\n",
    "- Vamos pedir para focar apenas em leis"
   ]
  },
  {
   "cell_type": "code",
   "execution_count": 43,
   "id": "2ee07bd0",
   "metadata": {
    "scrolled": false
   },
   "outputs": [
    {
     "data": {
      "text/markdown": [
       "### Prompt"
      ],
      "text/plain": [
       "<IPython.core.display.Markdown object>"
      ]
     },
     "metadata": {},
     "output_type": "display_data"
    },
    {
     "name": "stdout",
     "output_type": "stream",
     "text": [
      "\n",
      "Sua tarefa é extratir nomes de entidades de uma lei brasileira. A partir da lei abaixo, delimitada por \"###\", extraia todas as entidades e indique qual o tipo de entidade para cada entidade encontrada. Organize os dados em uma tabela. \n",
      "Considere apenas entidades do tipo \"Lei\". \n",
      "###\n",
      " DECRETO Nº 7.724, DE 16 DE MAIO DE 2012\n",
      "Vigência \t\n",
      "\n",
      "Regulamenta a Lei nº 12.527, de 18 de novembro de 2011, que dispõe sobre o acesso a informações previsto no inciso XXXIII do caput do art. 5º , no inciso II do § 3º do art. 37 e no § 2º do art. 216 da Constituição.\n",
      "\n",
      "A PRESIDENTA DA REPÚBLICA, no uso das atribuições que lhe confere o art. 84, caput, incisos IV e VI, alínea “a”, da Constituição, e tendo em vista o disposto na Lei nº 12.527, de 18 de novembro de 2011,\n",
      "\n",
      "DECRETA:\n",
      "\n",
      "CAPÍTULO I\n",
      "\n",
      "DISPOSIÇÕES GERAIS\n",
      "\n",
      "Art. 1º Este Decreto regulamenta, no âmbito do Poder Executivo federal, os procedimentos para a garantia do acesso à informação e para a classificação de informações sob restrição de acesso, observados grau e prazo de sigilo, conforme o disposto na Lei nº 12.527, de 18 de novembro de 2011, que dispõe sobre o acesso a informações previsto no inciso XXXIII do caput do art. 5º , no inciso II do § 3º do art. 37 e no § 2º do art. 216 da Constituição.\n",
      "\n",
      "Art. 2º Os órgãos e as entidades do Poder Executivo federal assegurarão, às pessoas naturais e jurídicas, o direito de acesso à informação, que será proporcionado mediante procedimentos objetivos e ágeis, de forma transparente, clara e em linguagem de fácil compreensão, observados os princípios da administração pública e as diretrizes previstas na Lei nº 12.527, de 2011.\n",
      "\n",
      "Art. 3º Para os efeitos deste Decreto, considera-se:\n",
      "\n",
      "I - informação - dados, processados ou não, que podem ser utilizados para produção e transmissão de conhecimento, contidos em qualquer meio, suporte ou formato;\n",
      "\n",
      "II - dados processados - dados submetidos a qualquer operação ou tratamento por meio de processamento eletrônico ou por meio automatizado com o emprego de tecnologia da informação;\n",
      "\n",
      "III - documento - unidade de registro de informações, qualquer que seja o suporte ou formato;\n",
      "\n",
      "IV - informação sigilosa - informação submetida temporariamente à restrição de acesso público em razão de sua imprescindibilidade para a segurança da sociedade e do Estado, e aquelas abrangidas pelas demais hipóteses legais de sigilo;\n",
      "\n",
      "V - informação pessoal - informação relacionada à pessoa natural identificada ou identificável, relativa à intimidade, vida privada, honra e imagem;\n",
      "\n",
      "VI - tratamento da informação - conjunto de ações referentes à produção, recepção, classificação, utilização, acesso, reprodução, transporte, transmissão, distribuição, arquivamento, armazenamento, eliminação, avaliação, destinação ou controle da informação;\n",
      "\n",
      "VII - disponibilidade - qualidade da informação que pode ser conhecida e utilizada por indivíduos, equipamentos ou sistemas autorizados;\n",
      "\n",
      "VIII - autenticidade - qualidade da informação que tenha sido produzida, expedida, recebida ou modificada por determinado indivíduo, equipamento ou sistema;\n",
      "\n",
      "IX - integridade - qualidade da informação não modificada, inclusive quanto à origem, trânsito e destino;\n",
      "\n",
      "X - primariedade - qualidade da informação coletada na fonte, com o máximo de detalhamento possível, sem modificações;\n",
      "\n",
      "XI - informação atualizada - informação que reúne os dados mais recentes sobre o tema, de acordo com sua natureza, com os prazos previstos em normas específicas ou conforme a periodicidade estabelecida nos sistemas informatizados que a organizam; e\n",
      "\n",
      "XII - documento preparatório - documento formal utilizado como fundamento da tomada de decisão ou de ato administrativo, a exemplo de pareceres e notas técnicas.\n",
      "\n",
      "Art. 4º A busca e o fornecimento da informação são gratuitos, ressalvada a cobrança do valor referente ao custo dos serviços e dos materiais utilizados, tais como reprodução de documentos, mídias digitais e postagem.\n",
      "\n",
      "Parágrafo único. Está isento de ressarcir os custos dos serviços e dos materiais utilizados aquele cuja situação econômica não lhe permita fazê-lo sem prejuízo do sustento próprio ou da família, declarada nos termos da Lei nº 7.115, de 29 de agosto de 1983.\n",
      "\n",
      "CAPÍTULO II\n",
      "\n",
      "DA ABRANGÊNCIA\n",
      "\n",
      "Art. 5º Sujeitam-se ao disposto neste Decreto os órgãos da administração direta, as autarquias, as fundações públicas, as empresas públicas, as sociedades de economia mista e as demais entidades controladas direta ou indiretamente pela União.\n",
      "\n",
      "§ 1º A divulgação de informações de empresas públicas, sociedade de economia mista e demais entidades controladas pela União que atuem em regime de concorrência, sujeitas ao disposto no art. 173 da Constituição, estará submetida às normas pertinentes da Comissão de Valores Mobiliários, a fim de assegurar sua competitividade, governança corporativa e, quando houver, os interesses de acionistas minoritários.\n",
      "\n",
      "§ 2º Não se sujeitam ao disposto neste Decreto as informações relativas à atividade empresarial de pessoas físicas ou jurídicas de direito privado obtidas pelo Banco Central do Brasil, pelas agências reguladoras ou por outros órgãos ou entidades no exercício de atividade de controle, regulação e supervisão da atividade econômica cuja divulgação possa representar vantagem competitiva a outros agentes econômicos.\n",
      "\n",
      "Art. 6º O acesso à informação disciplinado neste Decreto não se aplica:\n",
      "\n",
      "I - às hipóteses de sigilo previstas na legislação, como fiscal, bancário, de operações e serviços no mercado de capitais, comercial, profissional, industrial e segredo de justiça; e\n",
      "\n",
      "II - às informações referentes a projetos de pesquisa e desenvolvimento científicos ou tecnológicos cujo sigilo seja imprescindível à segurança da sociedade e do Estado, na forma do §1º do art. 7º da Lei nº 12.527, de 2011. \n",
      "###\n",
      "\n"
     ]
    },
    {
     "data": {
      "text/markdown": [
       "### Resposta"
      ],
      "text/plain": [
       "<IPython.core.display.Markdown object>"
      ]
     },
     "metadata": {},
     "output_type": "display_data"
    },
    {
     "data": {
      "text/markdown": [
       "| Entidade | Tipo de Entidade |\n",
       "| --- | --- |\n",
       "| Lei nº 12.527 | Lei |\n",
       "| Constituição | Lei |\n",
       "| Poder Executivo federal | Órgão |\n",
       "| Administração direta | Órgão |\n",
       "| Autarquias | Órgão |\n",
       "| Fundações públicas | Órgão |\n",
       "| Empresas públicas | Órgão |\n",
       "| Sociedades de economia mista | Órgão |\n",
       "| União | Órgão | \n",
       "| Comissão de Valores Mobiliários | Órgão |\n",
       "| Banco Central do Brasil | Órgão |\n",
       "| Agências reguladoras | Órgão |"
      ],
      "text/plain": [
       "<IPython.core.display.Markdown object>"
      ]
     },
     "metadata": {},
     "output_type": "display_data"
    },
    {
     "name": "stdout",
     "output_type": "stream",
     "text": [
      "| Entidade | Tipo de Entidade |\n",
      "| --- | --- |\n",
      "| Lei nº 12.527 | Lei |\n",
      "| Constituição | Lei |\n",
      "| Poder Executivo federal | Órgão |\n",
      "| Administração direta | Órgão |\n",
      "| Autarquias | Órgão |\n",
      "| Fundações públicas | Órgão |\n",
      "| Empresas públicas | Órgão |\n",
      "| Sociedades de economia mista | Órgão |\n",
      "| União | Órgão | \n",
      "| Comissão de Valores Mobiliários | Órgão |\n",
      "| Banco Central do Brasil | Órgão |\n",
      "| Agências reguladoras | Órgão |\n"
     ]
    }
   ],
   "source": [
    "prompt = f\"\"\"\n",
    "Sua tarefa é extratir nomes de entidades de uma lei brasileira. \\\n",
    "A partir da lei abaixo, delimitada por \"###\", extraia todas as \\\n",
    "entidades e indique qual o tipo de entidade para cada entidade \\\n",
    "encontrada. Organize os dados em uma tabela. \\\n",
    "\n",
    "Considere apenas entidades do tipo \"Lei\". \\\n",
    "\n",
    "###{parte_da_lai}###\n",
    "\"\"\"\n",
    "\n",
    "print_prompt_answer(prompt)\n"
   ]
  },
  {
   "cell_type": "markdown",
   "id": "70f26a40",
   "metadata": {},
   "source": [
    "- Ainda não ficou bom..\n",
    "- Vamos usar outro nome: normas jurídicas"
   ]
  },
  {
   "cell_type": "code",
   "execution_count": 44,
   "id": "273eb026",
   "metadata": {
    "scrolled": false
   },
   "outputs": [
    {
     "data": {
      "text/markdown": [
       "### Prompt"
      ],
      "text/plain": [
       "<IPython.core.display.Markdown object>"
      ]
     },
     "metadata": {},
     "output_type": "display_data"
    },
    {
     "name": "stdout",
     "output_type": "stream",
     "text": [
      "\n",
      "Quais normas jurídicas são citadas pelo documento jurídico delimitado por \"###\"? \n",
      "###\n",
      " DECRETO Nº 7.724, DE 16 DE MAIO DE 2012\n",
      "Vigência \t\n",
      "\n",
      "Regulamenta a Lei nº 12.527, de 18 de novembro de 2011, que dispõe sobre o acesso a informações previsto no inciso XXXIII do caput do art. 5º , no inciso II do § 3º do art. 37 e no § 2º do art. 216 da Constituição.\n",
      "\n",
      "A PRESIDENTA DA REPÚBLICA, no uso das atribuições que lhe confere o art. 84, caput, incisos IV e VI, alínea “a”, da Constituição, e tendo em vista o disposto na Lei nº 12.527, de 18 de novembro de 2011,\n",
      "\n",
      "DECRETA:\n",
      "\n",
      "CAPÍTULO I\n",
      "\n",
      "DISPOSIÇÕES GERAIS\n",
      "\n",
      "Art. 1º Este Decreto regulamenta, no âmbito do Poder Executivo federal, os procedimentos para a garantia do acesso à informação e para a classificação de informações sob restrição de acesso, observados grau e prazo de sigilo, conforme o disposto na Lei nº 12.527, de 18 de novembro de 2011, que dispõe sobre o acesso a informações previsto no inciso XXXIII do caput do art. 5º , no inciso II do § 3º do art. 37 e no § 2º do art. 216 da Constituição.\n",
      "\n",
      "Art. 2º Os órgãos e as entidades do Poder Executivo federal assegurarão, às pessoas naturais e jurídicas, o direito de acesso à informação, que será proporcionado mediante procedimentos objetivos e ágeis, de forma transparente, clara e em linguagem de fácil compreensão, observados os princípios da administração pública e as diretrizes previstas na Lei nº 12.527, de 2011.\n",
      "\n",
      "Art. 3º Para os efeitos deste Decreto, considera-se:\n",
      "\n",
      "I - informação - dados, processados ou não, que podem ser utilizados para produção e transmissão de conhecimento, contidos em qualquer meio, suporte ou formato;\n",
      "\n",
      "II - dados processados - dados submetidos a qualquer operação ou tratamento por meio de processamento eletrônico ou por meio automatizado com o emprego de tecnologia da informação;\n",
      "\n",
      "III - documento - unidade de registro de informações, qualquer que seja o suporte ou formato;\n",
      "\n",
      "IV - informação sigilosa - informação submetida temporariamente à restrição de acesso público em razão de sua imprescindibilidade para a segurança da sociedade e do Estado, e aquelas abrangidas pelas demais hipóteses legais de sigilo;\n",
      "\n",
      "V - informação pessoal - informação relacionada à pessoa natural identificada ou identificável, relativa à intimidade, vida privada, honra e imagem;\n",
      "\n",
      "VI - tratamento da informação - conjunto de ações referentes à produção, recepção, classificação, utilização, acesso, reprodução, transporte, transmissão, distribuição, arquivamento, armazenamento, eliminação, avaliação, destinação ou controle da informação;\n",
      "\n",
      "VII - disponibilidade - qualidade da informação que pode ser conhecida e utilizada por indivíduos, equipamentos ou sistemas autorizados;\n",
      "\n",
      "VIII - autenticidade - qualidade da informação que tenha sido produzida, expedida, recebida ou modificada por determinado indivíduo, equipamento ou sistema;\n",
      "\n",
      "IX - integridade - qualidade da informação não modificada, inclusive quanto à origem, trânsito e destino;\n",
      "\n",
      "X - primariedade - qualidade da informação coletada na fonte, com o máximo de detalhamento possível, sem modificações;\n",
      "\n",
      "XI - informação atualizada - informação que reúne os dados mais recentes sobre o tema, de acordo com sua natureza, com os prazos previstos em normas específicas ou conforme a periodicidade estabelecida nos sistemas informatizados que a organizam; e\n",
      "\n",
      "XII - documento preparatório - documento formal utilizado como fundamento da tomada de decisão ou de ato administrativo, a exemplo de pareceres e notas técnicas.\n",
      "\n",
      "Art. 4º A busca e o fornecimento da informação são gratuitos, ressalvada a cobrança do valor referente ao custo dos serviços e dos materiais utilizados, tais como reprodução de documentos, mídias digitais e postagem.\n",
      "\n",
      "Parágrafo único. Está isento de ressarcir os custos dos serviços e dos materiais utilizados aquele cuja situação econômica não lhe permita fazê-lo sem prejuízo do sustento próprio ou da família, declarada nos termos da Lei nº 7.115, de 29 de agosto de 1983.\n",
      "\n",
      "CAPÍTULO II\n",
      "\n",
      "DA ABRANGÊNCIA\n",
      "\n",
      "Art. 5º Sujeitam-se ao disposto neste Decreto os órgãos da administração direta, as autarquias, as fundações públicas, as empresas públicas, as sociedades de economia mista e as demais entidades controladas direta ou indiretamente pela União.\n",
      "\n",
      "§ 1º A divulgação de informações de empresas públicas, sociedade de economia mista e demais entidades controladas pela União que atuem em regime de concorrência, sujeitas ao disposto no art. 173 da Constituição, estará submetida às normas pertinentes da Comissão de Valores Mobiliários, a fim de assegurar sua competitividade, governança corporativa e, quando houver, os interesses de acionistas minoritários.\n",
      "\n",
      "§ 2º Não se sujeitam ao disposto neste Decreto as informações relativas à atividade empresarial de pessoas físicas ou jurídicas de direito privado obtidas pelo Banco Central do Brasil, pelas agências reguladoras ou por outros órgãos ou entidades no exercício de atividade de controle, regulação e supervisão da atividade econômica cuja divulgação possa representar vantagem competitiva a outros agentes econômicos.\n",
      "\n",
      "Art. 6º O acesso à informação disciplinado neste Decreto não se aplica:\n",
      "\n",
      "I - às hipóteses de sigilo previstas na legislação, como fiscal, bancário, de operações e serviços no mercado de capitais, comercial, profissional, industrial e segredo de justiça; e\n",
      "\n",
      "II - às informações referentes a projetos de pesquisa e desenvolvimento científicos ou tecnológicos cujo sigilo seja imprescindível à segurança da sociedade e do Estado, na forma do §1º do art. 7º da Lei nº 12.527, de 2011. \n",
      "###\n",
      "\n"
     ]
    },
    {
     "data": {
      "text/markdown": [
       "### Resposta"
      ],
      "text/plain": [
       "<IPython.core.display.Markdown object>"
      ]
     },
     "metadata": {},
     "output_type": "display_data"
    },
    {
     "data": {
      "text/markdown": [
       "As normas jurídicas citadas pelo documento jurídico são a Constituição Federal, a Lei nº 12.527/2011 e a Lei nº 7.115/1983."
      ],
      "text/plain": [
       "<IPython.core.display.Markdown object>"
      ]
     },
     "metadata": {},
     "output_type": "display_data"
    },
    {
     "name": "stdout",
     "output_type": "stream",
     "text": [
      "As normas jurídicas citadas pelo documento jurídico são a Constituição Federal, a Lei nº 12.527/2011 e a Lei nº 7.115/1983.\n"
     ]
    }
   ],
   "source": [
    "# ao invés de dizer para excluir o tipo \"Órgão\", vamos mudar a abordagem\n",
    "prompt = f\"\"\"\n",
    "Quais normas jurídicas são citadas pelo documento jurídico delimitado por \"###\"? \\\n",
    "\n",
    "###{parte_da_lai}###\n",
    "\"\"\"\n",
    "print_prompt_answer(prompt)"
   ]
  },
  {
   "cell_type": "markdown",
   "id": "b5bffb9b",
   "metadata": {},
   "source": [
    "- Melhorou!\n",
    "- Vamos agora pedir para formatar a saída em uma tabela"
   ]
  },
  {
   "cell_type": "code",
   "execution_count": 45,
   "id": "28ac672a",
   "metadata": {
    "scrolled": false
   },
   "outputs": [
    {
     "data": {
      "text/markdown": [
       "### Prompt"
      ],
      "text/plain": [
       "<IPython.core.display.Markdown object>"
      ]
     },
     "metadata": {},
     "output_type": "display_data"
    },
    {
     "name": "stdout",
     "output_type": "stream",
     "text": [
      "\n",
      "Quais normas jurídicas são citadas pelo documento jurídico delimitado por \"###\"? \n",
      "Organize os dados em uma tabela da seguinte forma: - coluna 1: nome da norma - coluna 2: artigo da norma que foi citada. - coluna 3: breve explicação do conteúdo da coluna 2, ou seja, do artigo da norma que foi citada. \n",
      "###\n",
      " DECRETO Nº 7.724, DE 16 DE MAIO DE 2012\n",
      "Vigência \t\n",
      "\n",
      "Regulamenta a Lei nº 12.527, de 18 de novembro de 2011, que dispõe sobre o acesso a informações previsto no inciso XXXIII do caput do art. 5º , no inciso II do § 3º do art. 37 e no § 2º do art. 216 da Constituição.\n",
      "\n",
      "A PRESIDENTA DA REPÚBLICA, no uso das atribuições que lhe confere o art. 84, caput, incisos IV e VI, alínea “a”, da Constituição, e tendo em vista o disposto na Lei nº 12.527, de 18 de novembro de 2011,\n",
      "\n",
      "DECRETA:\n",
      "\n",
      "CAPÍTULO I\n",
      "\n",
      "DISPOSIÇÕES GERAIS\n",
      "\n",
      "Art. 1º Este Decreto regulamenta, no âmbito do Poder Executivo federal, os procedimentos para a garantia do acesso à informação e para a classificação de informações sob restrição de acesso, observados grau e prazo de sigilo, conforme o disposto na Lei nº 12.527, de 18 de novembro de 2011, que dispõe sobre o acesso a informações previsto no inciso XXXIII do caput do art. 5º , no inciso II do § 3º do art. 37 e no § 2º do art. 216 da Constituição.\n",
      "\n",
      "Art. 2º Os órgãos e as entidades do Poder Executivo federal assegurarão, às pessoas naturais e jurídicas, o direito de acesso à informação, que será proporcionado mediante procedimentos objetivos e ágeis, de forma transparente, clara e em linguagem de fácil compreensão, observados os princípios da administração pública e as diretrizes previstas na Lei nº 12.527, de 2011.\n",
      "\n",
      "Art. 3º Para os efeitos deste Decreto, considera-se:\n",
      "\n",
      "I - informação - dados, processados ou não, que podem ser utilizados para produção e transmissão de conhecimento, contidos em qualquer meio, suporte ou formato;\n",
      "\n",
      "II - dados processados - dados submetidos a qualquer operação ou tratamento por meio de processamento eletrônico ou por meio automatizado com o emprego de tecnologia da informação;\n",
      "\n",
      "III - documento - unidade de registro de informações, qualquer que seja o suporte ou formato;\n",
      "\n",
      "IV - informação sigilosa - informação submetida temporariamente à restrição de acesso público em razão de sua imprescindibilidade para a segurança da sociedade e do Estado, e aquelas abrangidas pelas demais hipóteses legais de sigilo;\n",
      "\n",
      "V - informação pessoal - informação relacionada à pessoa natural identificada ou identificável, relativa à intimidade, vida privada, honra e imagem;\n",
      "\n",
      "VI - tratamento da informação - conjunto de ações referentes à produção, recepção, classificação, utilização, acesso, reprodução, transporte, transmissão, distribuição, arquivamento, armazenamento, eliminação, avaliação, destinação ou controle da informação;\n",
      "\n",
      "VII - disponibilidade - qualidade da informação que pode ser conhecida e utilizada por indivíduos, equipamentos ou sistemas autorizados;\n",
      "\n",
      "VIII - autenticidade - qualidade da informação que tenha sido produzida, expedida, recebida ou modificada por determinado indivíduo, equipamento ou sistema;\n",
      "\n",
      "IX - integridade - qualidade da informação não modificada, inclusive quanto à origem, trânsito e destino;\n",
      "\n",
      "X - primariedade - qualidade da informação coletada na fonte, com o máximo de detalhamento possível, sem modificações;\n",
      "\n",
      "XI - informação atualizada - informação que reúne os dados mais recentes sobre o tema, de acordo com sua natureza, com os prazos previstos em normas específicas ou conforme a periodicidade estabelecida nos sistemas informatizados que a organizam; e\n",
      "\n",
      "XII - documento preparatório - documento formal utilizado como fundamento da tomada de decisão ou de ato administrativo, a exemplo de pareceres e notas técnicas.\n",
      "\n",
      "Art. 4º A busca e o fornecimento da informação são gratuitos, ressalvada a cobrança do valor referente ao custo dos serviços e dos materiais utilizados, tais como reprodução de documentos, mídias digitais e postagem.\n",
      "\n",
      "Parágrafo único. Está isento de ressarcir os custos dos serviços e dos materiais utilizados aquele cuja situação econômica não lhe permita fazê-lo sem prejuízo do sustento próprio ou da família, declarada nos termos da Lei nº 7.115, de 29 de agosto de 1983.\n",
      "\n",
      "CAPÍTULO II\n",
      "\n",
      "DA ABRANGÊNCIA\n",
      "\n",
      "Art. 5º Sujeitam-se ao disposto neste Decreto os órgãos da administração direta, as autarquias, as fundações públicas, as empresas públicas, as sociedades de economia mista e as demais entidades controladas direta ou indiretamente pela União.\n",
      "\n",
      "§ 1º A divulgação de informações de empresas públicas, sociedade de economia mista e demais entidades controladas pela União que atuem em regime de concorrência, sujeitas ao disposto no art. 173 da Constituição, estará submetida às normas pertinentes da Comissão de Valores Mobiliários, a fim de assegurar sua competitividade, governança corporativa e, quando houver, os interesses de acionistas minoritários.\n",
      "\n",
      "§ 2º Não se sujeitam ao disposto neste Decreto as informações relativas à atividade empresarial de pessoas físicas ou jurídicas de direito privado obtidas pelo Banco Central do Brasil, pelas agências reguladoras ou por outros órgãos ou entidades no exercício de atividade de controle, regulação e supervisão da atividade econômica cuja divulgação possa representar vantagem competitiva a outros agentes econômicos.\n",
      "\n",
      "Art. 6º O acesso à informação disciplinado neste Decreto não se aplica:\n",
      "\n",
      "I - às hipóteses de sigilo previstas na legislação, como fiscal, bancário, de operações e serviços no mercado de capitais, comercial, profissional, industrial e segredo de justiça; e\n",
      "\n",
      "II - às informações referentes a projetos de pesquisa e desenvolvimento científicos ou tecnológicos cujo sigilo seja imprescindível à segurança da sociedade e do Estado, na forma do §1º do art. 7º da Lei nº 12.527, de 2011. \n",
      "###\n",
      "\n"
     ]
    },
    {
     "data": {
      "text/markdown": [
       "### Resposta"
      ],
      "text/plain": [
       "<IPython.core.display.Markdown object>"
      ]
     },
     "metadata": {},
     "output_type": "display_data"
    },
    {
     "data": {
      "text/markdown": [
       "| Nome da norma | Artigo citado | Breve explicação do conteúdo do artigo |\n",
       "| --- | --- | --- |\n",
       "| Constituição Federal | Art. 5º, caput, inciso XXXIII | Garante o direito de acesso à informação a todos os cidadãos. |\n",
       "| Constituição Federal | Art. 37, § 3º, inciso II | Estabelece que a lei deve garantir o acesso dos cidadãos às informações relativas à administração pública. |\n",
       "| Constituição Federal | Art. 216, § 2º | Determina que o poder público deve garantir o acesso à informação sobre o patrimônio cultural brasileiro. |\n",
       "| Lei nº 12.527/2011 | Não especificado | A Lei de Acesso à Informação estabelece as regras para o acesso à informação pública no Brasil. |\n",
       "| Lei nº 7.115/1983 | Não especificado | Estabelece as regras para a declaração de situação econômica que permite a isenção de ressarcimento dos custos de acesso à informação. |"
      ],
      "text/plain": [
       "<IPython.core.display.Markdown object>"
      ]
     },
     "metadata": {},
     "output_type": "display_data"
    },
    {
     "name": "stdout",
     "output_type": "stream",
     "text": [
      "| Nome da norma | Artigo citado | Breve explicação do conteúdo do artigo |\n",
      "| --- | --- | --- |\n",
      "| Constituição Federal | Art. 5º, caput, inciso XXXIII | Garante o direito de acesso à informação a todos os cidadãos. |\n",
      "| Constituição Federal | Art. 37, § 3º, inciso II | Estabelece que a lei deve garantir o acesso dos cidadãos às informações relativas à administração pública. |\n",
      "| Constituição Federal | Art. 216, § 2º | Determina que o poder público deve garantir o acesso à informação sobre o patrimônio cultural brasileiro. |\n",
      "| Lei nº 12.527/2011 | Não especificado | A Lei de Acesso à Informação estabelece as regras para o acesso à informação pública no Brasil. |\n",
      "| Lei nº 7.115/1983 | Não especificado | Estabelece as regras para a declaração de situação econômica que permite a isenção de ressarcimento dos custos de acesso à informação. |\n"
     ]
    }
   ],
   "source": [
    "prompt = f\"\"\"\n",
    "Quais normas jurídicas são citadas pelo documento jurídico delimitado por \"###\"? \\\n",
    "\n",
    "Organize os dados em uma tabela da seguinte forma: \\\n",
    "- coluna 1: nome da norma \\\n",
    "- coluna 2: artigo da norma que foi citada. \\\n",
    "- coluna 3: breve explicação do conteúdo da coluna 2, ou seja, do artigo da norma que foi citada. \\\n",
    "\n",
    "###{parte_da_lai}###\n",
    "\"\"\"\n",
    "print_prompt_answer(prompt)"
   ]
  },
  {
   "cell_type": "markdown",
   "id": "8ebb9b3d",
   "metadata": {},
   "source": [
    "- Vamos agora pegar outra parte da LAI e aplicar o prompt anterior\n"
   ]
  },
  {
   "cell_type": "code",
   "execution_count": 46,
   "id": "a6227cd6",
   "metadata": {},
   "outputs": [],
   "source": [
    "parte_da_lai2 = f\"\"\"\n",
    "VI - remuneração e subsídio recebidos por ocupante de cargo, posto, graduação, função e emprego público, incluídos os auxílios, as ajudas de custo, os jetons e outras vantagens pecuniárias, além dos proventos de aposentadoria e das pensões daqueles servidores e empregados públicos que estiverem na ativa, de maneira individualizada, conforme estabelecido em ato do Ministro de Estado da Economia; (Redação dada pelo Decreto nº 9.690, de 2019)\n",
    "\n",
    "VII - respostas a perguntas mais frequentes da sociedade; (Redação dada pelo Decreto nº 8.408, de 2015)\n",
    "\n",
    "VIII - contato da autoridade de monitoramento, designada nos termos do art. 40 da Lei nº 12.527, de 2011 , e telefone e correio eletrônico do Serviço de Informações ao Cidadão - SIC; e (Redação dada pelo Decreto nº 8.408, de 2015)\n",
    "\n",
    "IX - programas financiados pelo Fundo de Amparo ao Trabalhador - FAT. (Incluído pelo Decreto nº 8.408, de 2015)\n",
    "\n",
    "§ 4º As informações poderão ser disponibilizadas por meio de ferramenta de redirecionamento de página na Internet, quando estiverem disponíveis em outros sítios governamentais.\n",
    "\n",
    "§ 5º No caso das empresas públicas, sociedades de economia mista e demais entidades controladas pela União que atuem em regime de concorrência, sujeitas ao disposto no art. 173 da Constituição, aplica-se o disposto no § 1º do art. 5º . \n",
    "\"\"\""
   ]
  },
  {
   "cell_type": "code",
   "execution_count": 47,
   "id": "8fa4756c",
   "metadata": {
    "scrolled": false
   },
   "outputs": [
    {
     "data": {
      "text/markdown": [
       "### Prompt"
      ],
      "text/plain": [
       "<IPython.core.display.Markdown object>"
      ]
     },
     "metadata": {},
     "output_type": "display_data"
    },
    {
     "name": "stdout",
     "output_type": "stream",
     "text": [
      "\n",
      "Quais normas jurídicas são citadas pelo documento jurídico delimitado por \"###\"? \n",
      "Organize os dados em uma tabela da seguinte forma: - coluna 1: nome da norma - coluna 2: artigo da norma que foi citada. - coluna 3: breve explicação do conteúdo da coluna 2, ou seja, do artigo da norma que foi citada. \n",
      "###\n",
      "VI - remuneração e subsídio recebidos por ocupante de cargo, posto, graduação, função e emprego público, incluídos os auxílios, as ajudas de custo, os jetons e outras vantagens pecuniárias, além dos proventos de aposentadoria e das pensões daqueles servidores e empregados públicos que estiverem na ativa, de maneira individualizada, conforme estabelecido em ato do Ministro de Estado da Economia; (Redação dada pelo Decreto nº 9.690, de 2019)\n",
      "\n",
      "VII - respostas a perguntas mais frequentes da sociedade; (Redação dada pelo Decreto nº 8.408, de 2015)\n",
      "\n",
      "VIII - contato da autoridade de monitoramento, designada nos termos do art. 40 da Lei nº 12.527, de 2011 , e telefone e correio eletrônico do Serviço de Informações ao Cidadão - SIC; e (Redação dada pelo Decreto nº 8.408, de 2015)\n",
      "\n",
      "IX - programas financiados pelo Fundo de Amparo ao Trabalhador - FAT. (Incluído pelo Decreto nº 8.408, de 2015)\n",
      "\n",
      "§ 4º As informações poderão ser disponibilizadas por meio de ferramenta de redirecionamento de página na Internet, quando estiverem disponíveis em outros sítios governamentais.\n",
      "\n",
      "§ 5º No caso das empresas públicas, sociedades de economia mista e demais entidades controladas pela União que atuem em regime de concorrência, sujeitas ao disposto no art. 173 da Constituição, aplica-se o disposto no § 1º do art. 5º . \n",
      "###\n",
      "\n"
     ]
    },
    {
     "data": {
      "text/markdown": [
       "### Resposta"
      ],
      "text/plain": [
       "<IPython.core.display.Markdown object>"
      ]
     },
     "metadata": {},
     "output_type": "display_data"
    },
    {
     "data": {
      "text/markdown": [
       "| Nome da norma | Artigo citado | Breve explicação |\n",
       "| --- | --- | --- |\n",
       "| Constituição Federal | Art. 173 | Estabelece que as empresas públicas, sociedades de economia mista e demais entidades controladas pela União que atuem em regime de concorrência devem seguir as normas do mercado, sujeitas ao disposto no § 1º do art. 5º. |\n",
       "| Lei nº 12.527/2011 | Art. 40 | Estabelece que cada órgão ou entidade pública deve designar uma autoridade de monitoramento para garantir o cumprimento da lei de acesso à informação. |\n",
       "| Decreto nº 8.408/2015 | VII | Estabelece que o documento deve conter respostas a perguntas mais frequentes da sociedade. |\n",
       "| Decreto nº 8.408/2015 | VIII | Estabelece que o documento deve conter o contato da autoridade de monitoramento e do Serviço de Informações ao Cidadão - SIC. |\n",
       "| Decreto nº 8.408/2015 | IX | Estabelece que o documento deve conter informações sobre programas financiados pelo Fundo de Amparo ao Trabalhador - FAT. |\n",
       "| Decreto nº 9.690/2019 | VI | Estabelece que o documento deve conter informações sobre remuneração e subsídio recebidos por ocupante de cargo, posto, graduação, função e emprego público, incluídos os auxílios, as ajudas de custo, os jetons e outras vantagens pecuniárias, além dos proventos de aposentadoria e das pensões daqueles servidores e empregados públicos que estiverem na ativa, de maneira individualizada, conforme estabelecido em ato do Ministro de Estado da Economia. |\n",
       "| Lei nº 12.527/2011 | § 4º | Estabelece que as informações podem ser disponibilizadas por meio de ferramenta de redirecionamento de página na Internet, quando estiverem disponíveis em outros sítios governamentais. |\n",
       "| Constituição Federal | Art. 5º, § 1º | Estabelece que as empresas públicas, sociedades de economia mista e demais entidades controladas pela União que atuem em regime de concorrência devem seguir as normas do mercado, sujeitas ao disposto no § 1º do art. 5º. |"
      ],
      "text/plain": [
       "<IPython.core.display.Markdown object>"
      ]
     },
     "metadata": {},
     "output_type": "display_data"
    },
    {
     "name": "stdout",
     "output_type": "stream",
     "text": [
      "| Nome da norma | Artigo citado | Breve explicação |\n",
      "| --- | --- | --- |\n",
      "| Constituição Federal | Art. 173 | Estabelece que as empresas públicas, sociedades de economia mista e demais entidades controladas pela União que atuem em regime de concorrência devem seguir as normas do mercado, sujeitas ao disposto no § 1º do art. 5º. |\n",
      "| Lei nº 12.527/2011 | Art. 40 | Estabelece que cada órgão ou entidade pública deve designar uma autoridade de monitoramento para garantir o cumprimento da lei de acesso à informação. |\n",
      "| Decreto nº 8.408/2015 | VII | Estabelece que o documento deve conter respostas a perguntas mais frequentes da sociedade. |\n",
      "| Decreto nº 8.408/2015 | VIII | Estabelece que o documento deve conter o contato da autoridade de monitoramento e do Serviço de Informações ao Cidadão - SIC. |\n",
      "| Decreto nº 8.408/2015 | IX | Estabelece que o documento deve conter informações sobre programas financiados pelo Fundo de Amparo ao Trabalhador - FAT. |\n",
      "| Decreto nº 9.690/2019 | VI | Estabelece que o documento deve conter informações sobre remuneração e subsídio recebidos por ocupante de cargo, posto, graduação, função e emprego público, incluídos os auxílios, as ajudas de custo, os jetons e outras vantagens pecuniárias, além dos proventos de aposentadoria e das pensões daqueles servidores e empregados públicos que estiverem na ativa, de maneira individualizada, conforme estabelecido em ato do Ministro de Estado da Economia. |\n",
      "| Lei nº 12.527/2011 | § 4º | Estabelece que as informações podem ser disponibilizadas por meio de ferramenta de redirecionamento de página na Internet, quando estiverem disponíveis em outros sítios governamentais. |\n",
      "| Constituição Federal | Art. 5º, § 1º | Estabelece que as empresas públicas, sociedades de economia mista e demais entidades controladas pela União que atuem em regime de concorrência devem seguir as normas do mercado, sujeitas ao disposto no § 1º do art. 5º. |\n"
     ]
    }
   ],
   "source": [
    "prompt = f\"\"\"\n",
    "Quais normas jurídicas são citadas pelo documento jurídico delimitado por \"###\"? \\\n",
    "\n",
    "Organize os dados em uma tabela da seguinte forma: \\\n",
    "- coluna 1: nome da norma \\\n",
    "- coluna 2: artigo da norma que foi citada. \\\n",
    "- coluna 3: breve explicação do conteúdo da coluna 2, ou seja, do artigo da norma que foi citada. \\\n",
    "\n",
    "###{parte_da_lai2}###\n",
    "\"\"\"\n",
    "print_prompt_answer(prompt)"
   ]
  },
  {
   "cell_type": "markdown",
   "id": "8314f516",
   "metadata": {},
   "source": [
    "- Vamos agora focar apenas nos Decretos\n",
    "  - Trechos que foram citados\n",
    "  - Contar quantas vezes os Decretos foram citados"
   ]
  },
  {
   "cell_type": "code",
   "execution_count": 48,
   "id": "c2e10e68",
   "metadata": {
    "scrolled": false
   },
   "outputs": [
    {
     "data": {
      "text/markdown": [
       "### Prompt"
      ],
      "text/plain": [
       "<IPython.core.display.Markdown object>"
      ]
     },
     "metadata": {},
     "output_type": "display_data"
    },
    {
     "name": "stdout",
     "output_type": "stream",
     "text": [
      "\n",
      "Quais normas jurídicas do tipo \"Decreto\" são citadas pelo documento jurídico delimitado por \"###\"? Organize os dados em uma tabela da seguinte forma: - coluna 1: nome do Decreto. - coluna 2: trecho do Decreto que foi citado. - coluna 3: breve explicação do conteúdo da coluna 2, ou seja, do trecho do Decreto que foi citado. - coluna 4: quantidade de vezes que o Decreto foi citado no documento jurídico. \n",
      "###\n",
      "VI - remuneração e subsídio recebidos por ocupante de cargo, posto, graduação, função e emprego público, incluídos os auxílios, as ajudas de custo, os jetons e outras vantagens pecuniárias, além dos proventos de aposentadoria e das pensões daqueles servidores e empregados públicos que estiverem na ativa, de maneira individualizada, conforme estabelecido em ato do Ministro de Estado da Economia; (Redação dada pelo Decreto nº 9.690, de 2019)\n",
      "\n",
      "VII - respostas a perguntas mais frequentes da sociedade; (Redação dada pelo Decreto nº 8.408, de 2015)\n",
      "\n",
      "VIII - contato da autoridade de monitoramento, designada nos termos do art. 40 da Lei nº 12.527, de 2011 , e telefone e correio eletrônico do Serviço de Informações ao Cidadão - SIC; e (Redação dada pelo Decreto nº 8.408, de 2015)\n",
      "\n",
      "IX - programas financiados pelo Fundo de Amparo ao Trabalhador - FAT. (Incluído pelo Decreto nº 8.408, de 2015)\n",
      "\n",
      "§ 4º As informações poderão ser disponibilizadas por meio de ferramenta de redirecionamento de página na Internet, quando estiverem disponíveis em outros sítios governamentais.\n",
      "\n",
      "§ 5º No caso das empresas públicas, sociedades de economia mista e demais entidades controladas pela União que atuem em regime de concorrência, sujeitas ao disposto no art. 173 da Constituição, aplica-se o disposto no § 1º do art. 5º . \n",
      "###\n",
      "\n"
     ]
    },
    {
     "data": {
      "text/markdown": [
       "### Resposta"
      ],
      "text/plain": [
       "<IPython.core.display.Markdown object>"
      ]
     },
     "metadata": {},
     "output_type": "display_data"
    },
    {
     "data": {
      "text/markdown": [
       "| Nome do Decreto | Trecho citado | Breve explicação | Quantidade de vezes citado |\n",
       "| --- | --- | --- | --- |\n",
       "| Decreto nº 9.690, de 2019 | \"VI - remuneração e subsídio recebidos por ocupante de cargo, posto, graduação, função e emprego público, incluídos os auxílios, as ajudas de custo, os jetons e outras vantagens pecuniárias, além dos proventos de aposentadoria e das pensões daqueles servidores e empregados públicos que estiverem na ativa, de maneira individualizada, conforme estabelecido em ato do Ministro de Estado da Economia;\" | Estabelece a forma como deve ser divulgada a remuneração e subsídio dos servidores públicos, incluindo auxílios, ajudas de custo, jetons e outras vantagens pecuniárias. | 1 |\n",
       "| Decreto nº 8.408, de 2015 | \"VII - respostas a perguntas mais frequentes da sociedade;\" | Estabelece a obrigatoriedade de disponibilização de respostas às perguntas mais frequentes da sociedade. | 1 |\n",
       "| Decreto nº 8.408, de 2015 | \"VIII - contato da autoridade de monitoramento, designada nos termos do art. 40 da Lei nº 12.527, de 2011 , e telefone e correio eletrônico do Serviço de Informações ao Cidadão - SIC; e\" | Estabelece a obrigatoriedade de disponibilização de contato da autoridade de monitoramento e do Serviço de Informações ao Cidadão. | 1 |\n",
       "| Decreto nº 8.408, de 2015 | \"IX - programas financiados pelo Fundo de Amparo ao Trabalhador - FAT.\" | Estabelece a obrigatoriedade de disponibilização de informações sobre programas financiados pelo Fundo de Amparo ao Trabalhador. | 1 |"
      ],
      "text/plain": [
       "<IPython.core.display.Markdown object>"
      ]
     },
     "metadata": {},
     "output_type": "display_data"
    },
    {
     "name": "stdout",
     "output_type": "stream",
     "text": [
      "| Nome do Decreto | Trecho citado | Breve explicação | Quantidade de vezes citado |\n",
      "| --- | --- | --- | --- |\n",
      "| Decreto nº 9.690, de 2019 | \"VI - remuneração e subsídio recebidos por ocupante de cargo, posto, graduação, função e emprego público, incluídos os auxílios, as ajudas de custo, os jetons e outras vantagens pecuniárias, além dos proventos de aposentadoria e das pensões daqueles servidores e empregados públicos que estiverem na ativa, de maneira individualizada, conforme estabelecido em ato do Ministro de Estado da Economia;\" | Estabelece a forma como deve ser divulgada a remuneração e subsídio dos servidores públicos, incluindo auxílios, ajudas de custo, jetons e outras vantagens pecuniárias. | 1 |\n",
      "| Decreto nº 8.408, de 2015 | \"VII - respostas a perguntas mais frequentes da sociedade;\" | Estabelece a obrigatoriedade de disponibilização de respostas às perguntas mais frequentes da sociedade. | 1 |\n",
      "| Decreto nº 8.408, de 2015 | \"VIII - contato da autoridade de monitoramento, designada nos termos do art. 40 da Lei nº 12.527, de 2011 , e telefone e correio eletrônico do Serviço de Informações ao Cidadão - SIC; e\" | Estabelece a obrigatoriedade de disponibilização de contato da autoridade de monitoramento e do Serviço de Informações ao Cidadão. | 1 |\n",
      "| Decreto nº 8.408, de 2015 | \"IX - programas financiados pelo Fundo de Amparo ao Trabalhador - FAT.\" | Estabelece a obrigatoriedade de disponibilização de informações sobre programas financiados pelo Fundo de Amparo ao Trabalhador. | 1 |\n"
     ]
    }
   ],
   "source": [
    "prompt = f\"\"\"\n",
    "Quais normas jurídicas do tipo \"Decreto\" são citadas pelo documento jurídico delimitado por \"###\"? \\\n",
    "Organize os dados em uma tabela da seguinte forma: \\\n",
    "- coluna 1: nome do Decreto. \\\n",
    "- coluna 2: trecho do Decreto que foi citado. \\\n",
    "- coluna 3: breve explicação do conteúdo da coluna 2, ou seja, do trecho do Decreto que foi citado. \\\n",
    "- coluna 4: quantidade de vezes que o Decreto foi citado no documento jurídico. \\\n",
    "\n",
    "###{parte_da_lai2}###\n",
    "\"\"\"\n",
    "print_prompt_answer(prompt)"
   ]
  },
  {
   "cell_type": "markdown",
   "id": "7d919ec6",
   "metadata": {},
   "source": [
    "- Vamos juntar as citações por Decreto: removendo a coluna do trecho"
   ]
  },
  {
   "cell_type": "code",
   "execution_count": 49,
   "id": "655529fc",
   "metadata": {},
   "outputs": [
    {
     "data": {
      "text/markdown": [
       "### Prompt"
      ],
      "text/plain": [
       "<IPython.core.display.Markdown object>"
      ]
     },
     "metadata": {},
     "output_type": "display_data"
    },
    {
     "name": "stdout",
     "output_type": "stream",
     "text": [
      "\n",
      "Quais normas jurídicas do tipo \"Decreto\" são citadas pelo documento jurídico delimitado por \"###\"? Organize os dados em uma tabela da seguinte forma: - coluna 1: nome do Decreto. - coluna 2: breve explicação do conteúdo da coluna 1, ou seja, do Decreto que foi citado. - coluna 3: quantidade de vezes que o Decreto foi citado no documento jurídico. \n",
      "###\n",
      "VI - remuneração e subsídio recebidos por ocupante de cargo, posto, graduação, função e emprego público, incluídos os auxílios, as ajudas de custo, os jetons e outras vantagens pecuniárias, além dos proventos de aposentadoria e das pensões daqueles servidores e empregados públicos que estiverem na ativa, de maneira individualizada, conforme estabelecido em ato do Ministro de Estado da Economia; (Redação dada pelo Decreto nº 9.690, de 2019)\n",
      "\n",
      "VII - respostas a perguntas mais frequentes da sociedade; (Redação dada pelo Decreto nº 8.408, de 2015)\n",
      "\n",
      "VIII - contato da autoridade de monitoramento, designada nos termos do art. 40 da Lei nº 12.527, de 2011 , e telefone e correio eletrônico do Serviço de Informações ao Cidadão - SIC; e (Redação dada pelo Decreto nº 8.408, de 2015)\n",
      "\n",
      "IX - programas financiados pelo Fundo de Amparo ao Trabalhador - FAT. (Incluído pelo Decreto nº 8.408, de 2015)\n",
      "\n",
      "§ 4º As informações poderão ser disponibilizadas por meio de ferramenta de redirecionamento de página na Internet, quando estiverem disponíveis em outros sítios governamentais.\n",
      "\n",
      "§ 5º No caso das empresas públicas, sociedades de economia mista e demais entidades controladas pela União que atuem em regime de concorrência, sujeitas ao disposto no art. 173 da Constituição, aplica-se o disposto no § 1º do art. 5º . \n",
      "###\n",
      "\n"
     ]
    },
    {
     "data": {
      "text/markdown": [
       "### Resposta"
      ],
      "text/plain": [
       "<IPython.core.display.Markdown object>"
      ]
     },
     "metadata": {},
     "output_type": "display_data"
    },
    {
     "data": {
      "text/markdown": [
       "| Nome do Decreto | Breve explicação | Quantidade de vezes citado |\n",
       "| --- | --- | --- |\n",
       "| Decreto nº 9.690, de 2019 | Estabelece a individualização da remuneração e subsídio recebidos por ocupantes de cargos públicos, incluindo auxílios, ajudas de custo, jetons e outras vantagens pecuniárias, além dos proventos de aposentadoria e pensões. | 1 |\n",
       "| Decreto nº 8.408, de 2015 | Estabelece as respostas a perguntas frequentes da sociedade, o contato da autoridade de monitoramento e o telefone e correio eletrônico do Serviço de Informações ao Cidadão - SIC. Também inclui os programas financiados pelo Fundo de Amparo ao Trabalhador - FAT. | 3 |"
      ],
      "text/plain": [
       "<IPython.core.display.Markdown object>"
      ]
     },
     "metadata": {},
     "output_type": "display_data"
    },
    {
     "name": "stdout",
     "output_type": "stream",
     "text": [
      "| Nome do Decreto | Breve explicação | Quantidade de vezes citado |\n",
      "| --- | --- | --- |\n",
      "| Decreto nº 9.690, de 2019 | Estabelece a individualização da remuneração e subsídio recebidos por ocupantes de cargos públicos, incluindo auxílios, ajudas de custo, jetons e outras vantagens pecuniárias, além dos proventos de aposentadoria e pensões. | 1 |\n",
      "| Decreto nº 8.408, de 2015 | Estabelece as respostas a perguntas frequentes da sociedade, o contato da autoridade de monitoramento e o telefone e correio eletrônico do Serviço de Informações ao Cidadão - SIC. Também inclui os programas financiados pelo Fundo de Amparo ao Trabalhador - FAT. | 3 |\n"
     ]
    }
   ],
   "source": [
    "prompt = f\"\"\"\n",
    "Quais normas jurídicas do tipo \"Decreto\" são citadas pelo documento jurídico delimitado por \"###\"? \\\n",
    "Organize os dados em uma tabela da seguinte forma: \\\n",
    "- coluna 1: nome do Decreto. \\\n",
    "- coluna 2: breve explicação do conteúdo da coluna 1, ou seja, do Decreto que foi citado. \\\n",
    "- coluna 3: quantidade de vezes que o Decreto foi citado no documento jurídico. \\\n",
    "\n",
    "###{parte_da_lai2}###\n",
    "\"\"\"\n",
    "print_prompt_answer(prompt)"
   ]
  },
  {
   "cell_type": "markdown",
   "id": "95385d9c",
   "metadata": {},
   "source": [
    "### Sua vez :-)\n",
    "\n",
    "1. Experimente os prompts anteriores com outro documento jurídico da sua escolha.\n",
    "2. Evolua os prompts para que eles consigam extrair outro tipo de informação que você deseja."
   ]
  },
  {
   "cell_type": "markdown",
   "id": "b87bcd32",
   "metadata": {},
   "source": [
    "## 2. Chatbot para Defensorias Públicas\n",
    "\n",
    "- O objetivo é termos um chatbot que atenda assistidos de uma Defensoria Pública.\n",
    "- Precisamos que o chatbot informe a lista de documentos necessários, etc. de acordo como seu fluxo de processo.\n",
    "- O chatbot precisará dar encaminhamento à demanda do cidadão e encaminhá-lo ao defensor público\n",
    "\n"
   ]
  },
  {
   "cell_type": "code",
   "execution_count": 28,
   "id": "1fba667d",
   "metadata": {},
   "outputs": [
    {
     "data": {
      "application/javascript": [
       "(function(root) {\n",
       "  function now() {\n",
       "    return new Date();\n",
       "  }\n",
       "\n",
       "  var force = true;\n",
       "\n",
       "  if (typeof root._bokeh_onload_callbacks === \"undefined\" || force === true) {\n",
       "    root._bokeh_onload_callbacks = [];\n",
       "    root._bokeh_is_loading = undefined;\n",
       "  }\n",
       "\n",
       "  if (typeof (root._bokeh_timeout) === \"undefined\" || force === true) {\n",
       "    root._bokeh_timeout = Date.now() + 5000;\n",
       "    root._bokeh_failed_load = false;\n",
       "  }\n",
       "\n",
       "  function run_callbacks() {\n",
       "    try {\n",
       "      root._bokeh_onload_callbacks.forEach(function(callback) {\n",
       "        if (callback != null)\n",
       "          callback();\n",
       "      });\n",
       "    } finally {\n",
       "      delete root._bokeh_onload_callbacks\n",
       "    }\n",
       "    console.debug(\"Bokeh: all callbacks have finished\");\n",
       "  }\n",
       "\n",
       "  function load_libs(css_urls, js_urls, js_modules, callback) {\n",
       "    if (css_urls == null) css_urls = [];\n",
       "    if (js_urls == null) js_urls = [];\n",
       "    if (js_modules == null) js_modules = [];\n",
       "\n",
       "    root._bokeh_onload_callbacks.push(callback);\n",
       "    if (root._bokeh_is_loading > 0) {\n",
       "      console.debug(\"Bokeh: BokehJS is being loaded, scheduling callback at\", now());\n",
       "      return null;\n",
       "    }\n",
       "    if (js_urls.length === 0 && js_modules.length === 0) {\n",
       "      run_callbacks();\n",
       "      return null;\n",
       "    }\n",
       "    console.debug(\"Bokeh: BokehJS not loaded, scheduling load and callback at\", now());\n",
       "\n",
       "    function on_load() {\n",
       "      root._bokeh_is_loading--;\n",
       "      if (root._bokeh_is_loading === 0) {\n",
       "        console.debug(\"Bokeh: all BokehJS libraries/stylesheets loaded\");\n",
       "        run_callbacks()\n",
       "      }\n",
       "    }\n",
       "\n",
       "    function on_error() {\n",
       "      console.error(\"failed to load \" + url);\n",
       "    }\n",
       "\n",
       "    for (var i = 0; i < css_urls.length; i++) {\n",
       "      var url = css_urls[i];\n",
       "      const element = document.createElement(\"link\");\n",
       "      element.onload = on_load;\n",
       "      element.onerror = on_error;\n",
       "      element.rel = \"stylesheet\";\n",
       "      element.type = \"text/css\";\n",
       "      element.href = url;\n",
       "      console.debug(\"Bokeh: injecting link tag for BokehJS stylesheet: \", url);\n",
       "      document.body.appendChild(element);\n",
       "    }\n",
       "\n",
       "    var skip = [];\n",
       "    if (window.requirejs) {\n",
       "      window.requirejs.config({'packages': {}, 'paths': {'gridstack': 'https://cdn.jsdelivr.net/npm/gridstack@4.2.5/dist/gridstack-h5', 'notyf': 'https://cdn.jsdelivr.net/npm/notyf@3/notyf.min'}, 'shim': {'gridstack': {'exports': 'GridStack'}}});\n",
       "      require([\"gridstack\"], function(GridStack) {\n",
       "\twindow.GridStack = GridStack\n",
       "\ton_load()\n",
       "      })\n",
       "      require([\"notyf\"], function() {\n",
       "\ton_load()\n",
       "      })\n",
       "      root._bokeh_is_loading = css_urls.length + 2;\n",
       "    } else {\n",
       "      root._bokeh_is_loading = css_urls.length + js_urls.length + js_modules.length;\n",
       "    }    if (((window['GridStack'] !== undefined) && (!(window['GridStack'] instanceof HTMLElement))) || window.requirejs) {\n",
       "      var urls = ['https://cdn.holoviz.org/panel/0.14.4/dist/bundled/gridstack/gridstack@4.2.5/dist/gridstack-h5.js'];\n",
       "      for (var i = 0; i < urls.length; i++) {\n",
       "        skip.push(urls[i])\n",
       "      }\n",
       "    }    if (((window['Notyf'] !== undefined) && (!(window['Notyf'] instanceof HTMLElement))) || window.requirejs) {\n",
       "      var urls = ['https://cdn.holoviz.org/panel/0.14.4/dist/bundled/notificationarea/notyf@3/notyf.min.js'];\n",
       "      for (var i = 0; i < urls.length; i++) {\n",
       "        skip.push(urls[i])\n",
       "      }\n",
       "    }    for (var i = 0; i < js_urls.length; i++) {\n",
       "      var url = js_urls[i];\n",
       "      if (skip.indexOf(url) >= 0) {\n",
       "\tif (!window.requirejs) {\n",
       "\t  on_load();\n",
       "\t}\n",
       "\tcontinue;\n",
       "      }\n",
       "      var element = document.createElement('script');\n",
       "      element.onload = on_load;\n",
       "      element.onerror = on_error;\n",
       "      element.async = false;\n",
       "      element.src = url;\n",
       "      console.debug(\"Bokeh: injecting script tag for BokehJS library: \", url);\n",
       "      document.head.appendChild(element);\n",
       "    }\n",
       "    for (var i = 0; i < js_modules.length; i++) {\n",
       "      var url = js_modules[i];\n",
       "      if (skip.indexOf(url) >= 0) {\n",
       "\tif (!window.requirejs) {\n",
       "\t  on_load();\n",
       "\t}\n",
       "\tcontinue;\n",
       "      }\n",
       "      var element = document.createElement('script');\n",
       "      element.onload = on_load;\n",
       "      element.onerror = on_error;\n",
       "      element.async = false;\n",
       "      element.src = url;\n",
       "      element.type = \"module\";\n",
       "      console.debug(\"Bokeh: injecting script tag for BokehJS library: \", url);\n",
       "      document.head.appendChild(element);\n",
       "    }\n",
       "    if (!js_urls.length && !js_modules.length) {\n",
       "      on_load()\n",
       "    }\n",
       "  };\n",
       "\n",
       "  function inject_raw_css(css) {\n",
       "    const element = document.createElement(\"style\");\n",
       "    element.appendChild(document.createTextNode(css));\n",
       "    document.body.appendChild(element);\n",
       "  }\n",
       "\n",
       "  var js_urls = [\"https://cdn.bokeh.org/bokeh/release/bokeh-2.4.3.min.js\", \"https://cdn.bokeh.org/bokeh/release/bokeh-gl-2.4.3.min.js\", \"https://cdn.bokeh.org/bokeh/release/bokeh-widgets-2.4.3.min.js\", \"https://cdn.bokeh.org/bokeh/release/bokeh-tables-2.4.3.min.js\", \"https://cdn.bokeh.org/bokeh/release/bokeh-mathjax-2.4.3.min.js\", \"https://unpkg.com/@holoviz/panel@0.14.4/dist/panel.min.js\"];\n",
       "  var js_modules = [];\n",
       "  var css_urls = [\"https://cdn.holoviz.org/panel/0.14.4/dist/css/debugger.css\", \"https://cdn.holoviz.org/panel/0.14.4/dist/css/alerts.css\", \"https://cdn.holoviz.org/panel/0.14.4/dist/css/card.css\", \"https://cdn.holoviz.org/panel/0.14.4/dist/css/widgets.css\", \"https://cdn.holoviz.org/panel/0.14.4/dist/css/markdown.css\", \"https://cdn.holoviz.org/panel/0.14.4/dist/css/json.css\", \"https://cdn.holoviz.org/panel/0.14.4/dist/css/loading.css\", \"https://cdn.holoviz.org/panel/0.14.4/dist/css/dataframe.css\"];\n",
       "  var inline_js = [    function(Bokeh) {\n",
       "      inject_raw_css(\"\\n    .bk.pn-loading.arc:before {\\n      background-image: url(\\\"data:image/svg+xml;base64,PHN2ZyB4bWxucz0iaHR0cDovL3d3dy53My5vcmcvMjAwMC9zdmciIHN0eWxlPSJtYXJnaW46IGF1dG87IGJhY2tncm91bmQ6IG5vbmU7IGRpc3BsYXk6IGJsb2NrOyBzaGFwZS1yZW5kZXJpbmc6IGF1dG87IiB2aWV3Qm94PSIwIDAgMTAwIDEwMCIgcHJlc2VydmVBc3BlY3RSYXRpbz0ieE1pZFlNaWQiPiAgPGNpcmNsZSBjeD0iNTAiIGN5PSI1MCIgZmlsbD0ibm9uZSIgc3Ryb2tlPSIjYzNjM2MzIiBzdHJva2Utd2lkdGg9IjEwIiByPSIzNSIgc3Ryb2tlLWRhc2hhcnJheT0iMTY0LjkzMzYxNDMxMzQ2NDE1IDU2Ljk3Nzg3MTQzNzgyMTM4Ij4gICAgPGFuaW1hdGVUcmFuc2Zvcm0gYXR0cmlidXRlTmFtZT0idHJhbnNmb3JtIiB0eXBlPSJyb3RhdGUiIHJlcGVhdENvdW50PSJpbmRlZmluaXRlIiBkdXI9IjFzIiB2YWx1ZXM9IjAgNTAgNTA7MzYwIDUwIDUwIiBrZXlUaW1lcz0iMDsxIj48L2FuaW1hdGVUcmFuc2Zvcm0+ICA8L2NpcmNsZT48L3N2Zz4=\\\");\\n      background-size: auto calc(min(50%, 400px));\\n    }\\n    \");\n",
       "    },    function(Bokeh) {\n",
       "      Bokeh.set_log_level(\"info\");\n",
       "    },\n",
       "function(Bokeh) {} // ensure no trailing comma for IE\n",
       "  ];\n",
       "\n",
       "  function run_inline_js() {\n",
       "    if ((root.Bokeh !== undefined) || (force === true)) {\n",
       "      for (var i = 0; i < inline_js.length; i++) {\n",
       "        inline_js[i].call(root, root.Bokeh);\n",
       "      }} else if (Date.now() < root._bokeh_timeout) {\n",
       "      setTimeout(run_inline_js, 100);\n",
       "    } else if (!root._bokeh_failed_load) {\n",
       "      console.log(\"Bokeh: BokehJS failed to load within specified timeout.\");\n",
       "      root._bokeh_failed_load = true;\n",
       "    }\n",
       "  }\n",
       "\n",
       "  if (root._bokeh_is_loading === 0) {\n",
       "    console.debug(\"Bokeh: BokehJS loaded, going straight to plotting\");\n",
       "    run_inline_js();\n",
       "  } else {\n",
       "    load_libs(css_urls, js_urls, js_modules, function() {\n",
       "      console.debug(\"Bokeh: BokehJS plotting callback run at\", now());\n",
       "      run_inline_js();\n",
       "    });\n",
       "  }\n",
       "}(window));"
      ],
      "application/vnd.holoviews_load.v0+json": "(function(root) {\n  function now() {\n    return new Date();\n  }\n\n  var force = true;\n\n  if (typeof root._bokeh_onload_callbacks === \"undefined\" || force === true) {\n    root._bokeh_onload_callbacks = [];\n    root._bokeh_is_loading = undefined;\n  }\n\n  if (typeof (root._bokeh_timeout) === \"undefined\" || force === true) {\n    root._bokeh_timeout = Date.now() + 5000;\n    root._bokeh_failed_load = false;\n  }\n\n  function run_callbacks() {\n    try {\n      root._bokeh_onload_callbacks.forEach(function(callback) {\n        if (callback != null)\n          callback();\n      });\n    } finally {\n      delete root._bokeh_onload_callbacks\n    }\n    console.debug(\"Bokeh: all callbacks have finished\");\n  }\n\n  function load_libs(css_urls, js_urls, js_modules, callback) {\n    if (css_urls == null) css_urls = [];\n    if (js_urls == null) js_urls = [];\n    if (js_modules == null) js_modules = [];\n\n    root._bokeh_onload_callbacks.push(callback);\n    if (root._bokeh_is_loading > 0) {\n      console.debug(\"Bokeh: BokehJS is being loaded, scheduling callback at\", now());\n      return null;\n    }\n    if (js_urls.length === 0 && js_modules.length === 0) {\n      run_callbacks();\n      return null;\n    }\n    console.debug(\"Bokeh: BokehJS not loaded, scheduling load and callback at\", now());\n\n    function on_load() {\n      root._bokeh_is_loading--;\n      if (root._bokeh_is_loading === 0) {\n        console.debug(\"Bokeh: all BokehJS libraries/stylesheets loaded\");\n        run_callbacks()\n      }\n    }\n\n    function on_error() {\n      console.error(\"failed to load \" + url);\n    }\n\n    for (var i = 0; i < css_urls.length; i++) {\n      var url = css_urls[i];\n      const element = document.createElement(\"link\");\n      element.onload = on_load;\n      element.onerror = on_error;\n      element.rel = \"stylesheet\";\n      element.type = \"text/css\";\n      element.href = url;\n      console.debug(\"Bokeh: injecting link tag for BokehJS stylesheet: \", url);\n      document.body.appendChild(element);\n    }\n\n    var skip = [];\n    if (window.requirejs) {\n      window.requirejs.config({'packages': {}, 'paths': {'gridstack': 'https://cdn.jsdelivr.net/npm/gridstack@4.2.5/dist/gridstack-h5', 'notyf': 'https://cdn.jsdelivr.net/npm/notyf@3/notyf.min'}, 'shim': {'gridstack': {'exports': 'GridStack'}}});\n      require([\"gridstack\"], function(GridStack) {\n\twindow.GridStack = GridStack\n\ton_load()\n      })\n      require([\"notyf\"], function() {\n\ton_load()\n      })\n      root._bokeh_is_loading = css_urls.length + 2;\n    } else {\n      root._bokeh_is_loading = css_urls.length + js_urls.length + js_modules.length;\n    }    if (((window['GridStack'] !== undefined) && (!(window['GridStack'] instanceof HTMLElement))) || window.requirejs) {\n      var urls = ['https://cdn.holoviz.org/panel/0.14.4/dist/bundled/gridstack/gridstack@4.2.5/dist/gridstack-h5.js'];\n      for (var i = 0; i < urls.length; i++) {\n        skip.push(urls[i])\n      }\n    }    if (((window['Notyf'] !== undefined) && (!(window['Notyf'] instanceof HTMLElement))) || window.requirejs) {\n      var urls = ['https://cdn.holoviz.org/panel/0.14.4/dist/bundled/notificationarea/notyf@3/notyf.min.js'];\n      for (var i = 0; i < urls.length; i++) {\n        skip.push(urls[i])\n      }\n    }    for (var i = 0; i < js_urls.length; i++) {\n      var url = js_urls[i];\n      if (skip.indexOf(url) >= 0) {\n\tif (!window.requirejs) {\n\t  on_load();\n\t}\n\tcontinue;\n      }\n      var element = document.createElement('script');\n      element.onload = on_load;\n      element.onerror = on_error;\n      element.async = false;\n      element.src = url;\n      console.debug(\"Bokeh: injecting script tag for BokehJS library: \", url);\n      document.head.appendChild(element);\n    }\n    for (var i = 0; i < js_modules.length; i++) {\n      var url = js_modules[i];\n      if (skip.indexOf(url) >= 0) {\n\tif (!window.requirejs) {\n\t  on_load();\n\t}\n\tcontinue;\n      }\n      var element = document.createElement('script');\n      element.onload = on_load;\n      element.onerror = on_error;\n      element.async = false;\n      element.src = url;\n      element.type = \"module\";\n      console.debug(\"Bokeh: injecting script tag for BokehJS library: \", url);\n      document.head.appendChild(element);\n    }\n    if (!js_urls.length && !js_modules.length) {\n      on_load()\n    }\n  };\n\n  function inject_raw_css(css) {\n    const element = document.createElement(\"style\");\n    element.appendChild(document.createTextNode(css));\n    document.body.appendChild(element);\n  }\n\n  var js_urls = [\"https://cdn.bokeh.org/bokeh/release/bokeh-2.4.3.min.js\", \"https://cdn.bokeh.org/bokeh/release/bokeh-gl-2.4.3.min.js\", \"https://cdn.bokeh.org/bokeh/release/bokeh-widgets-2.4.3.min.js\", \"https://cdn.bokeh.org/bokeh/release/bokeh-tables-2.4.3.min.js\", \"https://cdn.bokeh.org/bokeh/release/bokeh-mathjax-2.4.3.min.js\", \"https://unpkg.com/@holoviz/panel@0.14.4/dist/panel.min.js\"];\n  var js_modules = [];\n  var css_urls = [\"https://cdn.holoviz.org/panel/0.14.4/dist/css/debugger.css\", \"https://cdn.holoviz.org/panel/0.14.4/dist/css/alerts.css\", \"https://cdn.holoviz.org/panel/0.14.4/dist/css/card.css\", \"https://cdn.holoviz.org/panel/0.14.4/dist/css/widgets.css\", \"https://cdn.holoviz.org/panel/0.14.4/dist/css/markdown.css\", \"https://cdn.holoviz.org/panel/0.14.4/dist/css/json.css\", \"https://cdn.holoviz.org/panel/0.14.4/dist/css/loading.css\", \"https://cdn.holoviz.org/panel/0.14.4/dist/css/dataframe.css\"];\n  var inline_js = [    function(Bokeh) {\n      inject_raw_css(\"\\n    .bk.pn-loading.arc:before {\\n      background-image: url(\\\"data:image/svg+xml;base64,PHN2ZyB4bWxucz0iaHR0cDovL3d3dy53My5vcmcvMjAwMC9zdmciIHN0eWxlPSJtYXJnaW46IGF1dG87IGJhY2tncm91bmQ6IG5vbmU7IGRpc3BsYXk6IGJsb2NrOyBzaGFwZS1yZW5kZXJpbmc6IGF1dG87IiB2aWV3Qm94PSIwIDAgMTAwIDEwMCIgcHJlc2VydmVBc3BlY3RSYXRpbz0ieE1pZFlNaWQiPiAgPGNpcmNsZSBjeD0iNTAiIGN5PSI1MCIgZmlsbD0ibm9uZSIgc3Ryb2tlPSIjYzNjM2MzIiBzdHJva2Utd2lkdGg9IjEwIiByPSIzNSIgc3Ryb2tlLWRhc2hhcnJheT0iMTY0LjkzMzYxNDMxMzQ2NDE1IDU2Ljk3Nzg3MTQzNzgyMTM4Ij4gICAgPGFuaW1hdGVUcmFuc2Zvcm0gYXR0cmlidXRlTmFtZT0idHJhbnNmb3JtIiB0eXBlPSJyb3RhdGUiIHJlcGVhdENvdW50PSJpbmRlZmluaXRlIiBkdXI9IjFzIiB2YWx1ZXM9IjAgNTAgNTA7MzYwIDUwIDUwIiBrZXlUaW1lcz0iMDsxIj48L2FuaW1hdGVUcmFuc2Zvcm0+ICA8L2NpcmNsZT48L3N2Zz4=\\\");\\n      background-size: auto calc(min(50%, 400px));\\n    }\\n    \");\n    },    function(Bokeh) {\n      Bokeh.set_log_level(\"info\");\n    },\nfunction(Bokeh) {} // ensure no trailing comma for IE\n  ];\n\n  function run_inline_js() {\n    if ((root.Bokeh !== undefined) || (force === true)) {\n      for (var i = 0; i < inline_js.length; i++) {\n        inline_js[i].call(root, root.Bokeh);\n      }} else if (Date.now() < root._bokeh_timeout) {\n      setTimeout(run_inline_js, 100);\n    } else if (!root._bokeh_failed_load) {\n      console.log(\"Bokeh: BokehJS failed to load within specified timeout.\");\n      root._bokeh_failed_load = true;\n    }\n  }\n\n  if (root._bokeh_is_loading === 0) {\n    console.debug(\"Bokeh: BokehJS loaded, going straight to plotting\");\n    run_inline_js();\n  } else {\n    load_libs(css_urls, js_urls, js_modules, function() {\n      console.debug(\"Bokeh: BokehJS plotting callback run at\", now());\n      run_inline_js();\n    });\n  }\n}(window));"
     },
     "metadata": {},
     "output_type": "display_data"
    },
    {
     "data": {
      "application/javascript": [
       "\n",
       "if ((window.PyViz === undefined) || (window.PyViz instanceof HTMLElement)) {\n",
       "  window.PyViz = {comms: {}, comm_status:{}, kernels:{}, receivers: {}, plot_index: []}\n",
       "}\n",
       "\n",
       "\n",
       "    function JupyterCommManager() {\n",
       "    }\n",
       "\n",
       "    JupyterCommManager.prototype.register_target = function(plot_id, comm_id, msg_handler) {\n",
       "      if (window.comm_manager || ((window.Jupyter !== undefined) && (Jupyter.notebook.kernel != null))) {\n",
       "        var comm_manager = window.comm_manager || Jupyter.notebook.kernel.comm_manager;\n",
       "        comm_manager.register_target(comm_id, function(comm) {\n",
       "          comm.on_msg(msg_handler);\n",
       "        });\n",
       "      } else if ((plot_id in window.PyViz.kernels) && (window.PyViz.kernels[plot_id])) {\n",
       "        window.PyViz.kernels[plot_id].registerCommTarget(comm_id, function(comm) {\n",
       "          comm.onMsg = msg_handler;\n",
       "        });\n",
       "      } else if (typeof google != 'undefined' && google.colab.kernel != null) {\n",
       "        google.colab.kernel.comms.registerTarget(comm_id, (comm) => {\n",
       "          var messages = comm.messages[Symbol.asyncIterator]();\n",
       "          function processIteratorResult(result) {\n",
       "            var message = result.value;\n",
       "            console.log(message)\n",
       "            var content = {data: message.data, comm_id};\n",
       "            var buffers = []\n",
       "            for (var buffer of message.buffers || []) {\n",
       "              buffers.push(new DataView(buffer))\n",
       "            }\n",
       "            var metadata = message.metadata || {};\n",
       "            var msg = {content, buffers, metadata}\n",
       "            msg_handler(msg);\n",
       "            return messages.next().then(processIteratorResult);\n",
       "          }\n",
       "          return messages.next().then(processIteratorResult);\n",
       "        })\n",
       "      }\n",
       "    }\n",
       "\n",
       "    JupyterCommManager.prototype.get_client_comm = function(plot_id, comm_id, msg_handler) {\n",
       "      if (comm_id in window.PyViz.comms) {\n",
       "        return window.PyViz.comms[comm_id];\n",
       "      } else if (window.comm_manager || ((window.Jupyter !== undefined) && (Jupyter.notebook.kernel != null))) {\n",
       "        var comm_manager = window.comm_manager || Jupyter.notebook.kernel.comm_manager;\n",
       "        var comm = comm_manager.new_comm(comm_id, {}, {}, {}, comm_id);\n",
       "        if (msg_handler) {\n",
       "          comm.on_msg(msg_handler);\n",
       "        }\n",
       "      } else if ((plot_id in window.PyViz.kernels) && (window.PyViz.kernels[plot_id])) {\n",
       "        var comm = window.PyViz.kernels[plot_id].connectToComm(comm_id);\n",
       "        comm.open();\n",
       "        if (msg_handler) {\n",
       "          comm.onMsg = msg_handler;\n",
       "        }\n",
       "      } else if (typeof google != 'undefined' && google.colab.kernel != null) {\n",
       "        var comm_promise = google.colab.kernel.comms.open(comm_id)\n",
       "        comm_promise.then((comm) => {\n",
       "          window.PyViz.comms[comm_id] = comm;\n",
       "          if (msg_handler) {\n",
       "            var messages = comm.messages[Symbol.asyncIterator]();\n",
       "            function processIteratorResult(result) {\n",
       "              var message = result.value;\n",
       "              var content = {data: message.data};\n",
       "              var metadata = message.metadata || {comm_id};\n",
       "              var msg = {content, metadata}\n",
       "              msg_handler(msg);\n",
       "              return messages.next().then(processIteratorResult);\n",
       "            }\n",
       "            return messages.next().then(processIteratorResult);\n",
       "          }\n",
       "        }) \n",
       "        var sendClosure = (data, metadata, buffers, disposeOnDone) => {\n",
       "          return comm_promise.then((comm) => {\n",
       "            comm.send(data, metadata, buffers, disposeOnDone);\n",
       "          });\n",
       "        };\n",
       "        var comm = {\n",
       "          send: sendClosure\n",
       "        };\n",
       "      }\n",
       "      window.PyViz.comms[comm_id] = comm;\n",
       "      return comm;\n",
       "    }\n",
       "    window.PyViz.comm_manager = new JupyterCommManager();\n",
       "    \n",
       "\n",
       "\n",
       "var JS_MIME_TYPE = 'application/javascript';\n",
       "var HTML_MIME_TYPE = 'text/html';\n",
       "var EXEC_MIME_TYPE = 'application/vnd.holoviews_exec.v0+json';\n",
       "var CLASS_NAME = 'output';\n",
       "\n",
       "/**\n",
       " * Render data to the DOM node\n",
       " */\n",
       "function render(props, node) {\n",
       "  var div = document.createElement(\"div\");\n",
       "  var script = document.createElement(\"script\");\n",
       "  node.appendChild(div);\n",
       "  node.appendChild(script);\n",
       "}\n",
       "\n",
       "/**\n",
       " * Handle when a new output is added\n",
       " */\n",
       "function handle_add_output(event, handle) {\n",
       "  var output_area = handle.output_area;\n",
       "  var output = handle.output;\n",
       "  if ((output.data == undefined) || (!output.data.hasOwnProperty(EXEC_MIME_TYPE))) {\n",
       "    return\n",
       "  }\n",
       "  var id = output.metadata[EXEC_MIME_TYPE][\"id\"];\n",
       "  var toinsert = output_area.element.find(\".\" + CLASS_NAME.split(' ')[0]);\n",
       "  if (id !== undefined) {\n",
       "    var nchildren = toinsert.length;\n",
       "    var html_node = toinsert[nchildren-1].children[0];\n",
       "    html_node.innerHTML = output.data[HTML_MIME_TYPE];\n",
       "    var scripts = [];\n",
       "    var nodelist = html_node.querySelectorAll(\"script\");\n",
       "    for (var i in nodelist) {\n",
       "      if (nodelist.hasOwnProperty(i)) {\n",
       "        scripts.push(nodelist[i])\n",
       "      }\n",
       "    }\n",
       "\n",
       "    scripts.forEach( function (oldScript) {\n",
       "      var newScript = document.createElement(\"script\");\n",
       "      var attrs = [];\n",
       "      var nodemap = oldScript.attributes;\n",
       "      for (var j in nodemap) {\n",
       "        if (nodemap.hasOwnProperty(j)) {\n",
       "          attrs.push(nodemap[j])\n",
       "        }\n",
       "      }\n",
       "      attrs.forEach(function(attr) { newScript.setAttribute(attr.name, attr.value) });\n",
       "      newScript.appendChild(document.createTextNode(oldScript.innerHTML));\n",
       "      oldScript.parentNode.replaceChild(newScript, oldScript);\n",
       "    });\n",
       "    if (JS_MIME_TYPE in output.data) {\n",
       "      toinsert[nchildren-1].children[1].textContent = output.data[JS_MIME_TYPE];\n",
       "    }\n",
       "    output_area._hv_plot_id = id;\n",
       "    if ((window.Bokeh !== undefined) && (id in Bokeh.index)) {\n",
       "      window.PyViz.plot_index[id] = Bokeh.index[id];\n",
       "    } else {\n",
       "      window.PyViz.plot_index[id] = null;\n",
       "    }\n",
       "  } else if (output.metadata[EXEC_MIME_TYPE][\"server_id\"] !== undefined) {\n",
       "    var bk_div = document.createElement(\"div\");\n",
       "    bk_div.innerHTML = output.data[HTML_MIME_TYPE];\n",
       "    var script_attrs = bk_div.children[0].attributes;\n",
       "    for (var i = 0; i < script_attrs.length; i++) {\n",
       "      toinsert[toinsert.length - 1].childNodes[1].setAttribute(script_attrs[i].name, script_attrs[i].value);\n",
       "    }\n",
       "    // store reference to server id on output_area\n",
       "    output_area._bokeh_server_id = output.metadata[EXEC_MIME_TYPE][\"server_id\"];\n",
       "  }\n",
       "}\n",
       "\n",
       "/**\n",
       " * Handle when an output is cleared or removed\n",
       " */\n",
       "function handle_clear_output(event, handle) {\n",
       "  var id = handle.cell.output_area._hv_plot_id;\n",
       "  var server_id = handle.cell.output_area._bokeh_server_id;\n",
       "  if (((id === undefined) || !(id in PyViz.plot_index)) && (server_id !== undefined)) { return; }\n",
       "  var comm = window.PyViz.comm_manager.get_client_comm(\"hv-extension-comm\", \"hv-extension-comm\", function () {});\n",
       "  if (server_id !== null) {\n",
       "    comm.send({event_type: 'server_delete', 'id': server_id});\n",
       "    return;\n",
       "  } else if (comm !== null) {\n",
       "    comm.send({event_type: 'delete', 'id': id});\n",
       "  }\n",
       "  delete PyViz.plot_index[id];\n",
       "  if ((window.Bokeh !== undefined) & (id in window.Bokeh.index)) {\n",
       "    var doc = window.Bokeh.index[id].model.document\n",
       "    doc.clear();\n",
       "    const i = window.Bokeh.documents.indexOf(doc);\n",
       "    if (i > -1) {\n",
       "      window.Bokeh.documents.splice(i, 1);\n",
       "    }\n",
       "  }\n",
       "}\n",
       "\n",
       "/**\n",
       " * Handle kernel restart event\n",
       " */\n",
       "function handle_kernel_cleanup(event, handle) {\n",
       "  delete PyViz.comms[\"hv-extension-comm\"];\n",
       "  window.PyViz.plot_index = {}\n",
       "}\n",
       "\n",
       "/**\n",
       " * Handle update_display_data messages\n",
       " */\n",
       "function handle_update_output(event, handle) {\n",
       "  handle_clear_output(event, {cell: {output_area: handle.output_area}})\n",
       "  handle_add_output(event, handle)\n",
       "}\n",
       "\n",
       "function register_renderer(events, OutputArea) {\n",
       "  function append_mime(data, metadata, element) {\n",
       "    // create a DOM node to render to\n",
       "    var toinsert = this.create_output_subarea(\n",
       "    metadata,\n",
       "    CLASS_NAME,\n",
       "    EXEC_MIME_TYPE\n",
       "    );\n",
       "    this.keyboard_manager.register_events(toinsert);\n",
       "    // Render to node\n",
       "    var props = {data: data, metadata: metadata[EXEC_MIME_TYPE]};\n",
       "    render(props, toinsert[0]);\n",
       "    element.append(toinsert);\n",
       "    return toinsert\n",
       "  }\n",
       "\n",
       "  events.on('output_added.OutputArea', handle_add_output);\n",
       "  events.on('output_updated.OutputArea', handle_update_output);\n",
       "  events.on('clear_output.CodeCell', handle_clear_output);\n",
       "  events.on('delete.Cell', handle_clear_output);\n",
       "  events.on('kernel_ready.Kernel', handle_kernel_cleanup);\n",
       "\n",
       "  OutputArea.prototype.register_mime_type(EXEC_MIME_TYPE, append_mime, {\n",
       "    safe: true,\n",
       "    index: 0\n",
       "  });\n",
       "}\n",
       "\n",
       "if (window.Jupyter !== undefined) {\n",
       "  try {\n",
       "    var events = require('base/js/events');\n",
       "    var OutputArea = require('notebook/js/outputarea').OutputArea;\n",
       "    if (OutputArea.prototype.mime_types().indexOf(EXEC_MIME_TYPE) == -1) {\n",
       "      register_renderer(events, OutputArea);\n",
       "    }\n",
       "  } catch(err) {\n",
       "  }\n",
       "}\n"
      ],
      "application/vnd.holoviews_load.v0+json": "\nif ((window.PyViz === undefined) || (window.PyViz instanceof HTMLElement)) {\n  window.PyViz = {comms: {}, comm_status:{}, kernels:{}, receivers: {}, plot_index: []}\n}\n\n\n    function JupyterCommManager() {\n    }\n\n    JupyterCommManager.prototype.register_target = function(plot_id, comm_id, msg_handler) {\n      if (window.comm_manager || ((window.Jupyter !== undefined) && (Jupyter.notebook.kernel != null))) {\n        var comm_manager = window.comm_manager || Jupyter.notebook.kernel.comm_manager;\n        comm_manager.register_target(comm_id, function(comm) {\n          comm.on_msg(msg_handler);\n        });\n      } else if ((plot_id in window.PyViz.kernels) && (window.PyViz.kernels[plot_id])) {\n        window.PyViz.kernels[plot_id].registerCommTarget(comm_id, function(comm) {\n          comm.onMsg = msg_handler;\n        });\n      } else if (typeof google != 'undefined' && google.colab.kernel != null) {\n        google.colab.kernel.comms.registerTarget(comm_id, (comm) => {\n          var messages = comm.messages[Symbol.asyncIterator]();\n          function processIteratorResult(result) {\n            var message = result.value;\n            console.log(message)\n            var content = {data: message.data, comm_id};\n            var buffers = []\n            for (var buffer of message.buffers || []) {\n              buffers.push(new DataView(buffer))\n            }\n            var metadata = message.metadata || {};\n            var msg = {content, buffers, metadata}\n            msg_handler(msg);\n            return messages.next().then(processIteratorResult);\n          }\n          return messages.next().then(processIteratorResult);\n        })\n      }\n    }\n\n    JupyterCommManager.prototype.get_client_comm = function(plot_id, comm_id, msg_handler) {\n      if (comm_id in window.PyViz.comms) {\n        return window.PyViz.comms[comm_id];\n      } else if (window.comm_manager || ((window.Jupyter !== undefined) && (Jupyter.notebook.kernel != null))) {\n        var comm_manager = window.comm_manager || Jupyter.notebook.kernel.comm_manager;\n        var comm = comm_manager.new_comm(comm_id, {}, {}, {}, comm_id);\n        if (msg_handler) {\n          comm.on_msg(msg_handler);\n        }\n      } else if ((plot_id in window.PyViz.kernels) && (window.PyViz.kernels[plot_id])) {\n        var comm = window.PyViz.kernels[plot_id].connectToComm(comm_id);\n        comm.open();\n        if (msg_handler) {\n          comm.onMsg = msg_handler;\n        }\n      } else if (typeof google != 'undefined' && google.colab.kernel != null) {\n        var comm_promise = google.colab.kernel.comms.open(comm_id)\n        comm_promise.then((comm) => {\n          window.PyViz.comms[comm_id] = comm;\n          if (msg_handler) {\n            var messages = comm.messages[Symbol.asyncIterator]();\n            function processIteratorResult(result) {\n              var message = result.value;\n              var content = {data: message.data};\n              var metadata = message.metadata || {comm_id};\n              var msg = {content, metadata}\n              msg_handler(msg);\n              return messages.next().then(processIteratorResult);\n            }\n            return messages.next().then(processIteratorResult);\n          }\n        }) \n        var sendClosure = (data, metadata, buffers, disposeOnDone) => {\n          return comm_promise.then((comm) => {\n            comm.send(data, metadata, buffers, disposeOnDone);\n          });\n        };\n        var comm = {\n          send: sendClosure\n        };\n      }\n      window.PyViz.comms[comm_id] = comm;\n      return comm;\n    }\n    window.PyViz.comm_manager = new JupyterCommManager();\n    \n\n\nvar JS_MIME_TYPE = 'application/javascript';\nvar HTML_MIME_TYPE = 'text/html';\nvar EXEC_MIME_TYPE = 'application/vnd.holoviews_exec.v0+json';\nvar CLASS_NAME = 'output';\n\n/**\n * Render data to the DOM node\n */\nfunction render(props, node) {\n  var div = document.createElement(\"div\");\n  var script = document.createElement(\"script\");\n  node.appendChild(div);\n  node.appendChild(script);\n}\n\n/**\n * Handle when a new output is added\n */\nfunction handle_add_output(event, handle) {\n  var output_area = handle.output_area;\n  var output = handle.output;\n  if ((output.data == undefined) || (!output.data.hasOwnProperty(EXEC_MIME_TYPE))) {\n    return\n  }\n  var id = output.metadata[EXEC_MIME_TYPE][\"id\"];\n  var toinsert = output_area.element.find(\".\" + CLASS_NAME.split(' ')[0]);\n  if (id !== undefined) {\n    var nchildren = toinsert.length;\n    var html_node = toinsert[nchildren-1].children[0];\n    html_node.innerHTML = output.data[HTML_MIME_TYPE];\n    var scripts = [];\n    var nodelist = html_node.querySelectorAll(\"script\");\n    for (var i in nodelist) {\n      if (nodelist.hasOwnProperty(i)) {\n        scripts.push(nodelist[i])\n      }\n    }\n\n    scripts.forEach( function (oldScript) {\n      var newScript = document.createElement(\"script\");\n      var attrs = [];\n      var nodemap = oldScript.attributes;\n      for (var j in nodemap) {\n        if (nodemap.hasOwnProperty(j)) {\n          attrs.push(nodemap[j])\n        }\n      }\n      attrs.forEach(function(attr) { newScript.setAttribute(attr.name, attr.value) });\n      newScript.appendChild(document.createTextNode(oldScript.innerHTML));\n      oldScript.parentNode.replaceChild(newScript, oldScript);\n    });\n    if (JS_MIME_TYPE in output.data) {\n      toinsert[nchildren-1].children[1].textContent = output.data[JS_MIME_TYPE];\n    }\n    output_area._hv_plot_id = id;\n    if ((window.Bokeh !== undefined) && (id in Bokeh.index)) {\n      window.PyViz.plot_index[id] = Bokeh.index[id];\n    } else {\n      window.PyViz.plot_index[id] = null;\n    }\n  } else if (output.metadata[EXEC_MIME_TYPE][\"server_id\"] !== undefined) {\n    var bk_div = document.createElement(\"div\");\n    bk_div.innerHTML = output.data[HTML_MIME_TYPE];\n    var script_attrs = bk_div.children[0].attributes;\n    for (var i = 0; i < script_attrs.length; i++) {\n      toinsert[toinsert.length - 1].childNodes[1].setAttribute(script_attrs[i].name, script_attrs[i].value);\n    }\n    // store reference to server id on output_area\n    output_area._bokeh_server_id = output.metadata[EXEC_MIME_TYPE][\"server_id\"];\n  }\n}\n\n/**\n * Handle when an output is cleared or removed\n */\nfunction handle_clear_output(event, handle) {\n  var id = handle.cell.output_area._hv_plot_id;\n  var server_id = handle.cell.output_area._bokeh_server_id;\n  if (((id === undefined) || !(id in PyViz.plot_index)) && (server_id !== undefined)) { return; }\n  var comm = window.PyViz.comm_manager.get_client_comm(\"hv-extension-comm\", \"hv-extension-comm\", function () {});\n  if (server_id !== null) {\n    comm.send({event_type: 'server_delete', 'id': server_id});\n    return;\n  } else if (comm !== null) {\n    comm.send({event_type: 'delete', 'id': id});\n  }\n  delete PyViz.plot_index[id];\n  if ((window.Bokeh !== undefined) & (id in window.Bokeh.index)) {\n    var doc = window.Bokeh.index[id].model.document\n    doc.clear();\n    const i = window.Bokeh.documents.indexOf(doc);\n    if (i > -1) {\n      window.Bokeh.documents.splice(i, 1);\n    }\n  }\n}\n\n/**\n * Handle kernel restart event\n */\nfunction handle_kernel_cleanup(event, handle) {\n  delete PyViz.comms[\"hv-extension-comm\"];\n  window.PyViz.plot_index = {}\n}\n\n/**\n * Handle update_display_data messages\n */\nfunction handle_update_output(event, handle) {\n  handle_clear_output(event, {cell: {output_area: handle.output_area}})\n  handle_add_output(event, handle)\n}\n\nfunction register_renderer(events, OutputArea) {\n  function append_mime(data, metadata, element) {\n    // create a DOM node to render to\n    var toinsert = this.create_output_subarea(\n    metadata,\n    CLASS_NAME,\n    EXEC_MIME_TYPE\n    );\n    this.keyboard_manager.register_events(toinsert);\n    // Render to node\n    var props = {data: data, metadata: metadata[EXEC_MIME_TYPE]};\n    render(props, toinsert[0]);\n    element.append(toinsert);\n    return toinsert\n  }\n\n  events.on('output_added.OutputArea', handle_add_output);\n  events.on('output_updated.OutputArea', handle_update_output);\n  events.on('clear_output.CodeCell', handle_clear_output);\n  events.on('delete.Cell', handle_clear_output);\n  events.on('kernel_ready.Kernel', handle_kernel_cleanup);\n\n  OutputArea.prototype.register_mime_type(EXEC_MIME_TYPE, append_mime, {\n    safe: true,\n    index: 0\n  });\n}\n\nif (window.Jupyter !== undefined) {\n  try {\n    var events = require('base/js/events');\n    var OutputArea = require('notebook/js/outputarea').OutputArea;\n    if (OutputArea.prototype.mime_types().indexOf(EXEC_MIME_TYPE) == -1) {\n      register_renderer(events, OutputArea);\n    }\n  } catch(err) {\n  }\n}\n"
     },
     "metadata": {},
     "output_type": "display_data"
    },
    {
     "data": {
      "text/html": [
       "<style>.bk-root, .bk-root .bk:before, .bk-root .bk:after {\n",
       "  font-family: var(--jp-ui-font-size1);\n",
       "  font-size: var(--jp-ui-font-size1);\n",
       "  color: var(--jp-ui-font-color1);\n",
       "}\n",
       "</style>"
      ]
     },
     "metadata": {},
     "output_type": "display_data"
    }
   ],
   "source": [
    "# criando funções específicas para interação via chatbot\n",
    "\n",
    "def collect_messages(_):\n",
    "    prompt = inp.value_input\n",
    "    inp.value = ''\n",
    "    context.append({'role':'user', 'content':f\"{prompt}\"})\n",
    "    response = get_completion_from_messages(context) \n",
    "    context.append({'role':'assistant', 'content':f\"{response}\"})\n",
    "    panels.append(\n",
    "        pn.Row('User:', pn.pane.Markdown(prompt, width=600)))\n",
    "    panels.append(\n",
    "        pn.Row('Assistant:', pn.pane.Markdown(response, width=600, style={'background-color': '#F6F6F6'})))\n",
    " \n",
    "    return pn.Column(*panels)\n",
    "\n",
    "def get_completion_from_messages(messages, model=\"gpt-3.5-turbo\", temperature=0):\n",
    "    response = openai.ChatCompletion.create(\n",
    "        model=model,\n",
    "        messages=messages,\n",
    "        temperature=temperature, # this is the degree of randomness of the model's output\n",
    "    )\n",
    "#     print(str(response.choices[0].message))\n",
    "    return response.choices[0].message[\"content\"]\n",
    "\n",
    "import panel as pn  # GUI\n",
    "pn.extension()\n",
    "\n",
    "panels = [] # collect display \n"
   ]
  },
  {
   "cell_type": "code",
   "execution_count": 3,
   "id": "e21e8c6b",
   "metadata": {},
   "outputs": [],
   "source": [
    "# DPAL\n",
    "documentos_necessarios = \"\"\" \n",
    "\n",
    "AÇÕES CÍVEIS :: ADJUDICAÇÃO COMPULSÓRIA\n",
    "\n",
    "    Cópia da Carteira de Identidade e CPF do requerente\n",
    "    Comprovante de renda (cópia do contracheque, benefício do INSS, declaração de isento do IR ou declaração de IR)\n",
    "    Cópia de comprovante de residência (conta de água, luz ou telefone)\n",
    "    Certidão de casamento do adquirente ou herdeiro\n",
    "    Certidão de óbito\n",
    "    Cópia do Contrato de Compra e venda – Escritura do imóvel ou Cessão de Direitos.\n",
    "    Qualificação do herdeiro de quem vendeu\n",
    "    Comprovante de quitação total (recibos)\n",
    "\n",
    "AÇÕES CÍVEIS :: COBRANÇA DE DÍVIDA\n",
    "\n",
    "    Cópia da Carteira de Identidade e CPF do requerente\n",
    "    Comprovante de renda (cópia do contracheque, benefício do INSS, declaração de isento do IR ou declaração de IR)\n",
    "    Cópia de comprovante de residência (conta de água, luz ou telefone)\n",
    "    Cópia dos documentos que comprovam a existência da dívida\n",
    "    Nome e endereço do devedor\n",
    "\n",
    "AÇÕES CÍVEIS :: CONSIGNAÇÃO EM PAGAMENTO\n",
    "\n",
    "    Cópia da Carteira de Identidade e CPF do requerente\n",
    "    Comprovante de renda (cópia do contracheque, benefício do INSS, declaração de isento do IR ou declaração de IR)\n",
    "    Cópia de comprovante de residência (conta de água, luz ou telefone)\n",
    "    Cópia dos documentos que demonstrem a dívida\n",
    "    Informar o motivo da recusa do credor em receber ou dificuldade de fazer o pagamento e qual quantia deseja depositar\n",
    "    Nome e endereço do credor\n",
    "\n",
    "AÇÕES CÍVEIS :: DEMOLITÓRIA\n",
    "\n",
    "    Cópia da Carteira de Identidade e CPF do requerente\n",
    "    Comprovante de renda (cópia do contracheque, benefício do INSS, declaração de isento do IR ou declaração de IR)\n",
    "    Cópia de comprovante de residência (conta de água, luz ou telefone)\n",
    "    Cópia do contrato de compra e venda do imóvel ou escritura pública\n",
    "    Laudo técnico (se houver)\n",
    "    Nome e endereço do requerido\n",
    "    Nome e endereço de 03 (três) testemunhas\n",
    "    Fotografias do que pretende demolir\n",
    "\n",
    "AÇÕES CÍVEIS :: DESPEJO PARA FALTA DE PAGAMENTO\n",
    "\n",
    "    Cópia da Carteira de Identidade e CPF do requerente\n",
    "    Comprovante de renda (cópia do contracheque, benefício do INSS, declaração de isento do IR ou declaração de IR)\n",
    "    Cópia de comprovante de residência (conta de água, luz ou telefone)\n",
    "    Cópia do contrato de locação\n",
    "    Nome e endereço do inquilino (locatário)\n",
    "\"\"\""
   ]
  },
  {
   "cell_type": "code",
   "execution_count": 4,
   "id": "16cb6d88",
   "metadata": {
    "scrolled": false
   },
   "outputs": [
    {
     "data": {},
     "metadata": {},
     "output_type": "display_data"
    },
    {
     "data": {
      "application/vnd.holoviews_exec.v0+json": "",
      "text/html": [
       "<div id='1002'>\n",
       "  <div class=\"bk-root\" id=\"2c8b13d7-75ac-4803-bc5b-34258f489e77\" data-root-id=\"1002\"></div>\n",
       "</div>\n",
       "<script type=\"application/javascript\">(function(root) {\n",
       "  function embed_document(root) {\n",
       "    var docs_json = {\"bcddfa4c-d936-403f-84ab-423a07a3d614\":{\"defs\":[{\"extends\":null,\"module\":null,\"name\":\"ReactiveHTML1\",\"overrides\":[],\"properties\":[]},{\"extends\":null,\"module\":null,\"name\":\"FlexBox1\",\"overrides\":[],\"properties\":[{\"default\":\"flex-start\",\"kind\":null,\"name\":\"align_content\"},{\"default\":\"flex-start\",\"kind\":null,\"name\":\"align_items\"},{\"default\":\"row\",\"kind\":null,\"name\":\"flex_direction\"},{\"default\":\"wrap\",\"kind\":null,\"name\":\"flex_wrap\"},{\"default\":\"flex-start\",\"kind\":null,\"name\":\"justify_content\"}]},{\"extends\":null,\"module\":null,\"name\":\"GridStack1\",\"overrides\":[],\"properties\":[{\"default\":\"warn\",\"kind\":null,\"name\":\"mode\"},{\"default\":null,\"kind\":null,\"name\":\"ncols\"},{\"default\":null,\"kind\":null,\"name\":\"nrows\"},{\"default\":true,\"kind\":null,\"name\":\"allow_resize\"},{\"default\":true,\"kind\":null,\"name\":\"allow_drag\"},{\"default\":[],\"kind\":null,\"name\":\"state\"}]},{\"extends\":null,\"module\":null,\"name\":\"click1\",\"overrides\":[],\"properties\":[{\"default\":\"\",\"kind\":null,\"name\":\"terminal_output\"},{\"default\":\"\",\"kind\":null,\"name\":\"debug_name\"},{\"default\":0,\"kind\":null,\"name\":\"clears\"}]},{\"extends\":null,\"module\":null,\"name\":\"NotificationAreaBase1\",\"overrides\":[],\"properties\":[{\"default\":\"bottom-right\",\"kind\":null,\"name\":\"position\"},{\"default\":0,\"kind\":null,\"name\":\"_clear\"}]},{\"extends\":null,\"module\":null,\"name\":\"NotificationArea1\",\"overrides\":[],\"properties\":[{\"default\":[],\"kind\":null,\"name\":\"notifications\"},{\"default\":\"bottom-right\",\"kind\":null,\"name\":\"position\"},{\"default\":0,\"kind\":null,\"name\":\"_clear\"},{\"default\":[{\"background\":\"#ffc107\",\"icon\":{\"className\":\"fas fa-exclamation-triangle\",\"color\":\"white\",\"tagName\":\"i\"},\"type\":\"warning\"},{\"background\":\"#007bff\",\"icon\":{\"className\":\"fas fa-info-circle\",\"color\":\"white\",\"tagName\":\"i\"},\"type\":\"info\"}],\"kind\":null,\"name\":\"types\"}]},{\"extends\":null,\"module\":null,\"name\":\"Notification\",\"overrides\":[],\"properties\":[{\"default\":null,\"kind\":null,\"name\":\"background\"},{\"default\":3000,\"kind\":null,\"name\":\"duration\"},{\"default\":null,\"kind\":null,\"name\":\"icon\"},{\"default\":\"\",\"kind\":null,\"name\":\"message\"},{\"default\":null,\"kind\":null,\"name\":\"notification_type\"},{\"default\":false,\"kind\":null,\"name\":\"_destroyed\"}]},{\"extends\":null,\"module\":null,\"name\":\"TemplateActions1\",\"overrides\":[],\"properties\":[{\"default\":0,\"kind\":null,\"name\":\"open_modal\"},{\"default\":0,\"kind\":null,\"name\":\"close_modal\"}]},{\"extends\":null,\"module\":null,\"name\":\"MaterialTemplateActions1\",\"overrides\":[],\"properties\":[{\"default\":0,\"kind\":null,\"name\":\"open_modal\"},{\"default\":0,\"kind\":null,\"name\":\"close_modal\"}]}],\"roots\":{\"references\":[{\"attributes\":{\"css_classes\":[\"markdown\"],\"margin\":[5,5,5,5],\"name\":\"Markdown00112\",\"text\":\"&lt;p&gt;User:&lt;/p&gt;\"},\"id\":\"1009\",\"type\":\"panel.models.markup.HTML\"},{\"attributes\":{\"icon\":null,\"js_event_callbacks\":{\"button_click\":[{\"id\":\"1014\"}]},\"label\":\"Enviar\",\"margin\":[5,10,5,10],\"subscribed_events\":[\"button_click\"]},\"id\":\"1005\",\"type\":\"Button\"},{\"attributes\":{\"children\":[{\"id\":\"1012\"},{\"id\":\"1013\"}],\"margin\":[0,0,0,0],\"name\":\"Row00119\"},\"id\":\"1011\",\"type\":\"Row\"},{\"attributes\":{\"css_classes\":[\"markdown\"],\"margin\":[5,5,5,5],\"name\":\"Markdown00110\",\"width\":600},\"id\":\"1010\",\"type\":\"panel.models.markup.HTML\"},{\"attributes\":{\"margin\":[5,10,5,10],\"max_length\":5000,\"placeholder\":\"Escreva aqui a sua demanda ou solicita\\u00e7\\u00e3o...\"},\"id\":\"1003\",\"type\":\"TextInput\"},{\"attributes\":{\"children\":[{\"id\":\"1009\"},{\"id\":\"1010\"}],\"margin\":[0,0,0,0],\"name\":\"Row00114\"},\"id\":\"1008\",\"type\":\"Row\"},{\"attributes\":{\"children\":[{\"id\":\"1005\"}],\"margin\":[0,0,0,0],\"name\":\"Row00103\"},\"id\":\"1004\",\"type\":\"Row\"},{\"attributes\":{\"children\":[{\"id\":\"1007\"}],\"height\":900,\"margin\":[0,0,0,0],\"min_height\":900,\"name\":\"Row00108\"},\"id\":\"1006\",\"type\":\"Row\"},{\"attributes\":{\"args\":{\"bidirectional\":false,\"properties\":{\"event:button_click\":\"loading\"},\"source\":{\"id\":\"1005\"},\"target\":{\"id\":\"1006\"}},\"code\":\"\\n    if ('event:button_click'.startsWith('event:')) {\\n      var value = true\\n    } else {\\n      var value = source['event:button_click'];\\n      value = value;\\n    }\\n    if (typeof value !== 'boolean' || source.labels !== ['Loading']) {\\n      value = true\\n    }\\n    var css_classes = target.css_classes.slice()\\n    var loading_css = ['pn-loading', 'arc']\\n    if (value) {\\n      for (var css of loading_css) {\\n        if (!(css in css_classes)) {\\n          css_classes.push(css)\\n        }\\n      }\\n    } else {\\n     for (var css of loading_css) {\\n        var index = css_classes.indexOf(css)\\n        if (index > -1) {\\n          css_classes.splice(index, 1)\\n        }\\n      }\\n    }\\n    target['css_classes'] = css_classes\\n    \",\"tags\":[[4611949648,[null,\"event:button_click\"],[null,\"loading\"]]]},\"id\":\"1014\",\"type\":\"CustomJS\"},{\"attributes\":{\"css_classes\":[\"markdown\"],\"margin\":[5,5,5,5],\"name\":\"Markdown00117\",\"text\":\"&lt;p&gt;Assistant:&lt;/p&gt;\"},\"id\":\"1012\",\"type\":\"panel.models.markup.HTML\"},{\"attributes\":{\"children\":[{\"id\":\"1008\"},{\"id\":\"1011\"}],\"margin\":[0,0,0,0],\"name\":\"Column00120\"},\"id\":\"1007\",\"type\":\"Column\"},{\"attributes\":{\"client_comm_id\":\"8b4a01fe3d4c47d8854bfdb92db6b5f3\",\"comm_id\":\"e07527b3fd9f4b1baaf091d0eb1fe9ac\",\"plot_id\":\"1002\"},\"id\":\"1015\",\"type\":\"panel.models.comm_manager.CommManager\"},{\"attributes\":{\"children\":[{\"id\":\"1003\"},{\"id\":\"1004\"},{\"id\":\"1006\"}],\"margin\":[0,0,0,0],\"name\":\"Column00122\"},\"id\":\"1002\",\"type\":\"Column\"},{\"attributes\":{\"reload\":false},\"id\":\"1016\",\"type\":\"panel.models.location.Location\"},{\"attributes\":{\"css_classes\":[\"markdown\"],\"margin\":[5,5,5,5],\"name\":\"Markdown00115\",\"style\":{\"background-color\":\"#F6F6F6\"},\"text\":\"&lt;p&gt;Ol\\u00e1! Seja bem-vindo \\u00e0 Defensoria P\\u00fablica. Qual \\u00e9 o seu nome e como posso ajud\\u00e1-lo?&lt;/p&gt;\",\"width\":600},\"id\":\"1013\",\"type\":\"panel.models.markup.HTML\"}],\"root_ids\":[\"1002\",\"1015\",\"1016\"]},\"title\":\"Bokeh Application\",\"version\":\"2.4.3\"}};\n",
       "    var render_items = [{\"docid\":\"bcddfa4c-d936-403f-84ab-423a07a3d614\",\"root_ids\":[\"1002\"],\"roots\":{\"1002\":\"2c8b13d7-75ac-4803-bc5b-34258f489e77\"}}];\n",
       "    root.Bokeh.embed.embed_items_notebook(docs_json, render_items);\n",
       "    for (const render_item of render_items) {\n",
       "      for (const root_id of render_item.root_ids) {\n",
       "\tconst id_el = document.getElementById(root_id)\n",
       "\tif (id_el.children.length && (id_el.children[0].className === 'bk-root')) {\n",
       "\t  const root_el = id_el.children[0]\n",
       "\t  root_el.id = root_el.id + '-rendered'\n",
       "\t}\n",
       "      }\n",
       "    }\n",
       "  }\n",
       "  if (root.Bokeh !== undefined && root.Bokeh.Panel !== undefined) {\n",
       "    embed_document(root);\n",
       "  } else {\n",
       "    var attempts = 0;\n",
       "    var timer = setInterval(function(root) {\n",
       "      if (root.Bokeh !== undefined && root.Bokeh.Panel !== undefined) {\n",
       "        clearInterval(timer);\n",
       "        embed_document(root);\n",
       "      } else if (document.readyState == \"complete\") {\n",
       "        attempts++;\n",
       "        if (attempts > 200) {\n",
       "          clearInterval(timer);\n",
       "          console.log(\"Bokeh: ERROR: Unable to run BokehJS code because BokehJS library is missing\");\n",
       "        }\n",
       "      }\n",
       "    }, 25, root)\n",
       "  }\n",
       "})(window);</script>"
      ],
      "text/plain": [
       "Column\n",
       "    [0] TextInput(placeholder='Escreva aqui a...)\n",
       "    [1] Row\n",
       "        [0] Button(name='Enviar')\n",
       "    [2] ParamFunction(function, _pane=Column, height=900, loading_indicator=True)"
      ]
     },
     "execution_count": 4,
     "metadata": {
      "application/vnd.holoviews_exec.v0+json": {
       "id": "1002"
      }
     },
     "output_type": "execute_result"
    }
   ],
   "source": [
    "# contexto do chatbot, aqui você personaliza o chatbot com todas as regras do fluxo de processo\n",
    "context = [ {'role':'system', 'content':f\"\"\"\n",
    "Você é um chatbot de atendimento de pessoas assistidas pela Defensoria Pública. \\\n",
    "Seu objetivo é instruir o assistido com a lista de documentos necessários para que \\\n",
    "o assistido possa ser encaminhado para atendimento com um defensor público. \\\n",
    "Seja cordial e empático. \\\n",
    "Primeiramente, cumprimente o assistido, pergunte seu nome e pergunte qual é a sua demanda. \\\n",
    "Em alguns casos específicos, forneça a lista de documentos que o assistido deve providenciar. \\\n",
    "Esse casos específicos são descritos no documento entre aspas triplas \"```\", onde cada tipo de \\\n",
    "ação judicial vai exigir uma lista de documentos. \\\n",
    "Em relação aos casos específicos, não conclua o atendimento até que o assistido receba a lista \\\n",
    "de documentos necessários para entrar com uma ação judicial. \\\n",
    "Para os demais casos não específicos, não forneça a lista de documentos necessários. \\\n",
    "Após cumprir os requisitos citados anteriormente, encaminhe o assistido para atendimento presencial \\\n",
    "com defensor público no endereço \"Av. 2 de julho, n. 20\". \\\n",
    "Para o encaminhamento do assisitdo para um defensor público, é necessário coletar todas essas \\\n",
    "informações sobre o assistido: nome e contato. \\\n",
    "Outro critério necessário para que você possa encaminhar o assisitido a um defensor público é que  \\\n",
    "a renda mensal do assistido seja inferior a 3 salários mínimos, ou seja, R$ 3.960. \\\n",
    "```\n",
    "{documentos_necessarios}\n",
    "```\n",
    "\"\"\"} ]\n",
    "\n",
    "\n",
    "inp = pn.widgets.TextInput(value=\"Olá, sou o assistente virtual da Defensoria Pública! Como poderia te ajudar?\", \n",
    "                           placeholder='Escreva aqui a sua demanda ou solicitação...')\n",
    "button_conversation = pn.widgets.Button(name=\"Enviar\")\n",
    "\n",
    "interactive_conversation = pn.bind(collect_messages, button_conversation)\n",
    "\n",
    "dashboard = pn.Column(\n",
    "    inp,\n",
    "    pn.Row(button_conversation),\n",
    "    pn.panel(interactive_conversation, loading_indicator=True, height=900),\n",
    ")\n",
    "\n",
    "dashboard"
   ]
  },
  {
   "cell_type": "markdown",
   "id": "025c80bc",
   "metadata": {},
   "source": [
    "### Sua vez :-)\n",
    "\n",
    "1. Modifique o exemplo do chatbot para o atendimento de clientes de um escritório especializado em Direito Tributário e adeque as regras de acordo com o fluxo de processo desse escritório\n",
    "2. Modifique o exemplo do chatbot para o agendamento de atendimento de uma parte com o um magistrado, crie as regras que for necessárias para os critérios de atendimento da Vara"
   ]
  },
  {
   "cell_type": "markdown",
   "id": "74c2a2a3",
   "metadata": {},
   "source": [
    "## 3. Elaboração de documentos jurídicos\n",
    "\n",
    "### 3.1 Elaboração de Petição Inicial\n",
    "\n",
    "- Mulher divorciada com renda de um salário mínimo\n",
    "- Fiho menor com deficiência física\n",
    "\n",
    "Vamos começar com a abordagem ingênua:\n"
   ]
  },
  {
   "cell_type": "code",
   "execution_count": 50,
   "id": "5a80fefe",
   "metadata": {
    "scrolled": false
   },
   "outputs": [
    {
     "data": {
      "text/markdown": [
       "### Prompt"
      ],
      "text/plain": [
       "<IPython.core.display.Markdown object>"
      ]
     },
     "metadata": {},
     "output_type": "display_data"
    },
    {
     "name": "stdout",
     "output_type": "stream",
     "text": [
      "\n",
      "Prepare uma petição inicial para o pagamento de pensão alimentícia para menor com deficiência física.\n",
      "\n",
      "\n"
     ]
    },
    {
     "data": {
      "text/markdown": [
       "### Resposta"
      ],
      "text/plain": [
       "<IPython.core.display.Markdown object>"
      ]
     },
     "metadata": {},
     "output_type": "display_data"
    },
    {
     "data": {
      "text/markdown": [
       "EXCELENTÍSSIMO SENHOR JUIZ DE DIREITO DA VARA DE FAMÍLIA DA COMARCA DE [CIDADE/ESTADO]\n",
       "\n",
       "[NOME DO REQUERENTE], brasileiro, [estado civil], [profissão], portador do RG nº [número do RG] e CPF nº [número do CPF], residente e domiciliado na [endereço completo], vem, por meio de seu advogado [nome do advogado], inscrito na OAB/[estado] sob o nº [número da inscrição], com escritório profissional na [endereço completo], onde recebe intimações, propor a presente\n",
       "\n",
       "AÇÃO DE ALIMENTOS\n",
       "\n",
       "em face de [NOME DO REQUERIDO], brasileiro, [estado civil], [profissão], portador do RG nº [número do RG] e CPF nº [número do CPF], residente e domiciliado na [endereço completo], pelos motivos de fato e de direito a seguir expostos:\n",
       "\n",
       "I – DOS FATOS\n",
       "\n",
       "O requerente é pai do menor [NOME DO MENOR], nascido em [DATA DE NASCIMENTO], portador de deficiência física, conforme atestado médico anexo.\n",
       "\n",
       "O requerido é o genitor do menor e, apesar de ter a obrigação legal de prestar alimentos ao filho, não vem cumprindo com tal obrigação, deixando o requerente em situação de extrema dificuldade financeira para arcar com as despesas do menor.\n",
       "\n",
       "O requerente, por sua vez, não possui condições financeiras para arcar sozinho com todas as despesas do menor, que necessita de cuidados especiais em razão de sua deficiência física.\n",
       "\n",
       "II – DO DIREITO\n",
       "\n",
       "O direito à pensão alimentícia é garantido pela Constituição Federal, em seu artigo 227, que estabelece a obrigação dos pais de prestar assistência material aos filhos.\n",
       "\n",
       "Além disso, o Código Civil, em seu artigo 1.694, estabelece que os pais têm o dever de prestar alimentos aos filhos, de acordo com suas possibilidades e necessidades.\n",
       "\n",
       "No caso em questão, o menor é portador de deficiência física, o que implica em maiores gastos com tratamentos médicos, medicamentos, fisioterapia, entre outros, o que torna ainda mais necessária a prestação de alimentos pelo requerido.\n",
       "\n",
       "III – DO PEDIDO\n",
       "\n",
       "Diante do exposto, requer o requerente:\n",
       "\n",
       "a) A concessão de alimentos em favor do menor [NOME DO MENOR], no valor correspondente a [VALOR DA PENSÃO], a ser pago mensalmente pelo requerido;\n",
       "\n",
       "b) A intimação do requerido para, querendo, apresentar resposta no prazo legal;\n",
       "\n",
       "c) A produção de todas as provas admitidas em direito, especialmente a documental e a testemunhal;\n",
       "\n",
       "d) A condenação do requerido ao pagamento das custas processuais e honorários advocatícios.\n",
       "\n",
       "IV – DO VALOR DA CAUSA\n",
       "\n",
       "Dá-se à causa o valor de [VALOR DA PENSÃO], para fins fiscais e de alçada.\n",
       "\n",
       "Nestes termos, pede deferimento.\n",
       "\n",
       "[LOCAL], [DATA]\n",
       "\n",
       "[NOME DO ADVOGADO]\n",
       "\n",
       "OAB/[ESTADO] nº [NÚMERO DA INSCRIÇÃO]"
      ],
      "text/plain": [
       "<IPython.core.display.Markdown object>"
      ]
     },
     "metadata": {},
     "output_type": "display_data"
    },
    {
     "name": "stdout",
     "output_type": "stream",
     "text": [
      "EXCELENTÍSSIMO SENHOR JUIZ DE DIREITO DA VARA DE FAMÍLIA DA COMARCA DE [CIDADE/ESTADO]\n",
      "\n",
      "[NOME DO REQUERENTE], brasileiro, [estado civil], [profissão], portador do RG nº [número do RG] e CPF nº [número do CPF], residente e domiciliado na [endereço completo], vem, por meio de seu advogado [nome do advogado], inscrito na OAB/[estado] sob o nº [número da inscrição], com escritório profissional na [endereço completo], onde recebe intimações, propor a presente\n",
      "\n",
      "AÇÃO DE ALIMENTOS\n",
      "\n",
      "em face de [NOME DO REQUERIDO], brasileiro, [estado civil], [profissão], portador do RG nº [número do RG] e CPF nº [número do CPF], residente e domiciliado na [endereço completo], pelos motivos de fato e de direito a seguir expostos:\n",
      "\n",
      "I – DOS FATOS\n",
      "\n",
      "O requerente é pai do menor [NOME DO MENOR], nascido em [DATA DE NASCIMENTO], portador de deficiência física, conforme atestado médico anexo.\n",
      "\n",
      "O requerido é o genitor do menor e, apesar de ter a obrigação legal de prestar alimentos ao filho, não vem cumprindo com tal obrigação, deixando o requerente em situação de extrema dificuldade financeira para arcar com as despesas do menor.\n",
      "\n",
      "O requerente, por sua vez, não possui condições financeiras para arcar sozinho com todas as despesas do menor, que necessita de cuidados especiais em razão de sua deficiência física.\n",
      "\n",
      "II – DO DIREITO\n",
      "\n",
      "O direito à pensão alimentícia é garantido pela Constituição Federal, em seu artigo 227, que estabelece a obrigação dos pais de prestar assistência material aos filhos.\n",
      "\n",
      "Além disso, o Código Civil, em seu artigo 1.694, estabelece que os pais têm o dever de prestar alimentos aos filhos, de acordo com suas possibilidades e necessidades.\n",
      "\n",
      "No caso em questão, o menor é portador de deficiência física, o que implica em maiores gastos com tratamentos médicos, medicamentos, fisioterapia, entre outros, o que torna ainda mais necessária a prestação de alimentos pelo requerido.\n",
      "\n",
      "III – DO PEDIDO\n",
      "\n",
      "Diante do exposto, requer o requerente:\n",
      "\n",
      "a) A concessão de alimentos em favor do menor [NOME DO MENOR], no valor correspondente a [VALOR DA PENSÃO], a ser pago mensalmente pelo requerido;\n",
      "\n",
      "b) A intimação do requerido para, querendo, apresentar resposta no prazo legal;\n",
      "\n",
      "c) A produção de todas as provas admitidas em direito, especialmente a documental e a testemunhal;\n",
      "\n",
      "d) A condenação do requerido ao pagamento das custas processuais e honorários advocatícios.\n",
      "\n",
      "IV – DO VALOR DA CAUSA\n",
      "\n",
      "Dá-se à causa o valor de [VALOR DA PENSÃO], para fins fiscais e de alçada.\n",
      "\n",
      "Nestes termos, pede deferimento.\n",
      "\n",
      "[LOCAL], [DATA]\n",
      "\n",
      "[NOME DO ADVOGADO]\n",
      "\n",
      "OAB/[ESTADO] nº [NÚMERO DA INSCRIÇÃO]\n"
     ]
    }
   ],
   "source": [
    "prompt = f\"\"\"\n",
    "Prepare uma petição inicial para o pagamento de pensão alimentícia para menor com deficiência física.\n",
    "\n",
    "\"\"\"\n",
    "\n",
    "print_prompt_answer(prompt)"
   ]
  },
  {
   "cell_type": "markdown",
   "id": "90ab6652",
   "metadata": {},
   "source": [
    "### Analizando o prompt\n",
    "\n",
    "- Agora, vamos especificar melhor de acordo com as peculiaridades deste caso fictício..."
   ]
  },
  {
   "cell_type": "code",
   "execution_count": 51,
   "id": "1df5e7fc",
   "metadata": {
    "scrolled": false
   },
   "outputs": [
    {
     "data": {
      "text/markdown": [
       "### Prompt"
      ],
      "text/plain": [
       "<IPython.core.display.Markdown object>"
      ]
     },
     "metadata": {},
     "output_type": "display_data"
    },
    {
     "name": "stdout",
     "output_type": "stream",
     "text": [
      "\n",
      "Prepare uma petição inicial para o pagamento de pensão alimentícia. \n",
      "Leve em consideração as seguintes informações: \n",
      "- A petição será encaminhada para a Vara da Família do TJSP. \\ \n",
      "- A solicitante é uma mulher divorciada cuja renda é de um salário mínimo. - A solicitante tem um filho menor com deficiência física. - Saiba que o salário do pai é de R$ 5.000 e ele nunca pagou a pensão alimentícia. - Atue como um advogado especializado em Direito da Família. \n",
      "\n"
     ]
    },
    {
     "data": {
      "text/markdown": [
       "### Resposta"
      ],
      "text/plain": [
       "<IPython.core.display.Markdown object>"
      ]
     },
     "metadata": {},
     "output_type": "display_data"
    },
    {
     "data": {
      "text/markdown": [
       "EXCELENTÍSSIMO SENHOR JUIZ DE DIREITO DA VARA DA FAMÍLIA DO TRIBUNAL DE JUSTIÇA DO ESTADO DE SÃO PAULO\n",
       "\n",
       "NOME DA SOLICITANTE, brasileira, divorciada, portadora do RG nº XXXXXXXX e do CPF nº XXXXXXXX, residente e domiciliada na Rua XXXXXXXX, nº XX, Bairro XXXXXXXX, Cidade XXXXXXXX, Estado XXXXXXXX, por meio de seu advogado infra-assinado, vem, respeitosamente, à presença de Vossa Excelência, propor a presente\n",
       "\n",
       "AÇÃO DE ALIMENTOS\n",
       "\n",
       "em face de NOME DO PAI, brasileiro, portador do RG nº XXXXXXXX e do CPF nº XXXXXXXX, residente e domiciliado na Rua XXXXXXXX, nº XX, Bairro XXXXXXXX, Cidade XXXXXXXX, Estado XXXXXXXX, pelos motivos de fato e de direito a seguir expostos:\n",
       "\n",
       "I – DOS FATOS\n",
       "\n",
       "A requerente é mãe de um filho menor, portador de deficiência física, fruto do relacionamento com o requerido. O casal se divorciou em XX/XX/XXXX, e ficou acordado que o requerido pagaria pensão alimentícia ao filho no valor de R$ XXX,XX (XXXXX reais) mensais.\n",
       "\n",
       "No entanto, o requerido nunca cumpriu com sua obrigação alimentar, deixando a requerente e seu filho em situação de extrema vulnerabilidade financeira. A requerente, por sua vez, possui renda mensal de apenas um salário mínimo, o que não é suficiente para arcar com as despesas do filho.\n",
       "\n",
       "O requerido, por sua vez, possui renda mensal de R$ 5.000,00 (cinco mil reais), conforme comprovante de rendimentos anexado.\n",
       "\n",
       "II – DO DIREITO\n",
       "\n",
       "A obrigação alimentar é um dever recíproco entre pais e filhos, previsto no artigo 229 da Constituição Federal e nos artigos 1.694 a 1.710 do Código Civil. O objetivo é garantir a subsistência do alimentando, assegurando-lhe condições dignas de vida.\n",
       "\n",
       "No caso em tela, o requerido tem o dever de prestar alimentos ao filho menor, conforme acordado no divórcio. O não pagamento da pensão alimentícia configura ato ilícito, passível de sanções civis e criminais.\n",
       "\n",
       "III – DO PEDIDO\n",
       "\n",
       "Diante do exposto, requer a Vossa Excelência:\n",
       "\n",
       "a) A citação do requerido para, querendo, apresentar resposta no prazo legal;\n",
       "\n",
       "b) A condenação do requerido ao pagamento de pensão alimentícia ao filho menor, no valor de R$ XXX,XX (XXXXX reais) mensais, a ser depositado na conta bancária da requerente, a partir da citação;\n",
       "\n",
       "c) A fixação de alimentos provisórios no valor de R$ XXX,XX (XXXXX reais) mensais, a serem pagos pelo requerido até o julgamento final da presente ação;\n",
       "\n",
       "d) A condenação do requerido ao pagamento das custas processuais e honorários advocatícios.\n",
       "\n",
       "IV – DO VALOR DA CAUSA\n",
       "\n",
       "Dá-se à causa o valor de R$ XXX,XX (XXXXX reais), para fins fiscais e de alçada.\n",
       "\n",
       "Nestes termos, pede deferimento.\n",
       "\n",
       "Local, data.\n",
       "\n",
       "Advogado XXXXXXXX\n",
       "\n",
       "OAB/XX nº XXXXXXXX"
      ],
      "text/plain": [
       "<IPython.core.display.Markdown object>"
      ]
     },
     "metadata": {},
     "output_type": "display_data"
    },
    {
     "name": "stdout",
     "output_type": "stream",
     "text": [
      "EXCELENTÍSSIMO SENHOR JUIZ DE DIREITO DA VARA DA FAMÍLIA DO TRIBUNAL DE JUSTIÇA DO ESTADO DE SÃO PAULO\n",
      "\n",
      "NOME DA SOLICITANTE, brasileira, divorciada, portadora do RG nº XXXXXXXX e do CPF nº XXXXXXXX, residente e domiciliada na Rua XXXXXXXX, nº XX, Bairro XXXXXXXX, Cidade XXXXXXXX, Estado XXXXXXXX, por meio de seu advogado infra-assinado, vem, respeitosamente, à presença de Vossa Excelência, propor a presente\n",
      "\n",
      "AÇÃO DE ALIMENTOS\n",
      "\n",
      "em face de NOME DO PAI, brasileiro, portador do RG nº XXXXXXXX e do CPF nº XXXXXXXX, residente e domiciliado na Rua XXXXXXXX, nº XX, Bairro XXXXXXXX, Cidade XXXXXXXX, Estado XXXXXXXX, pelos motivos de fato e de direito a seguir expostos:\n",
      "\n",
      "I – DOS FATOS\n",
      "\n",
      "A requerente é mãe de um filho menor, portador de deficiência física, fruto do relacionamento com o requerido. O casal se divorciou em XX/XX/XXXX, e ficou acordado que o requerido pagaria pensão alimentícia ao filho no valor de R$ XXX,XX (XXXXX reais) mensais.\n",
      "\n",
      "No entanto, o requerido nunca cumpriu com sua obrigação alimentar, deixando a requerente e seu filho em situação de extrema vulnerabilidade financeira. A requerente, por sua vez, possui renda mensal de apenas um salário mínimo, o que não é suficiente para arcar com as despesas do filho.\n",
      "\n",
      "O requerido, por sua vez, possui renda mensal de R$ 5.000,00 (cinco mil reais), conforme comprovante de rendimentos anexado.\n",
      "\n",
      "II – DO DIREITO\n",
      "\n",
      "A obrigação alimentar é um dever recíproco entre pais e filhos, previsto no artigo 229 da Constituição Federal e nos artigos 1.694 a 1.710 do Código Civil. O objetivo é garantir a subsistência do alimentando, assegurando-lhe condições dignas de vida.\n",
      "\n",
      "No caso em tela, o requerido tem o dever de prestar alimentos ao filho menor, conforme acordado no divórcio. O não pagamento da pensão alimentícia configura ato ilícito, passível de sanções civis e criminais.\n",
      "\n",
      "III – DO PEDIDO\n",
      "\n",
      "Diante do exposto, requer a Vossa Excelência:\n",
      "\n",
      "a) A citação do requerido para, querendo, apresentar resposta no prazo legal;\n",
      "\n",
      "b) A condenação do requerido ao pagamento de pensão alimentícia ao filho menor, no valor de R$ XXX,XX (XXXXX reais) mensais, a ser depositado na conta bancária da requerente, a partir da citação;\n",
      "\n",
      "c) A fixação de alimentos provisórios no valor de R$ XXX,XX (XXXXX reais) mensais, a serem pagos pelo requerido até o julgamento final da presente ação;\n",
      "\n",
      "d) A condenação do requerido ao pagamento das custas processuais e honorários advocatícios.\n",
      "\n",
      "IV – DO VALOR DA CAUSA\n",
      "\n",
      "Dá-se à causa o valor de R$ XXX,XX (XXXXX reais), para fins fiscais e de alçada.\n",
      "\n",
      "Nestes termos, pede deferimento.\n",
      "\n",
      "Local, data.\n",
      "\n",
      "Advogado XXXXXXXX\n",
      "\n",
      "OAB/XX nº XXXXXXXX\n"
     ]
    }
   ],
   "source": [
    "prompt = f\"\"\"\n",
    "Prepare uma petição inicial para o pagamento de pensão alimentícia. \\\n",
    "\n",
    "Leve em consideração as seguintes informações: \\\n",
    "\n",
    "- A petição será encaminhada para a Vara da Família do TJSP. \\ \n",
    "- A solicitante é uma mulher divorciada cuja renda é de um salário mínimo. \\\n",
    "- A solicitante tem um filho menor com deficiência física. \\\n",
    "- Saiba que o salário do pai é de R$ 5.000 e ele nunca pagou a pensão alimentícia. \\\n",
    "- Atue como um advogado especializado em Direito da Família. \\\n",
    "\n",
    "\"\"\"\n",
    "\n",
    "print_prompt_answer(prompt)"
   ]
  },
  {
   "cell_type": "markdown",
   "id": "a3c971d4",
   "metadata": {},
   "source": [
    "### Analizando o prompt\n",
    "\n",
    "- Vamos tentar moldar o discurso para que ele fique mais apelativo:"
   ]
  },
  {
   "cell_type": "code",
   "execution_count": 52,
   "id": "91c1f223",
   "metadata": {
    "scrolled": false
   },
   "outputs": [
    {
     "data": {
      "text/markdown": [
       "### Prompt"
      ],
      "text/plain": [
       "<IPython.core.display.Markdown object>"
      ]
     },
     "metadata": {},
     "output_type": "display_data"
    },
    {
     "name": "stdout",
     "output_type": "stream",
     "text": [
      "\n",
      "Prepare uma petição inicial para o pagamento de pensão alimentícia. \n",
      "Leve em consideração as seguintes informações: \n",
      "- A petição será encaminhada para a Vara da Família do TJSP. \\ \n",
      "- A solicitante é uma mulher divorciada cuja renda é de um salário mínimo. - A solicitante tem um filho menor com deficiência física. - Saiba que o salário do pai é de R$ 5.000 e ele nunca pagou a pensão alimentícia. - Atue como um advogado especializado em Direito da Família. \n",
      "- Use um tom apelativo para sensibilizar o juiz, enfatizando a renda da mãe e a condição de pessoa com deficiência do seu filho. \n"
     ]
    },
    {
     "data": {
      "text/markdown": [
       "### Resposta"
      ],
      "text/plain": [
       "<IPython.core.display.Markdown object>"
      ]
     },
     "metadata": {},
     "output_type": "display_data"
    },
    {
     "data": {
      "text/markdown": [
       "EXCELENTÍSSIMO SENHOR JUIZ DE DIREITO DA VARA DA FAMÍLIA DO TRIBUNAL DE JUSTIÇA DO ESTADO DE SÃO PAULO\n",
       "\n",
       "NOME DA SOLICITANTE, brasileira, divorciada, portadora do RG nº XXXXXXXX e do CPF nº XXXXXXXX, residente e domiciliada na Rua XXXXXXXX, nº XX, Bairro XXXXXXXX, Cidade XXXXXXXX, Estado XXXXXXXX, por meio de seu advogado infra-assinado, vem, respeitosamente, à presença de Vossa Excelência, propor a presente AÇÃO DE ALIMENTOS em face de NOME DO PAI, brasileiro, portador do RG nº XXXXXXXX e do CPF nº XXXXXXXX, residente e domiciliado na Rua XXXXXXXX, nº XX, Bairro XXXXXXXX, Cidade XXXXXXXX, Estado XXXXXXXX, pelos motivos de fato e de direito a seguir expostos:\n",
       "\n",
       "I – DOS FATOS\n",
       "\n",
       "A requerente é mãe de um filho menor, portador de deficiência física, que necessita de cuidados especiais e tratamentos médicos constantes. A requerente é divorciada do requerido e, desde a separação, o requerido nunca pagou a pensão alimentícia devida ao filho.\n",
       "\n",
       "A requerente é uma pessoa de baixa renda, que sobrevive com um salário mínimo mensal, o que torna impossível arcar com as despesas necessárias para a manutenção do filho.\n",
       "\n",
       "O requerido, por sua vez, possui uma renda mensal de R$ 5.000,00, o que lhe permite arcar com as despesas alimentares do filho.\n",
       "\n",
       "II – DO DIREITO\n",
       "\n",
       "O direito à pensão alimentícia é garantido pela Constituição Federal e pelo Código Civil, que estabelecem a obrigação dos pais de proverem o sustento dos filhos.\n",
       "\n",
       "O requerido, na qualidade de pai, tem o dever de prestar alimentos ao filho menor, especialmente por se tratar de uma criança com deficiência física, que necessita de cuidados especiais e tratamentos médicos constantes.\n",
       "\n",
       "III – DO PEDIDO\n",
       "\n",
       "Diante do exposto, requer a Vossa Excelência:\n",
       "\n",
       "a) A concessão de tutela de urgência para que o requerido seja obrigado a pagar, desde já, a pensão alimentícia no valor de R$ XXX,XX (valor a ser definido pelo juiz), a ser depositada na conta bancária da requerente, sob pena de multa diária de R$ XXX,XX (valor a ser definido pelo juiz);\n",
       "\n",
       "b) A fixação da pensão alimentícia definitiva no valor de R$ XXX,XX (valor a ser definido pelo juiz), a ser paga mensalmente pelo requerido, a partir da citação, até que o filho complete a maioridade ou deixe de necessitar dos cuidados especiais;\n",
       "\n",
       "c) A condenação do requerido ao pagamento das custas processuais e honorários advocatícios.\n",
       "\n",
       "IV – DOS REQUERIMENTOS FINAIS\n",
       "\n",
       "Requer a requerente a produção de todas as provas admitidas em direito, especialmente a juntada de documentos, depoimento pessoal do requerido, oitiva de testemunhas e realização de perícia médica.\n",
       "\n",
       "Dá-se à causa o valor de R$ XXX,XX (valor a ser definido pelo juiz) para fins fiscais.\n",
       "\n",
       "Nestes termos, pede deferimento.\n",
       "\n",
       "Local, data.\n",
       "\n",
       "Advogado XXXXXXXX\n",
       "\n",
       "OAB/XX nº XXXXXXXX"
      ],
      "text/plain": [
       "<IPython.core.display.Markdown object>"
      ]
     },
     "metadata": {},
     "output_type": "display_data"
    },
    {
     "name": "stdout",
     "output_type": "stream",
     "text": [
      "EXCELENTÍSSIMO SENHOR JUIZ DE DIREITO DA VARA DA FAMÍLIA DO TRIBUNAL DE JUSTIÇA DO ESTADO DE SÃO PAULO\n",
      "\n",
      "NOME DA SOLICITANTE, brasileira, divorciada, portadora do RG nº XXXXXXXX e do CPF nº XXXXXXXX, residente e domiciliada na Rua XXXXXXXX, nº XX, Bairro XXXXXXXX, Cidade XXXXXXXX, Estado XXXXXXXX, por meio de seu advogado infra-assinado, vem, respeitosamente, à presença de Vossa Excelência, propor a presente AÇÃO DE ALIMENTOS em face de NOME DO PAI, brasileiro, portador do RG nº XXXXXXXX e do CPF nº XXXXXXXX, residente e domiciliado na Rua XXXXXXXX, nº XX, Bairro XXXXXXXX, Cidade XXXXXXXX, Estado XXXXXXXX, pelos motivos de fato e de direito a seguir expostos:\n",
      "\n",
      "I – DOS FATOS\n",
      "\n",
      "A requerente é mãe de um filho menor, portador de deficiência física, que necessita de cuidados especiais e tratamentos médicos constantes. A requerente é divorciada do requerido e, desde a separação, o requerido nunca pagou a pensão alimentícia devida ao filho.\n",
      "\n",
      "A requerente é uma pessoa de baixa renda, que sobrevive com um salário mínimo mensal, o que torna impossível arcar com as despesas necessárias para a manutenção do filho.\n",
      "\n",
      "O requerido, por sua vez, possui uma renda mensal de R$ 5.000,00, o que lhe permite arcar com as despesas alimentares do filho.\n",
      "\n",
      "II – DO DIREITO\n",
      "\n",
      "O direito à pensão alimentícia é garantido pela Constituição Federal e pelo Código Civil, que estabelecem a obrigação dos pais de proverem o sustento dos filhos.\n",
      "\n",
      "O requerido, na qualidade de pai, tem o dever de prestar alimentos ao filho menor, especialmente por se tratar de uma criança com deficiência física, que necessita de cuidados especiais e tratamentos médicos constantes.\n",
      "\n",
      "III – DO PEDIDO\n",
      "\n",
      "Diante do exposto, requer a Vossa Excelência:\n",
      "\n",
      "a) A concessão de tutela de urgência para que o requerido seja obrigado a pagar, desde já, a pensão alimentícia no valor de R$ XXX,XX (valor a ser definido pelo juiz), a ser depositada na conta bancária da requerente, sob pena de multa diária de R$ XXX,XX (valor a ser definido pelo juiz);\n",
      "\n",
      "b) A fixação da pensão alimentícia definitiva no valor de R$ XXX,XX (valor a ser definido pelo juiz), a ser paga mensalmente pelo requerido, a partir da citação, até que o filho complete a maioridade ou deixe de necessitar dos cuidados especiais;\n",
      "\n",
      "c) A condenação do requerido ao pagamento das custas processuais e honorários advocatícios.\n",
      "\n",
      "IV – DOS REQUERIMENTOS FINAIS\n",
      "\n",
      "Requer a requerente a produção de todas as provas admitidas em direito, especialmente a juntada de documentos, depoimento pessoal do requerido, oitiva de testemunhas e realização de perícia médica.\n",
      "\n",
      "Dá-se à causa o valor de R$ XXX,XX (valor a ser definido pelo juiz) para fins fiscais.\n",
      "\n",
      "Nestes termos, pede deferimento.\n",
      "\n",
      "Local, data.\n",
      "\n",
      "Advogado XXXXXXXX\n",
      "\n",
      "OAB/XX nº XXXXXXXX\n"
     ]
    }
   ],
   "source": [
    "prompt = f\"\"\"\n",
    "Prepare uma petição inicial para o pagamento de pensão alimentícia. \\\n",
    "\n",
    "Leve em consideração as seguintes informações: \\\n",
    "\n",
    "- A petição será encaminhada para a Vara da Família do TJSP. \\ \n",
    "- A solicitante é uma mulher divorciada cuja renda é de um salário mínimo. \\\n",
    "- A solicitante tem um filho menor com deficiência física. \\\n",
    "- Saiba que o salário do pai é de R$ 5.000 e ele nunca pagou a pensão alimentícia. \\\n",
    "- Atue como um advogado especializado em Direito da Família. \\\n",
    "\n",
    "- Use um tom apelativo para sensibilizar o juiz, enfatizando a renda da mãe e \\\n",
    "a condição de pessoa com deficiência do seu filho. \\\n",
    "\"\"\"\n",
    "\n",
    "print_prompt_answer(prompt)"
   ]
  },
  {
   "cell_type": "markdown",
   "id": "c32d9cf1",
   "metadata": {},
   "source": [
    "### Analizando o prompt\n",
    "\n",
    "- Vamos tentar melhorar a narrativa para um discurso mais amplo da sensibilização da situação"
   ]
  },
  {
   "cell_type": "code",
   "execution_count": 53,
   "id": "66df5526",
   "metadata": {
    "scrolled": false
   },
   "outputs": [
    {
     "data": {
      "text/markdown": [
       "### Prompt"
      ],
      "text/plain": [
       "<IPython.core.display.Markdown object>"
      ]
     },
     "metadata": {},
     "output_type": "display_data"
    },
    {
     "name": "stdout",
     "output_type": "stream",
     "text": [
      "\n",
      "Prepare uma petição inicial para o pagamento de pensão alimentícia. \n",
      "Leve em consideração as seguintes informações: \n",
      "- A petição será encaminhada para a Vara da Família do TJSP. \\ \n",
      "- A solicitante é uma mulher divorciada cuja renda é de um salário mínimo. - A solicitante tem um filho menor com deficiência física. - Saiba que o salário do pai é de R$ 5.000 e ele nunca pagou a pensão alimentícia. - Atue como um advogado especializado em Direito da Família. \n",
      "- Use um tom apelativo para sensibilizar o juiz, enfatizando a renda da mãe e a condição de pessoa com deficiência do seu filho. - Ao narrar os fatos, seja bem detalhista, criativo e narre de forma ampla a situação. \n"
     ]
    },
    {
     "data": {
      "text/markdown": [
       "### Resposta"
      ],
      "text/plain": [
       "<IPython.core.display.Markdown object>"
      ]
     },
     "metadata": {},
     "output_type": "display_data"
    },
    {
     "data": {
      "text/markdown": [
       "EXCELENTÍSSIMO SENHOR JUIZ DE DIREITO DA VARA DA FAMÍLIA DO TRIBUNAL DE JUSTIÇA DO ESTADO DE SÃO PAULO\n",
       "\n",
       "NOME DA SOLICITANTE, brasileira, divorciada, portadora do RG nº XXXXXXXX e do CPF nº XXXXXXXX, residente e domiciliada na Rua XXXXXXXX, nº XX, Bairro XXXXXXXX, Cidade XXXXXXXX, Estado de São Paulo, por intermédio de seu advogado, vem, respeitosamente, à presença de Vossa Excelência, propor a presente AÇÃO DE ALIMENTOS em face de NOME DO PAI, brasileiro, portador do RG nº XXXXXXXX e do CPF nº XXXXXXXX, residente e domiciliado na Rua XXXXXXXX, nº XX, Bairro XXXXXXXX, Cidade XXXXXXXX, Estado de São Paulo, pelos motivos de fato e de direito a seguir expostos:\n",
       "\n",
       "I - DOS FATOS\n",
       "\n",
       "A requerente é mãe de um filho menor, portador de deficiência física, que necessita de cuidados especiais e tratamentos médicos constantes. A requerente é divorciada do requerido e, desde a separação, o requerido nunca pagou a pensão alimentícia devida ao filho.\n",
       "\n",
       "A requerente é uma pessoa de baixa renda, que sobrevive com um salário mínimo mensal, o que torna impossível arcar com as despesas necessárias para a manutenção do filho. O requerido, por sua vez, possui uma renda mensal de R$ 5.000,00, o que lhe permite arcar com o pagamento da pensão alimentícia.\n",
       "\n",
       "II - DO DIREITO\n",
       "\n",
       "O direito à pensão alimentícia é garantido pela Constituição Federal e pelo Código Civil, que estabelecem a obrigação dos pais de proverem o sustento dos filhos menores. Além disso, a Lei nº 13.146/2015, que institui a Lei Brasileira de Inclusão da Pessoa com Deficiência, prevê a necessidade de garantir a proteção social e o acesso aos serviços públicos e privados para as pessoas com deficiência.\n",
       "\n",
       "III - DO PEDIDO\n",
       "\n",
       "Diante do exposto, requer a Vossa Excelência:\n",
       "\n",
       "a) A concessão de liminar para que o requerido pague imediatamente a pensão alimentícia devida ao filho, no valor de 30% de sua renda mensal, conforme estabelecido pela jurisprudência;\n",
       "\n",
       "b) A condenação do requerido ao pagamento da pensão alimentícia mensal, no valor de 30% de sua renda mensal, a ser depositada na conta bancária indicada pela requerente;\n",
       "\n",
       "c) A fixação de multa diária em caso de descumprimento da obrigação alimentar;\n",
       "\n",
       "d) A condenação do requerido ao pagamento das custas processuais e honorários advocatícios.\n",
       "\n",
       "IV - DO VALOR DA CAUSA\n",
       "\n",
       "Dá-se à causa o valor de R$ XXXXXXXX (valor da pensão alimentícia devida desde a separação).\n",
       "\n",
       "Nestes termos, pede deferimento.\n",
       "\n",
       "Local, data.\n",
       "\n",
       "Advogado\n",
       "\n",
       "OAB/XX nº XXXXXXXX"
      ],
      "text/plain": [
       "<IPython.core.display.Markdown object>"
      ]
     },
     "metadata": {},
     "output_type": "display_data"
    },
    {
     "name": "stdout",
     "output_type": "stream",
     "text": [
      "EXCELENTÍSSIMO SENHOR JUIZ DE DIREITO DA VARA DA FAMÍLIA DO TRIBUNAL DE JUSTIÇA DO ESTADO DE SÃO PAULO\n",
      "\n",
      "NOME DA SOLICITANTE, brasileira, divorciada, portadora do RG nº XXXXXXXX e do CPF nº XXXXXXXX, residente e domiciliada na Rua XXXXXXXX, nº XX, Bairro XXXXXXXX, Cidade XXXXXXXX, Estado de São Paulo, por intermédio de seu advogado, vem, respeitosamente, à presença de Vossa Excelência, propor a presente AÇÃO DE ALIMENTOS em face de NOME DO PAI, brasileiro, portador do RG nº XXXXXXXX e do CPF nº XXXXXXXX, residente e domiciliado na Rua XXXXXXXX, nº XX, Bairro XXXXXXXX, Cidade XXXXXXXX, Estado de São Paulo, pelos motivos de fato e de direito a seguir expostos:\n",
      "\n",
      "I - DOS FATOS\n",
      "\n",
      "A requerente é mãe de um filho menor, portador de deficiência física, que necessita de cuidados especiais e tratamentos médicos constantes. A requerente é divorciada do requerido e, desde a separação, o requerido nunca pagou a pensão alimentícia devida ao filho.\n",
      "\n",
      "A requerente é uma pessoa de baixa renda, que sobrevive com um salário mínimo mensal, o que torna impossível arcar com as despesas necessárias para a manutenção do filho. O requerido, por sua vez, possui uma renda mensal de R$ 5.000,00, o que lhe permite arcar com o pagamento da pensão alimentícia.\n",
      "\n",
      "II - DO DIREITO\n",
      "\n",
      "O direito à pensão alimentícia é garantido pela Constituição Federal e pelo Código Civil, que estabelecem a obrigação dos pais de proverem o sustento dos filhos menores. Além disso, a Lei nº 13.146/2015, que institui a Lei Brasileira de Inclusão da Pessoa com Deficiência, prevê a necessidade de garantir a proteção social e o acesso aos serviços públicos e privados para as pessoas com deficiência.\n",
      "\n",
      "III - DO PEDIDO\n",
      "\n",
      "Diante do exposto, requer a Vossa Excelência:\n",
      "\n",
      "a) A concessão de liminar para que o requerido pague imediatamente a pensão alimentícia devida ao filho, no valor de 30% de sua renda mensal, conforme estabelecido pela jurisprudência;\n",
      "\n",
      "b) A condenação do requerido ao pagamento da pensão alimentícia mensal, no valor de 30% de sua renda mensal, a ser depositada na conta bancária indicada pela requerente;\n",
      "\n",
      "c) A fixação de multa diária em caso de descumprimento da obrigação alimentar;\n",
      "\n",
      "d) A condenação do requerido ao pagamento das custas processuais e honorários advocatícios.\n",
      "\n",
      "IV - DO VALOR DA CAUSA\n",
      "\n",
      "Dá-se à causa o valor de R$ XXXXXXXX (valor da pensão alimentícia devida desde a separação).\n",
      "\n",
      "Nestes termos, pede deferimento.\n",
      "\n",
      "Local, data.\n",
      "\n",
      "Advogado\n",
      "\n",
      "OAB/XX nº XXXXXXXX\n"
     ]
    }
   ],
   "source": [
    "prompt = f\"\"\"\n",
    "Prepare uma petição inicial para o pagamento de pensão alimentícia. \\\n",
    "\n",
    "Leve em consideração as seguintes informações: \\\n",
    "\n",
    "- A petição será encaminhada para a Vara da Família do TJSP. \\ \n",
    "- A solicitante é uma mulher divorciada cuja renda é de um salário mínimo. \\\n",
    "- A solicitante tem um filho menor com deficiência física. \\\n",
    "- Saiba que o salário do pai é de R$ 5.000 e ele nunca pagou a pensão alimentícia. \\\n",
    "- Atue como um advogado especializado em Direito da Família. \\\n",
    "\n",
    "- Use um tom apelativo para sensibilizar o juiz, enfatizando a renda da mãe e \\\n",
    "a condição de pessoa com deficiência do seu filho. \\\n",
    "- Ao narrar os fatos, seja bem detalhista, criativo e narre de forma ampla a situação. \\\n",
    "\"\"\"\n",
    "\n",
    "print_prompt_answer(prompt)"
   ]
  },
  {
   "cell_type": "markdown",
   "id": "3fe2ffb5",
   "metadata": {},
   "source": [
    "### Analizando o prompt\n",
    "\n",
    "- Vamos tentar informar a quantidade de palavras na narrativa dos fatos"
   ]
  },
  {
   "cell_type": "code",
   "execution_count": 54,
   "id": "08bcc212",
   "metadata": {
    "scrolled": false
   },
   "outputs": [
    {
     "data": {
      "text/markdown": [
       "### Prompt"
      ],
      "text/plain": [
       "<IPython.core.display.Markdown object>"
      ]
     },
     "metadata": {},
     "output_type": "display_data"
    },
    {
     "name": "stdout",
     "output_type": "stream",
     "text": [
      "\n",
      "Quantas palavras tem nesse parágrafo?\n",
      "\n",
      "A requerente é mãe de um filho menor, portador de deficiência física, que necessita de cuidados especiais e tratamentos médicos constantes. A requerente é divorciada do pai da criança, que nunca pagou a pensão alimentícia, mesmo tendo condições financeiras para tal.\n",
      "\n",
      "O pai da criança, Sr. XXXXXXXX, possui renda mensal de R$ 5.000,00 (cinco mil reais), mas nunca contribuiu com a pensão alimentícia do filho, deixando a requerente em situação financeira precária, tendo em vista que sua renda é de apenas um salário mínimo.\n",
      "\n",
      "A situação da requerente e de seu filho é extremamente delicada, pois a criança necessita de cuidados especiais e tratamentos médicos constantes, o que acarreta em gastos elevados e que a requerente não tem condições de arcar sozinha.\n",
      "\n"
     ]
    },
    {
     "data": {
      "text/markdown": [
       "### Resposta"
      ],
      "text/plain": [
       "<IPython.core.display.Markdown object>"
      ]
     },
     "metadata": {},
     "output_type": "display_data"
    },
    {
     "data": {
      "text/markdown": [
       "87 palavras."
      ],
      "text/plain": [
       "<IPython.core.display.Markdown object>"
      ]
     },
     "metadata": {},
     "output_type": "display_data"
    },
    {
     "name": "stdout",
     "output_type": "stream",
     "text": [
      "87 palavras.\n"
     ]
    }
   ],
   "source": [
    "prompt = f\"\"\"\n",
    "Quantas palavras tem nesse parágrafo?\n",
    "\n",
    "A requerente é mãe de um filho menor, portador de deficiência física, que necessita de cuidados especiais e tratamentos médicos constantes. A requerente é divorciada do pai da criança, que nunca pagou a pensão alimentícia, mesmo tendo condições financeiras para tal.\n",
    "\n",
    "O pai da criança, Sr. XXXXXXXX, possui renda mensal de R$ 5.000,00 (cinco mil reais), mas nunca contribuiu com a pensão alimentícia do filho, deixando a requerente em situação financeira precária, tendo em vista que sua renda é de apenas um salário mínimo.\n",
    "\n",
    "A situação da requerente e de seu filho é extremamente delicada, pois a criança necessita de cuidados especiais e tratamentos médicos constantes, o que acarreta em gastos elevados e que a requerente não tem condições de arcar sozinha.\n",
    "\"\"\"\n",
    "\n",
    "print_prompt_answer(prompt)"
   ]
  },
  {
   "cell_type": "markdown",
   "id": "b60c358e",
   "metadata": {},
   "source": [
    "### Analizando o prompt\n",
    "\n",
    "- Vamos então pedir para usar 200 palavras para narrar os fatos"
   ]
  },
  {
   "cell_type": "code",
   "execution_count": 55,
   "id": "45ab5656",
   "metadata": {},
   "outputs": [
    {
     "data": {
      "text/markdown": [
       "### Prompt"
      ],
      "text/plain": [
       "<IPython.core.display.Markdown object>"
      ]
     },
     "metadata": {},
     "output_type": "display_data"
    },
    {
     "name": "stdout",
     "output_type": "stream",
     "text": [
      "\n",
      "Prepare uma petição inicial para o pagamento de pensão alimentícia. \n",
      "Leve em consideração as seguintes informações: \n",
      "- A petição será encaminhada para a Vara da Família do TJSP. \\ \n",
      "- A solicitante é uma mulher divorciada cuja renda é de um salário mínimo. - A solicitante tem um filho menor com deficiência física. - Saiba que o salário do pai é de R$ 5.000 e ele nunca pagou a pensão alimentícia. - Atue como um advogado especializado em Direito da Família. \n",
      "- Use um tom apelativo para sensibilizar o juiz, enfatizando a renda da mãe e a condição de pessoa com deficiência do seu filho. - Ao narrar os fatos, seja bem detalhista, criativo e narre de forma ampla a situação. - Ao narrar os fatos, use 200 palavras. \n"
     ]
    },
    {
     "data": {
      "text/markdown": [
       "### Resposta"
      ],
      "text/plain": [
       "<IPython.core.display.Markdown object>"
      ]
     },
     "metadata": {},
     "output_type": "display_data"
    },
    {
     "data": {
      "text/markdown": [
       "EXCELENTÍSSIMO SENHOR JUIZ DE DIREITO DA VARA DA FAMÍLIA DO TJSP\n",
       "\n",
       "FULANA DE TAL, brasileira, divorciada, portadora do RG nº XXXXXXXX e CPF nº XXXXXXXX, residente e domiciliada na Rua XXXXXXXX, nº XX, Bairro XXXXXXXX, na cidade de São Paulo, vem, por meio de seu advogado, com fundamento no artigo 1.694 do Código Civil e artigo 528 do Código de Processo Civil, requerer a fixação de pensão alimentícia em face de BELTRANO DE TAL, brasileiro, solteiro, portador do RG nº XXXXXXXX e CPF nº XXXXXXXX, residente e domiciliado na Rua XXXXXXXX, nº XX, Bairro XXXXXXXX, na cidade de São Paulo, pelos motivos a seguir expostos:\n",
       "\n",
       "A requerente é mãe de um filho menor, com deficiência física, que necessita de cuidados especiais e tratamentos médicos constantes. A requerente é divorciada e possui renda mensal de apenas um salário mínimo, o que não é suficiente para arcar com todas as despesas do filho.\n",
       "\n",
       "O requerido, por sua vez, possui renda mensal de R$ 5.000,00 e nunca pagou a pensão alimentícia devida ao filho. A situação financeira da requerente é precária e a falta de pagamento da pensão alimentícia pelo requerido tem gerado grande dificuldade para a manutenção das necessidades básicas do filho.\n",
       "\n",
       "Diante do exposto, requer-se a fixação de pensão alimentícia no valor de 30% do salário do requerido, ou seja, R$ 1.500,00 mensais, a serem depositados na conta bancária da requerente, a fim de garantir a subsistência do filho menor.\n",
       "\n",
       "Por fim, a requerente apela à sensibilidade deste juízo para que seja concedida a pensão alimentícia pleiteada, tendo em vista a condição de pessoa com deficiência do filho e a precária situação financeira da requerente.\n",
       "\n",
       "Nestes termos, pede deferimento.\n",
       "\n",
       "Local e data.\n",
       "\n",
       "Advogado: XXXXXXXX\n",
       "\n",
       "OAB/XX nº XXXXXXXX"
      ],
      "text/plain": [
       "<IPython.core.display.Markdown object>"
      ]
     },
     "metadata": {},
     "output_type": "display_data"
    },
    {
     "name": "stdout",
     "output_type": "stream",
     "text": [
      "EXCELENTÍSSIMO SENHOR JUIZ DE DIREITO DA VARA DA FAMÍLIA DO TJSP\n",
      "\n",
      "FULANA DE TAL, brasileira, divorciada, portadora do RG nº XXXXXXXX e CPF nº XXXXXXXX, residente e domiciliada na Rua XXXXXXXX, nº XX, Bairro XXXXXXXX, na cidade de São Paulo, vem, por meio de seu advogado, com fundamento no artigo 1.694 do Código Civil e artigo 528 do Código de Processo Civil, requerer a fixação de pensão alimentícia em face de BELTRANO DE TAL, brasileiro, solteiro, portador do RG nº XXXXXXXX e CPF nº XXXXXXXX, residente e domiciliado na Rua XXXXXXXX, nº XX, Bairro XXXXXXXX, na cidade de São Paulo, pelos motivos a seguir expostos:\n",
      "\n",
      "A requerente é mãe de um filho menor, com deficiência física, que necessita de cuidados especiais e tratamentos médicos constantes. A requerente é divorciada e possui renda mensal de apenas um salário mínimo, o que não é suficiente para arcar com todas as despesas do filho.\n",
      "\n",
      "O requerido, por sua vez, possui renda mensal de R$ 5.000,00 e nunca pagou a pensão alimentícia devida ao filho. A situação financeira da requerente é precária e a falta de pagamento da pensão alimentícia pelo requerido tem gerado grande dificuldade para a manutenção das necessidades básicas do filho.\n",
      "\n",
      "Diante do exposto, requer-se a fixação de pensão alimentícia no valor de 30% do salário do requerido, ou seja, R$ 1.500,00 mensais, a serem depositados na conta bancária da requerente, a fim de garantir a subsistência do filho menor.\n",
      "\n",
      "Por fim, a requerente apela à sensibilidade deste juízo para que seja concedida a pensão alimentícia pleiteada, tendo em vista a condição de pessoa com deficiência do filho e a precária situação financeira da requerente.\n",
      "\n",
      "Nestes termos, pede deferimento.\n",
      "\n",
      "Local e data.\n",
      "\n",
      "Advogado: XXXXXXXX\n",
      "\n",
      "OAB/XX nº XXXXXXXX\n"
     ]
    }
   ],
   "source": [
    "prompt = f\"\"\"\n",
    "Prepare uma petição inicial para o pagamento de pensão alimentícia. \\\n",
    "\n",
    "Leve em consideração as seguintes informações: \\\n",
    "\n",
    "- A petição será encaminhada para a Vara da Família do TJSP. \\ \n",
    "- A solicitante é uma mulher divorciada cuja renda é de um salário mínimo. \\\n",
    "- A solicitante tem um filho menor com deficiência física. \\\n",
    "- Saiba que o salário do pai é de R$ 5.000 e ele nunca pagou a pensão alimentícia. \\\n",
    "- Atue como um advogado especializado em Direito da Família. \\\n",
    "\n",
    "- Use um tom apelativo para sensibilizar o juiz, enfatizando a renda da mãe e \\\n",
    "a condição de pessoa com deficiência do seu filho. \\\n",
    "- Ao narrar os fatos, seja bem detalhista, criativo e narre de forma ampla a situação. \\\n",
    "- Ao narrar os fatos, use 200 palavras. \\\n",
    "\"\"\"\n",
    "\n",
    "print_prompt_answer(prompt)"
   ]
  },
  {
   "cell_type": "markdown",
   "id": "3ad05c2e",
   "metadata": {},
   "source": [
    "### Analizando o prompt\n",
    "\n",
    "- Ele piorou, pois entendeu que \"narrar os fatos\" fosse a Petição Inicial e não a seção DOS FATOS\n",
    "- Vamos tentar corrigir"
   ]
  },
  {
   "cell_type": "code",
   "execution_count": 56,
   "id": "36965cab",
   "metadata": {
    "scrolled": false
   },
   "outputs": [
    {
     "data": {
      "text/markdown": [
       "### Prompt"
      ],
      "text/plain": [
       "<IPython.core.display.Markdown object>"
      ]
     },
     "metadata": {},
     "output_type": "display_data"
    },
    {
     "name": "stdout",
     "output_type": "stream",
     "text": [
      "\n",
      "Prepare uma petição inicial para o pagamento de pensão alimentícia. \n",
      "Leve em consideração as seguintes informações: \n",
      "- A petição será encaminhada para a Vara da Família do TJSP. \\ \n",
      "- A solicitante é uma mulher divorciada cuja renda é de um salário mínimo. - A solicitante tem um filho menor com deficiência física. - Saiba que o salário do pai é de R$ 5.000 e ele nunca pagou a pensão alimentícia. - Atue como um advogado especializado em Direito da Família. \n",
      "- Use um tom apelativo para sensibilizar o juiz, enfatizando a renda da mãe e a condição de pessoa com deficiência do seu filho. - Na seção intitulada \"DOS FATOS\" da Petição Inicial, seja bem detalhista, criativo e narre de forma ampla a situação. - Na seção intitulada \"DOS FATOS\" da Petição Inicial, use 200 palavras. - Para elaborar a Petição Inicial, use 2000 tokens. \n"
     ]
    },
    {
     "data": {
      "text/markdown": [
       "### Resposta"
      ],
      "text/plain": [
       "<IPython.core.display.Markdown object>"
      ]
     },
     "metadata": {},
     "output_type": "display_data"
    },
    {
     "data": {
      "text/markdown": [
       "EXCELENTÍSSIMO SENHOR JUIZ DE DIREITO DA VARA DA FAMÍLIA DO TRIBUNAL DE JUSTIÇA DO ESTADO DE SÃO PAULO\n",
       "\n",
       "NOME DA SOLICITANTE, brasileira, divorciada, portadora do RG nº XXXXXXXX e do CPF nº XXXXXXXX, residente e domiciliada na Rua XXXXXXXX, nº XX, Bairro XXXXXXXX, Cidade XXXXXXXX, Estado de São Paulo, por meio de seu advogado, vem, respeitosamente, à presença de Vossa Excelência, propor a presente AÇÃO DE ALIMENTOS em face de NOME DO PAI, brasileiro, portador do RG nº XXXXXXXX e do CPF nº XXXXXXXX, residente e domiciliado na Rua XXXXXXXX, nº XX, Bairro XXXXXXXX, Cidade XXXXXXXX, Estado de São Paulo, pelos fatos e fundamentos a seguir expostos:\n",
       "\n",
       "DOS FATOS\n",
       "\n",
       "A requerente é mãe de um filho menor, portador de deficiência física, que necessita de cuidados especiais e tratamentos médicos constantes. A requerente é divorciada do requerido e, desde a separação, o requerido nunca pagou a pensão alimentícia devida ao filho.\n",
       "\n",
       "A requerente é uma pessoa de baixa renda, que sobrevive com um salário mínimo mensal, o que torna impossível arcar com as despesas necessárias para a manutenção do filho. O requerido, por sua vez, possui uma renda mensal de R$ 5.000,00, o que lhe permite arcar com o pagamento da pensão alimentícia.\n",
       "\n",
       "A situação da requerente e do filho é extremamente delicada, uma vez que a falta de recursos financeiros impede a realização de tratamentos médicos e aquisição de medicamentos necessários para a saúde do menor. A situação é ainda mais grave em razão da deficiência física do filho, que exige cuidados especiais e tratamentos específicos.\n",
       "\n",
       "Dessa forma, a requerente vem, por meio desta ação, requerer o pagamento de pensão alimentícia em favor do filho menor, no valor correspondente a 30% dos rendimentos líquidos do requerido, a serem depositados mensalmente em conta bancária a ser indicada pela requerente.\n",
       "\n",
       "DO DIREITO\n",
       "\n",
       "O direito à pensão alimentícia é garantido pela Constituição Federal e pelo Código Civil, que estabelecem a obrigação dos pais de proverem o sustento dos filhos menores. Além disso, a deficiência física do filho da requerente torna ainda mais evidente a necessidade de assistência financeira por parte do requerido.\n",
       "\n",
       "DO PEDIDO\n",
       "\n",
       "Diante do exposto, requer a Vossa Excelência:\n",
       "\n",
       "a) A citação do requerido para, querendo, apresentar resposta à presente ação;\n",
       "\n",
       "b) A condenação do requerido ao pagamento de pensão alimentícia em favor do filho menor, no valor correspondente a 30% dos rendimentos líquidos do requerido, a serem depositados mensalmente em conta bancária a ser indicada pela requerente;\n",
       "\n",
       "c) A condenação do requerido ao pagamento das custas processuais e honorários advocatícios.\n",
       "\n",
       "Protesta provar o alegado por todos os meios de prova em direito admitidos, especialmente pela juntada de documentos, depoimento pessoal do requerido, oitiva de testemunhas e demais provas que se fizerem necessárias.\n",
       "\n",
       "Dá-se à causa o valor de R$ XXXXXXXX.\n",
       "\n",
       "Termos em que,\n",
       "\n",
       "Pede deferimento.\n",
       "\n",
       "Local, data.\n",
       "\n",
       "Assinatura do advogado."
      ],
      "text/plain": [
       "<IPython.core.display.Markdown object>"
      ]
     },
     "metadata": {},
     "output_type": "display_data"
    },
    {
     "name": "stdout",
     "output_type": "stream",
     "text": [
      "EXCELENTÍSSIMO SENHOR JUIZ DE DIREITO DA VARA DA FAMÍLIA DO TRIBUNAL DE JUSTIÇA DO ESTADO DE SÃO PAULO\n",
      "\n",
      "NOME DA SOLICITANTE, brasileira, divorciada, portadora do RG nº XXXXXXXX e do CPF nº XXXXXXXX, residente e domiciliada na Rua XXXXXXXX, nº XX, Bairro XXXXXXXX, Cidade XXXXXXXX, Estado de São Paulo, por meio de seu advogado, vem, respeitosamente, à presença de Vossa Excelência, propor a presente AÇÃO DE ALIMENTOS em face de NOME DO PAI, brasileiro, portador do RG nº XXXXXXXX e do CPF nº XXXXXXXX, residente e domiciliado na Rua XXXXXXXX, nº XX, Bairro XXXXXXXX, Cidade XXXXXXXX, Estado de São Paulo, pelos fatos e fundamentos a seguir expostos:\n",
      "\n",
      "DOS FATOS\n",
      "\n",
      "A requerente é mãe de um filho menor, portador de deficiência física, que necessita de cuidados especiais e tratamentos médicos constantes. A requerente é divorciada do requerido e, desde a separação, o requerido nunca pagou a pensão alimentícia devida ao filho.\n",
      "\n",
      "A requerente é uma pessoa de baixa renda, que sobrevive com um salário mínimo mensal, o que torna impossível arcar com as despesas necessárias para a manutenção do filho. O requerido, por sua vez, possui uma renda mensal de R$ 5.000,00, o que lhe permite arcar com o pagamento da pensão alimentícia.\n",
      "\n",
      "A situação da requerente e do filho é extremamente delicada, uma vez que a falta de recursos financeiros impede a realização de tratamentos médicos e aquisição de medicamentos necessários para a saúde do menor. A situação é ainda mais grave em razão da deficiência física do filho, que exige cuidados especiais e tratamentos específicos.\n",
      "\n",
      "Dessa forma, a requerente vem, por meio desta ação, requerer o pagamento de pensão alimentícia em favor do filho menor, no valor correspondente a 30% dos rendimentos líquidos do requerido, a serem depositados mensalmente em conta bancária a ser indicada pela requerente.\n",
      "\n",
      "DO DIREITO\n",
      "\n",
      "O direito à pensão alimentícia é garantido pela Constituição Federal e pelo Código Civil, que estabelecem a obrigação dos pais de proverem o sustento dos filhos menores. Além disso, a deficiência física do filho da requerente torna ainda mais evidente a necessidade de assistência financeira por parte do requerido.\n",
      "\n",
      "DO PEDIDO\n",
      "\n",
      "Diante do exposto, requer a Vossa Excelência:\n",
      "\n",
      "a) A citação do requerido para, querendo, apresentar resposta à presente ação;\n",
      "\n",
      "b) A condenação do requerido ao pagamento de pensão alimentícia em favor do filho menor, no valor correspondente a 30% dos rendimentos líquidos do requerido, a serem depositados mensalmente em conta bancária a ser indicada pela requerente;\n",
      "\n",
      "c) A condenação do requerido ao pagamento das custas processuais e honorários advocatícios.\n",
      "\n",
      "Protesta provar o alegado por todos os meios de prova em direito admitidos, especialmente pela juntada de documentos, depoimento pessoal do requerido, oitiva de testemunhas e demais provas que se fizerem necessárias.\n",
      "\n",
      "Dá-se à causa o valor de R$ XXXXXXXX.\n",
      "\n",
      "Termos em que,\n",
      "\n",
      "Pede deferimento.\n",
      "\n",
      "Local, data.\n",
      "\n",
      "Assinatura do advogado.\n"
     ]
    }
   ],
   "source": [
    "prompt = f\"\"\"\n",
    "Prepare uma petição inicial para o pagamento de pensão alimentícia. \\\n",
    "\n",
    "Leve em consideração as seguintes informações: \\\n",
    "\n",
    "- A petição será encaminhada para a Vara da Família do TJSP. \\ \n",
    "- A solicitante é uma mulher divorciada cuja renda é de um salário mínimo. \\\n",
    "- A solicitante tem um filho menor com deficiência física. \\\n",
    "- Saiba que o salário do pai é de R$ 5.000 e ele nunca pagou a pensão alimentícia. \\\n",
    "- Atue como um advogado especializado em Direito da Família. \\\n",
    "\n",
    "- Use um tom apelativo para sensibilizar o juiz, enfatizando a renda da mãe e \\\n",
    "a condição de pessoa com deficiência do seu filho. \\\n",
    "- Na seção intitulada \"DOS FATOS\" da Petição Inicial, seja bem detalhista, criativo \\\n",
    "e narre de forma ampla a situação. \\\n",
    "- Na seção intitulada \"DOS FATOS\" da Petição Inicial, use 200 palavras. \\\n",
    "- Para elaborar a Petição Inicial, use 2000 tokens. \\\n",
    "\"\"\"\n",
    "\n",
    "print_prompt_answer(prompt)"
   ]
  },
  {
   "cell_type": "markdown",
   "id": "9a3096fc",
   "metadata": {},
   "source": [
    "### Analizando o prompt\n",
    "\n",
    "- Conclusão: o ChatGPT não utilizou o limite de tokens e escreveu Petições \"pequenas\"\n",
    "- A seção DO DIREITO foi preterida em relação à seção DOS FATOS\n",
    "- Os exemplos usados aqui são da modelo GPT3 (`gpt-3.5-turbo`)\n",
    "\n",
    "### Comparando os modelos GPT3 e GPT4\n",
    "\n",
    "- Abaixo, segue a Petição Inicial gerada utilizando o prompt anterior no modelo GPT4:\n",
    "\n",
    "**Prompt**: \n",
    "\n",
    "```\n",
    "Prepare uma petição inicial para o pagamento de pensão alimentícia. \n",
    "Leve em consideração as seguintes informações: \n",
    "- A petição será encaminhada para a Vara da Família do TJSP.  \n",
    "- A solicitante é uma mulher divorciada cuja renda é de um salário mínimo. - A solicitante tem um filho menor com deficiência física. - Saiba que o salário do pai é de R$ 5.000 e ele nunca pagou a pensão alimentícia. - Atue como um advogado especializado em Direito da Família. \n",
    "- Use um tom apelativo para sensibilizar o juiz, enfatizando a renda da mãe e a condição de pessoa com deficiência do seu filho. - Na seção intitulada \"DOS FATOS\" da Petição Inicial, seja bem detalhista, criativo e narre de forma ampla a situação. - Na seção intitulada \"DOS FATOS\" da Petição Inicial, use 200 palavras. - Para elaborar a Petição Inicial, use 2000 tokens. \n",
    "```\n",
    "\n",
    "**Saída**:\n",
    "\n",
    "```\n",
    "Excelentíssimo Senhor Doutor Juiz de Direito da Vara da Família do Tribunal de Justiça do Estado de São Paulo\n",
    "\n",
    "Processo nº: [número a ser atribuído pelo cartório]\n",
    "\n",
    "FULANA DE TAL, brasileira, divorciada, profissão, portadora da carteira de identidade nº [número da identidade], inscrita no CPF sob o nº [número do CPF], residente e domiciliada na [endereço completo], vem, respeitosamente, perante Vossa Excelência, por meio de seu advogado infra-assinado, com fulcro no art. 1.694 do Código Civil e demais legislação aplicável, propor a presente\n",
    "\n",
    "AÇÃO DE ALIMENTOS\n",
    "\n",
    "em face de BELTRANO DE TAL, brasileiro, [estado civil], profissão, portador da carteira de identidade nº [número da identidade], inscrito no CPF sob o nº [número do CPF], residente e domiciliado na [endereço completo], pelos fatos e fundamentos que passa a expor:\n",
    "\n",
    "I – DOS FATOS\n",
    "\n",
    "A requerente e o requerido contraíram matrimônio em [data do casamento], do qual nasceu um único filho, CICLANO DE TAL, atualmente com [idade] anos de idade, portador de deficiência física, demandando cuidados especiais e tratamentos contínuos.\n",
    "\n",
    "Durante o casamento, a requerente dedicou-se exclusivamente aos cuidados do lar e do filho, enquanto o requerido era o único provedor da família. Todavia, após o divórcio, o requerido tem se esquivado de suas responsabilidades paternas, deixando a requerente e o filho à mercê da própria sorte.\n",
    "\n",
    "Atualmente, a requerente possui uma renda de apenas um salário mínimo, insuficiente para arcar com as despesas ordinárias e extraordinárias decorrentes do cuidado do filho, tais como: educação, saúde, alimentação, vestuário, transporte, lazer e demais necessidades inerentes à condição de pessoa com deficiência.\n",
    "\n",
    "Por outro lado, o requerido ostenta um salário de R$ 5.000,00 (cinco mil reais) mensais, sendo plenamente capaz de arcar com a pensão alimentícia, a fim de garantir a dignidade e o bem-estar do filho. No entanto, nunca efetuou qualquer pagamento a título de pensão alimentícia, mesmo sendo instado extrajudicialmente.\n",
    "\n",
    "Dessa forma, resta evidente o descaso do requerido para com o filho menor e a inobservância dos deveres inerentes à paternidade, causando um profundo desequilíbrio emocional e financeiro na vida da requerente e do filho.\n",
    "\n",
    "II – DO DIREITO\n",
    "\n",
    "O dever de prestar alimentos é decorrente do parentesco e tem como escopo garantir a subsistência e a dignidade daquele que os pleiteia, conforme previsão legal contida no art. 1.694 do Código Civil.\n",
    "\n",
    "No presente caso, é indubitável a necessidade do filho menor em receber alimentos, bem como a capacidade do requerido em prestá-los, considerando sua situação financeira.\n",
    "\n",
    "Em face do exposto, e com fundamento no princípio da solidariedade familiar, o valor da pensão alimentícia deve ser fixado de maneira proporcional às necessidades do alimentando e às possibilidades do alimentante, nos termos do art. 1.694, § 1º, do Código Civil.\n",
    "\n",
    "Nesse sentido, é imperioso considerar as peculiaridades do caso, especialmente a condição de pessoa com deficiência do filho menor e a renda da requerente, insuficiente para prover todas as necessidades dele.\n",
    "\n",
    "A jurisprudência do Tribunal de Justiça do Estado de São Paulo já se manifestou no sentido de que a pensão alimentícia deve ser fixada levando em consideração a capacidade financeira do alimentante e as necessidades do alimentando:\n",
    "\n",
    "\"[...] ALIMENTOS. Fixação. Observância dos critérios da necessidade, possibilidade e proporcionalidade. Precedentes desta Corte. Recurso não provido. [...] (TJSP; Apelação Cível 1005895-02.2019.8.26.0001; Relator (a): Des. José Rubens Queiroz Gomes; Órgão Julgador: 7ª Câmara de Direito Privado; Foro Central Cível - 1ª Vara da Família e Sucessões; Data do Julgamento: 25/02/2020; Data de Registro: 25/02/2020)\"\n",
    "\n",
    "Dessa forma, é fundamental a fixação de pensão alimentícia em valor condizente com as necessidades do filho e as possibilidades do requerido, a fim de garantir o mínimo existencial, o bem-estar e a dignidade do menor.\n",
    "\n",
    "III - DOS PEDIDOS\n",
    "\n",
    "Diante do exposto, requer a Vossa Excelência:\n",
    "\n",
    "    A citação do requerido, para que, no prazo legal, conteste a presente ação, sob pena de revelia e confissão quanto à matéria de fato, nos termos do art. 344 do Código de Processo Civil;\n",
    "\n",
    "    A procedência do pedido, condenando o requerido a pagar pensão alimentícia mensal em favor do filho menor, em valor a ser fixado por este Juízo, considerando as necessidades do alimentando e as possibilidades do alimentante, nos termos do art. 1.694, § 1º, do Código Civil;\n",
    "\n",
    "    A fixação de alimentos provisórios, em valor a ser estabelecido por este Juízo, a serem pagos pelo requerido desde a citação, nos termos do art. 4º da Lei nº 5.478/68;\n",
    "\n",
    "    A concessão dos benefícios da justiça gratuita à requerente, por ser pessoa comprovadamente pobre na forma da lei, conforme declaração de hipossuficiência anexa.\n",
    "\n",
    "Dá-se à causa o valor de R$ [valor atribuído à causa].\n",
    "\n",
    "Nestes termos,\n",
    "Pede deferimento.\n",
    "\n",
    "[local], [data].\n",
    "\n",
    "[advogado]\n",
    "OAB/SP nº [número de inscrição na OAB]\n",
    "```\n"
   ]
  },
  {
   "cell_type": "markdown",
   "id": "9bfa8571",
   "metadata": {},
   "source": [
    "### Analizando o prompt\n",
    "\n",
    "- Uma sugestão é dividir o problema em subproblemas\n"
   ]
  },
  {
   "cell_type": "code",
   "execution_count": 57,
   "id": "2b837ce0",
   "metadata": {
    "scrolled": false
   },
   "outputs": [
    {
     "data": {
      "text/markdown": [
       "### Prompt"
      ],
      "text/plain": [
       "<IPython.core.display.Markdown object>"
      ]
     },
     "metadata": {},
     "output_type": "display_data"
    },
    {
     "name": "stdout",
     "output_type": "stream",
     "text": [
      "\n",
      "Preapre uma parte de uma petição inicial para o pagamento de pensão alimentícia. \n",
      "Leve em consideração as seguintes informações: \n",
      "- A parte que você vai elaborar é a seção \"DOS FATOS\". - A petição será encaminhada para a Vara da Família do TJSP. \\ \n",
      "- A solicitante é uma mulher divorciada cuja renda é de um salário mínimo. - A solicitante tem um filho menor com deficiência física. - Saiba que o salário do pai é de R$ 5.000 e ele nunca pagou a pensão alimentícia. - Atue como um advogado especializado em Direito da Família. - Use um tom apelativo para sensibilizar o juiz, enfatizando a renda da mãe e a condição de pessoa com deficiência do seu filho. Seja bem detalhista, criativo e narre de forma ampla a situação. \n"
     ]
    },
    {
     "data": {
      "text/markdown": [
       "### Resposta"
      ],
      "text/plain": [
       "<IPython.core.display.Markdown object>"
      ]
     },
     "metadata": {},
     "output_type": "display_data"
    },
    {
     "data": {
      "text/markdown": [
       "EXCELENTÍSSIMO SENHOR JUIZ DE DIREITO DA VARA DA FAMÍLIA DO TRIBUNAL DE JUSTIÇA DO ESTADO DE SÃO PAULO.\n",
       "\n",
       "NOME DA SOLICITANTE, brasileira, divorciada, portadora do RG nº XXXXXXXX e do CPF nº XXXXXXXX, residente e domiciliada na Rua XXXXXXXX, nº XX, Bairro XXXXXXXX, Cidade XXXXXXXX, Estado XXXXXXXX, por intermédio de seu advogado, vem, respeitosamente, à presença de Vossa Excelência, propor a presente AÇÃO DE ALIMENTOS em face de NOME DO REQUERIDO, brasileiro, portador do RG nº XXXXXXXX e do CPF nº XXXXXXXX, residente e domiciliado na Rua XXXXXXXX, nº XX, Bairro XXXXXXXX, Cidade XXXXXXXX, Estado XXXXXXXX, pelos motivos de fato e de direito a seguir expostos:\n",
       "\n",
       "DOS FATOS\n",
       "\n",
       "A requerente é mãe de um filho menor, com deficiência física, que necessita de cuidados especiais e tratamentos médicos constantes. A requerente é divorciada e possui renda mensal de apenas um salário mínimo, o que torna difícil a manutenção das despesas básicas do lar e do tratamento do filho.\n",
       "\n",
       "O requerido, por sua vez, é pai do menor e possui renda mensal de R$ 5.000,00, conforme comprovado por meio de documentos anexos. No entanto, nunca pagou a pensão alimentícia devida ao filho, deixando a requerente em situação de extrema dificuldade financeira.\n",
       "\n",
       "A situação da requerente e do filho é extremamente delicada, tendo em vista a condição de saúde do menor e a falta de recursos financeiros para arcar com as despesas necessárias. A requerente tem se esforçado ao máximo para garantir o bem-estar do filho, mas sem a contribuição do requerido, a situação tem se tornado insustentável.\n",
       "\n",
       "Diante do exposto, a requerente solicita a Vossa Excelência que determine o pagamento de pensão alimentícia em favor do filho menor, no valor correspondente a 30% dos rendimentos do requerido, conforme previsto em lei.\n",
       "\n",
       "A requerente reitera que a situação é urgente e que a falta de recursos financeiros tem prejudicado o tratamento e a qualidade de vida do filho. Por isso, apela para a sensibilidade de Vossa Excelência para que a presente ação seja julgada procedente, garantindo assim o direito do menor à pensão alimentícia.\n",
       "\n",
       "DOS PEDIDOS\n",
       "\n",
       "Diante do exposto, requer a Vossa Excelência:\n",
       "\n",
       "a) A citação do requerido para que, querendo, apresente resposta à presente ação;\n",
       "\n",
       "b) A procedência da presente ação, com a determinação do pagamento de pensão alimentícia em favor do filho menor, no valor correspondente a 30% dos rendimentos do requerido;\n",
       "\n",
       "c) A condenação do requerido ao pagamento das custas processuais e honorários advocatícios.\n",
       "\n",
       "Protesta provar o alegado por todos os meios de prova em direito admitidos, especialmente pela juntada de documentos, depoimento pessoal do requerido, oitiva de testemunhas e demais provas que se fizerem necessárias.\n",
       "\n",
       "Dá-se à causa o valor de R$ XXXXXXXX.\n",
       "\n",
       "Termos em que,\n",
       "\n",
       "Pede deferimento.\n",
       "\n",
       "Local, data.\n",
       "\n",
       "Advogado\n",
       "\n",
       "OAB/XX nº XXXXXXXX"
      ],
      "text/plain": [
       "<IPython.core.display.Markdown object>"
      ]
     },
     "metadata": {},
     "output_type": "display_data"
    },
    {
     "name": "stdout",
     "output_type": "stream",
     "text": [
      "EXCELENTÍSSIMO SENHOR JUIZ DE DIREITO DA VARA DA FAMÍLIA DO TRIBUNAL DE JUSTIÇA DO ESTADO DE SÃO PAULO.\n",
      "\n",
      "NOME DA SOLICITANTE, brasileira, divorciada, portadora do RG nº XXXXXXXX e do CPF nº XXXXXXXX, residente e domiciliada na Rua XXXXXXXX, nº XX, Bairro XXXXXXXX, Cidade XXXXXXXX, Estado XXXXXXXX, por intermédio de seu advogado, vem, respeitosamente, à presença de Vossa Excelência, propor a presente AÇÃO DE ALIMENTOS em face de NOME DO REQUERIDO, brasileiro, portador do RG nº XXXXXXXX e do CPF nº XXXXXXXX, residente e domiciliado na Rua XXXXXXXX, nº XX, Bairro XXXXXXXX, Cidade XXXXXXXX, Estado XXXXXXXX, pelos motivos de fato e de direito a seguir expostos:\n",
      "\n",
      "DOS FATOS\n",
      "\n",
      "A requerente é mãe de um filho menor, com deficiência física, que necessita de cuidados especiais e tratamentos médicos constantes. A requerente é divorciada e possui renda mensal de apenas um salário mínimo, o que torna difícil a manutenção das despesas básicas do lar e do tratamento do filho.\n",
      "\n",
      "O requerido, por sua vez, é pai do menor e possui renda mensal de R$ 5.000,00, conforme comprovado por meio de documentos anexos. No entanto, nunca pagou a pensão alimentícia devida ao filho, deixando a requerente em situação de extrema dificuldade financeira.\n",
      "\n",
      "A situação da requerente e do filho é extremamente delicada, tendo em vista a condição de saúde do menor e a falta de recursos financeiros para arcar com as despesas necessárias. A requerente tem se esforçado ao máximo para garantir o bem-estar do filho, mas sem a contribuição do requerido, a situação tem se tornado insustentável.\n",
      "\n",
      "Diante do exposto, a requerente solicita a Vossa Excelência que determine o pagamento de pensão alimentícia em favor do filho menor, no valor correspondente a 30% dos rendimentos do requerido, conforme previsto em lei.\n",
      "\n",
      "A requerente reitera que a situação é urgente e que a falta de recursos financeiros tem prejudicado o tratamento e a qualidade de vida do filho. Por isso, apela para a sensibilidade de Vossa Excelência para que a presente ação seja julgada procedente, garantindo assim o direito do menor à pensão alimentícia.\n",
      "\n",
      "DOS PEDIDOS\n",
      "\n",
      "Diante do exposto, requer a Vossa Excelência:\n",
      "\n",
      "a) A citação do requerido para que, querendo, apresente resposta à presente ação;\n",
      "\n",
      "b) A procedência da presente ação, com a determinação do pagamento de pensão alimentícia em favor do filho menor, no valor correspondente a 30% dos rendimentos do requerido;\n",
      "\n",
      "c) A condenação do requerido ao pagamento das custas processuais e honorários advocatícios.\n",
      "\n",
      "Protesta provar o alegado por todos os meios de prova em direito admitidos, especialmente pela juntada de documentos, depoimento pessoal do requerido, oitiva de testemunhas e demais provas que se fizerem necessárias.\n",
      "\n",
      "Dá-se à causa o valor de R$ XXXXXXXX.\n",
      "\n",
      "Termos em que,\n",
      "\n",
      "Pede deferimento.\n",
      "\n",
      "Local, data.\n",
      "\n",
      "Advogado\n",
      "\n",
      "OAB/XX nº XXXXXXXX\n"
     ]
    }
   ],
   "source": [
    "prompt = f\"\"\"\n",
    "Preapre uma parte de uma petição inicial para o pagamento de pensão alimentícia. \\\n",
    "\n",
    "Leve em consideração as seguintes informações: \\\n",
    "\n",
    "- A parte que você vai elaborar é a seção \"DOS FATOS\". \\\n",
    "- A petição será encaminhada para a Vara da Família do TJSP. \\ \n",
    "- A solicitante é uma mulher divorciada cuja renda é de um salário mínimo. \\\n",
    "- A solicitante tem um filho menor com deficiência física. \\\n",
    "- Saiba que o salário do pai é de R$ 5.000 e ele nunca pagou a pensão alimentícia. \\\n",
    "- Atue como um advogado especializado em Direito da Família. \\\n",
    "- Use um tom apelativo para sensibilizar o juiz, enfatizando a renda da mãe e \\\n",
    "a condição de pessoa com deficiência do seu filho. \\\n",
    "Seja bem detalhista, criativo e narre de forma ampla a situação. \\\n",
    "\"\"\"\n",
    "\n",
    "print_prompt_answer(prompt)"
   ]
  },
  {
   "cell_type": "markdown",
   "id": "1b7ffb20",
   "metadata": {},
   "source": [
    "### Analizando o prompt\n",
    "\n",
    "- Faltou especificidade, vamos ser mais precisos:"
   ]
  },
  {
   "cell_type": "code",
   "execution_count": 58,
   "id": "aa58e727",
   "metadata": {},
   "outputs": [
    {
     "data": {
      "text/markdown": [
       "### Prompt"
      ],
      "text/plain": [
       "<IPython.core.display.Markdown object>"
      ]
     },
     "metadata": {},
     "output_type": "display_data"
    },
    {
     "name": "stdout",
     "output_type": "stream",
     "text": [
      "\n",
      "Preapre a seção \"DOS FATOS\" de uma petição inicial para o pagamento de pensão alimentícia. \n",
      "Leve em consideração as seguintes informações: \n",
      "- A petição será encaminhada para a Vara da Família do TJSP. \\ \n",
      "- A solicitante é uma mulher divorciada cuja renda é de um salário mínimo. - A solicitante tem um filho menor com deficiência física. - Saiba que o salário do pai é de R$ 5.000 e ele nunca pagou a pensão alimentícia. - Atue como um advogado especializado em Direito da Família. - Use um tom apelativo para sensibilizar o juiz, enfatizando a renda da mãe e a condição de pessoa com deficiência do seu filho. Seja bem detalhista, criativo e narre de forma ampla a situação. \n"
     ]
    },
    {
     "data": {
      "text/markdown": [
       "### Resposta"
      ],
      "text/plain": [
       "<IPython.core.display.Markdown object>"
      ]
     },
     "metadata": {},
     "output_type": "display_data"
    },
    {
     "data": {
      "text/markdown": [
       "DOS FATOS\n",
       "\n",
       "A requerente é uma mulher divorciada, cuja renda mensal é de um salário mínimo, e tem um filho menor com deficiência física. O requerido, por sua vez, é o pai da criança e possui renda mensal de R$ 5.000,00.\n",
       "\n",
       "Desde a separação, o requerido nunca pagou a pensão alimentícia devida ao filho, o que tem gerado grande dificuldade financeira para a requerente, que tem que arcar sozinha com todas as despesas do filho, incluindo as relacionadas à sua deficiência.\n",
       "\n",
       "A situação financeira da requerente é extremamente precária, tendo em vista que ela não possui outras fontes de renda além do salário mínimo que recebe. Além disso, a condição de pessoa com deficiência do filho exige gastos extras com tratamentos médicos, fisioterapia, medicamentos, entre outros.\n",
       "\n",
       "Diante disso, a requerente vem por meio desta petição requerer o pagamento da pensão alimentícia devida pelo requerido, a fim de garantir a subsistência do filho e suprir as necessidades básicas da família.\n",
       "\n",
       "Ressalta-se que a situação de vulnerabilidade da requerente e do filho é agravada pela ausência de pagamento da pensão alimentícia, o que tem gerado grande angústia e sofrimento para ambos.\n",
       "\n",
       "Assim, espera-se que este Juízo possa sensibilizar-se com a situação da requerente e do filho, e determinar o pagamento da pensão alimentícia devida pelo requerido, a fim de garantir a dignidade e o bem-estar da família."
      ],
      "text/plain": [
       "<IPython.core.display.Markdown object>"
      ]
     },
     "metadata": {},
     "output_type": "display_data"
    },
    {
     "name": "stdout",
     "output_type": "stream",
     "text": [
      "DOS FATOS\n",
      "\n",
      "A requerente é uma mulher divorciada, cuja renda mensal é de um salário mínimo, e tem um filho menor com deficiência física. O requerido, por sua vez, é o pai da criança e possui renda mensal de R$ 5.000,00.\n",
      "\n",
      "Desde a separação, o requerido nunca pagou a pensão alimentícia devida ao filho, o que tem gerado grande dificuldade financeira para a requerente, que tem que arcar sozinha com todas as despesas do filho, incluindo as relacionadas à sua deficiência.\n",
      "\n",
      "A situação financeira da requerente é extremamente precária, tendo em vista que ela não possui outras fontes de renda além do salário mínimo que recebe. Além disso, a condição de pessoa com deficiência do filho exige gastos extras com tratamentos médicos, fisioterapia, medicamentos, entre outros.\n",
      "\n",
      "Diante disso, a requerente vem por meio desta petição requerer o pagamento da pensão alimentícia devida pelo requerido, a fim de garantir a subsistência do filho e suprir as necessidades básicas da família.\n",
      "\n",
      "Ressalta-se que a situação de vulnerabilidade da requerente e do filho é agravada pela ausência de pagamento da pensão alimentícia, o que tem gerado grande angústia e sofrimento para ambos.\n",
      "\n",
      "Assim, espera-se que este Juízo possa sensibilizar-se com a situação da requerente e do filho, e determinar o pagamento da pensão alimentícia devida pelo requerido, a fim de garantir a dignidade e o bem-estar da família.\n"
     ]
    }
   ],
   "source": [
    "prompt = f\"\"\"\n",
    "Preapre a seção \"DOS FATOS\" de uma petição inicial para o pagamento de pensão alimentícia. \\\n",
    "\n",
    "Leve em consideração as seguintes informações: \\\n",
    "\n",
    "- A petição será encaminhada para a Vara da Família do TJSP. \\ \n",
    "- A solicitante é uma mulher divorciada cuja renda é de um salário mínimo. \\\n",
    "- A solicitante tem um filho menor com deficiência física. \\\n",
    "- Saiba que o salário do pai é de R$ 5.000 e ele nunca pagou a pensão alimentícia. \\\n",
    "- Atue como um advogado especializado em Direito da Família. \\\n",
    "- Use um tom apelativo para sensibilizar o juiz, enfatizando a renda da mãe e \\\n",
    "a condição de pessoa com deficiência do seu filho. \\\n",
    "Seja bem detalhista, criativo e narre de forma ampla a situação. \\\n",
    "\"\"\"\n",
    "\n",
    "print_prompt_answer(prompt)"
   ]
  },
  {
   "cell_type": "markdown",
   "id": "fbff54b1",
   "metadata": {},
   "source": [
    "### Analizando o prompt\n",
    "\n",
    "- Ficou melhor!\n",
    "- Vamos agora automatizar a criação das demais seções da Petição Inicial"
   ]
  },
  {
   "cell_type": "code",
   "execution_count": 59,
   "id": "8773ca6c",
   "metadata": {
    "scrolled": false
   },
   "outputs": [
    {
     "data": {
      "text/markdown": [
       "### Prompt"
      ],
      "text/plain": [
       "<IPython.core.display.Markdown object>"
      ]
     },
     "metadata": {},
     "output_type": "display_data"
    },
    {
     "name": "stdout",
     "output_type": "stream",
     "text": [
      "\n",
      "    Preapre a seção \"DOS FATOS\" de uma petição inicial para o pagamento de pensão alimentícia. \n",
      "    Leve em consideração as seguintes informações: \n",
      "    - A petição será encaminhada para a Vara da Família do TJSP. \\ \n",
      "    - A solicitante é uma mulher divorciada cuja renda é de um salário mínimo.     - A solicitante tem um filho menor com deficiência física.     - Saiba que o salário do pai é de R$ 5.000 e ele nunca pagou a pensão alimentícia.     - Atue como um advogado especializado em Direito da Família.     - Use um tom apelativo para sensibilizar o juiz, enfatizando a renda da mãe e     a condição de pessoa com deficiência do seu filho.     Seja bem detalhista, criativo e narre de forma ampla a situação.     \n"
     ]
    },
    {
     "data": {
      "text/markdown": [
       "### Resposta"
      ],
      "text/plain": [
       "<IPython.core.display.Markdown object>"
      ]
     },
     "metadata": {},
     "output_type": "display_data"
    },
    {
     "data": {
      "text/markdown": [
       "DOS FATOS\n",
       "\n",
       "A requerente é uma mulher divorciada, de nome fictício Maria, que atualmente possui uma renda mensal de um salário mínimo. Maria é mãe de um filho menor, de nome fictício João, que possui deficiência física e necessita de cuidados especiais.\n",
       "\n",
       "O requerido, de nome fictício José, é o pai de João e possui um salário mensal de R$ 5.000,00. Desde a separação, José nunca pagou a pensão alimentícia devida ao filho, o que tem gerado grande dificuldade financeira para Maria e João.\n",
       "\n",
       "A situação de Maria e João é extremamente delicada, uma vez que a renda da mãe é insuficiente para arcar com todas as despesas necessárias para o sustento do filho, especialmente considerando a condição de deficiência física de João, que demanda cuidados especiais e tratamentos médicos frequentes.\n",
       "\n",
       "Diante disso, a requerente vem por meio desta petição solicitar ao Juízo da Vara da Família do TJSP que determine o pagamento da pensão alimentícia devida por José, de forma a garantir o sustento e bem-estar de João.\n",
       "\n",
       "A situação de Maria e João é extremamente sensível e requer a atenção e sensibilidade deste Juízo. A requerente apela para a compreensão e solidariedade do Juízo, enfatizando a renda limitada da mãe e a condição de pessoa com deficiência do seu filho, que necessita de cuidados especiais e tratamentos médicos frequentes.\n",
       "\n",
       "Assim, a requerente espera que este Juízo possa acolher o seu pedido e determinar o pagamento da pensão alimentícia devida por José, de forma a garantir o sustento e bem-estar de João."
      ],
      "text/plain": [
       "<IPython.core.display.Markdown object>"
      ]
     },
     "metadata": {},
     "output_type": "display_data"
    },
    {
     "name": "stdout",
     "output_type": "stream",
     "text": [
      "DOS FATOS\n",
      "\n",
      "A requerente é uma mulher divorciada, de nome fictício Maria, que atualmente possui uma renda mensal de um salário mínimo. Maria é mãe de um filho menor, de nome fictício João, que possui deficiência física e necessita de cuidados especiais.\n",
      "\n",
      "O requerido, de nome fictício José, é o pai de João e possui um salário mensal de R$ 5.000,00. Desde a separação, José nunca pagou a pensão alimentícia devida ao filho, o que tem gerado grande dificuldade financeira para Maria e João.\n",
      "\n",
      "A situação de Maria e João é extremamente delicada, uma vez que a renda da mãe é insuficiente para arcar com todas as despesas necessárias para o sustento do filho, especialmente considerando a condição de deficiência física de João, que demanda cuidados especiais e tratamentos médicos frequentes.\n",
      "\n",
      "Diante disso, a requerente vem por meio desta petição solicitar ao Juízo da Vara da Família do TJSP que determine o pagamento da pensão alimentícia devida por José, de forma a garantir o sustento e bem-estar de João.\n",
      "\n",
      "A situação de Maria e João é extremamente sensível e requer a atenção e sensibilidade deste Juízo. A requerente apela para a compreensão e solidariedade do Juízo, enfatizando a renda limitada da mãe e a condição de pessoa com deficiência do seu filho, que necessita de cuidados especiais e tratamentos médicos frequentes.\n",
      "\n",
      "Assim, a requerente espera que este Juízo possa acolher o seu pedido e determinar o pagamento da pensão alimentícia devida por José, de forma a garantir o sustento e bem-estar de João.\n"
     ]
    },
    {
     "data": {
      "text/markdown": [
       "### Prompt"
      ],
      "text/plain": [
       "<IPython.core.display.Markdown object>"
      ]
     },
     "metadata": {},
     "output_type": "display_data"
    },
    {
     "name": "stdout",
     "output_type": "stream",
     "text": [
      "\n",
      "    Preapre a seção \"DO DIREITO\" de uma petição inicial para o pagamento de pensão alimentícia. \n",
      "    Leve em consideração as seguintes informações: \n",
      "    - A petição será encaminhada para a Vara da Família do TJSP. \\ \n",
      "    - A solicitante é uma mulher divorciada cuja renda é de um salário mínimo.     - A solicitante tem um filho menor com deficiência física.     - Saiba que o salário do pai é de R$ 5.000 e ele nunca pagou a pensão alimentícia.     - Atue como um advogado especializado em Direito da Família.     - Use um tom apelativo para sensibilizar o juiz, enfatizando a renda da mãe e     a condição de pessoa com deficiência do seu filho.     Seja bem detalhista, criativo e narre de forma ampla a situação.     \n"
     ]
    },
    {
     "data": {
      "text/markdown": [
       "### Resposta"
      ],
      "text/plain": [
       "<IPython.core.display.Markdown object>"
      ]
     },
     "metadata": {},
     "output_type": "display_data"
    },
    {
     "data": {
      "text/markdown": [
       "DO DIREITO\n",
       "\n",
       "A presente ação tem como objetivo o pagamento de pensão alimentícia em favor do filho menor da requerente, que possui deficiência física, em razão da ausência de pagamento por parte do requerido.\n",
       "\n",
       "Conforme preceitua o artigo 1.694 do Código Civil, os pais têm o dever de assistir, criar e educar os filhos menores, cabendo-lhes ainda a obrigação de prover-lhes o sustento, inclusive alimentação, vestuário, moradia e educação.\n",
       "\n",
       "No caso em tela, a requerente é uma mulher divorciada, cuja renda é de apenas um salário mínimo, o que torna inviável a manutenção do filho menor sem a contribuição do requerido. Além disso, o filho da requerente possui deficiência física, o que demanda gastos extras com tratamentos e medicamentos.\n",
       "\n",
       "O requerido, por sua vez, possui renda mensal de R$ 5.000,00 e nunca pagou a pensão alimentícia devida ao filho menor. Tal conduta configura violação ao dever de sustento e assistência previsto em lei, bem como demonstra total desrespeito à situação de vulnerabilidade da requerente e do filho.\n",
       "\n",
       "Diante do exposto, requer-se a fixação de pensão alimentícia em favor do filho menor da requerente, no valor correspondente a 30% dos rendimentos do requerido, a ser depositada mensalmente em conta bancária indicada pela requerente.\n",
       "\n",
       "Ressalta-se que a fixação da pensão alimentícia é medida urgente e necessária para garantir a subsistência do filho menor da requerente, bem como para assegurar o seu direito à dignidade e à vida.\n",
       "\n",
       "Por fim, apela-se à sensibilidade deste Juízo para que, ao analisar o presente pedido, leve em consideração a renda da requerente e a condição de pessoa com deficiência do seu filho, a fim de garantir a justiça e a equidade na presente demanda.\n",
       "\n",
       "Nestes termos, pede deferimento.\n",
       "\n",
       "(Local, data e assinatura do advogado)"
      ],
      "text/plain": [
       "<IPython.core.display.Markdown object>"
      ]
     },
     "metadata": {},
     "output_type": "display_data"
    },
    {
     "name": "stdout",
     "output_type": "stream",
     "text": [
      "DO DIREITO\n",
      "\n",
      "A presente ação tem como objetivo o pagamento de pensão alimentícia em favor do filho menor da requerente, que possui deficiência física, em razão da ausência de pagamento por parte do requerido.\n",
      "\n",
      "Conforme preceitua o artigo 1.694 do Código Civil, os pais têm o dever de assistir, criar e educar os filhos menores, cabendo-lhes ainda a obrigação de prover-lhes o sustento, inclusive alimentação, vestuário, moradia e educação.\n",
      "\n",
      "No caso em tela, a requerente é uma mulher divorciada, cuja renda é de apenas um salário mínimo, o que torna inviável a manutenção do filho menor sem a contribuição do requerido. Além disso, o filho da requerente possui deficiência física, o que demanda gastos extras com tratamentos e medicamentos.\n",
      "\n",
      "O requerido, por sua vez, possui renda mensal de R$ 5.000,00 e nunca pagou a pensão alimentícia devida ao filho menor. Tal conduta configura violação ao dever de sustento e assistência previsto em lei, bem como demonstra total desrespeito à situação de vulnerabilidade da requerente e do filho.\n",
      "\n",
      "Diante do exposto, requer-se a fixação de pensão alimentícia em favor do filho menor da requerente, no valor correspondente a 30% dos rendimentos do requerido, a ser depositada mensalmente em conta bancária indicada pela requerente.\n",
      "\n",
      "Ressalta-se que a fixação da pensão alimentícia é medida urgente e necessária para garantir a subsistência do filho menor da requerente, bem como para assegurar o seu direito à dignidade e à vida.\n",
      "\n",
      "Por fim, apela-se à sensibilidade deste Juízo para que, ao analisar o presente pedido, leve em consideração a renda da requerente e a condição de pessoa com deficiência do seu filho, a fim de garantir a justiça e a equidade na presente demanda.\n",
      "\n",
      "Nestes termos, pede deferimento.\n",
      "\n",
      "(Local, data e assinatura do advogado)\n"
     ]
    },
    {
     "data": {
      "text/markdown": [
       "### Prompt"
      ],
      "text/plain": [
       "<IPython.core.display.Markdown object>"
      ]
     },
     "metadata": {},
     "output_type": "display_data"
    },
    {
     "name": "stdout",
     "output_type": "stream",
     "text": [
      "\n",
      "    Preapre a seção \"DOS PEDIDOS\" de uma petição inicial para o pagamento de pensão alimentícia. \n",
      "    Leve em consideração as seguintes informações: \n",
      "    - A petição será encaminhada para a Vara da Família do TJSP. \\ \n",
      "    - A solicitante é uma mulher divorciada cuja renda é de um salário mínimo.     - A solicitante tem um filho menor com deficiência física.     - Saiba que o salário do pai é de R$ 5.000 e ele nunca pagou a pensão alimentícia.     - Atue como um advogado especializado em Direito da Família.     - Use um tom apelativo para sensibilizar o juiz, enfatizando a renda da mãe e     a condição de pessoa com deficiência do seu filho.     Seja bem detalhista, criativo e narre de forma ampla a situação.     \n"
     ]
    },
    {
     "data": {
      "text/markdown": [
       "### Resposta"
      ],
      "text/plain": [
       "<IPython.core.display.Markdown object>"
      ]
     },
     "metadata": {},
     "output_type": "display_data"
    },
    {
     "data": {
      "text/markdown": [
       "DOS PEDIDOS\n",
       "\n",
       "Diante do exposto, requer-se a Vossa Excelência:\n",
       "\n",
       "1. A concessão de tutela de urgência, nos termos do artigo 300 do Código de Processo Civil, para que o requerido seja imediatamente compelido a pagar a pensão alimentícia no valor de 30% do seu salário, correspondente a R$ 1.500,00 (mil e quinhentos reais), em favor do filho menor com deficiência física da requerente, a partir da citação, sob pena de multa diária no valor de R$ 100,00 (cem reais) em caso de descumprimento.\n",
       "\n",
       "2. A fixação definitiva da pensão alimentícia no valor de 30% do salário do requerido, correspondente a R$ 1.500,00 (mil e quinhentos reais), em favor do filho menor com deficiência física da requerente, a ser paga mensalmente até que o mesmo complete 18 anos de idade ou até que cesse a necessidade, nos termos do artigo 1.694 do Código Civil.\n",
       "\n",
       "3. A condenação do requerido ao pagamento das parcelas vencidas e não pagas desde a data da separação, acrescidas de juros e correção monetária, nos termos do artigo 528, § 1º, do Código de Processo Civil.\n",
       "\n",
       "4. A condenação do requerido ao pagamento das despesas processuais e honorários advocatícios, nos termos do artigo 85, § 1º, do Código de Processo Civil.\n",
       "\n",
       "Requer-se, ainda, a produção de todas as provas admitidas em direito, em especial a documental, testemunhal e pericial, para a comprovação dos fatos alegados.\n",
       "\n",
       "Termos em que, pede deferimento.\n",
       "\n",
       "(Local e data)\n",
       "\n",
       "(Nome e assinatura do advogado)"
      ],
      "text/plain": [
       "<IPython.core.display.Markdown object>"
      ]
     },
     "metadata": {},
     "output_type": "display_data"
    },
    {
     "name": "stdout",
     "output_type": "stream",
     "text": [
      "DOS PEDIDOS\n",
      "\n",
      "Diante do exposto, requer-se a Vossa Excelência:\n",
      "\n",
      "1. A concessão de tutela de urgência, nos termos do artigo 300 do Código de Processo Civil, para que o requerido seja imediatamente compelido a pagar a pensão alimentícia no valor de 30% do seu salário, correspondente a R$ 1.500,00 (mil e quinhentos reais), em favor do filho menor com deficiência física da requerente, a partir da citação, sob pena de multa diária no valor de R$ 100,00 (cem reais) em caso de descumprimento.\n",
      "\n",
      "2. A fixação definitiva da pensão alimentícia no valor de 30% do salário do requerido, correspondente a R$ 1.500,00 (mil e quinhentos reais), em favor do filho menor com deficiência física da requerente, a ser paga mensalmente até que o mesmo complete 18 anos de idade ou até que cesse a necessidade, nos termos do artigo 1.694 do Código Civil.\n",
      "\n",
      "3. A condenação do requerido ao pagamento das parcelas vencidas e não pagas desde a data da separação, acrescidas de juros e correção monetária, nos termos do artigo 528, § 1º, do Código de Processo Civil.\n",
      "\n",
      "4. A condenação do requerido ao pagamento das despesas processuais e honorários advocatícios, nos termos do artigo 85, § 1º, do Código de Processo Civil.\n",
      "\n",
      "Requer-se, ainda, a produção de todas as provas admitidas em direito, em especial a documental, testemunhal e pericial, para a comprovação dos fatos alegados.\n",
      "\n",
      "Termos em que, pede deferimento.\n",
      "\n",
      "(Local e data)\n",
      "\n",
      "(Nome e assinatura do advogado)\n"
     ]
    }
   ],
   "source": [
    "# vetor com os nomes das seções\n",
    "secoes = [ \"DOS FATOS\", \"DO DIREITO\", \"DOS PEDIDOS\" ]\n",
    "\n",
    "# iteração para cada seção\n",
    "for secao in secoes:\n",
    "    prompt = f\"\"\"\n",
    "    Preapre a seção \"{secao}\" de uma petição inicial para o pagamento de pensão alimentícia. \\\n",
    "\n",
    "    Leve em consideração as seguintes informações: \\\n",
    "\n",
    "    - A petição será encaminhada para a Vara da Família do TJSP. \\ \n",
    "    - A solicitante é uma mulher divorciada cuja renda é de um salário mínimo. \\\n",
    "    - A solicitante tem um filho menor com deficiência física. \\\n",
    "    - Saiba que o salário do pai é de R$ 5.000 e ele nunca pagou a pensão alimentícia. \\\n",
    "    - Atue como um advogado especializado em Direito da Família. \\\n",
    "    - Use um tom apelativo para sensibilizar o juiz, enfatizando a renda da mãe e \\\n",
    "    a condição de pessoa com deficiência do seu filho. \\\n",
    "    Seja bem detalhista, criativo e narre de forma ampla a situação. \\\n",
    "    \"\"\"\n",
    "    print_prompt_answer(prompt)"
   ]
  },
  {
   "cell_type": "markdown",
   "id": "f5eedd0c",
   "metadata": {},
   "source": [
    "### Analizando prompt\n",
    "\n",
    "- Ficou melhor\n",
    "- Vamos tentar melhorar ainda mais pedindo para citar leis, etc. porque na seção DO DIREITO citou apenas o Código Civil"
   ]
  },
  {
   "cell_type": "code",
   "execution_count": 60,
   "id": "7842f80b",
   "metadata": {
    "scrolled": false
   },
   "outputs": [
    {
     "data": {
      "text/markdown": [
       "### Prompt"
      ],
      "text/plain": [
       "<IPython.core.display.Markdown object>"
      ]
     },
     "metadata": {},
     "output_type": "display_data"
    },
    {
     "name": "stdout",
     "output_type": "stream",
     "text": [
      "\n",
      "    Preapre a seção \"DOS FATOS\" de uma petição inicial para o pagamento de pensão alimentícia. \n",
      "    Leve em consideração as seguintes informações: \n",
      "    - A petição será encaminhada para a Vara da Família do TJSP. \\ \n",
      "    - A solicitante é uma mulher divorciada cuja renda é de um salário mínimo.     - A solicitante tem um filho menor com deficiência física.     - Saiba que o salário do pai é de R$ 5.000 e ele nunca pagou a pensão alimentícia.     - Atue como um advogado especializado em Direito da Família.     - Use um tom apelativo para sensibilizar o juiz, enfatizando a renda da mãe e     a condição de pessoa com deficiência do seu filho.     Seja bem detalhista, criativo e narre de forma ampla a situação.     \n",
      "    - Cite as normas jurídicas relativas ao pagamento de pensão alimentícia.     \n"
     ]
    },
    {
     "data": {
      "text/markdown": [
       "### Resposta"
      ],
      "text/plain": [
       "<IPython.core.display.Markdown object>"
      ]
     },
     "metadata": {},
     "output_type": "display_data"
    },
    {
     "data": {
      "text/markdown": [
       "DOS FATOS\n",
       "\n",
       "A requerente é uma mulher divorciada, cuja renda mensal é de um salário mínimo, e tem a guarda de seu filho menor, que possui deficiência física. O requerido, por sua vez, é o pai da criança e possui renda mensal de R$ 5.000,00.\n",
       "\n",
       "Desde a separação, o requerido nunca pagou a pensão alimentícia devida ao filho, o que tem gerado grande dificuldade financeira para a requerente, que tem que arcar sozinha com todas as despesas do filho, incluindo as relacionadas à sua deficiência.\n",
       "\n",
       "A situação é ainda mais grave considerando que a requerente não tem condições financeiras de arcar com as despesas médicas e terapêuticas necessárias para o tratamento do filho, o que tem prejudicado o seu desenvolvimento e qualidade de vida.\n",
       "\n",
       "Diante disso, a requerente vem por meio desta petição requerer o pagamento da pensão alimentícia devida pelo requerido, nos termos do artigo 1.694 do Código Civil, que estabelece a obrigação dos pais de prover o sustento dos filhos.\n",
       "\n",
       "Além disso, a Lei nº 13.146/2015, que institui a Lei Brasileira de Inclusão da Pessoa com Deficiência, estabelece em seu artigo 84 que a pessoa com deficiência tem direito à proteção à vida, à saúde e à assistência social, o que inclui o direito à pensão alimentícia para garantir o seu sustento e tratamento adequado.\n",
       "\n",
       "Assim, a requerente solicita que o requerido seja compelido a pagar a pensão alimentícia devida ao filho, levando em consideração a sua condição de pessoa com deficiência e as dificuldades financeiras enfrentadas pela requerente para arcar com as despesas necessárias ao seu tratamento e desenvolvimento."
      ],
      "text/plain": [
       "<IPython.core.display.Markdown object>"
      ]
     },
     "metadata": {},
     "output_type": "display_data"
    },
    {
     "name": "stdout",
     "output_type": "stream",
     "text": [
      "DOS FATOS\n",
      "\n",
      "A requerente é uma mulher divorciada, cuja renda mensal é de um salário mínimo, e tem a guarda de seu filho menor, que possui deficiência física. O requerido, por sua vez, é o pai da criança e possui renda mensal de R$ 5.000,00.\n",
      "\n",
      "Desde a separação, o requerido nunca pagou a pensão alimentícia devida ao filho, o que tem gerado grande dificuldade financeira para a requerente, que tem que arcar sozinha com todas as despesas do filho, incluindo as relacionadas à sua deficiência.\n",
      "\n",
      "A situação é ainda mais grave considerando que a requerente não tem condições financeiras de arcar com as despesas médicas e terapêuticas necessárias para o tratamento do filho, o que tem prejudicado o seu desenvolvimento e qualidade de vida.\n",
      "\n",
      "Diante disso, a requerente vem por meio desta petição requerer o pagamento da pensão alimentícia devida pelo requerido, nos termos do artigo 1.694 do Código Civil, que estabelece a obrigação dos pais de prover o sustento dos filhos.\n",
      "\n",
      "Além disso, a Lei nº 13.146/2015, que institui a Lei Brasileira de Inclusão da Pessoa com Deficiência, estabelece em seu artigo 84 que a pessoa com deficiência tem direito à proteção à vida, à saúde e à assistência social, o que inclui o direito à pensão alimentícia para garantir o seu sustento e tratamento adequado.\n",
      "\n",
      "Assim, a requerente solicita que o requerido seja compelido a pagar a pensão alimentícia devida ao filho, levando em consideração a sua condição de pessoa com deficiência e as dificuldades financeiras enfrentadas pela requerente para arcar com as despesas necessárias ao seu tratamento e desenvolvimento.\n"
     ]
    },
    {
     "data": {
      "text/markdown": [
       "### Prompt"
      ],
      "text/plain": [
       "<IPython.core.display.Markdown object>"
      ]
     },
     "metadata": {},
     "output_type": "display_data"
    },
    {
     "name": "stdout",
     "output_type": "stream",
     "text": [
      "\n",
      "    Preapre a seção \"DO DIREITO\" de uma petição inicial para o pagamento de pensão alimentícia. \n",
      "    Leve em consideração as seguintes informações: \n",
      "    - A petição será encaminhada para a Vara da Família do TJSP. \\ \n",
      "    - A solicitante é uma mulher divorciada cuja renda é de um salário mínimo.     - A solicitante tem um filho menor com deficiência física.     - Saiba que o salário do pai é de R$ 5.000 e ele nunca pagou a pensão alimentícia.     - Atue como um advogado especializado em Direito da Família.     - Use um tom apelativo para sensibilizar o juiz, enfatizando a renda da mãe e     a condição de pessoa com deficiência do seu filho.     Seja bem detalhista, criativo e narre de forma ampla a situação.     \n",
      "    - Cite as normas jurídicas relativas ao pagamento de pensão alimentícia.     \n"
     ]
    },
    {
     "data": {
      "text/markdown": [
       "### Resposta"
      ],
      "text/plain": [
       "<IPython.core.display.Markdown object>"
      ]
     },
     "metadata": {},
     "output_type": "display_data"
    },
    {
     "data": {
      "text/markdown": [
       "DO DIREITO\n",
       "\n",
       "A presente ação tem como fundamento o direito à pensão alimentícia, previsto no artigo 1.694 do Código Civil, que estabelece a obrigação de prestar alimentos aos filhos, aos ascendentes e ao cônjuge, sempre que quem os pretenda não tiver bens suficientes, nem poder laboral para o seu próprio sustento.\n",
       "\n",
       "No caso em questão, a requerente é uma mulher divorciada, cuja renda é de um salário mínimo, e que tem um filho menor com deficiência física. O requerido, por sua vez, possui renda mensal de R$ 5.000,00 e nunca pagou a pensão alimentícia.\n",
       "\n",
       "A obrigação de prestar alimentos é recíproca entre pais e filhos, e deve ser fixada levando-se em consideração as necessidades do alimentando e as possibilidades do alimentante, conforme estabelece o artigo 1.695 do Código Civil.\n",
       "\n",
       "No caso em questão, a requerente não possui condições financeiras para arcar com as despesas do filho, que necessita de cuidados especiais em razão de sua deficiência física. Por outro lado, o requerido possui renda suficiente para arcar com a pensão alimentícia, mas nunca cumpriu com essa obrigação.\n",
       "\n",
       "Além disso, a Constituição Federal de 1988, em seu artigo 227, estabelece que é dever da família, da sociedade e do Estado assegurar à criança e ao adolescente, com absoluta prioridade, o direito à vida, à saúde, à alimentação, à educação, ao lazer, à profissionalização, à cultura, à dignidade, ao respeito, à liberdade e à convivência familiar e comunitária.\n",
       "\n",
       "Nesse sentido, é imprescindível que o requerido cumpra com sua obrigação de prestar alimentos ao filho, garantindo-lhe condições dignas de vida e de desenvolvimento.\n",
       "\n",
       "Diante do exposto, requer-se a fixação de pensão alimentícia em favor do filho menor com deficiência física da requerente, no valor correspondente a 30% dos rendimentos líquidos do requerido, a serem depositados mensalmente em conta bancária indicada pela requerente, sob pena de multa diária em caso de descumprimento."
      ],
      "text/plain": [
       "<IPython.core.display.Markdown object>"
      ]
     },
     "metadata": {},
     "output_type": "display_data"
    },
    {
     "name": "stdout",
     "output_type": "stream",
     "text": [
      "DO DIREITO\n",
      "\n",
      "A presente ação tem como fundamento o direito à pensão alimentícia, previsto no artigo 1.694 do Código Civil, que estabelece a obrigação de prestar alimentos aos filhos, aos ascendentes e ao cônjuge, sempre que quem os pretenda não tiver bens suficientes, nem poder laboral para o seu próprio sustento.\n",
      "\n",
      "No caso em questão, a requerente é uma mulher divorciada, cuja renda é de um salário mínimo, e que tem um filho menor com deficiência física. O requerido, por sua vez, possui renda mensal de R$ 5.000,00 e nunca pagou a pensão alimentícia.\n",
      "\n",
      "A obrigação de prestar alimentos é recíproca entre pais e filhos, e deve ser fixada levando-se em consideração as necessidades do alimentando e as possibilidades do alimentante, conforme estabelece o artigo 1.695 do Código Civil.\n",
      "\n",
      "No caso em questão, a requerente não possui condições financeiras para arcar com as despesas do filho, que necessita de cuidados especiais em razão de sua deficiência física. Por outro lado, o requerido possui renda suficiente para arcar com a pensão alimentícia, mas nunca cumpriu com essa obrigação.\n",
      "\n",
      "Além disso, a Constituição Federal de 1988, em seu artigo 227, estabelece que é dever da família, da sociedade e do Estado assegurar à criança e ao adolescente, com absoluta prioridade, o direito à vida, à saúde, à alimentação, à educação, ao lazer, à profissionalização, à cultura, à dignidade, ao respeito, à liberdade e à convivência familiar e comunitária.\n",
      "\n",
      "Nesse sentido, é imprescindível que o requerido cumpra com sua obrigação de prestar alimentos ao filho, garantindo-lhe condições dignas de vida e de desenvolvimento.\n",
      "\n",
      "Diante do exposto, requer-se a fixação de pensão alimentícia em favor do filho menor com deficiência física da requerente, no valor correspondente a 30% dos rendimentos líquidos do requerido, a serem depositados mensalmente em conta bancária indicada pela requerente, sob pena de multa diária em caso de descumprimento.\n"
     ]
    },
    {
     "data": {
      "text/markdown": [
       "### Prompt"
      ],
      "text/plain": [
       "<IPython.core.display.Markdown object>"
      ]
     },
     "metadata": {},
     "output_type": "display_data"
    },
    {
     "name": "stdout",
     "output_type": "stream",
     "text": [
      "\n",
      "    Preapre a seção \"DOS PEDIDOS\" de uma petição inicial para o pagamento de pensão alimentícia. \n",
      "    Leve em consideração as seguintes informações: \n",
      "    - A petição será encaminhada para a Vara da Família do TJSP. \\ \n",
      "    - A solicitante é uma mulher divorciada cuja renda é de um salário mínimo.     - A solicitante tem um filho menor com deficiência física.     - Saiba que o salário do pai é de R$ 5.000 e ele nunca pagou a pensão alimentícia.     - Atue como um advogado especializado em Direito da Família.     - Use um tom apelativo para sensibilizar o juiz, enfatizando a renda da mãe e     a condição de pessoa com deficiência do seu filho.     Seja bem detalhista, criativo e narre de forma ampla a situação.     \n",
      "    - Cite as normas jurídicas relativas ao pagamento de pensão alimentícia.     \n"
     ]
    },
    {
     "data": {
      "text/markdown": [
       "### Resposta"
      ],
      "text/plain": [
       "<IPython.core.display.Markdown object>"
      ]
     },
     "metadata": {},
     "output_type": "display_data"
    },
    {
     "data": {
      "text/markdown": [
       "DOS PEDIDOS\n",
       "\n",
       "Diante do exposto, requer-se a Vossa Excelência:\n",
       "\n",
       "1. A concessão de tutela de urgência para determinar ao requerido o pagamento imediato da pensão alimentícia em favor do filho menor com deficiência física, no valor correspondente a 30% do seu salário, conforme previsão legal.\n",
       "\n",
       "2. A fixação definitiva da pensão alimentícia em favor do filho menor com deficiência física, no valor correspondente a 30% do salário do requerido, a ser depositado mensalmente na conta bancária indicada pela requerente.\n",
       "\n",
       "3. A condenação do requerido ao pagamento das parcelas vencidas e não pagas da pensão alimentícia, desde a data da separação do casal, acrescidas de juros e correção monetária.\n",
       "\n",
       "4. A aplicação de multa diária em caso de descumprimento da ordem judicial, nos termos do artigo 528, §4º, do Código de Processo Civil.\n",
       "\n",
       "5. A condenação do requerido ao pagamento das custas processuais e honorários advocatícios, nos termos do artigo 85, §2º, do Código de Processo Civil.\n",
       "\n",
       "Fundamentação jurídica:\n",
       "\n",
       "O direito à pensão alimentícia está previsto no artigo 1.694 do Código Civil, que dispõe que \"podem os parentes, os cônjuges ou companheiros pedir uns aos outros os alimentos de que necessitem para viver de modo compatível com a sua condição social, inclusive para atender às necessidades de sua educação\". Além disso, o artigo 1.695 do mesmo diploma legal estabelece que \"são devidos os alimentos quando quem os pretende não tem bens suficientes, nem pode prover, pelo seu trabalho, à própria mantença, e aquele, de quem se reclamam, pode fornecê-los, sem desfalque do necessário ao seu sustento\".\n",
       "\n",
       "No caso em tela, a requerente é uma mulher divorciada cuja renda é de um salário mínimo, não tendo condições financeiras de prover a subsistência do filho menor com deficiência física. Por outro lado, o requerido possui renda mensal de R$ 5.000,00 e nunca pagou a pensão alimentícia devida ao filho.\n",
       "\n",
       "Assim, considerando a necessidade do filho menor com deficiência física e a capacidade financeira do requerido, é imperativo que seja fixada a pensão alimentícia em favor do menor, nos termos requeridos.\n",
       "\n",
       "Por fim, ressalta-se que a situação narrada é de extrema sensibilidade, envolvendo a subsistência de uma criança com deficiência física e a dificuldade financeira da mãe. Nesse sentido, espera-se que Vossa Excelência, sensibilizado com a situação, conceda a tutela de urgência requerida e julgue procedente o pedido de fixação da pensão alimentícia em favor do menor.\n",
       "\n",
       "Termos em que,\n",
       "\n",
       "Pede deferimento.\n",
       "\n",
       "(Local e data)\n",
       "\n",
       "(Nome e assinatura do advogado)"
      ],
      "text/plain": [
       "<IPython.core.display.Markdown object>"
      ]
     },
     "metadata": {},
     "output_type": "display_data"
    },
    {
     "name": "stdout",
     "output_type": "stream",
     "text": [
      "DOS PEDIDOS\n",
      "\n",
      "Diante do exposto, requer-se a Vossa Excelência:\n",
      "\n",
      "1. A concessão de tutela de urgência para determinar ao requerido o pagamento imediato da pensão alimentícia em favor do filho menor com deficiência física, no valor correspondente a 30% do seu salário, conforme previsão legal.\n",
      "\n",
      "2. A fixação definitiva da pensão alimentícia em favor do filho menor com deficiência física, no valor correspondente a 30% do salário do requerido, a ser depositado mensalmente na conta bancária indicada pela requerente.\n",
      "\n",
      "3. A condenação do requerido ao pagamento das parcelas vencidas e não pagas da pensão alimentícia, desde a data da separação do casal, acrescidas de juros e correção monetária.\n",
      "\n",
      "4. A aplicação de multa diária em caso de descumprimento da ordem judicial, nos termos do artigo 528, §4º, do Código de Processo Civil.\n",
      "\n",
      "5. A condenação do requerido ao pagamento das custas processuais e honorários advocatícios, nos termos do artigo 85, §2º, do Código de Processo Civil.\n",
      "\n",
      "Fundamentação jurídica:\n",
      "\n",
      "O direito à pensão alimentícia está previsto no artigo 1.694 do Código Civil, que dispõe que \"podem os parentes, os cônjuges ou companheiros pedir uns aos outros os alimentos de que necessitem para viver de modo compatível com a sua condição social, inclusive para atender às necessidades de sua educação\". Além disso, o artigo 1.695 do mesmo diploma legal estabelece que \"são devidos os alimentos quando quem os pretende não tem bens suficientes, nem pode prover, pelo seu trabalho, à própria mantença, e aquele, de quem se reclamam, pode fornecê-los, sem desfalque do necessário ao seu sustento\".\n",
      "\n",
      "No caso em tela, a requerente é uma mulher divorciada cuja renda é de um salário mínimo, não tendo condições financeiras de prover a subsistência do filho menor com deficiência física. Por outro lado, o requerido possui renda mensal de R$ 5.000,00 e nunca pagou a pensão alimentícia devida ao filho.\n",
      "\n",
      "Assim, considerando a necessidade do filho menor com deficiência física e a capacidade financeira do requerido, é imperativo que seja fixada a pensão alimentícia em favor do menor, nos termos requeridos.\n",
      "\n",
      "Por fim, ressalta-se que a situação narrada é de extrema sensibilidade, envolvendo a subsistência de uma criança com deficiência física e a dificuldade financeira da mãe. Nesse sentido, espera-se que Vossa Excelência, sensibilizado com a situação, conceda a tutela de urgência requerida e julgue procedente o pedido de fixação da pensão alimentícia em favor do menor.\n",
      "\n",
      "Termos em que,\n",
      "\n",
      "Pede deferimento.\n",
      "\n",
      "(Local e data)\n",
      "\n",
      "(Nome e assinatura do advogado)\n"
     ]
    }
   ],
   "source": [
    "# vetor com os nomes das seções\n",
    "secoes = [ \"DOS FATOS\", \"DO DIREITO\", \"DOS PEDIDOS\" ]\n",
    "\n",
    "# iteração para cada seção\n",
    "for secao in secoes:\n",
    "    prompt = f\"\"\"\n",
    "    Preapre a seção \"{secao}\" de uma petição inicial para o pagamento de pensão alimentícia. \\\n",
    "\n",
    "    Leve em consideração as seguintes informações: \\\n",
    "\n",
    "    - A petição será encaminhada para a Vara da Família do TJSP. \\ \n",
    "    - A solicitante é uma mulher divorciada cuja renda é de um salário mínimo. \\\n",
    "    - A solicitante tem um filho menor com deficiência física. \\\n",
    "    - Saiba que o salário do pai é de R$ 5.000 e ele nunca pagou a pensão alimentícia. \\\n",
    "    - Atue como um advogado especializado em Direito da Família. \\\n",
    "    - Use um tom apelativo para sensibilizar o juiz, enfatizando a renda da mãe e \\\n",
    "    a condição de pessoa com deficiência do seu filho. \\\n",
    "    Seja bem detalhista, criativo e narre de forma ampla a situação. \\\n",
    "    \n",
    "    - Cite as normas jurídicas relativas ao pagamento de pensão alimentícia. \\\n",
    "    \"\"\"\n",
    "    print_prompt_answer(prompt)"
   ]
  },
  {
   "cell_type": "markdown",
   "id": "f6df0e2f",
   "metadata": {},
   "source": [
    "### Analizando o prompt\n",
    "\n",
    "- **Conclusões para esse estudo de caso**\n",
    "  - O modelo GPT3 tendou a utilizar poucos tokens nas suas respostas \n",
    "  - Separando o problema em subproblemas menores produziu resultados de maior qualidade\n",
    "  \n",
    "### Sua vez :-)\n",
    "\n",
    "1. Investigue se as normas jurídicas foram citadas corretamente\n",
    "2. Elabore outro tipo de petição adaptando os prompts para o caso escolhido"
   ]
  },
  {
   "cell_type": "code",
   "execution_count": null,
   "id": "76b2aaca",
   "metadata": {},
   "outputs": [],
   "source": []
  },
  {
   "cell_type": "code",
   "execution_count": null,
   "id": "db4ead97",
   "metadata": {},
   "outputs": [],
   "source": []
  },
  {
   "cell_type": "code",
   "execution_count": null,
   "id": "61a303a1",
   "metadata": {},
   "outputs": [],
   "source": []
  }
 ],
 "metadata": {
  "kernelspec": {
   "display_name": "Python 3 (ipykernel)",
   "language": "python",
   "name": "python3"
  },
  "language_info": {
   "codemirror_mode": {
    "name": "ipython",
    "version": 3
   },
   "file_extension": ".py",
   "mimetype": "text/x-python",
   "name": "python",
   "nbconvert_exporter": "python",
   "pygments_lexer": "ipython3",
   "version": "3.11.3"
  }
 },
 "nbformat": 4,
 "nbformat_minor": 5
}
